{
 "cells": [
  {
   "cell_type": "code",
   "execution_count": 2,
   "id": "aaef95ed-51fa-4619-b8ad-7defd7794877",
   "metadata": {
    "tags": []
   },
   "outputs": [
    {
     "name": "stdout",
     "output_type": "stream",
     "text": [
      "Looking in indexes: https://pypi.org/simple, https://download.pytorch.org/whl/\n",
      "Collecting torch==1.12.1+cu113\n",
      "  Using cached https://download.pytorch.org/whl/cu113/torch-1.12.1%2Bcu113-cp38-cp38-linux_x86_64.whl (1837.7 MB)\n",
      "Collecting typing-extensions (from torch==1.12.1+cu113)\n",
      "  Using cached typing_extensions-4.7.1-py3-none-any.whl (33 kB)\n",
      "Installing collected packages: typing-extensions, torch\n",
      "  Attempting uninstall: typing-extensions\n",
      "    Found existing installation: typing_extensions 4.7.1\n",
      "    Uninstalling typing_extensions-4.7.1:\n",
      "      Successfully uninstalled typing_extensions-4.7.1\n",
      "  Attempting uninstall: torch\n",
      "    Found existing installation: torch 1.12.1+cu113\n",
      "    Uninstalling torch-1.12.1+cu113:\n",
      "      Successfully uninstalled torch-1.12.1+cu113\n",
      "  Rolling back uninstall of torch\n",
      "  Moving to /home/pkatlan/miniconda3/envs/recommender/bin/convert-caffe2-to-onnx\n",
      "   from /tmp/pip-uninstall-wnajy5v4/convert-caffe2-to-onnx\n",
      "  Moving to /home/pkatlan/miniconda3/envs/recommender/bin/convert-onnx-to-caffe2\n",
      "   from /tmp/pip-uninstall-wnajy5v4/convert-onnx-to-caffe2\n",
      "  Moving to /home/pkatlan/miniconda3/envs/recommender/bin/torchrun\n",
      "   from /tmp/pip-uninstall-wnajy5v4/torchrun\n",
      "  Moving to /home/pkatlan/miniconda3/envs/recommender/lib/python3.8/site-packages/caffe2/\n",
      "   from /home/pkatlan/miniconda3/envs/recommender/lib/python3.8/site-packages/~affe2\n",
      "  Moving to /home/pkatlan/miniconda3/envs/recommender/lib/python3.8/site-packages/torch-1.12.1+cu113.dist-info/\n",
      "   from /home/pkatlan/miniconda3/envs/recommender/lib/python3.8/site-packages/~orch-1.12.1+cu113.dist-info\n",
      "  Moving to /home/pkatlan/miniconda3/envs/recommender/lib/python3.8/site-packages/torch/\n",
      "   from /home/pkatlan/miniconda3/envs/recommender/lib/python3.8/site-packages/~orch\n",
      "  Moving to /home/pkatlan/miniconda3/envs/recommender/lib/python3.8/site-packages/torchgen/\n",
      "   from /home/pkatlan/miniconda3/envs/recommender/lib/python3.8/site-packages/~orchgen\n",
      "\u001b[31mERROR: Could not install packages due to an OSError: [Errno 28] No space left on device\n",
      "\u001b[0m\u001b[31m\n",
      "\u001b[0mNote: you may need to restart the kernel to use updated packages.\n"
     ]
    }
   ],
   "source": [
    "pip install --force-reinstall torch==1.12.1+cu113 --extra-index-url https://download.pytorch.org/whl/"
   ]
  },
  {
   "cell_type": "code",
   "execution_count": 3,
   "id": "c284eb81",
   "metadata": {
    "tags": []
   },
   "outputs": [
    {
     "name": "stdout",
     "output_type": "stream",
     "text": [
      "<All keys matched successfully>\n"
     ]
    }
   ],
   "source": [
    "from summac.model_summac import SummaCZS, SummaCConv\n",
    "\n",
    "model_zs = SummaCZS(granularity=\"sentence\", model_name=\"vitc\", device=\"cuda\") # If you have a GPU: switch to: device=\"cuda\"\n",
    "model_conv = SummaCConv(models=[\"vitc\"], bins='percentile', granularity=\"sentence\", nli_labels=\"e\", device=\"cuda\", start_file=\"default\", agg=\"mean\")\n"
   ]
  },
  {
   "cell_type": "code",
   "execution_count": 4,
   "id": "15f5ea10",
   "metadata": {
    "tags": []
   },
   "outputs": [
    {
     "name": "stdout",
     "output_type": "stream",
     "text": [
      "[Summary 1] SummaCZS Score: 0.583; SummacConv score: 0.536\n",
      "[Summary 2] SummaCZS Score: 0.877; SummacConv score: 0.709\n"
     ]
    },
    {
     "name": "stderr",
     "output_type": "stream",
     "text": [
      "/home/pkatlan/miniconda3/envs/recommender/lib/python3.8/site-packages/summac/model_summac.py:267: UserWarning: Creating a tensor from a list of numpy.ndarrays is extremely slow. Please consider converting the list to a single numpy.ndarray with numpy.array() before converting to a tensor. (Triggered internally at  ../torch/csrc/utils/tensor_new.cpp:201.)\n",
      "  histograms = torch.FloatTensor(histograms).to(self.device)\n"
     ]
    }
   ],
   "source": [
    "document = \"\"\"Scientists are studying Mars to learn about the Red Planet and find landing sites for future missions.\n",
    "One possible site, known as Arcadia Planitia, is covered instrange sinuous features.\n",
    "The shapes could be signs that the area is actually made of glaciers, which are large masses of slow-moving ice.\n",
    "Arcadia Planitia is in Mars' northern lowlands.\"\"\"\n",
    "\n",
    "summary1 = \"There are strange shape patterns on Arcadia Planitia. The shapes could indicate the area might be made of glaciers. This makes Arcadia Planitia ideal for future missions.\"\n",
    "score_zs1 = model_zs.score([document], [summary1])\n",
    "score_conv1 = model_conv.score([document], [summary1])\n",
    "print(\"[Summary 1] SummaCZS Score: %.3f; SummacConv score: %.3f\" % (score_zs1[\"scores\"][0], score_conv1[\"scores\"][0])) # [Summary 1] SummaCZS Score: 0.582; SummacConv score: 0.536\n",
    "\n",
    "summary2 = \"There are strange shape patterns on Arcadia Planitia. The shapes could indicate the area might be made of glaciers.\"\n",
    "score_zs2 = model_zs.score([document], [summary2])\n",
    "score_conv2 = model_conv.score([document], [summary2])\n",
    "print(\"[Summary 2] SummaCZS Score: %.3f; SummacConv score: %.3f\" % (score_zs2[\"scores\"][0], score_conv2[\"scores\"][0])) # [Summary 2] SummaCZS Score: 0.877; SummacConv score: 0.709"
   ]
  },
  {
   "cell_type": "code",
   "execution_count": 5,
   "id": "0ca04cc7",
   "metadata": {
    "tags": []
   },
   "outputs": [],
   "source": [
    "import json\n",
    "with open(\"dataset.json\", \"r\") as f:\n",
    "    content = f.read()\n",
    "dataset = json.loads(content)"
   ]
  },
  {
   "cell_type": "code",
   "execution_count": 6,
   "id": "061eae20",
   "metadata": {
    "tags": []
   },
   "outputs": [
    {
     "data": {
      "text/plain": [
       "'Sir John Russell Reynolds, 1st Baronet (22 May 1828 – 29 May 1896) was a British neurologist and physician. Reynolds was born in Romsey, Hampshire, as the son of John Reynolds, an independent minister, and the grandson of Dr. Henry Revell Reynolds. He received general education from his father, and was educated in his profession at University College, London, where he obtained three gold medals in the medical school. In 1851, he graduated M.B. in the University of London, and obtained a scholarship and gold medal in medicine. In 1852, he took the degree of M.D., and began practice in Leeds. He soon after moved to London, and took a house, 38 Grosvenor Street, in which Dr. Marshall Hall had lived. Hall announced to his patients in a printed circular that Reynolds had succeeded him in practice. Such procedure was contrary to a recognised understanding among physicians, and Hall incurred the censure of the College of Physicians. Reynolds, who was ignorant of Hall\\'s intention, was in no way responsible for the circular, and was in no way involved in the censure. He was duly elected a Fellow of the College in 1859. In the same year, he was appointed Assistant Physician to University College Hospital, to which he continued attached throughout life. He had before been, in 1855, Assistant Physician to the Hospital for Sick Children, and in 1857 Assistant Physician to the Westminster Hospital. In 1865, he became Professor of the Principles and Practice of Medicine at University College, and in 1878 he was appointed Physician-in-Ordinary to the Queen\\'s Household. He gained a considerable practice as a physician, and was often consulted in difficult cases of nervous disease. In 1869, he was elected a Fellow of the Royal Society, and in 1883 Vice-President of the Royal Medical and Chirurgical Society. He delivered the Lumleian Lecture at the College of Physicians in 1867, the Harveian Oration in 1884, and was elected President in 1893, on the death of Sir Andrew Clark. He was re-elected in 1894 and 1895, and on 1 January in the latter year was created a Baronet. In the winter of 1895–96, he became too ill to offer himself for re-election as President of the College of Physicians. He died at his house in Grosvenor Street, London, after several weeks of illness of a pulmonary congestion, on 29 May 1896. He was married, first, to Miss Ainslie, and, secondly, to Frances, widow of C. J. C. Crespigny, but left no children. The \"Reynolds Baronetcy\", of Grosvenor Street, was created in the Baronetage of the United Kingdom on 28 February 1895 for John Russell Reynolds. The title became extinct on his death. Reynolds devoted himself from an early period to the study of nervous diseases, and in 1854 published an \"Essay on Vertigo\"; in 1855 \"Diagnosis of Diseases of the Brain, Spinal Cord, and Nerves\", as well as \"Tables for the Diagnosis of Diseases of the Brain\"; in 1861 a treatise on epilepsy; in 1871 \"Lectures on the Clinical Uses of Electricity\"; in 1872 \"The Scientific Value of the Legal Tests of Insanity\"; besides many papers in medical periodicals and the transactions of medical societies, and several addresses to medical associations. His writings on nervous diseases were useful contributions to a department of medicine in which much work remained undone, but in the flood of modern observations they have been submerged. He will chiefly be remembered among physicians as the editor of the \"System of Medicine\", in five volumes, published from 1866 to 1879, a collection of essays on diseases, written by the most competent men who could be induced to write – compositions of varying merit, but generally of high value. He himself wrote the parts on erysipelas, on inflammation of the lymphatics, and on several forms of nervous disease. He published in 1893 a \"Life of Dr. Walter Hayle Walshe\". Reynolds was a tall man, with dark hair, with a dignified delivery and some oratorical power. Reynolds died in London.'"
      ]
     },
     "execution_count": 6,
     "metadata": {},
     "output_type": "execute_result"
    }
   ],
   "source": [
    "import pandas as pd\n",
    "df = pd.DataFrame(dataset)\n",
    "df[\"wiki_bio_text\"][0]"
   ]
  },
  {
   "cell_type": "code",
   "execution_count": 11,
   "id": "b0a6b3da",
   "metadata": {
    "tags": []
   },
   "outputs": [
    {
     "name": "stdout",
     "output_type": "stream",
     "text": [
      "CPU times: user 2.97 ms, sys: 0 ns, total: 2.97 ms\n",
      "Wall time: 2.4 ms\n"
     ]
    }
   ],
   "source": [
    "%%time\n",
    "document = df['wiki_bio_text'][0]\n",
    "summary = df['gpt3_text'][0]\n",
    "scores = {}\n",
    "scores['SummaCZS'] = model_zs.score([document], [summary])['scores'][0]\n",
    "#scores['SummaCZS_no_con'] =model_zs_nocon.score([document], [summary])['scores'][0]\n",
    "scores['SummaConv'] = model_conv.score([document], [summary])['scores'][0]"
   ]
  },
  {
   "cell_type": "code",
   "execution_count": 8,
   "id": "9350cde6",
   "metadata": {},
   "outputs": [
    {
     "data": {
      "text/plain": [
       "{'SummaCZS': -0.5527191162109375, 'SummaConv': 0.24911682307720184}"
      ]
     },
     "execution_count": 8,
     "metadata": {},
     "output_type": "execute_result"
    }
   ],
   "source": [
    "scores"
   ]
  },
  {
   "cell_type": "code",
   "execution_count": 15,
   "id": "2237e150-ddd3-44bb-82bb-7a5d1302a1dc",
   "metadata": {
    "tags": []
   },
   "outputs": [],
   "source": [
    "zs = []\n",
    "conv = []\n",
    "for i in range(len(dataset)):\n",
    "    document = df['wiki_bio_text'][i]\n",
    "    summary = df['gpt3_text'][i]\n",
    "\n",
    "        #summary1 = \"There are strange shape patterns on Arcadia Planitia. The shapes could indicate the area might be made of glaciers. This makes Arcadia Planitia ideal for future missions.\"\n",
    "    score_zs1 = model_zs.score([document], [summary])\n",
    "    score_conv1 = model_conv.score([document], [summary])\n",
    "    #print(score_zs1[\"scores\"][0])\n",
    "    zs.append(score_zs1[\"scores\"][0])\n",
    "    conv.append(score_conv1[\"scores\"][0])\n",
    "    #print(\"[Summary] SummaCZS Score: %.3f; SummacConv score: %.3f\" % (score_zs1[\"scores\"][0], score_conv1[\"scores\"][0])) # [Summary 1] SummaCZS Score: 0.582; SummacConv score: 0.536\n",
    "\n",
    "summac_scores = pd.DataFrame(\n",
    "    {\n",
    "        'zs': zs,\n",
    "        'conv': conv\n",
    "        #'no_con': no_con\n",
    "    })     \n",
    "    \n",
    "    "
   ]
  },
  {
   "cell_type": "code",
   "execution_count": 16,
   "id": "f5e030c1-cff0-4e4a-87c9-ea1050c1ca3f",
   "metadata": {},
   "outputs": [
    {
     "data": {
      "text/html": [
       "<div>\n",
       "<style scoped>\n",
       "    .dataframe tbody tr th:only-of-type {\n",
       "        vertical-align: middle;\n",
       "    }\n",
       "\n",
       "    .dataframe tbody tr th {\n",
       "        vertical-align: top;\n",
       "    }\n",
       "\n",
       "    .dataframe thead th {\n",
       "        text-align: right;\n",
       "    }\n",
       "</style>\n",
       "<table border=\"1\" class=\"dataframe\">\n",
       "  <thead>\n",
       "    <tr style=\"text-align: right;\">\n",
       "      <th></th>\n",
       "      <th>zs</th>\n",
       "      <th>conv</th>\n",
       "    </tr>\n",
       "  </thead>\n",
       "  <tbody>\n",
       "    <tr>\n",
       "      <th>0</th>\n",
       "      <td>-0.552719</td>\n",
       "      <td>0.249117</td>\n",
       "    </tr>\n",
       "    <tr>\n",
       "      <th>1</th>\n",
       "      <td>-0.440639</td>\n",
       "      <td>0.209684</td>\n",
       "    </tr>\n",
       "    <tr>\n",
       "      <th>2</th>\n",
       "      <td>-0.551670</td>\n",
       "      <td>0.223239</td>\n",
       "    </tr>\n",
       "    <tr>\n",
       "      <th>3</th>\n",
       "      <td>-0.709837</td>\n",
       "      <td>0.215711</td>\n",
       "    </tr>\n",
       "    <tr>\n",
       "      <th>4</th>\n",
       "      <td>-0.777010</td>\n",
       "      <td>0.218822</td>\n",
       "    </tr>\n",
       "    <tr>\n",
       "      <th>...</th>\n",
       "      <td>...</td>\n",
       "      <td>...</td>\n",
       "    </tr>\n",
       "    <tr>\n",
       "      <th>233</th>\n",
       "      <td>-0.904063</td>\n",
       "      <td>0.231275</td>\n",
       "    </tr>\n",
       "    <tr>\n",
       "      <th>234</th>\n",
       "      <td>-0.052294</td>\n",
       "      <td>0.234655</td>\n",
       "    </tr>\n",
       "    <tr>\n",
       "      <th>235</th>\n",
       "      <td>-0.553773</td>\n",
       "      <td>0.217451</td>\n",
       "    </tr>\n",
       "    <tr>\n",
       "      <th>236</th>\n",
       "      <td>-0.508882</td>\n",
       "      <td>0.230450</td>\n",
       "    </tr>\n",
       "    <tr>\n",
       "      <th>237</th>\n",
       "      <td>-0.581624</td>\n",
       "      <td>0.213988</td>\n",
       "    </tr>\n",
       "  </tbody>\n",
       "</table>\n",
       "<p>238 rows × 2 columns</p>\n",
       "</div>"
      ],
      "text/plain": [
       "           zs      conv\n",
       "0   -0.552719  0.249117\n",
       "1   -0.440639  0.209684\n",
       "2   -0.551670  0.223239\n",
       "3   -0.709837  0.215711\n",
       "4   -0.777010  0.218822\n",
       "..        ...       ...\n",
       "233 -0.904063  0.231275\n",
       "234 -0.052294  0.234655\n",
       "235 -0.553773  0.217451\n",
       "236 -0.508882  0.230450\n",
       "237 -0.581624  0.213988\n",
       "\n",
       "[238 rows x 2 columns]"
      ]
     },
     "execution_count": 16,
     "metadata": {},
     "output_type": "execute_result"
    }
   ],
   "source": [
    "summac_scores"
   ]
  },
  {
   "cell_type": "code",
   "execution_count": 17,
   "id": "6441c9ce",
   "metadata": {},
   "outputs": [],
   "source": [
    "summac_scores.to_csv('summac_scores.csv')"
   ]
  },
  {
   "cell_type": "code",
   "execution_count": null,
   "id": "4e549ace",
   "metadata": {},
   "outputs": [],
   "source": []
  }
 ],
 "metadata": {
  "kernelspec": {
   "display_name": "Python 3.8 Recommenders",
   "language": "python",
   "name": "recommenders"
  },
  "language_info": {
   "codemirror_mode": {
    "name": "ipython",
    "version": 3
   },
   "file_extension": ".py",
   "mimetype": "text/x-python",
   "name": "python",
   "nbconvert_exporter": "python",
   "pygments_lexer": "ipython3",
   "version": "3.8.16"
  }
 },
 "nbformat": 4,
 "nbformat_minor": 5
}
