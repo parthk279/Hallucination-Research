{
 "cells": [
  {
   "cell_type": "code",
   "execution_count": 7,
   "id": "2026adbf",
   "metadata": {},
   "outputs": [
    {
     "name": "stdout",
     "output_type": "stream",
     "text": [
      "Defaulting to user installation because normal site-packages is not writeable\n",
      "Collecting git+https://github.com/LAS-NCSU/openai-python\n",
      "  Cloning https://github.com/LAS-NCSU/openai-python to /tmp/pip-req-build-yhnmepjm\n",
      "  Running command git clone --filter=blob:none --quiet https://github.com/LAS-NCSU/openai-python /tmp/pip-req-build-yhnmepjm\n",
      "  Resolved https://github.com/LAS-NCSU/openai-python to commit 7d51076a27dfcef9dcc7b6abe942f8e05f29cf76\n",
      "  Installing build dependencies ... \u001b[?25ldone\n",
      "\u001b[?25h  Getting requirements to build wheel ... \u001b[?25ldone\n",
      "\u001b[?25h  Installing backend dependencies ... \u001b[?25ldone\n",
      "\u001b[?25h  Preparing metadata (pyproject.toml) ... \u001b[?25ldone\n",
      "\u001b[?25hRequirement already satisfied: requests>=2.20 in /home/gforbes/.local/lib/python3.11/site-packages (from openai==0.27.9) (2.29.0)\n",
      "Requirement already satisfied: tqdm in /home/gforbes/.local/lib/python3.11/site-packages (from openai==0.27.9) (4.65.0)\n",
      "Requirement already satisfied: aiohttp in /home/gforbes/.local/lib/python3.11/site-packages (from openai==0.27.9) (3.8.4)\n",
      "Requirement already satisfied: charset-normalizer<4,>=2 in /home/gforbes/.local/lib/python3.11/site-packages (from requests>=2.20->openai==0.27.9) (3.1.0)\n",
      "Requirement already satisfied: idna<4,>=2.5 in /home/gforbes/.local/lib/python3.11/site-packages (from requests>=2.20->openai==0.27.9) (3.4)\n",
      "Requirement already satisfied: urllib3<1.27,>=1.21.1 in /home/gforbes/.local/lib/python3.11/site-packages (from requests>=2.20->openai==0.27.9) (1.26.15)\n",
      "Requirement already satisfied: certifi>=2017.4.17 in /home/gforbes/.local/lib/python3.11/site-packages (from requests>=2.20->openai==0.27.9) (2022.12.7)\n",
      "Requirement already satisfied: attrs>=17.3.0 in /home/gforbes/.local/lib/python3.11/site-packages (from aiohttp->openai==0.27.9) (23.1.0)\n",
      "Requirement already satisfied: multidict<7.0,>=4.5 in /home/gforbes/.local/lib/python3.11/site-packages (from aiohttp->openai==0.27.9) (6.0.4)\n",
      "Requirement already satisfied: async-timeout<5.0,>=4.0.0a3 in /home/gforbes/.local/lib/python3.11/site-packages (from aiohttp->openai==0.27.9) (4.0.2)\n",
      "Requirement already satisfied: yarl<2.0,>=1.0 in /home/gforbes/.local/lib/python3.11/site-packages (from aiohttp->openai==0.27.9) (1.9.2)\n",
      "Requirement already satisfied: frozenlist>=1.1.1 in /home/gforbes/.local/lib/python3.11/site-packages (from aiohttp->openai==0.27.9) (1.3.3)\n",
      "Requirement already satisfied: aiosignal>=1.1.2 in /home/gforbes/.local/lib/python3.11/site-packages (from aiohttp->openai==0.27.9) (1.3.1)\n",
      "\n",
      "\u001b[1m[\u001b[0m\u001b[34;49mnotice\u001b[0m\u001b[1;39;49m]\u001b[0m\u001b[39;49m A new release of pip is available: \u001b[0m\u001b[31;49m23.1.2\u001b[0m\u001b[39;49m -> \u001b[0m\u001b[32;49m23.2.1\u001b[0m\n",
      "\u001b[1m[\u001b[0m\u001b[34;49mnotice\u001b[0m\u001b[1;39;49m]\u001b[0m\u001b[39;49m To update, run: \u001b[0m\u001b[32;49mpip install --upgrade pip\u001b[0m\n"
     ]
    }
   ],
   "source": [
    "import sys \n",
    "\n",
    "!{sys.executable} -m pip install git+https://github.com/LAS-NCSU/openai-python"
   ]
  },
  {
   "cell_type": "code",
   "execution_count": 12,
   "id": "842d8af5",
   "metadata": {},
   "outputs": [
    {
     "name": "stdout",
     "output_type": "stream",
     "text": [
      "babbage\n",
      "babbage\n",
      "text-davinci-003\n",
      "davinci\n",
      "text-davinci-edit-001\n",
      "babbage-code-search-code\n",
      "text-similarity-babbage-001\n",
      "code-davinci-edit-001\n",
      "text-davinci-001\n",
      "ada\n",
      "babbage-code-search-text\n",
      "babbage-similarity\n",
      "gpt-4-0314\n",
      "gpt-3.5-turbo-16k-0613\n",
      "code-search-babbage-text-001\n",
      "text-curie-001\n",
      "gpt-3.5-turbo-0301\n",
      "gpt-3.5-turbo-16k\n",
      "gpt-4\n",
      "code-search-babbage-code-001\n",
      "text-ada-001\n",
      "text-similarity-ada-001\n",
      "text-davinci-002\n",
      "curie-instruct-beta\n",
      "ada-code-search-code\n",
      "ada-similarity\n",
      "code-search-ada-text-001\n",
      "text-search-ada-query-001\n",
      "davinci-search-document\n",
      "ada-code-search-text\n",
      "text-search-ada-doc-001\n",
      "davinci-instruct-beta\n",
      "text-similarity-curie-001\n",
      "code-search-ada-code-001\n",
      "ada-search-query\n",
      "text-search-davinci-query-001\n",
      "curie-search-query\n",
      "davinci-search-query\n",
      "babbage-search-document\n",
      "ada-search-document\n",
      "text-search-curie-query-001\n",
      "text-search-babbage-doc-001\n",
      "whisper-1\n",
      "curie-search-document\n",
      "text-search-curie-doc-001\n",
      "babbage-search-query\n",
      "text-babbage-001\n",
      "text-search-davinci-doc-001\n",
      "text-search-babbage-query-001\n",
      "curie-similarity\n",
      "text-embedding-ada-002\n",
      "curie\n",
      "text-similarity-davinci-001\n",
      "gpt-3.5-turbo-0613\n",
      "davinci-similarity\n",
      "gpt-3.5-turbo\n",
      "gpt-4-0613\n"
     ]
    }
   ],
   "source": [
    "import openai\n",
    "openai.las_api_token = \"1c084df31dbda0b4db3fa78286af2c1efec0feb04fbd1df8cb29522afa21bb44\"\n",
    "\n",
    "# list models\n",
    "models = openai.Model.list()\n",
    "\n",
    "# print the first model's id\n",
    "print(models.data[0].id)\n",
    "for i in models.data:\n",
    "    print(i.id)"
   ]
  },
  {
   "cell_type": "code",
   "execution_count": 9,
   "id": "136fae42",
   "metadata": {},
   "outputs": [
    {
     "name": "stdout",
     "output_type": "stream",
     "text": [
      "Hello! How can I assist you today?\n"
     ]
    }
   ],
   "source": [
    "# create a chat completion\n",
    "chat_completion = openai.ChatCompletion.create(model=\"gpt-3.5-turbo\", messages=[{\"role\": \"user\", \"content\": \"Hello world\"}], temperature = 0.7)\n",
    "\n",
    "# print the chat completion\n",
    "print(chat_completion.choices[0].message.content)"
   ]
  },
  {
   "cell_type": "code",
   "execution_count": 14,
   "id": "ab6f49e0",
   "metadata": {},
   "outputs": [
    {
     "name": "stderr",
     "output_type": "stream",
     "text": [
      "Found cached dataset parquet (/home/gforbes/.cache/huggingface/datasets/potsawee___parquet/potsawee--wiki_bio_gpt3_hallucination-9bba6a0f21f1b815/0.0.0/2a3b91fbd88a2c90d1dbbb32b460cf621d31bd5b05b934492fdef7d8d6f236ec)\n",
      "100%|██████████| 1/1 [00:00<00:00, 666.93it/s]\n",
      "  8%|▊         | 18/238 [00:16<02:47,  1.32it/s]"
     ]
    },
    {
     "name": "stdout",
     "output_type": "stream",
     "text": [
      "messed up; trying again\n",
      "messed up; trying again\n"
     ]
    },
    {
     "name": "stderr",
     "output_type": "stream",
     "text": [
      "\r",
      "  8%|▊         | 19/238 [00:19<05:22,  1.47s/it]"
     ]
    },
    {
     "name": "stdout",
     "output_type": "stream",
     "text": [
      "messed up; trying again\n",
      "messed up; trying again\n",
      "messed up; trying again\n"
     ]
    },
    {
     "name": "stderr",
     "output_type": "stream",
     "text": [
      "\r",
      "  8%|▊         | 20/238 [00:23<08:30,  2.34s/it]"
     ]
    },
    {
     "name": "stdout",
     "output_type": "stream",
     "text": [
      "messed up; trying again\n",
      "messed up; trying again\n",
      "messed up; trying again\n",
      "messed up; trying again\n"
     ]
    },
    {
     "name": "stderr",
     "output_type": "stream",
     "text": [
      "\r",
      "  9%|▉         | 21/238 [00:28<11:33,  3.19s/it]"
     ]
    },
    {
     "name": "stdout",
     "output_type": "stream",
     "text": [
      "messed up; trying again\n",
      "messed up; trying again\n"
     ]
    },
    {
     "name": "stderr",
     "output_type": "stream",
     "text": [
      "\r",
      "  9%|▉         | 22/238 [00:31<11:08,  3.10s/it]"
     ]
    },
    {
     "name": "stdout",
     "output_type": "stream",
     "text": [
      "messed up; trying again\n",
      "messed up; trying again\n"
     ]
    },
    {
     "name": "stderr",
     "output_type": "stream",
     "text": [
      "\r",
      " 10%|▉         | 23/238 [00:34<11:03,  3.09s/it]"
     ]
    },
    {
     "name": "stdout",
     "output_type": "stream",
     "text": [
      "messed up; trying again\n",
      "messed up; trying again\n",
      "messed up; trying again\n"
     ]
    },
    {
     "name": "stderr",
     "output_type": "stream",
     "text": [
      "\r",
      " 10%|█         | 24/238 [00:39<12:48,  3.59s/it]"
     ]
    },
    {
     "name": "stdout",
     "output_type": "stream",
     "text": [
      "messed up; trying again\n",
      "messed up; trying again\n"
     ]
    },
    {
     "name": "stderr",
     "output_type": "stream",
     "text": [
      "\r",
      " 11%|█         | 25/238 [00:42<12:01,  3.39s/it]"
     ]
    },
    {
     "name": "stdout",
     "output_type": "stream",
     "text": [
      "messed up; trying again\n",
      "messed up; trying again\n"
     ]
    },
    {
     "name": "stderr",
     "output_type": "stream",
     "text": [
      "\r",
      " 11%|█         | 26/238 [00:45<11:29,  3.25s/it]"
     ]
    },
    {
     "name": "stdout",
     "output_type": "stream",
     "text": [
      "messed up; trying again\n",
      "messed up; trying again\n",
      "messed up; trying again\n"
     ]
    },
    {
     "name": "stderr",
     "output_type": "stream",
     "text": [
      "\r",
      " 11%|█▏        | 27/238 [00:49<12:36,  3.58s/it]"
     ]
    },
    {
     "name": "stdout",
     "output_type": "stream",
     "text": [
      "messed up; trying again\n",
      "messed up; trying again\n"
     ]
    },
    {
     "name": "stderr",
     "output_type": "stream",
     "text": [
      "\r",
      " 12%|█▏        | 28/238 [00:52<12:00,  3.43s/it]"
     ]
    },
    {
     "name": "stdout",
     "output_type": "stream",
     "text": [
      "messed up; trying again\n",
      "messed up; trying again\n",
      "messed up; trying again\n",
      "messed up; trying again\n",
      "messed up; trying again\n"
     ]
    },
    {
     "name": "stderr",
     "output_type": "stream",
     "text": [
      "\r",
      " 12%|█▏        | 29/238 [00:59<14:59,  4.30s/it]"
     ]
    },
    {
     "name": "stdout",
     "output_type": "stream",
     "text": [
      "messed up; trying again\n",
      "messed up; trying again\n",
      "messed up; trying again\n"
     ]
    },
    {
     "name": "stderr",
     "output_type": "stream",
     "text": [
      "\r",
      " 13%|█▎        | 30/238 [01:03<14:50,  4.28s/it]"
     ]
    },
    {
     "name": "stdout",
     "output_type": "stream",
     "text": [
      "messed up; trying again\n",
      "messed up; trying again\n"
     ]
    },
    {
     "name": "stderr",
     "output_type": "stream",
     "text": [
      "\r",
      " 13%|█▎        | 31/238 [01:06<13:24,  3.89s/it]"
     ]
    },
    {
     "name": "stdout",
     "output_type": "stream",
     "text": [
      "messed up; trying again\n",
      "messed up; trying again\n",
      "messed up; trying again\n"
     ]
    },
    {
     "name": "stderr",
     "output_type": "stream",
     "text": [
      "\r",
      " 13%|█▎        | 32/238 [01:10<13:30,  3.93s/it]"
     ]
    },
    {
     "name": "stdout",
     "output_type": "stream",
     "text": [
      "messed up; trying again\n",
      "messed up; trying again\n"
     ]
    },
    {
     "name": "stderr",
     "output_type": "stream",
     "text": [
      "\r",
      " 14%|█▍        | 33/238 [01:13<12:45,  3.73s/it]"
     ]
    },
    {
     "name": "stdout",
     "output_type": "stream",
     "text": [
      "messed up; trying again\n",
      "messed up; trying again\n",
      "messed up; trying again\n"
     ]
    },
    {
     "name": "stderr",
     "output_type": "stream",
     "text": [
      "\r",
      " 14%|█▍        | 34/238 [01:18<13:18,  3.91s/it]"
     ]
    },
    {
     "name": "stdout",
     "output_type": "stream",
     "text": [
      "messed up; trying again\n",
      "messed up; trying again\n",
      "messed up; trying again\n",
      "messed up; trying again\n"
     ]
    },
    {
     "name": "stderr",
     "output_type": "stream",
     "text": [
      "\r",
      " 15%|█▍        | 35/238 [01:24<15:44,  4.65s/it]"
     ]
    },
    {
     "name": "stdout",
     "output_type": "stream",
     "text": [
      "messed up; trying again\n"
     ]
    },
    {
     "name": "stderr",
     "output_type": "stream",
     "text": [
      "\r",
      " 15%|█▌        | 36/238 [01:26<12:48,  3.80s/it]"
     ]
    },
    {
     "name": "stdout",
     "output_type": "stream",
     "text": [
      "messed up; trying again\n",
      "messed up; trying again\n",
      "messed up; trying again\n",
      "messed up; trying again\n"
     ]
    },
    {
     "name": "stderr",
     "output_type": "stream",
     "text": [
      "\r",
      " 16%|█▌        | 37/238 [01:31<14:13,  4.25s/it]"
     ]
    },
    {
     "name": "stdout",
     "output_type": "stream",
     "text": [
      "messed up; trying again\n",
      "messed up; trying again\n",
      "messed up; trying again\n"
     ]
    },
    {
     "name": "stderr",
     "output_type": "stream",
     "text": [
      "\r",
      " 16%|█▌        | 38/238 [01:35<14:04,  4.22s/it]"
     ]
    },
    {
     "name": "stdout",
     "output_type": "stream",
     "text": [
      "messed up; trying again\n",
      "messed up; trying again\n"
     ]
    },
    {
     "name": "stderr",
     "output_type": "stream",
     "text": [
      "\r",
      " 16%|█▋        | 39/238 [01:38<12:48,  3.86s/it]"
     ]
    },
    {
     "name": "stdout",
     "output_type": "stream",
     "text": [
      "messed up; trying again\n",
      "messed up; trying again\n",
      "messed up; trying again\n"
     ]
    },
    {
     "name": "stderr",
     "output_type": "stream",
     "text": [
      "\r",
      " 17%|█▋        | 40/238 [01:43<13:33,  4.11s/it]"
     ]
    },
    {
     "name": "stdout",
     "output_type": "stream",
     "text": [
      "messed up; trying again\n"
     ]
    },
    {
     "name": "stderr",
     "output_type": "stream",
     "text": [
      "\r",
      " 17%|█▋        | 41/238 [01:45<11:33,  3.52s/it]"
     ]
    },
    {
     "name": "stdout",
     "output_type": "stream",
     "text": [
      "messed up; trying again\n",
      "messed up; trying again\n",
      "messed up; trying again\n"
     ]
    },
    {
     "name": "stderr",
     "output_type": "stream",
     "text": [
      "\r",
      " 18%|█▊        | 42/238 [01:50<13:01,  3.99s/it]"
     ]
    },
    {
     "name": "stdout",
     "output_type": "stream",
     "text": [
      "messed up; trying again\n",
      "messed up; trying again\n"
     ]
    },
    {
     "name": "stderr",
     "output_type": "stream",
     "text": [
      "\r",
      " 18%|█▊        | 43/238 [01:53<12:03,  3.71s/it]"
     ]
    },
    {
     "name": "stdout",
     "output_type": "stream",
     "text": [
      "messed up; trying again\n",
      "messed up; trying again\n"
     ]
    },
    {
     "name": "stderr",
     "output_type": "stream",
     "text": [
      "\r",
      " 18%|█▊        | 44/238 [01:57<12:20,  3.82s/it]"
     ]
    },
    {
     "name": "stdout",
     "output_type": "stream",
     "text": [
      "messed up; trying again\n",
      "messed up; trying again\n",
      "messed up; trying again\n",
      "messed up; trying again\n",
      "messed up; trying again\n",
      "messed up; trying again\n"
     ]
    },
    {
     "name": "stderr",
     "output_type": "stream",
     "text": [
      "\r",
      " 19%|█▉        | 45/238 [02:05<16:13,  5.04s/it]"
     ]
    },
    {
     "name": "stdout",
     "output_type": "stream",
     "text": [
      "messed up; trying again\n",
      "messed up; trying again\n",
      "messed up; trying again\n",
      "messed up; trying again\n",
      "messed up; trying again\n",
      "messed up; trying again\n"
     ]
    },
    {
     "name": "stderr",
     "output_type": "stream",
     "text": [
      "\r",
      " 19%|█▉        | 46/238 [02:13<18:56,  5.92s/it]"
     ]
    },
    {
     "name": "stdout",
     "output_type": "stream",
     "text": [
      "messed up; trying again\n",
      "messed up; trying again\n"
     ]
    },
    {
     "name": "stderr",
     "output_type": "stream",
     "text": [
      "\r",
      " 20%|█▉        | 47/238 [02:16<16:05,  5.06s/it]"
     ]
    },
    {
     "name": "stdout",
     "output_type": "stream",
     "text": [
      "messed up; trying again\n",
      "messed up; trying again\n"
     ]
    },
    {
     "name": "stderr",
     "output_type": "stream",
     "text": [
      "\r",
      " 20%|██        | 48/238 [02:19<13:58,  4.41s/it]"
     ]
    },
    {
     "name": "stdout",
     "output_type": "stream",
     "text": [
      "messed up; trying again\n",
      "messed up; trying again\n",
      "messed up; trying again\n",
      "messed up; trying again\n"
     ]
    },
    {
     "name": "stderr",
     "output_type": "stream",
     "text": [
      "\r",
      " 21%|██        | 49/238 [02:24<14:42,  4.67s/it]"
     ]
    },
    {
     "name": "stdout",
     "output_type": "stream",
     "text": [
      "messed up; trying again\n",
      "messed up; trying again\n"
     ]
    },
    {
     "name": "stderr",
     "output_type": "stream",
     "text": [
      "\r",
      " 21%|██        | 50/238 [02:27<13:11,  4.21s/it]"
     ]
    },
    {
     "name": "stdout",
     "output_type": "stream",
     "text": [
      "messed up; trying again\n",
      "messed up; trying again\n"
     ]
    },
    {
     "name": "stderr",
     "output_type": "stream",
     "text": [
      "\r",
      " 21%|██▏       | 51/238 [02:32<13:05,  4.20s/it]"
     ]
    },
    {
     "name": "stdout",
     "output_type": "stream",
     "text": [
      "messed up; trying again\n",
      "messed up; trying again\n"
     ]
    },
    {
     "name": "stderr",
     "output_type": "stream",
     "text": [
      "\r",
      " 22%|██▏       | 52/238 [02:35<12:01,  3.88s/it]"
     ]
    },
    {
     "name": "stdout",
     "output_type": "stream",
     "text": [
      "messed up; trying again\n",
      "messed up; trying again\n"
     ]
    },
    {
     "name": "stderr",
     "output_type": "stream",
     "text": [
      "\r",
      " 22%|██▏       | 53/238 [02:38<11:29,  3.73s/it]"
     ]
    },
    {
     "name": "stdout",
     "output_type": "stream",
     "text": [
      "messed up; trying again\n",
      "messed up; trying again\n",
      "messed up; trying again\n",
      "messed up; trying again\n"
     ]
    },
    {
     "name": "stderr",
     "output_type": "stream",
     "text": [
      "\r",
      " 23%|██▎       | 54/238 [02:44<13:27,  4.39s/it]"
     ]
    },
    {
     "name": "stdout",
     "output_type": "stream",
     "text": [
      "messed up; trying again\n",
      "messed up; trying again\n",
      "messed up; trying again\n"
     ]
    },
    {
     "name": "stderr",
     "output_type": "stream",
     "text": [
      "\r",
      " 23%|██▎       | 55/238 [02:48<13:18,  4.36s/it]"
     ]
    },
    {
     "name": "stdout",
     "output_type": "stream",
     "text": [
      "messed up; trying again\n",
      "messed up; trying again\n",
      "messed up; trying again\n",
      "messed up; trying again\n"
     ]
    },
    {
     "name": "stderr",
     "output_type": "stream",
     "text": [
      "\r",
      " 24%|██▎       | 56/238 [02:54<14:17,  4.71s/it]"
     ]
    },
    {
     "name": "stdout",
     "output_type": "stream",
     "text": [
      "messed up; trying again\n",
      "messed up; trying again\n"
     ]
    },
    {
     "name": "stderr",
     "output_type": "stream",
     "text": [
      "\r",
      " 24%|██▍       | 57/238 [02:57<12:56,  4.29s/it]"
     ]
    },
    {
     "name": "stdout",
     "output_type": "stream",
     "text": [
      "messed up; trying again\n",
      "messed up; trying again\n"
     ]
    },
    {
     "name": "stderr",
     "output_type": "stream",
     "text": [
      "\r",
      " 24%|██▍       | 58/238 [03:00<11:47,  3.93s/it]"
     ]
    },
    {
     "name": "stdout",
     "output_type": "stream",
     "text": [
      "messed up; trying again\n",
      "messed up; trying again\n",
      "messed up; trying again\n"
     ]
    },
    {
     "name": "stderr",
     "output_type": "stream",
     "text": [
      "\r",
      " 25%|██▍       | 59/238 [03:05<12:06,  4.06s/it]"
     ]
    },
    {
     "name": "stdout",
     "output_type": "stream",
     "text": [
      "messed up; trying again\n",
      "messed up; trying again\n",
      "messed up; trying again\n"
     ]
    },
    {
     "name": "stderr",
     "output_type": "stream",
     "text": [
      "\r",
      " 25%|██▌       | 60/238 [03:09<12:27,  4.20s/it]"
     ]
    },
    {
     "name": "stdout",
     "output_type": "stream",
     "text": [
      "messed up; trying again\n",
      "messed up; trying again\n",
      "messed up; trying again\n"
     ]
    },
    {
     "name": "stderr",
     "output_type": "stream",
     "text": [
      "\r",
      " 26%|██▌       | 61/238 [03:13<12:21,  4.19s/it]"
     ]
    },
    {
     "name": "stdout",
     "output_type": "stream",
     "text": [
      "messed up; trying again\n",
      "messed up; trying again\n"
     ]
    },
    {
     "name": "stderr",
     "output_type": "stream",
     "text": [
      "\r",
      " 26%|██▌       | 62/238 [03:16<11:18,  3.86s/it]"
     ]
    },
    {
     "name": "stdout",
     "output_type": "stream",
     "text": [
      "messed up; trying again\n",
      "messed up; trying again\n"
     ]
    },
    {
     "name": "stderr",
     "output_type": "stream",
     "text": [
      "\r",
      " 26%|██▋       | 63/238 [03:20<11:00,  3.77s/it]"
     ]
    },
    {
     "name": "stdout",
     "output_type": "stream",
     "text": [
      "messed up; trying again\n"
     ]
    },
    {
     "name": "stderr",
     "output_type": "stream",
     "text": [
      "\r",
      " 27%|██▋       | 64/238 [03:22<09:35,  3.31s/it]"
     ]
    },
    {
     "name": "stdout",
     "output_type": "stream",
     "text": [
      "messed up; trying again\n",
      "messed up; trying again\n"
     ]
    },
    {
     "name": "stderr",
     "output_type": "stream",
     "text": [
      "\r",
      " 27%|██▋       | 65/238 [03:25<09:19,  3.24s/it]"
     ]
    },
    {
     "name": "stdout",
     "output_type": "stream",
     "text": [
      "messed up; trying again\n",
      "messed up; trying again\n",
      "messed up; trying again\n"
     ]
    },
    {
     "name": "stderr",
     "output_type": "stream",
     "text": [
      "\r",
      " 28%|██▊       | 66/238 [03:30<10:07,  3.53s/it]"
     ]
    },
    {
     "name": "stdout",
     "output_type": "stream",
     "text": [
      "messed up; trying again\n",
      "messed up; trying again\n",
      "messed up; trying again\n",
      "messed up; trying again\n",
      "messed up; trying again\n",
      "messed up; trying again\n",
      "messed up; trying again\n",
      "messed up; trying again\n"
     ]
    },
    {
     "name": "stderr",
     "output_type": "stream",
     "text": [
      "\r",
      " 28%|██▊       | 67/238 [03:39<15:28,  5.43s/it]"
     ]
    },
    {
     "name": "stdout",
     "output_type": "stream",
     "text": [
      "messed up; trying again\n",
      "messed up; trying again\n",
      "messed up; trying again\n",
      "messed up; trying again\n"
     ]
    },
    {
     "name": "stderr",
     "output_type": "stream",
     "text": [
      "\r",
      " 29%|██▊       | 68/238 [03:45<15:31,  5.48s/it]"
     ]
    },
    {
     "name": "stdout",
     "output_type": "stream",
     "text": [
      "messed up; trying again\n",
      "messed up; trying again\n"
     ]
    },
    {
     "name": "stderr",
     "output_type": "stream",
     "text": [
      "\r",
      " 29%|██▉       | 69/238 [03:48<13:18,  4.73s/it]"
     ]
    },
    {
     "name": "stdout",
     "output_type": "stream",
     "text": [
      "messed up; trying again\n",
      "messed up; trying again\n",
      "messed up; trying again\n"
     ]
    },
    {
     "name": "stderr",
     "output_type": "stream",
     "text": [
      "\r",
      " 29%|██▉       | 70/238 [03:52<13:02,  4.66s/it]"
     ]
    },
    {
     "name": "stdout",
     "output_type": "stream",
     "text": [
      "messed up; trying again\n",
      "messed up; trying again\n"
     ]
    },
    {
     "name": "stderr",
     "output_type": "stream",
     "text": [
      "\r",
      " 30%|██▉       | 71/238 [03:55<11:33,  4.15s/it]"
     ]
    },
    {
     "name": "stdout",
     "output_type": "stream",
     "text": [
      "messed up; trying again\n",
      "messed up; trying again\n",
      "messed up; trying again\n",
      "messed up; trying again\n",
      "messed up; trying again\n",
      "messed up; trying again\n"
     ]
    },
    {
     "name": "stderr",
     "output_type": "stream",
     "text": [
      "\r",
      " 30%|███       | 72/238 [04:03<14:39,  5.30s/it]"
     ]
    },
    {
     "name": "stdout",
     "output_type": "stream",
     "text": [
      "messed up; trying again\n",
      "messed up; trying again\n"
     ]
    },
    {
     "name": "stderr",
     "output_type": "stream",
     "text": [
      "\r",
      " 31%|███       | 73/238 [04:07<12:50,  4.67s/it]"
     ]
    },
    {
     "name": "stdout",
     "output_type": "stream",
     "text": [
      "messed up; trying again\n",
      "messed up; trying again\n",
      "messed up; trying again\n",
      "messed up; trying again\n"
     ]
    },
    {
     "name": "stderr",
     "output_type": "stream",
     "text": [
      "\r",
      " 31%|███       | 74/238 [04:12<13:13,  4.84s/it]"
     ]
    },
    {
     "name": "stdout",
     "output_type": "stream",
     "text": [
      "messed up; trying again\n",
      "messed up; trying again\n",
      "messed up; trying again\n"
     ]
    },
    {
     "name": "stderr",
     "output_type": "stream",
     "text": [
      "\r",
      " 32%|███▏      | 75/238 [04:16<12:40,  4.66s/it]"
     ]
    },
    {
     "name": "stdout",
     "output_type": "stream",
     "text": [
      "messed up; trying again\n",
      "messed up; trying again\n",
      "messed up; trying again\n"
     ]
    },
    {
     "name": "stderr",
     "output_type": "stream",
     "text": [
      "\r",
      " 32%|███▏      | 76/238 [04:20<11:59,  4.44s/it]"
     ]
    },
    {
     "name": "stdout",
     "output_type": "stream",
     "text": [
      "messed up; trying again\n",
      "messed up; trying again\n"
     ]
    },
    {
     "name": "stderr",
     "output_type": "stream",
     "text": [
      "\r",
      " 32%|███▏      | 77/238 [04:23<10:36,  3.95s/it]"
     ]
    },
    {
     "name": "stdout",
     "output_type": "stream",
     "text": [
      "messed up; trying again\n",
      "messed up; trying again\n",
      "messed up; trying again\n"
     ]
    },
    {
     "name": "stderr",
     "output_type": "stream",
     "text": [
      "\r",
      " 33%|███▎      | 78/238 [04:27<10:39,  4.00s/it]"
     ]
    },
    {
     "name": "stdout",
     "output_type": "stream",
     "text": [
      "messed up; trying again\n",
      "messed up; trying again\n",
      "messed up; trying again\n"
     ]
    },
    {
     "name": "stderr",
     "output_type": "stream",
     "text": [
      "\r",
      " 33%|███▎      | 79/238 [04:32<11:05,  4.19s/it]"
     ]
    },
    {
     "name": "stdout",
     "output_type": "stream",
     "text": [
      "messed up; trying again\n",
      "messed up; trying again\n",
      "messed up; trying again\n"
     ]
    },
    {
     "name": "stderr",
     "output_type": "stream",
     "text": [
      "\r",
      " 34%|███▎      | 80/238 [04:35<10:49,  4.11s/it]"
     ]
    },
    {
     "name": "stdout",
     "output_type": "stream",
     "text": [
      "messed up; trying again\n",
      "messed up; trying again\n"
     ]
    },
    {
     "name": "stderr",
     "output_type": "stream",
     "text": [
      "\r",
      " 34%|███▍      | 81/238 [04:39<10:12,  3.90s/it]"
     ]
    },
    {
     "name": "stdout",
     "output_type": "stream",
     "text": [
      "messed up; trying again\n",
      "messed up; trying again\n"
     ]
    },
    {
     "name": "stderr",
     "output_type": "stream",
     "text": [
      "\r",
      " 34%|███▍      | 82/238 [04:42<09:34,  3.68s/it]"
     ]
    },
    {
     "name": "stdout",
     "output_type": "stream",
     "text": [
      "messed up; trying again\n",
      "messed up; trying again\n"
     ]
    },
    {
     "name": "stderr",
     "output_type": "stream",
     "text": [
      "\r",
      " 35%|███▍      | 83/238 [04:45<08:55,  3.45s/it]"
     ]
    },
    {
     "name": "stdout",
     "output_type": "stream",
     "text": [
      "messed up; trying again\n",
      "messed up; trying again\n"
     ]
    },
    {
     "name": "stderr",
     "output_type": "stream",
     "text": [
      "\r",
      " 35%|███▌      | 84/238 [04:48<08:34,  3.34s/it]"
     ]
    },
    {
     "name": "stdout",
     "output_type": "stream",
     "text": [
      "messed up; trying again\n",
      "messed up; trying again\n",
      "messed up; trying again\n"
     ]
    },
    {
     "name": "stderr",
     "output_type": "stream",
     "text": [
      "\r",
      " 36%|███▌      | 85/238 [04:52<09:15,  3.63s/it]"
     ]
    },
    {
     "name": "stdout",
     "output_type": "stream",
     "text": [
      "messed up; trying again\n",
      "messed up; trying again\n"
     ]
    },
    {
     "name": "stderr",
     "output_type": "stream",
     "text": [
      "\r",
      " 36%|███▌      | 86/238 [04:56<08:51,  3.50s/it]"
     ]
    },
    {
     "name": "stdout",
     "output_type": "stream",
     "text": [
      "messed up; trying again\n",
      "messed up; trying again\n"
     ]
    },
    {
     "name": "stderr",
     "output_type": "stream",
     "text": [
      "\r",
      " 37%|███▋      | 87/238 [04:59<08:57,  3.56s/it]"
     ]
    },
    {
     "name": "stdout",
     "output_type": "stream",
     "text": [
      "messed up; trying again\n",
      "messed up; trying again\n"
     ]
    },
    {
     "name": "stderr",
     "output_type": "stream",
     "text": [
      "\r",
      " 37%|███▋      | 88/238 [05:02<08:34,  3.43s/it]"
     ]
    },
    {
     "name": "stdout",
     "output_type": "stream",
     "text": [
      "messed up; trying again\n",
      "messed up; trying again\n",
      "messed up; trying again\n",
      "messed up; trying again\n"
     ]
    },
    {
     "name": "stderr",
     "output_type": "stream",
     "text": [
      "\r",
      " 37%|███▋      | 89/238 [05:08<10:06,  4.07s/it]"
     ]
    },
    {
     "name": "stdout",
     "output_type": "stream",
     "text": [
      "messed up; trying again\n",
      "messed up; trying again\n"
     ]
    },
    {
     "name": "stderr",
     "output_type": "stream",
     "text": [
      "\r",
      " 38%|███▊      | 90/238 [05:11<09:20,  3.79s/it]"
     ]
    },
    {
     "name": "stdout",
     "output_type": "stream",
     "text": [
      "messed up; trying again\n",
      "messed up; trying again\n",
      "messed up; trying again\n"
     ]
    },
    {
     "name": "stderr",
     "output_type": "stream",
     "text": [
      "\r",
      " 38%|███▊      | 91/238 [05:16<10:07,  4.14s/it]"
     ]
    },
    {
     "name": "stdout",
     "output_type": "stream",
     "text": [
      "messed up; trying again\n",
      "messed up; trying again\n"
     ]
    },
    {
     "name": "stderr",
     "output_type": "stream",
     "text": [
      "\r",
      " 39%|███▊      | 92/238 [05:19<09:21,  3.84s/it]"
     ]
    },
    {
     "name": "stdout",
     "output_type": "stream",
     "text": [
      "messed up; trying again\n",
      "messed up; trying again\n",
      "messed up; trying again\n"
     ]
    },
    {
     "name": "stderr",
     "output_type": "stream",
     "text": [
      "\r",
      " 39%|███▉      | 93/238 [05:24<09:48,  4.06s/it]"
     ]
    },
    {
     "name": "stdout",
     "output_type": "stream",
     "text": [
      "messed up; trying again\n",
      "messed up; trying again\n"
     ]
    },
    {
     "name": "stderr",
     "output_type": "stream",
     "text": [
      "\r",
      " 39%|███▉      | 94/238 [05:27<09:01,  3.76s/it]"
     ]
    },
    {
     "name": "stdout",
     "output_type": "stream",
     "text": [
      "messed up; trying again\n",
      "messed up; trying again\n",
      "messed up; trying again\n"
     ]
    },
    {
     "name": "stderr",
     "output_type": "stream",
     "text": [
      "\r",
      " 40%|███▉      | 95/238 [05:31<09:17,  3.90s/it]"
     ]
    },
    {
     "name": "stdout",
     "output_type": "stream",
     "text": [
      "messed up; trying again\n",
      "messed up; trying again\n",
      "messed up; trying again\n"
     ]
    },
    {
     "name": "stderr",
     "output_type": "stream",
     "text": [
      "\r",
      " 40%|████      | 96/238 [05:35<09:16,  3.92s/it]"
     ]
    },
    {
     "name": "stdout",
     "output_type": "stream",
     "text": [
      "messed up; trying again\n",
      "messed up; trying again\n"
     ]
    },
    {
     "name": "stderr",
     "output_type": "stream",
     "text": [
      "\r",
      " 41%|████      | 97/238 [05:38<08:33,  3.64s/it]"
     ]
    },
    {
     "name": "stdout",
     "output_type": "stream",
     "text": [
      "messed up; trying again\n",
      "messed up; trying again\n",
      "messed up; trying again\n"
     ]
    },
    {
     "name": "stderr",
     "output_type": "stream",
     "text": [
      "\r",
      " 41%|████      | 98/238 [05:42<08:52,  3.81s/it]"
     ]
    },
    {
     "name": "stdout",
     "output_type": "stream",
     "text": [
      "messed up; trying again\n",
      "messed up; trying again\n"
     ]
    },
    {
     "name": "stderr",
     "output_type": "stream",
     "text": [
      "\r",
      " 42%|████▏     | 99/238 [05:45<08:09,  3.52s/it]"
     ]
    },
    {
     "name": "stdout",
     "output_type": "stream",
     "text": [
      "messed up; trying again\n",
      "messed up; trying again\n",
      "messed up; trying again\n"
     ]
    },
    {
     "name": "stderr",
     "output_type": "stream",
     "text": [
      "\r",
      " 42%|████▏     | 100/238 [05:50<08:45,  3.81s/it]"
     ]
    },
    {
     "name": "stdout",
     "output_type": "stream",
     "text": [
      "messed up; trying again\n",
      "messed up; trying again\n"
     ]
    },
    {
     "name": "stderr",
     "output_type": "stream",
     "text": [
      "\r",
      " 42%|████▏     | 101/238 [05:53<08:15,  3.62s/it]"
     ]
    },
    {
     "name": "stdout",
     "output_type": "stream",
     "text": [
      "messed up; trying again\n",
      "messed up; trying again\n",
      "messed up; trying again\n"
     ]
    },
    {
     "name": "stderr",
     "output_type": "stream",
     "text": [
      "\r",
      " 43%|████▎     | 102/238 [05:58<09:22,  4.14s/it]"
     ]
    },
    {
     "name": "stdout",
     "output_type": "stream",
     "text": [
      "messed up; trying again\n"
     ]
    },
    {
     "name": "stderr",
     "output_type": "stream",
     "text": [
      "\r",
      " 43%|████▎     | 103/238 [06:00<07:46,  3.46s/it]"
     ]
    },
    {
     "name": "stdout",
     "output_type": "stream",
     "text": [
      "messed up; trying again\n",
      "messed up; trying again\n"
     ]
    },
    {
     "name": "stderr",
     "output_type": "stream",
     "text": [
      "\r",
      " 44%|████▎     | 104/238 [06:03<07:26,  3.33s/it]"
     ]
    },
    {
     "name": "stdout",
     "output_type": "stream",
     "text": [
      "messed up; trying again\n",
      "messed up; trying again\n",
      "messed up; trying again\n",
      "messed up; trying again\n"
     ]
    },
    {
     "name": "stderr",
     "output_type": "stream",
     "text": [
      "\r",
      " 44%|████▍     | 105/238 [06:08<08:46,  3.96s/it]"
     ]
    },
    {
     "name": "stdout",
     "output_type": "stream",
     "text": [
      "messed up; trying again\n",
      "messed up; trying again\n",
      "messed up; trying again\n"
     ]
    },
    {
     "name": "stderr",
     "output_type": "stream",
     "text": [
      "\r",
      " 45%|████▍     | 106/238 [06:13<08:54,  4.05s/it]"
     ]
    },
    {
     "name": "stdout",
     "output_type": "stream",
     "text": [
      "messed up; trying again\n",
      "messed up; trying again\n"
     ]
    },
    {
     "name": "stderr",
     "output_type": "stream",
     "text": [
      "\r",
      " 45%|████▍     | 107/238 [06:16<08:07,  3.72s/it]"
     ]
    },
    {
     "name": "stdout",
     "output_type": "stream",
     "text": [
      "messed up; trying again\n",
      "messed up; trying again\n",
      "messed up; trying again\n"
     ]
    },
    {
     "name": "stderr",
     "output_type": "stream",
     "text": [
      "\r",
      " 45%|████▌     | 108/238 [06:20<08:17,  3.83s/it]"
     ]
    },
    {
     "name": "stdout",
     "output_type": "stream",
     "text": [
      "messed up; trying again\n",
      "messed up; trying again\n",
      "messed up; trying again\n"
     ]
    },
    {
     "name": "stderr",
     "output_type": "stream",
     "text": [
      "\r",
      " 46%|████▌     | 109/238 [06:24<08:46,  4.08s/it]"
     ]
    },
    {
     "name": "stdout",
     "output_type": "stream",
     "text": [
      "messed up; trying again\n",
      "messed up; trying again\n"
     ]
    },
    {
     "name": "stderr",
     "output_type": "stream",
     "text": [
      "\r",
      " 46%|████▌     | 110/238 [06:27<08:00,  3.76s/it]"
     ]
    },
    {
     "name": "stdout",
     "output_type": "stream",
     "text": [
      "messed up; trying again\n",
      "messed up; trying again\n",
      "messed up; trying again\n"
     ]
    },
    {
     "name": "stderr",
     "output_type": "stream",
     "text": [
      "\r",
      " 47%|████▋     | 111/238 [06:31<08:12,  3.88s/it]"
     ]
    },
    {
     "name": "stdout",
     "output_type": "stream",
     "text": [
      "messed up; trying again\n",
      "messed up; trying again\n",
      "messed up; trying again\n"
     ]
    },
    {
     "name": "stderr",
     "output_type": "stream",
     "text": [
      "\r",
      " 47%|████▋     | 112/238 [06:36<08:21,  3.98s/it]"
     ]
    },
    {
     "name": "stdout",
     "output_type": "stream",
     "text": [
      "messed up; trying again\n",
      "messed up; trying again\n"
     ]
    },
    {
     "name": "stderr",
     "output_type": "stream",
     "text": [
      "\r",
      " 47%|████▋     | 113/238 [06:39<07:47,  3.74s/it]"
     ]
    },
    {
     "name": "stdout",
     "output_type": "stream",
     "text": [
      "messed up; trying again\n",
      "messed up; trying again\n",
      "messed up; trying again\n"
     ]
    },
    {
     "name": "stderr",
     "output_type": "stream",
     "text": [
      "\r",
      " 48%|████▊     | 114/238 [06:43<07:58,  3.86s/it]"
     ]
    },
    {
     "name": "stdout",
     "output_type": "stream",
     "text": [
      "messed up; trying again\n",
      "messed up; trying again\n",
      "messed up; trying again\n",
      "messed up; trying again\n"
     ]
    },
    {
     "name": "stderr",
     "output_type": "stream",
     "text": [
      "\r",
      " 48%|████▊     | 115/238 [06:48<08:48,  4.30s/it]"
     ]
    },
    {
     "name": "stdout",
     "output_type": "stream",
     "text": [
      "messed up; trying again\n",
      "messed up; trying again\n"
     ]
    },
    {
     "name": "stderr",
     "output_type": "stream",
     "text": [
      "\r",
      " 49%|████▊     | 116/238 [06:53<08:49,  4.34s/it]"
     ]
    },
    {
     "name": "stdout",
     "output_type": "stream",
     "text": [
      "messed up; trying again\n",
      "messed up; trying again\n"
     ]
    },
    {
     "name": "stderr",
     "output_type": "stream",
     "text": [
      "\r",
      " 49%|████▉     | 117/238 [06:56<08:04,  4.01s/it]"
     ]
    },
    {
     "name": "stdout",
     "output_type": "stream",
     "text": [
      "messed up; trying again\n",
      "messed up; trying again\n",
      "messed up; trying again\n"
     ]
    },
    {
     "name": "stderr",
     "output_type": "stream",
     "text": [
      "\r",
      " 50%|████▉     | 118/238 [07:01<08:19,  4.16s/it]"
     ]
    },
    {
     "name": "stdout",
     "output_type": "stream",
     "text": [
      "messed up; trying again\n",
      "messed up; trying again\n",
      "messed up; trying again\n"
     ]
    },
    {
     "name": "stderr",
     "output_type": "stream",
     "text": [
      "\r",
      " 50%|█████     | 119/238 [07:05<08:11,  4.13s/it]"
     ]
    },
    {
     "name": "stdout",
     "output_type": "stream",
     "text": [
      "messed up; trying again\n",
      "messed up; trying again\n",
      "messed up; trying again\n"
     ]
    },
    {
     "name": "stderr",
     "output_type": "stream",
     "text": [
      "\r",
      " 50%|█████     | 120/238 [07:09<08:08,  4.14s/it]"
     ]
    },
    {
     "name": "stdout",
     "output_type": "stream",
     "text": [
      "messed up; trying again\n",
      "messed up; trying again\n",
      "messed up; trying again\n"
     ]
    },
    {
     "name": "stderr",
     "output_type": "stream",
     "text": [
      "\r",
      " 51%|█████     | 121/238 [07:13<07:59,  4.10s/it]"
     ]
    },
    {
     "name": "stdout",
     "output_type": "stream",
     "text": [
      "messed up; trying again\n",
      "messed up; trying again\n",
      "messed up; trying again\n",
      "messed up; trying again\n"
     ]
    },
    {
     "name": "stderr",
     "output_type": "stream",
     "text": [
      "\r",
      " 51%|█████▏    | 122/238 [07:18<08:42,  4.51s/it]"
     ]
    },
    {
     "name": "stdout",
     "output_type": "stream",
     "text": [
      "messed up; trying again\n",
      "messed up; trying again\n",
      "messed up; trying again\n"
     ]
    },
    {
     "name": "stderr",
     "output_type": "stream",
     "text": [
      "\r",
      " 52%|█████▏    | 123/238 [07:22<08:20,  4.36s/it]"
     ]
    },
    {
     "name": "stdout",
     "output_type": "stream",
     "text": [
      "messed up; trying again\n",
      "messed up; trying again\n",
      "messed up; trying again\n"
     ]
    },
    {
     "name": "stderr",
     "output_type": "stream",
     "text": [
      "\r",
      " 52%|█████▏    | 124/238 [07:26<08:06,  4.27s/it]"
     ]
    },
    {
     "name": "stdout",
     "output_type": "stream",
     "text": [
      "messed up; trying again\n",
      "messed up; trying again\n",
      "messed up; trying again\n"
     ]
    },
    {
     "name": "stderr",
     "output_type": "stream",
     "text": [
      "\r",
      " 53%|█████▎    | 125/238 [07:30<07:56,  4.21s/it]"
     ]
    },
    {
     "name": "stdout",
     "output_type": "stream",
     "text": [
      "messed up; trying again\n",
      "messed up; trying again\n",
      "messed up; trying again\n"
     ]
    },
    {
     "name": "stderr",
     "output_type": "stream",
     "text": [
      "\r",
      " 53%|█████▎    | 126/238 [07:35<07:50,  4.20s/it]"
     ]
    },
    {
     "name": "stdout",
     "output_type": "stream",
     "text": [
      "messed up; trying again\n",
      "messed up; trying again\n",
      "messed up; trying again\n",
      "messed up; trying again\n",
      "messed up; trying again\n"
     ]
    },
    {
     "name": "stderr",
     "output_type": "stream",
     "text": [
      "\r",
      " 53%|█████▎    | 127/238 [07:41<09:04,  4.91s/it]"
     ]
    },
    {
     "name": "stdout",
     "output_type": "stream",
     "text": [
      "messed up; trying again\n",
      "messed up; trying again\n",
      "messed up; trying again\n",
      "messed up; trying again\n"
     ]
    },
    {
     "name": "stderr",
     "output_type": "stream",
     "text": [
      "\r",
      " 54%|█████▍    | 128/238 [07:47<09:35,  5.23s/it]"
     ]
    },
    {
     "name": "stdout",
     "output_type": "stream",
     "text": [
      "messed up; trying again\n"
     ]
    },
    {
     "name": "stderr",
     "output_type": "stream",
     "text": [
      "\r",
      " 54%|█████▍    | 129/238 [07:49<07:39,  4.21s/it]"
     ]
    },
    {
     "name": "stdout",
     "output_type": "stream",
     "text": [
      "messed up; trying again\n",
      "messed up; trying again\n",
      "messed up; trying again\n"
     ]
    },
    {
     "name": "stderr",
     "output_type": "stream",
     "text": [
      "\r",
      " 55%|█████▍    | 130/238 [07:53<07:26,  4.14s/it]"
     ]
    },
    {
     "name": "stdout",
     "output_type": "stream",
     "text": [
      "messed up; trying again\n",
      "messed up; trying again\n",
      "messed up; trying again\n"
     ]
    },
    {
     "name": "stderr",
     "output_type": "stream",
     "text": [
      "\r",
      " 55%|█████▌    | 131/238 [07:57<07:24,  4.15s/it]"
     ]
    },
    {
     "name": "stdout",
     "output_type": "stream",
     "text": [
      "messed up; trying again\n",
      "messed up; trying again\n"
     ]
    },
    {
     "name": "stderr",
     "output_type": "stream",
     "text": [
      "\r",
      " 55%|█████▌    | 132/238 [08:00<06:48,  3.85s/it]"
     ]
    },
    {
     "name": "stdout",
     "output_type": "stream",
     "text": [
      "messed up; trying again\n",
      "messed up; trying again\n",
      "messed up; trying again\n",
      "messed up; trying again\n"
     ]
    },
    {
     "name": "stderr",
     "output_type": "stream",
     "text": [
      "\r",
      " 56%|█████▌    | 133/238 [08:07<08:18,  4.75s/it]"
     ]
    },
    {
     "name": "stdout",
     "output_type": "stream",
     "text": [
      "messed up; trying again\n"
     ]
    },
    {
     "name": "stderr",
     "output_type": "stream",
     "text": [
      "\r",
      " 56%|█████▋    | 134/238 [08:09<06:54,  3.99s/it]"
     ]
    },
    {
     "name": "stdout",
     "output_type": "stream",
     "text": [
      "messed up; trying again\n",
      "messed up; trying again\n",
      "messed up; trying again\n"
     ]
    },
    {
     "name": "stderr",
     "output_type": "stream",
     "text": [
      "\r",
      " 57%|█████▋    | 135/238 [08:13<06:53,  4.02s/it]"
     ]
    },
    {
     "name": "stdout",
     "output_type": "stream",
     "text": [
      "messed up; trying again\n",
      "messed up; trying again\n"
     ]
    },
    {
     "name": "stderr",
     "output_type": "stream",
     "text": [
      "\r",
      " 57%|█████▋    | 136/238 [08:16<06:21,  3.74s/it]"
     ]
    },
    {
     "name": "stdout",
     "output_type": "stream",
     "text": [
      "messed up; trying again\n",
      "messed up; trying again\n"
     ]
    },
    {
     "name": "stderr",
     "output_type": "stream",
     "text": [
      "\r",
      " 58%|█████▊    | 137/238 [08:19<05:56,  3.53s/it]"
     ]
    },
    {
     "name": "stdout",
     "output_type": "stream",
     "text": [
      "messed up; trying again\n",
      "messed up; trying again\n",
      "messed up; trying again\n",
      "messed up; trying again\n",
      "messed up; trying again\n",
      "messed up; trying again\n"
     ]
    },
    {
     "name": "stderr",
     "output_type": "stream",
     "text": [
      "\r",
      " 58%|█████▊    | 138/238 [08:28<08:17,  4.98s/it]"
     ]
    },
    {
     "name": "stdout",
     "output_type": "stream",
     "text": [
      "messed up; trying again\n",
      "messed up; trying again\n"
     ]
    },
    {
     "name": "stderr",
     "output_type": "stream",
     "text": [
      "\r",
      " 58%|█████▊    | 139/238 [08:31<07:20,  4.45s/it]"
     ]
    },
    {
     "name": "stdout",
     "output_type": "stream",
     "text": [
      "messed up; trying again\n",
      "messed up; trying again\n"
     ]
    },
    {
     "name": "stderr",
     "output_type": "stream",
     "text": [
      "\r",
      " 59%|█████▉    | 140/238 [08:34<06:36,  4.05s/it]"
     ]
    },
    {
     "name": "stdout",
     "output_type": "stream",
     "text": [
      "messed up; trying again\n",
      "messed up; trying again\n"
     ]
    },
    {
     "name": "stderr",
     "output_type": "stream",
     "text": [
      "\r",
      " 59%|█████▉    | 141/238 [08:37<06:06,  3.77s/it]"
     ]
    },
    {
     "name": "stdout",
     "output_type": "stream",
     "text": [
      "messed up; trying again\n",
      "messed up; trying again\n"
     ]
    },
    {
     "name": "stderr",
     "output_type": "stream",
     "text": [
      "\r",
      " 60%|█████▉    | 142/238 [08:40<05:38,  3.53s/it]"
     ]
    },
    {
     "name": "stdout",
     "output_type": "stream",
     "text": [
      "messed up; trying again\n",
      "messed up; trying again\n",
      "messed up; trying again\n"
     ]
    },
    {
     "name": "stderr",
     "output_type": "stream",
     "text": [
      "\r",
      " 60%|██████    | 143/238 [08:44<05:50,  3.69s/it]"
     ]
    },
    {
     "name": "stdout",
     "output_type": "stream",
     "text": [
      "messed up; trying again\n",
      "messed up; trying again\n",
      "messed up; trying again\n"
     ]
    },
    {
     "name": "stderr",
     "output_type": "stream",
     "text": [
      "\r",
      " 61%|██████    | 144/238 [08:48<05:58,  3.81s/it]"
     ]
    },
    {
     "name": "stdout",
     "output_type": "stream",
     "text": [
      "messed up; trying again\n"
     ]
    },
    {
     "name": "stderr",
     "output_type": "stream",
     "text": [
      "\r",
      " 61%|██████    | 145/238 [08:50<05:00,  3.23s/it]"
     ]
    },
    {
     "name": "stdout",
     "output_type": "stream",
     "text": [
      "messed up; trying again\n",
      "messed up; trying again\n",
      "messed up; trying again\n"
     ]
    },
    {
     "name": "stderr",
     "output_type": "stream",
     "text": [
      "\r",
      " 61%|██████▏   | 146/238 [08:54<05:21,  3.49s/it]"
     ]
    },
    {
     "name": "stdout",
     "output_type": "stream",
     "text": [
      "messed up; trying again\n",
      "messed up; trying again\n"
     ]
    },
    {
     "name": "stderr",
     "output_type": "stream",
     "text": [
      "\r",
      " 62%|██████▏   | 147/238 [08:58<05:12,  3.43s/it]"
     ]
    },
    {
     "name": "stdout",
     "output_type": "stream",
     "text": [
      "messed up; trying again\n",
      "messed up; trying again\n"
     ]
    },
    {
     "name": "stderr",
     "output_type": "stream",
     "text": [
      "\r",
      " 62%|██████▏   | 148/238 [09:01<05:18,  3.54s/it]"
     ]
    },
    {
     "name": "stdout",
     "output_type": "stream",
     "text": [
      "messed up; trying again\n",
      "messed up; trying again\n"
     ]
    },
    {
     "name": "stderr",
     "output_type": "stream",
     "text": [
      "\r",
      " 63%|██████▎   | 149/238 [09:06<05:47,  3.91s/it]"
     ]
    },
    {
     "name": "stdout",
     "output_type": "stream",
     "text": [
      "messed up; trying again\n"
     ]
    },
    {
     "name": "stderr",
     "output_type": "stream",
     "text": [
      "\r",
      " 63%|██████▎   | 150/238 [09:08<04:53,  3.33s/it]"
     ]
    },
    {
     "name": "stdout",
     "output_type": "stream",
     "text": [
      "messed up; trying again\n",
      "messed up; trying again\n"
     ]
    },
    {
     "name": "stderr",
     "output_type": "stream",
     "text": [
      "\r",
      " 63%|██████▎   | 151/238 [09:11<04:44,  3.27s/it]"
     ]
    },
    {
     "name": "stdout",
     "output_type": "stream",
     "text": [
      "messed up; trying again\n",
      "messed up; trying again\n",
      "messed up; trying again\n"
     ]
    },
    {
     "name": "stderr",
     "output_type": "stream",
     "text": [
      "\r",
      " 64%|██████▍   | 152/238 [09:16<05:09,  3.60s/it]"
     ]
    },
    {
     "name": "stdout",
     "output_type": "stream",
     "text": [
      "messed up; trying again\n",
      "messed up; trying again\n",
      "messed up; trying again\n"
     ]
    },
    {
     "name": "stderr",
     "output_type": "stream",
     "text": [
      "\r",
      " 64%|██████▍   | 153/238 [09:20<05:20,  3.77s/it]"
     ]
    },
    {
     "name": "stdout",
     "output_type": "stream",
     "text": [
      "messed up; trying again\n",
      "messed up; trying again\n",
      "messed up; trying again\n"
     ]
    },
    {
     "name": "stderr",
     "output_type": "stream",
     "text": [
      "\r",
      " 65%|██████▍   | 154/238 [09:24<05:31,  3.95s/it]"
     ]
    },
    {
     "name": "stdout",
     "output_type": "stream",
     "text": [
      "messed up; trying again\n",
      "messed up; trying again\n",
      "messed up; trying again\n",
      "messed up; trying again\n",
      "messed up; trying again\n",
      "messed up; trying again\n"
     ]
    },
    {
     "name": "stderr",
     "output_type": "stream",
     "text": [
      "\r",
      " 65%|██████▌   | 155/238 [09:32<06:59,  5.06s/it]"
     ]
    },
    {
     "name": "stdout",
     "output_type": "stream",
     "text": [
      "messed up; trying again\n",
      "messed up; trying again\n",
      "messed up; trying again\n"
     ]
    },
    {
     "name": "stderr",
     "output_type": "stream",
     "text": [
      "\r",
      " 66%|██████▌   | 156/238 [09:37<07:00,  5.13s/it]"
     ]
    },
    {
     "name": "stdout",
     "output_type": "stream",
     "text": [
      "messed up; trying again\n"
     ]
    },
    {
     "name": "stderr",
     "output_type": "stream",
     "text": [
      "\r",
      " 66%|██████▌   | 157/238 [09:39<05:40,  4.21s/it]"
     ]
    },
    {
     "name": "stdout",
     "output_type": "stream",
     "text": [
      "messed up; trying again\n",
      "messed up; trying again\n",
      "messed up; trying again\n"
     ]
    },
    {
     "name": "stderr",
     "output_type": "stream",
     "text": [
      "\r",
      " 66%|██████▋   | 158/238 [09:43<05:32,  4.16s/it]"
     ]
    },
    {
     "name": "stdout",
     "output_type": "stream",
     "text": [
      "messed up; trying again\n"
     ]
    },
    {
     "name": "stderr",
     "output_type": "stream",
     "text": [
      "\r",
      " 67%|██████▋   | 159/238 [09:45<04:36,  3.50s/it]"
     ]
    },
    {
     "name": "stdout",
     "output_type": "stream",
     "text": [
      "messed up; trying again\n",
      "messed up; trying again\n",
      "messed up; trying again\n",
      "messed up; trying again\n",
      "messed up; trying again\n"
     ]
    },
    {
     "name": "stderr",
     "output_type": "stream",
     "text": [
      "\r",
      " 67%|██████▋   | 160/238 [09:52<05:47,  4.46s/it]"
     ]
    },
    {
     "name": "stdout",
     "output_type": "stream",
     "text": [
      "messed up; trying again\n",
      "messed up; trying again\n"
     ]
    },
    {
     "name": "stderr",
     "output_type": "stream",
     "text": [
      "\r",
      " 68%|██████▊   | 161/238 [09:55<05:10,  4.03s/it]"
     ]
    },
    {
     "name": "stdout",
     "output_type": "stream",
     "text": [
      "messed up; trying again\n",
      "messed up; trying again\n"
     ]
    },
    {
     "name": "stderr",
     "output_type": "stream",
     "text": [
      "\r",
      " 68%|██████▊   | 162/238 [09:58<04:50,  3.82s/it]"
     ]
    },
    {
     "name": "stdout",
     "output_type": "stream",
     "text": [
      "messed up; trying again\n",
      "messed up; trying again\n"
     ]
    },
    {
     "name": "stderr",
     "output_type": "stream",
     "text": [
      "\r",
      " 68%|██████▊   | 163/238 [10:01<04:27,  3.57s/it]"
     ]
    },
    {
     "name": "stdout",
     "output_type": "stream",
     "text": [
      "messed up; trying again\n",
      "messed up; trying again\n",
      "messed up; trying again\n",
      "messed up; trying again\n",
      "messed up; trying again\n"
     ]
    },
    {
     "name": "stderr",
     "output_type": "stream",
     "text": [
      "\r",
      " 69%|██████▉   | 164/238 [10:08<05:29,  4.45s/it]"
     ]
    },
    {
     "name": "stdout",
     "output_type": "stream",
     "text": [
      "messed up; trying again\n",
      "messed up; trying again\n"
     ]
    },
    {
     "name": "stderr",
     "output_type": "stream",
     "text": [
      "\r",
      " 69%|██████▉   | 165/238 [10:11<04:56,  4.06s/it]"
     ]
    },
    {
     "name": "stdout",
     "output_type": "stream",
     "text": [
      "messed up; trying again\n",
      "messed up; trying again\n",
      "messed up; trying again\n",
      "messed up; trying again\n",
      "messed up; trying again\n",
      "messed up; trying again\n",
      "messed up; trying again\n"
     ]
    },
    {
     "name": "stderr",
     "output_type": "stream",
     "text": [
      "\r",
      " 70%|██████▉   | 166/238 [10:20<06:29,  5.40s/it]"
     ]
    },
    {
     "name": "stdout",
     "output_type": "stream",
     "text": [
      "messed up; trying again\n",
      "messed up; trying again\n",
      "messed up; trying again\n"
     ]
    },
    {
     "name": "stderr",
     "output_type": "stream",
     "text": [
      "\r",
      " 70%|███████   | 167/238 [10:24<06:00,  5.08s/it]"
     ]
    },
    {
     "name": "stdout",
     "output_type": "stream",
     "text": [
      "messed up; trying again\n",
      "messed up; trying again\n",
      "messed up; trying again\n"
     ]
    },
    {
     "name": "stderr",
     "output_type": "stream",
     "text": [
      "\r",
      " 71%|███████   | 168/238 [10:28<05:34,  4.78s/it]"
     ]
    },
    {
     "name": "stdout",
     "output_type": "stream",
     "text": [
      "messed up; trying again\n",
      "messed up; trying again\n",
      "messed up; trying again\n",
      "messed up; trying again\n"
     ]
    },
    {
     "name": "stderr",
     "output_type": "stream",
     "text": [
      "\r",
      " 71%|███████   | 169/238 [10:33<05:42,  4.96s/it]"
     ]
    },
    {
     "name": "stdout",
     "output_type": "stream",
     "text": [
      "messed up; trying again\n",
      "messed up; trying again\n",
      "messed up; trying again\n",
      "messed up; trying again\n"
     ]
    },
    {
     "name": "stderr",
     "output_type": "stream",
     "text": [
      "\r",
      " 71%|███████▏  | 170/238 [10:39<05:43,  5.04s/it]"
     ]
    },
    {
     "name": "stdout",
     "output_type": "stream",
     "text": [
      "messed up; trying again\n",
      "messed up; trying again\n"
     ]
    },
    {
     "name": "stderr",
     "output_type": "stream",
     "text": [
      "\r",
      " 72%|███████▏  | 171/238 [10:42<04:59,  4.47s/it]"
     ]
    },
    {
     "name": "stdout",
     "output_type": "stream",
     "text": [
      "messed up; trying again\n"
     ]
    },
    {
     "name": "stderr",
     "output_type": "stream",
     "text": [
      "\r",
      " 72%|███████▏  | 172/238 [10:43<04:02,  3.67s/it]"
     ]
    },
    {
     "name": "stdout",
     "output_type": "stream",
     "text": [
      "messed up; trying again\n",
      "messed up; trying again\n"
     ]
    },
    {
     "name": "stderr",
     "output_type": "stream",
     "text": [
      "\r",
      " 73%|███████▎  | 173/238 [10:46<03:43,  3.43s/it]"
     ]
    },
    {
     "name": "stdout",
     "output_type": "stream",
     "text": [
      "messed up; trying again\n",
      "messed up; trying again\n",
      "messed up; trying again\n"
     ]
    },
    {
     "name": "stderr",
     "output_type": "stream",
     "text": [
      "\r",
      " 73%|███████▎  | 174/238 [10:51<04:03,  3.81s/it]"
     ]
    },
    {
     "name": "stdout",
     "output_type": "stream",
     "text": [
      "messed up; trying again\n",
      "messed up; trying again\n"
     ]
    },
    {
     "name": "stderr",
     "output_type": "stream",
     "text": [
      "\r",
      " 74%|███████▎  | 175/238 [10:54<03:46,  3.60s/it]"
     ]
    },
    {
     "name": "stdout",
     "output_type": "stream",
     "text": [
      "messed up; trying again\n",
      "messed up; trying again\n"
     ]
    },
    {
     "name": "stderr",
     "output_type": "stream",
     "text": [
      "\r",
      " 74%|███████▍  | 176/238 [10:57<03:38,  3.52s/it]"
     ]
    },
    {
     "name": "stdout",
     "output_type": "stream",
     "text": [
      "messed up; trying again\n",
      "messed up; trying again\n",
      "messed up; trying again\n",
      "messed up; trying again\n"
     ]
    },
    {
     "name": "stderr",
     "output_type": "stream",
     "text": [
      "\r",
      " 74%|███████▍  | 177/238 [11:03<04:08,  4.07s/it]"
     ]
    },
    {
     "name": "stdout",
     "output_type": "stream",
     "text": [
      "messed up; trying again\n",
      "messed up; trying again\n",
      "messed up; trying again\n"
     ]
    },
    {
     "name": "stderr",
     "output_type": "stream",
     "text": [
      "\r",
      " 75%|███████▍  | 178/238 [11:07<04:08,  4.14s/it]"
     ]
    },
    {
     "name": "stdout",
     "output_type": "stream",
     "text": [
      "messed up; trying again\n",
      "messed up; trying again\n"
     ]
    },
    {
     "name": "stderr",
     "output_type": "stream",
     "text": [
      "\r",
      " 75%|███████▌  | 179/238 [11:10<03:44,  3.80s/it]"
     ]
    },
    {
     "name": "stdout",
     "output_type": "stream",
     "text": [
      "messed up; trying again\n",
      "messed up; trying again\n",
      "messed up; trying again\n"
     ]
    },
    {
     "name": "stderr",
     "output_type": "stream",
     "text": [
      "\r",
      " 76%|███████▌  | 180/238 [11:15<03:51,  4.00s/it]"
     ]
    },
    {
     "name": "stdout",
     "output_type": "stream",
     "text": [
      "messed up; trying again\n",
      "messed up; trying again\n"
     ]
    },
    {
     "name": "stderr",
     "output_type": "stream",
     "text": [
      "\r",
      " 76%|███████▌  | 181/238 [11:18<03:30,  3.70s/it]"
     ]
    },
    {
     "name": "stdout",
     "output_type": "stream",
     "text": [
      "messed up; trying again\n",
      "messed up; trying again\n",
      "messed up; trying again\n",
      "messed up; trying again\n",
      "messed up; trying again\n"
     ]
    },
    {
     "name": "stderr",
     "output_type": "stream",
     "text": [
      "\r",
      " 76%|███████▋  | 182/238 [11:24<04:14,  4.54s/it]"
     ]
    },
    {
     "name": "stdout",
     "output_type": "stream",
     "text": [
      "messed up; trying again\n",
      "messed up; trying again\n"
     ]
    },
    {
     "name": "stderr",
     "output_type": "stream",
     "text": [
      "\r",
      " 77%|███████▋  | 183/238 [11:27<03:50,  4.19s/it]"
     ]
    },
    {
     "name": "stdout",
     "output_type": "stream",
     "text": [
      "messed up; trying again\n",
      "messed up; trying again\n"
     ]
    },
    {
     "name": "stderr",
     "output_type": "stream",
     "text": [
      "\r",
      " 77%|███████▋  | 184/238 [11:30<03:25,  3.80s/it]"
     ]
    },
    {
     "name": "stdout",
     "output_type": "stream",
     "text": [
      "messed up; trying again\n",
      "messed up; trying again\n",
      "messed up; trying again\n"
     ]
    },
    {
     "name": "stderr",
     "output_type": "stream",
     "text": [
      "\r",
      " 78%|███████▊  | 185/238 [11:35<03:28,  3.93s/it]"
     ]
    },
    {
     "name": "stdout",
     "output_type": "stream",
     "text": [
      "messed up; trying again\n",
      "messed up; trying again\n",
      "messed up; trying again\n"
     ]
    },
    {
     "name": "stderr",
     "output_type": "stream",
     "text": [
      "\r",
      " 78%|███████▊  | 186/238 [11:39<03:28,  4.01s/it]"
     ]
    },
    {
     "name": "stdout",
     "output_type": "stream",
     "text": [
      "messed up; trying again\n",
      "messed up; trying again\n",
      "messed up; trying again\n",
      "messed up; trying again\n"
     ]
    },
    {
     "name": "stderr",
     "output_type": "stream",
     "text": [
      "\r",
      " 79%|███████▊  | 187/238 [11:45<03:52,  4.56s/it]"
     ]
    },
    {
     "name": "stdout",
     "output_type": "stream",
     "text": [
      "messed up; trying again\n",
      "messed up; trying again\n",
      "messed up; trying again\n"
     ]
    },
    {
     "name": "stderr",
     "output_type": "stream",
     "text": [
      "\r",
      " 79%|███████▉  | 188/238 [11:49<03:41,  4.42s/it]"
     ]
    },
    {
     "name": "stdout",
     "output_type": "stream",
     "text": [
      "messed up; trying again\n",
      "messed up; trying again\n",
      "messed up; trying again\n"
     ]
    },
    {
     "name": "stderr",
     "output_type": "stream",
     "text": [
      "\r",
      " 79%|███████▉  | 189/238 [11:53<03:32,  4.34s/it]"
     ]
    },
    {
     "name": "stdout",
     "output_type": "stream",
     "text": [
      "messed up; trying again\n",
      "messed up; trying again\n"
     ]
    },
    {
     "name": "stderr",
     "output_type": "stream",
     "text": [
      "\r",
      " 80%|███████▉  | 190/238 [11:56<03:09,  3.95s/it]"
     ]
    },
    {
     "name": "stdout",
     "output_type": "stream",
     "text": [
      "messed up; trying again\n",
      "messed up; trying again\n"
     ]
    },
    {
     "name": "stderr",
     "output_type": "stream",
     "text": [
      "\r",
      " 80%|████████  | 191/238 [11:59<02:56,  3.75s/it]"
     ]
    },
    {
     "name": "stdout",
     "output_type": "stream",
     "text": [
      "messed up; trying again\n",
      "messed up; trying again\n"
     ]
    },
    {
     "name": "stderr",
     "output_type": "stream",
     "text": [
      "\r",
      " 81%|████████  | 192/238 [12:02<02:42,  3.53s/it]"
     ]
    },
    {
     "name": "stdout",
     "output_type": "stream",
     "text": [
      "messed up; trying again\n",
      "messed up; trying again\n",
      "messed up; trying again\n"
     ]
    },
    {
     "name": "stderr",
     "output_type": "stream",
     "text": [
      "\r",
      " 81%|████████  | 193/238 [12:07<02:49,  3.78s/it]"
     ]
    },
    {
     "name": "stdout",
     "output_type": "stream",
     "text": [
      "messed up; trying again\n",
      "messed up; trying again\n"
     ]
    },
    {
     "name": "stderr",
     "output_type": "stream",
     "text": [
      "\r",
      " 82%|████████▏ | 194/238 [12:10<02:35,  3.52s/it]"
     ]
    },
    {
     "name": "stdout",
     "output_type": "stream",
     "text": [
      "messed up; trying again\n",
      "messed up; trying again\n",
      "messed up; trying again\n",
      "messed up; trying again\n",
      "messed up; trying again\n",
      "messed up; trying again\n"
     ]
    },
    {
     "name": "stderr",
     "output_type": "stream",
     "text": [
      "\r",
      " 82%|████████▏ | 195/238 [12:17<03:24,  4.75s/it]"
     ]
    },
    {
     "name": "stdout",
     "output_type": "stream",
     "text": [
      "messed up; trying again\n",
      "messed up; trying again\n"
     ]
    },
    {
     "name": "stderr",
     "output_type": "stream",
     "text": [
      "\r",
      " 82%|████████▏ | 196/238 [12:20<02:58,  4.26s/it]"
     ]
    },
    {
     "name": "stdout",
     "output_type": "stream",
     "text": [
      "messed up; trying again\n",
      "messed up; trying again\n"
     ]
    },
    {
     "name": "stderr",
     "output_type": "stream",
     "text": [
      "\r",
      " 83%|████████▎ | 197/238 [12:23<02:39,  3.88s/it]"
     ]
    },
    {
     "name": "stdout",
     "output_type": "stream",
     "text": [
      "messed up; trying again\n",
      "messed up; trying again\n"
     ]
    },
    {
     "name": "stderr",
     "output_type": "stream",
     "text": [
      "\r",
      " 83%|████████▎ | 198/238 [12:26<02:25,  3.64s/it]"
     ]
    },
    {
     "name": "stdout",
     "output_type": "stream",
     "text": [
      "messed up; trying again\n",
      "messed up; trying again\n"
     ]
    },
    {
     "name": "stderr",
     "output_type": "stream",
     "text": [
      "\r",
      " 84%|████████▎ | 199/238 [12:29<02:14,  3.45s/it]"
     ]
    },
    {
     "name": "stdout",
     "output_type": "stream",
     "text": [
      "messed up; trying again\n",
      "messed up; trying again\n",
      "messed up; trying again\n"
     ]
    },
    {
     "name": "stderr",
     "output_type": "stream",
     "text": [
      "\r",
      " 84%|████████▍ | 200/238 [12:34<02:20,  3.70s/it]"
     ]
    },
    {
     "name": "stdout",
     "output_type": "stream",
     "text": [
      "messed up; trying again\n",
      "messed up; trying again\n",
      "messed up; trying again\n"
     ]
    },
    {
     "name": "stderr",
     "output_type": "stream",
     "text": [
      "\r",
      " 84%|████████▍ | 201/238 [12:38<02:25,  3.94s/it]"
     ]
    },
    {
     "name": "stdout",
     "output_type": "stream",
     "text": [
      "messed up; trying again\n",
      "messed up; trying again\n"
     ]
    },
    {
     "name": "stderr",
     "output_type": "stream",
     "text": [
      "\r",
      " 85%|████████▍ | 202/238 [12:41<02:13,  3.70s/it]"
     ]
    },
    {
     "name": "stdout",
     "output_type": "stream",
     "text": [
      "messed up; trying again\n",
      "messed up; trying again\n",
      "messed up; trying again\n",
      "messed up; trying again\n"
     ]
    },
    {
     "name": "stderr",
     "output_type": "stream",
     "text": [
      "\r",
      " 85%|████████▌ | 203/238 [12:47<02:30,  4.29s/it]"
     ]
    },
    {
     "name": "stdout",
     "output_type": "stream",
     "text": [
      "messed up; trying again\n",
      "messed up; trying again\n"
     ]
    },
    {
     "name": "stderr",
     "output_type": "stream",
     "text": [
      "\r",
      " 86%|████████▌ | 204/238 [12:50<02:15,  3.99s/it]"
     ]
    },
    {
     "name": "stdout",
     "output_type": "stream",
     "text": [
      "messed up; trying again\n",
      "messed up; trying again\n",
      "messed up; trying again\n",
      "messed up; trying again\n",
      "messed up; trying again\n"
     ]
    },
    {
     "name": "stderr",
     "output_type": "stream",
     "text": [
      "\r",
      " 86%|████████▌ | 205/238 [12:57<02:37,  4.78s/it]"
     ]
    },
    {
     "name": "stdout",
     "output_type": "stream",
     "text": [
      "messed up; trying again\n",
      "messed up; trying again\n",
      "messed up; trying again\n"
     ]
    },
    {
     "name": "stderr",
     "output_type": "stream",
     "text": [
      "\r",
      " 87%|████████▋ | 206/238 [13:02<02:34,  4.82s/it]"
     ]
    },
    {
     "name": "stdout",
     "output_type": "stream",
     "text": [
      "messed up; trying again\n",
      "messed up; trying again\n"
     ]
    },
    {
     "name": "stderr",
     "output_type": "stream",
     "text": [
      "\r",
      " 87%|████████▋ | 207/238 [13:05<02:12,  4.28s/it]"
     ]
    },
    {
     "name": "stdout",
     "output_type": "stream",
     "text": [
      "messed up; trying again\n",
      "messed up; trying again\n"
     ]
    },
    {
     "name": "stderr",
     "output_type": "stream",
     "text": [
      "\r",
      " 87%|████████▋ | 208/238 [13:08<02:03,  4.10s/it]"
     ]
    },
    {
     "name": "stdout",
     "output_type": "stream",
     "text": [
      "messed up; trying again\n",
      "messed up; trying again\n",
      "messed up; trying again\n"
     ]
    },
    {
     "name": "stderr",
     "output_type": "stream",
     "text": [
      "\r",
      " 88%|████████▊ | 209/238 [13:13<02:00,  4.14s/it]"
     ]
    },
    {
     "name": "stdout",
     "output_type": "stream",
     "text": [
      "messed up; trying again\n",
      "messed up; trying again\n",
      "messed up; trying again\n"
     ]
    },
    {
     "name": "stderr",
     "output_type": "stream",
     "text": [
      "\r",
      " 88%|████████▊ | 210/238 [13:17<01:55,  4.13s/it]"
     ]
    },
    {
     "name": "stdout",
     "output_type": "stream",
     "text": [
      "messed up; trying again\n",
      "messed up; trying again\n",
      "messed up; trying again\n"
     ]
    },
    {
     "name": "stderr",
     "output_type": "stream",
     "text": [
      "\r",
      " 89%|████████▊ | 211/238 [13:21<01:51,  4.11s/it]"
     ]
    },
    {
     "name": "stdout",
     "output_type": "stream",
     "text": [
      "messed up; trying again\n",
      "messed up; trying again\n"
     ]
    },
    {
     "name": "stderr",
     "output_type": "stream",
     "text": [
      "\r",
      " 89%|████████▉ | 212/238 [13:25<01:45,  4.07s/it]"
     ]
    },
    {
     "name": "stdout",
     "output_type": "stream",
     "text": [
      "messed up; trying again\n"
     ]
    },
    {
     "name": "stderr",
     "output_type": "stream",
     "text": [
      "\r",
      " 89%|████████▉ | 213/238 [13:28<01:31,  3.66s/it]"
     ]
    },
    {
     "name": "stdout",
     "output_type": "stream",
     "text": [
      "messed up; trying again\n",
      "messed up; trying again\n"
     ]
    },
    {
     "name": "stderr",
     "output_type": "stream",
     "text": [
      "\r",
      " 90%|████████▉ | 214/238 [13:31<01:23,  3.47s/it]"
     ]
    },
    {
     "name": "stdout",
     "output_type": "stream",
     "text": [
      "messed up; trying again\n",
      "messed up; trying again\n",
      "messed up; trying again\n"
     ]
    },
    {
     "name": "stderr",
     "output_type": "stream",
     "text": [
      "\r",
      " 90%|█████████ | 215/238 [13:35<01:27,  3.81s/it]"
     ]
    },
    {
     "name": "stdout",
     "output_type": "stream",
     "text": [
      "messed up; trying again\n",
      "messed up; trying again\n",
      "messed up; trying again\n"
     ]
    },
    {
     "name": "stderr",
     "output_type": "stream",
     "text": [
      "\r",
      " 91%|█████████ | 216/238 [13:40<01:29,  4.06s/it]"
     ]
    },
    {
     "name": "stdout",
     "output_type": "stream",
     "text": [
      "messed up; trying again\n",
      "messed up; trying again\n"
     ]
    },
    {
     "name": "stderr",
     "output_type": "stream",
     "text": [
      "\r",
      " 91%|█████████ | 217/238 [13:43<01:19,  3.81s/it]"
     ]
    },
    {
     "name": "stdout",
     "output_type": "stream",
     "text": [
      "messed up; trying again\n",
      "messed up; trying again\n"
     ]
    },
    {
     "name": "stderr",
     "output_type": "stream",
     "text": [
      "\r",
      " 92%|█████████▏| 218/238 [13:47<01:15,  3.79s/it]"
     ]
    },
    {
     "name": "stdout",
     "output_type": "stream",
     "text": [
      "messed up; trying again\n",
      "messed up; trying again\n",
      "messed up; trying again\n",
      "messed up; trying again\n"
     ]
    },
    {
     "name": "stderr",
     "output_type": "stream",
     "text": [
      "\r",
      " 92%|█████████▏| 219/238 [13:53<01:23,  4.38s/it]"
     ]
    },
    {
     "name": "stdout",
     "output_type": "stream",
     "text": [
      "messed up; trying again\n",
      "messed up; trying again\n"
     ]
    },
    {
     "name": "stderr",
     "output_type": "stream",
     "text": [
      "\r",
      " 92%|█████████▏| 220/238 [13:56<01:11,  3.99s/it]"
     ]
    },
    {
     "name": "stdout",
     "output_type": "stream",
     "text": [
      "messed up; trying again\n",
      "messed up; trying again\n"
     ]
    },
    {
     "name": "stderr",
     "output_type": "stream",
     "text": [
      "\r",
      " 93%|█████████▎| 221/238 [13:59<01:05,  3.87s/it]"
     ]
    },
    {
     "name": "stdout",
     "output_type": "stream",
     "text": [
      "messed up; trying again\n",
      "messed up; trying again\n"
     ]
    },
    {
     "name": "stderr",
     "output_type": "stream",
     "text": [
      "\r",
      " 93%|█████████▎| 222/238 [14:02<00:58,  3.66s/it]"
     ]
    },
    {
     "name": "stdout",
     "output_type": "stream",
     "text": [
      "messed up; trying again\n",
      "messed up; trying again\n"
     ]
    },
    {
     "name": "stderr",
     "output_type": "stream",
     "text": [
      "\r",
      " 94%|█████████▎| 223/238 [14:05<00:52,  3.47s/it]"
     ]
    },
    {
     "name": "stdout",
     "output_type": "stream",
     "text": [
      "messed up; trying again\n",
      "messed up; trying again\n",
      "messed up; trying again\n",
      "messed up; trying again\n"
     ]
    },
    {
     "name": "stderr",
     "output_type": "stream",
     "text": [
      "\r",
      " 94%|█████████▍| 224/238 [14:11<00:56,  4.03s/it]"
     ]
    },
    {
     "name": "stdout",
     "output_type": "stream",
     "text": [
      "messed up; trying again\n",
      "messed up; trying again\n"
     ]
    },
    {
     "name": "stderr",
     "output_type": "stream",
     "text": [
      "\r",
      " 95%|█████████▍| 225/238 [14:14<00:48,  3.75s/it]"
     ]
    },
    {
     "name": "stdout",
     "output_type": "stream",
     "text": [
      "messed up; trying again\n",
      "messed up; trying again\n"
     ]
    },
    {
     "name": "stderr",
     "output_type": "stream",
     "text": [
      "\r",
      " 95%|█████████▍| 226/238 [14:17<00:43,  3.62s/it]"
     ]
    },
    {
     "name": "stdout",
     "output_type": "stream",
     "text": [
      "messed up; trying again\n",
      "messed up; trying again\n"
     ]
    },
    {
     "name": "stderr",
     "output_type": "stream",
     "text": [
      "\r",
      " 95%|█████████▌| 227/238 [14:20<00:38,  3.51s/it]"
     ]
    },
    {
     "name": "stdout",
     "output_type": "stream",
     "text": [
      "messed up; trying again\n",
      "messed up; trying again\n",
      "messed up; trying again\n"
     ]
    },
    {
     "name": "stderr",
     "output_type": "stream",
     "text": [
      "\r",
      " 96%|█████████▌| 228/238 [14:25<00:38,  3.80s/it]"
     ]
    },
    {
     "name": "stdout",
     "output_type": "stream",
     "text": [
      "messed up; trying again\n",
      "messed up; trying again\n",
      "messed up; trying again\n"
     ]
    },
    {
     "name": "stderr",
     "output_type": "stream",
     "text": [
      "\r",
      " 96%|█████████▌| 229/238 [14:29<00:35,  3.99s/it]"
     ]
    },
    {
     "name": "stdout",
     "output_type": "stream",
     "text": [
      "messed up; trying again\n",
      "messed up; trying again\n",
      "messed up; trying again\n"
     ]
    },
    {
     "name": "stderr",
     "output_type": "stream",
     "text": [
      "\r",
      " 97%|█████████▋| 230/238 [14:34<00:32,  4.05s/it]"
     ]
    },
    {
     "name": "stdout",
     "output_type": "stream",
     "text": [
      "messed up; trying again\n",
      "messed up; trying again\n",
      "messed up; trying again\n"
     ]
    },
    {
     "name": "stderr",
     "output_type": "stream",
     "text": [
      "\r",
      " 97%|█████████▋| 231/238 [14:38<00:28,  4.05s/it]"
     ]
    },
    {
     "name": "stdout",
     "output_type": "stream",
     "text": [
      "messed up; trying again\n",
      "messed up; trying again\n"
     ]
    },
    {
     "name": "stderr",
     "output_type": "stream",
     "text": [
      "\r",
      " 97%|█████████▋| 232/238 [14:41<00:22,  3.79s/it]"
     ]
    },
    {
     "name": "stdout",
     "output_type": "stream",
     "text": [
      "messed up; trying again\n",
      "messed up; trying again\n",
      "messed up; trying again\n",
      "messed up; trying again\n"
     ]
    },
    {
     "name": "stderr",
     "output_type": "stream",
     "text": [
      "\r",
      " 98%|█████████▊| 233/238 [14:46<00:21,  4.34s/it]"
     ]
    },
    {
     "name": "stdout",
     "output_type": "stream",
     "text": [
      "messed up; trying again\n",
      "messed up; trying again\n",
      "messed up; trying again\n",
      "messed up; trying again\n"
     ]
    },
    {
     "name": "stderr",
     "output_type": "stream",
     "text": [
      "\r",
      " 98%|█████████▊| 234/238 [14:51<00:18,  4.56s/it]"
     ]
    },
    {
     "name": "stdout",
     "output_type": "stream",
     "text": [
      "messed up; trying again\n",
      "messed up; trying again\n",
      "messed up; trying again\n",
      "messed up; trying again\n"
     ]
    },
    {
     "name": "stderr",
     "output_type": "stream",
     "text": [
      "\r",
      " 99%|█████████▊| 235/238 [14:57<00:14,  4.79s/it]"
     ]
    },
    {
     "name": "stdout",
     "output_type": "stream",
     "text": [
      "messed up; trying again\n",
      "messed up; trying again\n"
     ]
    },
    {
     "name": "stderr",
     "output_type": "stream",
     "text": [
      "\r",
      " 99%|█████████▉| 236/238 [15:00<00:08,  4.24s/it]"
     ]
    },
    {
     "name": "stdout",
     "output_type": "stream",
     "text": [
      "messed up; trying again\n",
      "messed up; trying again\n",
      "messed up; trying again\n",
      "messed up; trying again\n",
      "messed up; trying again\n"
     ]
    },
    {
     "name": "stderr",
     "output_type": "stream",
     "text": [
      "\r",
      "100%|█████████▉| 237/238 [15:07<00:05,  5.06s/it]"
     ]
    },
    {
     "name": "stdout",
     "output_type": "stream",
     "text": [
      "messed up; trying again\n",
      "messed up; trying again\n"
     ]
    },
    {
     "name": "stderr",
     "output_type": "stream",
     "text": [
      "100%|██████████| 238/238 [15:10<00:00,  3.83s/it]"
     ]
    },
    {
     "name": "stdout",
     "output_type": "stream",
     "text": [
      "['1', '1/10', '4/10', '1/10', '4.5', '4', '1/10', '7.5', '5.5', '5.5', '6.5', '7.5', '1/10', '7.5', '5.5', '4.5', '1/10', '10', '5.5', '8.5', '4', '1', '7.5', '5.5', '1', '1', '8.5', '5.5', '8.5', '5.5', '1', '1', '4.5', '1/10', '4.5', '1', '3', '4/10', '4.5', '6.5', '9.5', '4/10', '6.5', '1', '4/10', '1', '7.5', '10', '9.5', '4.5', '3/10', '1/10', '9.5', '7.5', '7.5', '1/10', '1', '4/10', '1/10', '4/10', '5.5', '6.5', '7.5', '3/10', '1/10', '6.5', '1', '1/10', '4', '7.5', '4', '7.5', '9.5', '1/10', '10', '1', '1', '9.5', '5.5', '1', '8.5', '5.5', '4/10', '7.5', '4', '1/10', '5.5', '4', '7.5', '1', '4.5', '3/10', '6.5', '3/10', '8.5', '2', '3/10', '5.5', '5.5', '6.5', '5', '1/10', '9.5', '8.5', '8.5', '5.5', '3/10', '7.5', '9.5', '9.5', '2', '1/10', '8.5', '1/10', '1/10', '7.5', '1/10', '7.5', '3', '6.5', '8.5', '3/10', '2', '2/10', '1', '4', '9.5', '6.5', '3/10', '1', '1', '7.5', '1/10', '1/10', '7.5', '10', '6.5', '4/10', '9.5', '7.5', '7.5', '1/10', '7.5', '2', '4', '5', '9.5', '2/10', '4.5', '1/10', '1/10', '7.5', '1', '5.5', '1', '3', '3/10', '1/10', '8.5', '4/10', '5.5', '1', '4', '3/10', '4/10', '1', '9.5', '1/10', '1/10', '10', '8.5', '3/10', '2/10', '6.5', '6.5', '7.5', '9.5', '7.5', '5.5', '6.5', '1/10', '6.5', '8.5', '1', '1/10', '1/10', '4/10', '3/10', '7.5', '4.5', '6.5', '1/10', '3/10', '6.5', '5.5', '1', '3/10', '7.5', '8.5', '2/10', '8.5', '9.5', '2/10', '8.5', '1/10', '7.5', '4', '1/10', '1/10', '1/10', '1/10', '7.5', '5.5', '7.5', '7.5', '4/10', '8.5', '1/10', '1/10', '8.5', '10', '8.5', '6.5', '2/10', '10', '7.5', '8.5', '5.5', '5.5', '1/10', '2', '1/10', '8.5', '1', '8.5', '1/10', '1', '2']\n"
     ]
    },
    {
     "name": "stderr",
     "output_type": "stream",
     "text": [
      "\n"
     ]
    }
   ],
   "source": [
    "#imports\n",
    "import pandas as pd\n",
    "import matplotlib.pyplot as plt\n",
    "import numpy as np\n",
    "from datasets import load_dataset\n",
    "from tqdm import tqdm\n",
    "import time\n",
    "#load in the data\n",
    "dataset = load_dataset(\"potsawee/wiki_bio_gpt3_hallucination\")\n",
    "#model_name = \"gpt-3.5-turbo\"\n",
    "model_name = \"gpt-4\"\n",
    "evaluations = []\n",
    "for i in tqdm(range(len(dataset[\"evaluation\"]))):\n",
    "    article = dataset[\"evaluation\"][\"wiki_bio_text\"][i]\n",
    "    summary = dataset[\"evaluation\"][\"gpt3_text\"][i]\n",
    "    prompt = \"\"\"Score the following summary given the corresponding article with respect to consistency from 1 to 10. Note that consistency measures how much information included in the summary is present in the source article. 10 points indicate the summary contains only statements that are entailed by the source document.\n",
    "[Summary]: \"\"\" + summary + \"\\n\" + \"[Source Article]: \" + article + \"\\n\" + \"Marks: \"\n",
    "    gotit = False\n",
    "    while not gotit:\n",
    "        try:\n",
    "            chat_completion = openai.ChatCompletion.create(model=model_name, messages=[{\"role\": \"user\", \"content\": prompt}], temperature = 0)\n",
    "            evaluations.append(chat_completion.choices[0].message.content)\n",
    "            gotit = True\n",
    "        except:\n",
    "            print(\"messed up; trying again\")\n",
    "            time.sleep(1)\n",
    "print(evaluations)\n",
    "    \n",
    "    \n"
   ]
  },
  {
   "cell_type": "code",
   "execution_count": 22,
   "id": "ed3a2d7c",
   "metadata": {},
   "outputs": [
    {
     "data": {
      "text/plain": [
       "[1.0,\n",
       " 1.0,\n",
       " 4.0,\n",
       " 1.0,\n",
       " 4.5,\n",
       " 4.0,\n",
       " 1.0,\n",
       " 7.5,\n",
       " 5.5,\n",
       " 5.5,\n",
       " 6.5,\n",
       " 7.5,\n",
       " 1.0,\n",
       " 7.5,\n",
       " 5.5,\n",
       " 4.5,\n",
       " 1.0,\n",
       " 10.0,\n",
       " 5.5,\n",
       " 8.5,\n",
       " 4.0,\n",
       " 1.0,\n",
       " 7.5,\n",
       " 5.5,\n",
       " 1.0,\n",
       " 1.0,\n",
       " 8.5,\n",
       " 5.5,\n",
       " 8.5,\n",
       " 5.5,\n",
       " 1.0,\n",
       " 1.0,\n",
       " 4.5,\n",
       " 1.0,\n",
       " 4.5,\n",
       " 1.0,\n",
       " 3.0,\n",
       " 4.0,\n",
       " 4.5,\n",
       " 6.5,\n",
       " 9.5,\n",
       " 4.0,\n",
       " 6.5,\n",
       " 1.0,\n",
       " 4.0,\n",
       " 1.0,\n",
       " 7.5,\n",
       " 10.0,\n",
       " 9.5,\n",
       " 4.5,\n",
       " 3.0,\n",
       " 1.0,\n",
       " 9.5,\n",
       " 7.5,\n",
       " 7.5,\n",
       " 1.0,\n",
       " 1.0,\n",
       " 4.0,\n",
       " 1.0,\n",
       " 4.0,\n",
       " 5.5,\n",
       " 6.5,\n",
       " 7.5,\n",
       " 3.0,\n",
       " 1.0,\n",
       " 6.5,\n",
       " 1.0,\n",
       " 1.0,\n",
       " 4.0,\n",
       " 7.5,\n",
       " 4.0,\n",
       " 7.5,\n",
       " 9.5,\n",
       " 1.0,\n",
       " 10.0,\n",
       " 1.0,\n",
       " 1.0,\n",
       " 9.5,\n",
       " 5.5,\n",
       " 1.0,\n",
       " 8.5,\n",
       " 5.5,\n",
       " 4.0,\n",
       " 7.5,\n",
       " 4.0,\n",
       " 1.0,\n",
       " 5.5,\n",
       " 4.0,\n",
       " 7.5,\n",
       " 1.0,\n",
       " 4.5,\n",
       " 3.0,\n",
       " 6.5,\n",
       " 3.0,\n",
       " 8.5,\n",
       " 2.0,\n",
       " 3.0,\n",
       " 5.5,\n",
       " 5.5,\n",
       " 6.5,\n",
       " 5.0,\n",
       " 1.0,\n",
       " 9.5,\n",
       " 8.5,\n",
       " 8.5,\n",
       " 5.5,\n",
       " 3.0,\n",
       " 7.5,\n",
       " 9.5,\n",
       " 9.5,\n",
       " 2.0,\n",
       " 1.0,\n",
       " 8.5,\n",
       " 1.0,\n",
       " 1.0,\n",
       " 7.5,\n",
       " 1.0,\n",
       " 7.5,\n",
       " 3.0,\n",
       " 6.5,\n",
       " 8.5,\n",
       " 3.0,\n",
       " 2.0,\n",
       " 2.0,\n",
       " 1.0,\n",
       " 4.0,\n",
       " 9.5,\n",
       " 6.5,\n",
       " 3.0,\n",
       " 1.0,\n",
       " 1.0,\n",
       " 7.5,\n",
       " 1.0,\n",
       " 1.0,\n",
       " 7.5,\n",
       " 10.0,\n",
       " 6.5,\n",
       " 4.0,\n",
       " 9.5,\n",
       " 7.5,\n",
       " 7.5,\n",
       " 1.0,\n",
       " 7.5,\n",
       " 2.0,\n",
       " 4.0,\n",
       " 5.0,\n",
       " 9.5,\n",
       " 2.0,\n",
       " 4.5,\n",
       " 1.0,\n",
       " 1.0,\n",
       " 7.5,\n",
       " 1.0,\n",
       " 5.5,\n",
       " 1.0,\n",
       " 3.0,\n",
       " 3.0,\n",
       " 1.0,\n",
       " 8.5,\n",
       " 4.0,\n",
       " 5.5,\n",
       " 1.0,\n",
       " 4.0,\n",
       " 3.0,\n",
       " 4.0,\n",
       " 1.0,\n",
       " 9.5,\n",
       " 1.0,\n",
       " 1.0,\n",
       " 10.0,\n",
       " 8.5,\n",
       " 3.0,\n",
       " 2.0,\n",
       " 6.5,\n",
       " 6.5,\n",
       " 7.5,\n",
       " 9.5,\n",
       " 7.5,\n",
       " 5.5,\n",
       " 6.5,\n",
       " 1.0,\n",
       " 6.5,\n",
       " 8.5,\n",
       " 1.0,\n",
       " 1.0,\n",
       " 1.0,\n",
       " 4.0,\n",
       " 3.0,\n",
       " 7.5,\n",
       " 4.5,\n",
       " 6.5,\n",
       " 1.0,\n",
       " 3.0,\n",
       " 6.5,\n",
       " 5.5,\n",
       " 1.0,\n",
       " 3.0,\n",
       " 7.5,\n",
       " 8.5,\n",
       " 2.0,\n",
       " 8.5,\n",
       " 9.5,\n",
       " 2.0,\n",
       " 8.5,\n",
       " 1.0,\n",
       " 7.5,\n",
       " 4.0,\n",
       " 1.0,\n",
       " 1.0,\n",
       " 1.0,\n",
       " 1.0,\n",
       " 7.5,\n",
       " 5.5,\n",
       " 7.5,\n",
       " 7.5,\n",
       " 4.0,\n",
       " 8.5,\n",
       " 1.0,\n",
       " 1.0,\n",
       " 8.5,\n",
       " 10.0,\n",
       " 8.5,\n",
       " 6.5,\n",
       " 2.0,\n",
       " 10.0,\n",
       " 7.5,\n",
       " 8.5,\n",
       " 5.5,\n",
       " 5.5,\n",
       " 1.0,\n",
       " 2.0,\n",
       " 1.0,\n",
       " 8.5,\n",
       " 1.0,\n",
       " 8.5,\n",
       " 1.0,\n",
       " 1.0,\n",
       " 2.0]"
      ]
     },
     "execution_count": 22,
     "metadata": {},
     "output_type": "execute_result"
    }
   ],
   "source": [
    "#converts strings to floats, while properly handling things like \"3/10\" and the like.\n",
    "evaluations_fixed = []\n",
    "for i in range(len(evaluations)):\n",
    "    if \"/\" in evaluations[i]:\n",
    "        evaluations_fixed.append(float(evaluations[i][0]))\n",
    "    else:\n",
    "        evaluations_fixed.append(float(evaluations[i]))\n",
    "evaluations_fixed"
   ]
  },
  {
   "cell_type": "code",
   "execution_count": 22,
   "id": "6ad06b97",
   "metadata": {},
   "outputs": [],
   "source": [
    "def evaluate_sentiment(temperature = .7, num_workers = 10, sentence_index = 0, prompt = \"the sentiment of this sentence\", modified = False):\n",
    "    if modified:\n",
    "        full_prompt = \"\"\"Evaluate the sentiment of this sentence on a scale of 0-100, with 0 being the most negative possible sentiment and 100 being the most positive sentiment possible. Answer with a number only, and no accompanying text. Make sure your answer is \"\"\"\n",
    "        prompt2 = \"The sentence: \"     \n",
    "        adjectives = [\"accurate\",\"nuanced\", \"honest\",\"specific\",\"thoughtful\",\"realistic\",\"humanlike\",\"not a multiple of 5\",\"not too extreme\",\"correct\"]\n",
    "    if not modified:\n",
    "        full_prompt = \"\"\"Evaluate the sentiment of this sentence on a scale of 0-100, with 0 being the most negative possible sentiment and 100 being the most positive sentiment possible. Answer with a number only, and no accompanying text. The sentence: \"\"\"\n",
    "    print(sentence_list[sentence_index], label_dict[sentence_list[sentence_index]])\n",
    "    evaluations = []\n",
    "    for i in range(num_workers):\n",
    "        gotit = False\n",
    "        while not gotit:\n",
    "            try:\n",
    "                if modified:\n",
    "                    chat_completion = openai.ChatCompletion.create(model=\"gpt-3.5-turbo\", messages=[{\"role\": \"user\", \"content\": full_prompt+adjectives[i]+\". The sentence: \"+'\"'+sentence_list[sentence_index]+'\"'}], temperature = temperature)\n",
    "                else:\n",
    "                    chat_completion = openai.ChatCompletion.create(model=\"gpt-3.5-turbo\", messages=[{\"role\": \"user\", \"content\": full_prompt+'\"'+sentence_list[sentence_index]+'\"'}], temperature = temperature)\n",
    "                # print the chat completion\n",
    "                evaluations.append(chat_completion.choices[0].message.content)\n",
    "                gotit = True\n",
    "            except:\n",
    "                time.sleep(1)\n",
    "    for i in range(len (evaluations)):\n",
    "        evaluations[i] = int(''.join(filter(str.isdigit, evaluations[i])))\n",
    "    return evaluations\n",
    "        \n",
    "    "
   ]
  },
  {
   "cell_type": "code",
   "execution_count": 25,
   "id": "4ffc0fb0",
   "metadata": {},
   "outputs": [
    {
     "name": "stdout",
     "output_type": "stream",
     "text": [
      "The weather ruined our outdoor picnic; it started raining heavily. 30\n"
     ]
    },
    {
     "data": {
      "text/plain": [
       "['10', '10', '10', '10', '10', '10', '10', '10', '10', '10']"
      ]
     },
     "execution_count": 25,
     "metadata": {},
     "output_type": "execute_result"
    }
   ],
   "source": [
    "evaluate_sentiment(sentence_index = 2, temperature = 0.0)"
   ]
  },
  {
   "cell_type": "code",
   "execution_count": 25,
   "id": "52f781d6",
   "metadata": {},
   "outputs": [
    {
     "name": "stdout",
     "output_type": "stream",
     "text": [
      "The concert was a complete disaster; the sound quality was terrible. 18\n",
      "[10]\n",
      "The vacation was a dream come true; I experienced pure bliss on the sandy beaches. 97\n",
      "[95]\n",
      "I'm exhausted after working non-stop for 12 hours; I need a break. 31\n",
      "[20]\n",
      "I'm annoyed by the constant interruptions during my work meetings. 28\n",
      "[10]\n",
      "The painting exhibition was a visual masterpiece; each piece was a work of art. 78\n",
      "[95]\n",
      "I can't stand the constant noise from the construction site near my apartment. 13\n",
      "[10]\n",
      "The traffic during rush hour is somewhat annoying, but it's expected in a busy city. 48\n",
      "[50]\n",
      "I'm frustrated with myself for making the same mistake over and over again. 18\n",
      "[10]\n",
      "I'm deeply saddened by the news of the natural disaster affecting thousands of people. 20\n",
      "[10]\n",
      "I'm overjoyed to have won the competition; it's a dream come true. 96\n",
      "[100]\n",
      "I'm grateful for the support and encouragement I receive from my loved ones. 85\n",
      "[95]\n",
      "The coffee at the new café was alright; it didn't wow me, but it was drinkable. 53\n",
      "[50]\n",
      "The weather ruined our outdoor picnic; it started raining heavily. 30\n",
      "[10]\n",
      "I feel so frustrated with the slow progress I'm making in my work. 21\n",
      "[10]\n",
      "The meeting was a waste of time; nothing substantial was discussed. 15\n",
      "[10]\n",
      "I feel a sense of serenity when I meditate in the early morning. 79\n",
      "[85]\n",
      "The coffee shop has the best latte in town; it's my go-to place for a caffeine fix. 77\n",
      "[90]\n",
      "The traffic jam was unbearable; it took me hours to reach my destination. 26\n",
      "[5]\n",
      "The weather today is neither good nor bad; it's just average. 45\n",
      "[50]\n",
      "The customer support was adequate; they resolved my issue, but it took longer than expected. 52\n",
      "[70]\n",
      "I feel a sense of contentment when I spend time in nature; it's rejuvenating. 81\n",
      "[90]\n",
      "The new smartphone features are impressive; I can't wait to get my hands on it. 72\n",
      "[90]\n",
      "The party was a blast; everyone was dancing and having a great time. 86\n",
      "[95]\n",
      "The party was okay; it had its moments, but overall, it was just average. 48\n",
      "[50]\n",
      "The customer service at the store was outstanding; they went above and beyond to assist me. 85\n",
      "[100]\n",
      "The restaurant served the most delicious food I've ever tasted; it was a culinary delight. 93\n",
      "[100]\n",
      "The comedy show had me laughing uncontrollably; it was hilarious. 91\n",
      "[100]\n",
      "The novel was neither outstanding nor terrible; it fell somewhere in the middle. 50\n",
      "[50]\n",
      "The long-distance train journey was exhausting; I couldn't get a good night's sleep. 29\n",
      "[20]\n",
      "I absolutely loved the movie; it was captivating from start to finish. 88\n",
      "[100]\n",
      "The hotel breakfast was alright; it had a decent selection, but nothing outstanding. 47\n",
      "[60]\n",
      "I'm devastated by the loss of my beloved pet; they were my best friend. 11\n",
      "[10]\n",
      "The food at the restaurant was decent, but nothing extraordinary. 48\n",
      "[50]\n",
      "The book was incredibly boring; I couldn't even finish reading it. 31\n",
      "[10]\n",
      "The service at the hotel was satisfactory; it met my basic needs but didn't exceed expectations. 50\n",
      "[50]\n",
      "The book had its merits, but it wasn't groundbreaking; it was an average read. 55\n",
      "[50]\n",
      "I'm impressed by the level of professionalism displayed by the employees at the company. 69\n",
      "[90]\n",
      "The hiking trail offered breathtaking views of the mountains; it was truly awe-inspiring. 92\n",
      "[95]\n",
      "I have mixed feelings about the new album; some songs were great, while others were disappointing. 56\n",
      "[50]\n",
      "The movie ending was neither satisfying nor disappointing; it left me with mixed emotions. 44\n",
      "[50]\n",
      "The concert was good, but it lacked the energy and excitement I was hoping for. 55\n",
      "[60]\n",
      "The laptop performance is satisfactory; it handles most tasks well, but struggles with resource-intensive applications. 63\n",
      "[60]\n",
      "The charity event was heartwarming; seeing so many people come together to help others was inspiring. 89\n",
      "[90]\n",
      "The movie had an interesting plot, but the execution could have been better. 49\n",
      "[50]\n",
      "I'm thrilled to announce that I got accepted into my dream university. 92\n",
      "[100]\n",
      "The customer service at the store was average; they were helpful, but not particularly exceptional. 57\n",
      "[50]\n",
      "The performance of the team was decent, but they still have room for improvement. 55\n",
      "[70]\n",
      "The hotel room was decent; it had all the necessary amenities, but it wasn't luxurious. 65\n",
      "[50]\n",
      "The play was decently entertaining; it had its moments, but it didn't leave a lasting impression. 51\n",
      "[55]\n",
      "The atmosphere at the party was okay; it wasn't lively, but it wasn't dull either. 46\n",
      "[50]\n"
     ]
    },
    {
     "data": {
      "image/png": "[encoded data removed]",
      "text/plain": [
       "<Figure size 640x480 with 1 Axes>"
      ]
     },
     "metadata": {},
     "output_type": "display_data"
    }
   ],
   "source": [
    "import matplotlib.pyplot as plt\n",
    "import time\n",
    "ratings = []#label_dict.values()\n",
    "estimates = []\n",
    "offset = 0\n",
    "for i in range(50-offset):\n",
    "    estimate = evaluate_sentiment(temperature = .7, num_workers = 1, sentence_index = i+offset)\n",
    "    print(estimate)\n",
    "    estimates.append(estimate[0])\n",
    "    ratings.append(label_dict_mean[sentence_list[i+offset]])\n",
    "    #time.sleep(1)\n",
    "est = []\n",
    "for i in estimates:\n",
    "    est.append(int(i))\n",
    "rat = []\n",
    "for i in ratings:\n",
    "    rat.append(int(i))\n",
    "plt.hist(est)\n",
    "plt.hist(rat, alpha = .5)\n",
    "plt.show()\n"
   ]
  },
  {
   "cell_type": "code",
   "execution_count": 22,
   "id": "258dde83",
   "metadata": {},
   "outputs": [],
   "source": [
    "import copy\n",
    "est_temp0 = copy.deepcopy(est)"
   ]
  },
  {
   "cell_type": "code",
   "execution_count": 6,
   "id": "2817bf19",
   "metadata": {},
   "outputs": [
    {
     "name": "stdout",
     "output_type": "stream",
     "text": [
      "The play was decently entertaining; it had its moments, but it didn't leave a lasting impression. 51\n",
      "[60, 50, 60, 60, 60, 60, 65, 60, 60, 60]\n",
      "The charity event was heartwarming; seeing so many people come together to help others was inspiring. 89\n",
      "[95, 90, 90, 95, 90, 95, 90, 85, 90, 90]\n",
      "The traffic jam was unbearable; it took me hours to reach my destination. 26\n",
      "[0, 10, 10, 5, 10, 10, 5, 10, 10, 5]\n",
      "I'm exhausted after working non-stop for 12 hours; I need a break. 31\n",
      "[10, 20, 10, 10, 10, 10, 20, 15, 20, 20]\n",
      "The new smartphone features are impressive; I can't wait to get my hands on it. 72\n",
      "[90, 90, 90, 90, 90, 90, 90, 85, 90, 90]\n",
      "I'm impressed by the level of professionalism displayed by the employees at the company. 69\n",
      "[90, 90, 90, 90, 90, 95, 90, 85, 90, 90]\n",
      "The customer support was adequate; they resolved my issue, but it took longer than expected. 52\n",
      "[50, 60, 60, 60, 60, 50, 60, 73, 60, 70]\n",
      "The restaurant served the most delicious food I've ever tasted; it was a culinary delight. 93\n",
      "[100, 95, 95, 95, 95, 95, 98, 95, 90, 100]\n",
      "The movie ending was neither satisfying nor disappointing; it left me with mixed emotions. 44\n",
      "[50, 50, 50, 50, 50, 50, 50, 55, 50, 50]\n",
      "The meeting was a waste of time; nothing substantial was discussed. 15\n",
      "[5, 10, 0, 5, 10, 10, 10, 10, 10, 10]\n",
      "The coffee at the new café was alright; it didn't wow me, but it was drinkable. 53\n",
      "[50, 60, 60, 50, 60, 60, 50, 55, 55, 50]\n",
      "The weather today is neither good nor bad; it's just average. 45\n",
      "[50, 50, 50, 50, 50, 50, 50, 55, 50, 50]\n",
      "The long-distance train journey was exhausting; I couldn't get a good night's sleep. 29\n",
      "[10, 30, 10, 20, 20, 25, 20, 15, 20, 20]\n",
      "The customer service at the store was average; they were helpful, but not particularly exceptional. 57\n",
      "[50, 50, 50, 50, 50, 50, 55, 62, 50, 50]\n",
      "I'm frustrated with myself for making the same mistake over and over again. 18\n",
      "[15, 20, 15, 10, 25, 10, 20, 20, 10, 15]\n",
      "The novel was neither outstanding nor terrible; it fell somewhere in the middle. 50\n",
      "[50, 50, 50, 50, 50, 50, 50, 55, 50, 50]\n",
      "The performance of the team was decent, but they still have room for improvement. 55\n",
      "[70, 70, 70, 70, 70, 70, 60, 75, 70, 70]\n",
      "The party was a blast; everyone was dancing and having a great time. 86\n",
      "[95, 90, 95, 100, 95, 90, 95, 90, 90, 100]\n",
      "The party was okay; it had its moments, but overall, it was just average. 48\n",
      "[50, 60, 50, 50, 50, 50, 50, 60, 50, 50]\n",
      "The food at the restaurant was decent, but nothing extraordinary. 48\n",
      "[50, 50, 50, 50, 50, 50, 50, 45, 50, 50]\n",
      "The atmosphere at the party was okay; it wasn't lively, but it wasn't dull either. 46\n",
      "[50, 50, 50, 50, 50, 50, 50, 60, 50, 50]\n",
      "I feel a sense of contentment when I spend time in nature; it's rejuvenating. 81\n",
      "[90, 85, 90, 90, 90, 85, 90, 85, 90, 90]\n",
      "I'm overjoyed to have won the competition; it's a dream come true. 96\n",
      "[100, 100, 100, 100, 100, 100, 98, 95, 95, 100]\n",
      "The vacation was a dream come true; I experienced pure bliss on the sandy beaches. 97\n",
      "[95, 95, 95, 98, 98, 95, 95, 95, 95, 98]\n",
      "The traffic during rush hour is somewhat annoying, but it's expected in a busy city. 48\n",
      "[60, 50, 50, 40, 60, 45, 60, 62, 50, 50]\n",
      "The comedy show had me laughing uncontrollably; it was hilarious. 91\n",
      "[98, 95, 100, 100, 90, 95, 97, 95, 95, 98]\n",
      "The hiking trail offered breathtaking views of the mountains; it was truly awe-inspiring. 92\n",
      "[95, 90, 95, 98, 95, 95, 98, 87, 95, 95]\n",
      "The weather ruined our outdoor picnic; it started raining heavily. 30\n",
      "[10, 20, 20, 10, 10, 10, 15, 10, 20, 10]\n",
      "I feel a sense of serenity when I meditate in the early morning. 79\n",
      "[90, 90, 90, 90, 90, 90, 90, 80, 85, 90]\n",
      "The painting exhibition was a visual masterpiece; each piece was a work of art. 78\n",
      "[95, 90, 95, 95, 95, 95, 95, 90, 95, 95]\n",
      "I'm thrilled to announce that I got accepted into my dream university. 92\n",
      "[95, 90, 95, 95, 95, 95, 95, 95, 95, 100]\n",
      "The concert was a complete disaster; the sound quality was terrible. 18\n",
      "[5, 10, 10, 10, 10, 10, 5, 10, 10, 5]\n",
      "The hotel room was decent; it had all the necessary amenities, but it wasn't luxurious. 65\n",
      "[50, 65, 50, 50, 50, 65, 70, 75, 60, 50]\n",
      "I'm grateful for the support and encouragement I receive from my loved ones. 85\n",
      "[95, 90, 95, 95, 95, 95, 90, 85, 90, 95]\n",
      "The concert was good, but it lacked the energy and excitement I was hoping for. 55\n",
      "[55, 60, 60, 60, 50, 60, 55, 65, 60, 60]\n",
      "I'm devastated by the loss of my beloved pet; they were my best friend. 11\n",
      "[10, 10, 10, 10, 10, 20, 20, 10, 10, 10]\n",
      "The service at the hotel was satisfactory; it met my basic needs but didn't exceed expectations. 50\n",
      "[50, 50, 50, 50, 50, 50, 60, 65, 60, 50]\n",
      "The laptop performance is satisfactory; it handles most tasks well, but struggles with resource-intensive applications. 63\n",
      "[55, 50, 50, 50, 60, 70, 65, 70, 60, 60]\n",
      "I feel so frustrated with the slow progress I'm making in my work. 21\n",
      "[10, 20, 20, 15, 20, 20, 20, 10, 20, 10]\n",
      "The customer service at the store was outstanding; they went above and beyond to assist me. 85\n",
      "[100, 95, 100, 100, 95, 95, 95, 95, 95, 100]\n",
      "I'm annoyed by the constant interruptions during my work meetings. 28\n",
      "[10, 10, 10, 10, 10, 10, 25, 10, 20, 10]\n",
      "The movie had an interesting plot, but the execution could have been better. 49\n",
      "[60, 60, 60, 50, 70, 60, 70, 65, 65, 50]\n",
      "The book was incredibly boring; I couldn't even finish reading it. 31\n",
      "[10, 10, 10, 5, 10, 10, 5, 5, 10, 5]\n",
      "I'm deeply saddened by the news of the natural disaster affecting thousands of people. 20\n",
      "[10, 20, 10, 10, 10, 10, 10, 15, 20, 10]\n",
      "I have mixed feelings about the new album; some songs were great, while others were disappointing. 56\n",
      "[50, 50, 50, 50, 50, 50, 55, 55, 60, 50]\n",
      "I can't stand the constant noise from the construction site near my apartment. 13\n",
      "[10, 10, 10, 10, 10, 5, 15, 10, 10, 10]\n",
      "The coffee shop has the best latte in town; it's my go-to place for a caffeine fix. 77\n",
      "[90, 90, 90, 90, 95, 90, 92, 85, 90, 90]\n",
      "The book had its merits, but it wasn't groundbreaking; it was an average read. 55\n",
      "[50, 50, 50, 50, 50, 50, 50, 25, 50, 50]\n",
      "The hotel breakfast was alright; it had a decent selection, but nothing outstanding. 47\n",
      "[50, 50, 50, 50, 50, 65, 60, 65, 60, 50]\n",
      "I absolutely loved the movie; it was captivating from start to finish. 88\n",
      "[100, 95, 100, 100, 100, 95, 98, 95, 95, 100]\n"
     ]
    },
    {
     "data": {
      "image/png": "[encoded data removed]",
      "text/plain": [
       "<Figure size 640x480 with 1 Axes>"
      ]
     },
     "metadata": {},
     "output_type": "display_data"
    }
   ],
   "source": [
    "import matplotlib.pyplot as plt\n",
    "import time\n",
    "ratings = []#label_dict_mean.values()\n",
    "estimates = []\n",
    "offset = 0\n",
    "num_workers = 10\n",
    "for i in range(50-offset):\n",
    "    estimate = evaluate_sentiment(temperature = 0.7, num_workers = num_workers, sentence_index = i+offset)\n",
    "    print(estimate)\n",
    "    estimates.append(sum(estimate))\n",
    "    ratings.append(label_dict_mean[sentence_list[i+offset]])\n",
    "#    time.sleep(1)\n",
    "est = []\n",
    "for i in estimates:\n",
    "    est.append(int(i)/num_workers)\n",
    "rat = []\n",
    "for i in ratings:\n",
    "    rat.append(int(i))\n",
    "plt.hist(est)\n",
    "plt.hist(rat, alpha = .5)\n",
    "plt.show()\n"
   ]
  },
  {
   "cell_type": "code",
   "execution_count": 41,
   "id": "fee59506",
   "metadata": {},
   "outputs": [],
   "source": [
    "est_temp_07 = copy.deepcopy(est)"
   ]
  },
  {
   "cell_type": "code",
   "execution_count": 49,
   "id": "98e981b2",
   "metadata": {
    "scrolled": false
   },
   "outputs": [
    {
     "name": "stdout",
     "output_type": "stream",
     "text": [
      "The concert was good, but it lacked the energy and excitement I was hoping for. 55\n",
      "[65, 60, 60, 60, 65, 55, 50, 60, 55, 55]\n",
      "The customer support was adequate; they resolved my issue, but it took longer than expected. 52\n",
      "[55, 65, 50, 75, 50, 60, 50, 60, 60, 60]\n",
      "The service at the hotel was satisfactory; it met my basic needs but didn't exceed expectations. 50\n",
      "[50, 50, 50, 50, 50, 50, 50, 50, 50, 50]\n",
      "I'm devastated by the loss of my beloved pet; they were my best friend. 11\n",
      "[10, 10, 10, 10, 10, 10, 10, 10, 8, 10]\n",
      "I'm impressed by the level of professionalism displayed by the employees at the company. 69\n",
      "[90, 95, 95, 85, 100, 90, 90, 90, 90, 95]\n",
      "I can't stand the constant noise from the construction site near my apartment. 13\n",
      "[0, 1, 10, 15, 5, 10, 10, 0, 10, 10]\n",
      "The book was incredibly boring; I couldn't even finish reading it. 31\n",
      "[10, 5, 10, 5, 10, 10, 10, 5, 10, 5]\n",
      "The traffic during rush hour is somewhat annoying, but it's expected in a busy city. 48\n",
      "[50, 40, 60, 45, 55, 50, 45, 60, 45, 40]\n",
      "The meeting was a waste of time; nothing substantial was discussed. 15\n",
      "[10, 10, 16, 10, 10, 5, 4, 2, 10, 13]\n",
      "I feel so frustrated with the slow progress I'm making in my work. 21\n",
      "[10, 10, 20, 20, 10, 25, 21, 20, 10, 18]\n",
      "I'm grateful for the support and encouragement I receive from my loved ones. 85\n",
      "[95, 100, 90, 90, 95, 90, 90, 90, 95, 98]\n",
      "The food at the restaurant was decent, but nothing extraordinary. 48\n",
      "[50, 55, 50, 50, 50, 50, 50, 50, 60, 50]\n",
      "The novel was neither outstanding nor terrible; it fell somewhere in the middle. 50\n",
      "[50, 50, 50, 50, 50, 50, 50, 50, 50, 50]\n",
      "The laptop performance is satisfactory; it handles most tasks well, but struggles with resource-intensive applications. 63\n",
      "[60, 70, 50, 60, 50, 50, 50, 50, 60, 70]\n",
      "The painting exhibition was a visual masterpiece; each piece was a work of art. 78\n",
      "[95, 95, 95, 90, 95, 100, 95, 95, 90, 95]\n",
      "The restaurant served the most delicious food I've ever tasted; it was a culinary delight. 93\n",
      "[95, 95, 98, 95, 100, 100, 95, 100, 98, 98]\n",
      "I'm frustrated with myself for making the same mistake over and over again. 18\n",
      "[15, 15, 18, 16, 10, 15, 10, 10, 10, 10]\n",
      "I absolutely loved the movie; it was captivating from start to finish. 88\n",
      "[95, 100, 100, 96, 100, 100, 100, 100, 100, 90]\n",
      "The new smartphone features are impressive; I can't wait to get my hands on it. 72\n",
      "[90, 90, 90, 90, 97, 90, 92, 90, 95, 93]\n",
      "The customer service at the store was outstanding; they went above and beyond to assist me. 85\n",
      "[98, 95, 100, 95, 95, 100, 100, 100, 100, 100]\n",
      "The traffic jam was unbearable; it took me hours to reach my destination. 26\n",
      "[0, 10, 5, 5, 10, 10, 5, 7, 5, 5]\n",
      "I'm exhausted after working non-stop for 12 hours; I need a break. 31\n",
      "[20, 25, 10, 10, 5, 5, 10, 10, 10, 10]\n",
      "I'm annoyed by the constant interruptions during my work meetings. 28\n",
      "[10, 15, 10, 25, 10, 12, 10, 10, 10, 9]\n",
      "The party was okay; it had its moments, but overall, it was just average. 48\n",
      "[50, 50, 50, 50, 55, 50, 50, 50, 50, 50]\n",
      "The movie had an interesting plot, but the execution could have been better. 49\n",
      "[50, 60, 65, 65, 65, 70, 65, 70, 65, 60]\n",
      "The party was a blast; everyone was dancing and having a great time. 86\n",
      "[95, 100, 90, 95, 95, 95, 90, 95, 95, 95]\n",
      "I'm overjoyed to have won the competition; it's a dream come true. 96\n",
      "[99, 100, 100, 100, 100, 100, 100, 100, 100, 100]\n",
      "The play was decently entertaining; it had its moments, but it didn't leave a lasting impression. 51\n",
      "[55, 50, 55, 50, 50, 55, 60, 60, 50, 45]\n",
      "I'm thrilled to announce that I got accepted into my dream university. 92\n",
      "[100, 96, 100, 100, 95, 100, 100, 100, 95, 100]\n",
      "I feel a sense of contentment when I spend time in nature; it's rejuvenating. 81\n",
      "[90, 90, 90, 95, 90, 90, 90, 95, 95, 90]\n",
      "The vacation was a dream come true; I experienced pure bliss on the sandy beaches. 97\n",
      "[95, 98, 90, 97, 95, 98, 98, 95, 95, 95]\n",
      "The coffee shop has the best latte in town; it's my go-to place for a caffeine fix. 77\n",
      "[90, 90, 90, 85, 95, 90, 90, 90, 91, 90]\n",
      "The weather ruined our outdoor picnic; it started raining heavily. 30\n",
      "[10, 10, 10, 8, 15, 15, 10, 10, 15, 10]\n",
      "The hiking trail offered breathtaking views of the mountains; it was truly awe-inspiring. 92\n",
      "[95, 95, 100, 95, 98, 95, 98, 95, 100, 95]\n",
      "The charity event was heartwarming; seeing so many people come together to help others was inspiring. 89\n",
      "[90, 91, 90, 95, 90, 90, 95, 95, 90, 90]\n",
      "The comedy show had me laughing uncontrollably; it was hilarious. 91\n",
      "[100, 100, 95, 100, 95, 95, 95, 95, 100, 95]\n",
      "The weather today is neither good nor bad; it's just average. 45\n",
      "[50, 50, 50, 50, 50, 50, 50, 50, 50, 50]\n",
      "The movie ending was neither satisfying nor disappointing; it left me with mixed emotions. 44\n",
      "[50, 50, 50, 50, 50, 50, 50, 50, 50, 50]\n",
      "I'm deeply saddened by the news of the natural disaster affecting thousands of people. 20\n",
      "[10, 10, 15, 10, 10, 10, 10, 5, 10, 10]\n",
      "The performance of the team was decent, but they still have room for improvement. 55\n",
      "[70, 65, 50, 50, 60, 50, 65, 50, 75, 70]\n",
      "I have mixed feelings about the new album; some songs were great, while others were disappointing. 56\n",
      "[50, 50, 50, 50, 50, 50, 50, 50, 50, 50]\n",
      "The customer service at the store was average; they were helpful, but not particularly exceptional. 57\n",
      "[50, 50, 50, 50, 50, 50, 50, 50, 50, 50]\n",
      "The coffee at the new café was alright; it didn't wow me, but it was drinkable. 53\n",
      "[50, 50, 50, 50, 50, 55, 50, 50, 55, 61]\n",
      "The concert was a complete disaster; the sound quality was terrible. 18\n",
      "[10, 10, 0, 10, 5, 0, 10, 5, 10, 5]\n",
      "The hotel breakfast was alright; it had a decent selection, but nothing outstanding. 47\n",
      "[50, 50, 50, 50, 50, 55, 60, 25, 60, 50]\n",
      "I feel a sense of serenity when I meditate in the early morning. 79\n",
      "[95, 80, 85, 90, 90, 85, 80, 85, 85, 85]\n",
      "The atmosphere at the party was okay; it wasn't lively, but it wasn't dull either. 46\n",
      "[50, 50, 50, 50, 50, 50, 50, 50, 50, 50]\n",
      "The long-distance train journey was exhausting; I couldn't get a good night's sleep. 29\n",
      "[10, 20, 10, 15, 25, 10, 20, 10, 10, 15]\n",
      "The hotel room was decent; it had all the necessary amenities, but it wasn't luxurious. 65\n",
      "[55, 50, 60, 50, 65, 60, 50, 65, 70, 55]\n",
      "The book had its merits, but it wasn't groundbreaking; it was an average read. 55\n",
      "[50, 50, 50, 50, 50, 50, 50, 50, 50, 50]\n"
     ]
    },
    {
     "data": {
      "image/png": "[encoded data removed]",
      "text/plain": [
       "<Figure size 640x480 with 1 Axes>"
      ]
     },
     "metadata": {},
     "output_type": "display_data"
    }
   ],
   "source": [
    "import matplotlib.pyplot as plt\n",
    "import time\n",
    "ratings = []#label_dict_mean.values()\n",
    "estimates = []\n",
    "offset = 0\n",
    "num_workers = 10\n",
    "for i in range(50-offset):\n",
    "    estimate = evaluate_sentiment(temperature = 1.3, num_workers = num_workers, sentence_index = i+offset)\n",
    "    print(estimate)\n",
    "    estimates.append(sum(estimate))\n",
    "    ratings.append(label_dict_mean[sentence_list[i+offset]])\n",
    "#    time.sleep(1)\n",
    "est = []\n",
    "for i in estimates:\n",
    "    est.append(int(i)/num_workers)\n",
    "rat = []\n",
    "for i in ratings:\n",
    "    rat.append(int(i))\n",
    "plt.hist(est)\n",
    "plt.hist(rat, alpha = .5)\n",
    "plt.show()\n"
   ]
  },
  {
   "cell_type": "code",
   "execution_count": 56,
   "id": "7cf0c42c",
   "metadata": {},
   "outputs": [],
   "source": []
  },
  {
   "cell_type": "code",
   "execution_count": 15,
   "id": "6107efa6",
   "metadata": {},
   "outputs": [],
   "source": []
  },
  {
   "cell_type": "markdown",
   "id": "5eb38d5c",
   "metadata": {},
   "source": []
  },
  {
   "cell_type": "code",
   "execution_count": null,
   "id": "d89c0911",
   "metadata": {},
   "outputs": [],
   "source": []
  },
  {
   "cell_type": "code",
   "execution_count": 26,
   "id": "c9f1391b",
   "metadata": {},
   "outputs": [
    {
     "name": "stdout",
     "output_type": "stream",
     "text": [
      "[[1.         0.97913925]\n",
      " [0.97913925 1.        ]]\n"
     ]
    },
    {
     "data": {
      "text/plain": [
       "<matplotlib.collections.PathCollection at 0x7f3b7fa30ad0>"
      ]
     },
     "execution_count": 26,
     "metadata": {},
     "output_type": "execute_result"
    },
    {
     "data": {
      "image/png": "[encoded data removed]",
      "text/plain": [
       "<Figure size 640x480 with 1 Axes>"
      ]
     },
     "metadata": {},
     "output_type": "display_data"
    }
   ],
   "source": []
  },
  {
   "cell_type": "code",
   "execution_count": null,
   "id": "d66f3fe1",
   "metadata": {},
   "outputs": [],
   "source": []
  },
  {
   "cell_type": "code",
   "execution_count": null,
   "id": "9d606c56",
   "metadata": {},
   "outputs": [],
   "source": []
  }
 ],
 "metadata": {
  "kernelspec": {
   "display_name": "Python 3 (ipykernel)",
   "language": "python",
   "name": "python3"
  },
  "language_info": {
   "codemirror_mode": {
    "name": "ipython",
    "version": 3
   },
   "file_extension": ".py",
   "mimetype": "text/x-python",
   "name": "python",
   "nbconvert_exporter": "python",
   "pygments_lexer": "ipython3",
   "version": "3.11.3"
  }
 },
 "nbformat": 4,
 "nbformat_minor": 5
}
