{
 "cells": [
  {
   "cell_type": "markdown",
   "id": "319c2d66-2d85-4073-bb0f-41d7a82d170d",
   "metadata": {},
   "source": [
    "# Loading the Dataset"
   ]
  },
  {
   "cell_type": "code",
   "execution_count": 10,
   "id": "e544d0df-8e4b-46a7-b965-a04a17997ec7",
   "metadata": {
    "scrolled": true,
    "tags": []
   },
   "outputs": [
    {
     "name": "stderr",
     "output_type": "stream",
     "text": [
      "/home/vaburban/efs/home/vaburban/occams_venv/lib/python3.11/site-packages/tqdm/auto.py:21: TqdmWarning: IProgress not found. Please update jupyter and ipywidgets. See https://ipywidgets.readthedocs.io/en/stable/user_install.html\n",
      "  from .autonotebook import tqdm as notebook_tqdm\n"
     ]
    }
   ],
   "source": [
    "from datasets import load_dataset\n",
    "import math\n",
    "import ast\n",
    "\n",
    "import pandas as pd\n",
    "\n",
    "from tqdm import tqdm\n",
    "\n",
    "tqdm.pandas(desc='bar')"
   ]
  },
  {
   "cell_type": "code",
   "execution_count": 4,
   "id": "6cacc6d3-2481-4d30-bebf-473f8107e494",
   "metadata": {},
   "outputs": [
    {
     "name": "stderr",
     "output_type": "stream",
     "text": [
      "Found cached dataset cnn_dailymail (/home/vaburban/.cache/huggingface/datasets/cnn_dailymail/3.0.0/3.0.0/1b3c71476f6d152c31c1730e83ccb08bcf23e348233f4fcc11e182248e6bf7de)\n"
     ]
    },
    {
     "name": "stdout",
     "output_type": "stream",
     "text": [
      "287113\n"
     ]
    },
    {
     "data": {
      "text/plain": [
       "Dataset({\n",
       "    features: ['article', 'highlights', 'id'],\n",
       "    num_rows: 287113\n",
       "})"
      ]
     },
     "execution_count": 4,
     "metadata": {},
     "output_type": "execute_result"
    }
   ],
   "source": [
    "# Running on only training data for now\n",
    "cnn_dataset = load_dataset(\"cnn_dailymail\", '3.0.0', split='train')\n",
    "print(len(cnn_dataset))\n",
    "cnn_dataset"
   ]
  },
  {
   "cell_type": "code",
   "execution_count": null,
   "id": "12598d9a-720c-471f-81d3-6120098a956a",
   "metadata": {
    "tags": []
   },
   "outputs": [],
   "source": [
    "# Entire Dataframe\n",
    "# cnn_summaries = pd.DataFrame(cnn_dataset).rename(columns={\"article\": \"text\", \"highlights\": \"human_summary\"})\n",
    "\n",
    "# SAMPLING A SUBSET FOR EXPERIMENT\n",
    "cnn_summaries = pd.DataFrame(cnn_dataset).rename(columns={\"article\": \"text\", \"highlights\": \"human_summary\"}).sample(150)"
   ]
  },
  {
   "cell_type": "code",
   "execution_count": null,
   "id": "e6e2440f-769c-40c1-bc58-1933e26dbed2",
   "metadata": {},
   "outputs": [],
   "source": [
    "avg_len = sum(cnn_summaries['human_summary'].str.len())/len(cnn_summaries)\n",
    "char_budget = math.floor(avg_len) + 50\n",
    "sentence_budget = math.floor(char_budget/50)\n",
    "print(f\"Character Budget: {char_budget}\")\n",
    "print(f\"Sentence Budget: {sentence_budget}\")"
   ]
  },
  {
   "cell_type": "markdown",
   "id": "dcc671f8-0a0f-486f-8878-d7c391fee668",
   "metadata": {
    "jp-MarkdownHeadingCollapsed": true,
    "tags": []
   },
   "source": [
    "# OPTIONAL: Summarize using T5\n",
    "\n",
    "This would be nice since we won't need to use the OpenAI API. However, Ani and John let me know this was trained on XSum for the summarization task and therefore will only yield single sentence summaries. This isn't great, so we will still want to bring in ChatGPT to evaluate."
   ]
  },
  {
   "cell_type": "code",
   "execution_count": 8,
   "id": "5bcf6acc-adda-4aa4-b401-2f4025287b6b",
   "metadata": {
    "tags": []
   },
   "outputs": [
    {
     "name": "stdout",
     "output_type": "stream",
     "text": [
      "<pad> Android chief Andy Rubin takes to the blogs to combat recent reports of Google clamping down on Android's openness.</s>\n"
     ]
    }
   ],
   "source": [
    "# Had issues installing this bc of the venv, use 'source occams_venv/bin/activate' to get the terminal to work\n",
    "# also had to install:\n",
    "#   - sentencepiece\n",
    "#   - pytorch\n",
    "from transformers import T5Tokenizer, T5ForConditionalGeneration\n",
    "\n",
    "tokenizer = T5Tokenizer.from_pretrained(\"google/flan-t5-base\")\n",
    "model = T5ForConditionalGeneration.from_pretrained(\"google/flan-t5-base\")\n",
    "\n",
    "text = cnn_summaries.iloc[0]['occams_summ']\n",
    "\n",
    "input_text = f\"Tell me the main important sentences in this article: {text}\"\n",
    "input_ids = tokenizer(input_text, return_tensors=\"pt\").input_ids\n",
    "\n",
    "outputs = model.generate(input_ids, max_length=300)\n",
    "print(tokenizer.decode(outputs[0]))"
   ]
  },
  {
   "cell_type": "code",
   "execution_count": 9,
   "id": "125edf8c-4344-45eb-b834-9ddb7f1fe296",
   "metadata": {
    "tags": []
   },
   "outputs": [
    {
     "name": "stderr",
     "output_type": "stream",
     "text": [
      "/home/vaburban/efs/home/vaburban/occams_venv/lib/python3.11/site-packages/transformers/models/t5/tokenization_t5.py:163: FutureWarning: This tokenizer was incorrectly instantiated with a model max length of 512 which will be corrected in Transformers v5.\n",
      "For now, this behavior is kept to avoid breaking backwards compatibility when padding/encoding with `truncation is True`.\n",
      "- Be aware that you SHOULD NOT rely on t5-base automatically truncating your input to 512 when padding/encoding.\n",
      "- If you want to encode/pad to sequences longer than 512 you can either instantiate this tokenizer with `model_max_length` or pass `max_length` when encoding/padding.\n",
      "- To avoid this warning, please instantiate this tokenizer with `model_max_length` set to your preferred value.\n",
      "  warnings.warn(\n"
     ]
    },
    {
     "name": "stdout",
     "output_type": "stream",
     "text": [
      "<pad> the PGA Tour has voted to change the rules on putting. the changes are controversial and will affect the world of golf. the PGA Tour runs the american circuit.</s>\n"
     ]
    }
   ],
   "source": [
    "tokenizer = T5Tokenizer.from_pretrained(\"t5-base\")\n",
    "model = T5ForConditionalGeneration.from_pretrained(\"t5-base\")\n",
    "\n",
    "text = cnn_summaries.iloc[1]['occams_summ']\n",
    "\n",
    "input_text = f\"summarize: {text}\"\n",
    "input_ids = tokenizer(input_text, return_tensors=\"pt\").input_ids\n",
    "\n",
    "outputs = model.generate(input_ids, max_length=300)\n",
    "print(tokenizer.decode(outputs[0]))"
   ]
  },
  {
   "cell_type": "code",
   "execution_count": 10,
   "id": "bb248b0b-ecad-47b2-b60a-fc603baf9076",
   "metadata": {
    "tags": []
   },
   "outputs": [],
   "source": [
    "# For fun, let's do a T5 summary on top of the hybrid summaries.\n",
    "def t5_summarize(text):\n",
    "    input_text = f\"summarize: {text}\"\n",
    "    input_ids = tokenizer(input_text, return_tensors=\"pt\").input_ids\n",
    "    outputs = model.generate(input_ids, max_length=300)\n",
    "    return tokenizer.decode(outputs[0])\n"
   ]
  },
  {
   "cell_type": "code",
   "execution_count": 11,
   "id": "ed4de06a-a5d1-411c-bd58-b2bfa40f111e",
   "metadata": {
    "tags": []
   },
   "outputs": [
    {
     "name": "stderr",
     "output_type": "stream",
     "text": [
      "bar: 100%|██████████| 100/100 [02:59<00:00,  1.80s/it]"
     ]
    },
    {
     "name": "stdout",
     "output_type": "stream",
     "text": [
      "CPU times: user 2min 59s, sys: 86.2 ms, total: 2min 59s\n",
      "Wall time: 2min 59s\n"
     ]
    },
    {
     "name": "stderr",
     "output_type": "stream",
     "text": [
      "\n"
     ]
    }
   ],
   "source": [
    "%%time\n",
    "cnn_summaries[\"t5_hybrid_summ\"] = cnn_summaries.occams_summ.progress_apply(t5_summarize)"
   ]
  },
  {
   "cell_type": "code",
   "execution_count": 12,
   "id": "d3272b54-35c4-4ff5-99cb-e9db31f8a8b4",
   "metadata": {
    "tags": []
   },
   "outputs": [
    {
     "name": "stdout",
     "output_type": "stream",
     "text": [
      "Google has championed its platform as the open alternative to Apple's closed iOS system .\n",
      "Honeycomb is Android's first tablet-optimized software release .\n",
      "Rubin emphatically denied other rumors of ARM-chipset standardization in the platform .\n",
      "\n",
      "<pad> Android chief rubin takes to the blogs to combat recent reports of Google clamping down on Android's openness. the android OS is based on a version of the Linux OS.</s>\n",
      "\n",
      "(WIRED) -- Android chief Andy Rubin took to the blogs Wednesday evening to combat recent reports of Google clamping down on Android's openness. As soon as this work is completed, we'll publish the code. The Android OS is based on a version of the Linux OS, which has been an open source, collaborative platform since its release decades ago.\n"
     ]
    }
   ],
   "source": [
    "print(cnn_summaries.iloc[0]['human_summary'])\n",
    "print()\n",
    "print(cnn_summaries.iloc[0]['t5_hybrid_summ'])\n",
    "print()\n",
    "print(cnn_summaries.iloc[0]['occams_summ'])"
   ]
  },
  {
   "cell_type": "markdown",
   "id": "4a99e2d9-5e76-43ca-937f-99f4142a2e67",
   "metadata": {},
   "source": [
    "# Abstractive Summarization using GPT 3.5,"
   ]
  },
  {
   "cell_type": "code",
   "execution_count": 19,
   "id": "13ece516-aa8e-4830-a4a3-8d780e19613c",
   "metadata": {},
   "outputs": [],
   "source": [
    "# code credit Jacob Baxter\n",
    "import requests\n",
    "with open('../artifacts/gpt_key.txt') as f:\n",
    "    key_file = f.readlines()\n",
    "KEY = key_file[0]\n",
    "def gpt_summarize(text, prompt):\n",
    "    url = \"https://apiproxy.ncsu-las.net/APIGateway/openai/v1/chat/completions\"\n",
    "\n",
    "    headers = {\n",
    "        \"Content-Type\": \"application/json\",\n",
    "        \"LAS-API-Token\": KEY\n",
    "    }\n",
    "\n",
    "    data = {\n",
    "      \"model\": \"gpt-3.5-turbo\",\n",
    "      \"messages\": [{\"role\": \"user\", \"content\": prompt.format(text=text)}],\n",
    "      \"temperature\": 0.7\n",
    "    }\n",
    "\n",
    "    response = requests.post(url, headers=headers, data=json.dumps(data))\n",
    "    try:\n",
    "        summ = response.json()[\"choices\"][0][\"message\"][\"content\"]\n",
    "    except:\n",
    "        print(\"ERROR\")\n",
    "        summ = \"No summary possible.\"\n",
    "    return summ"
   ]
  },
  {
   "cell_type": "code",
   "execution_count": 12,
   "id": "3ed1bd08-05a3-4407-8133-e638f5876695",
   "metadata": {
    "tags": []
   },
   "outputs": [
    {
     "name": "stderr",
     "output_type": "stream",
     "text": [
      "bar:  15%|█▌        | 23/150 [02:24<26:18, 12.43s/it]"
     ]
    },
    {
     "name": "stdout",
     "output_type": "stream",
     "text": [
      "ERROR\n"
     ]
    },
    {
     "name": "stderr",
     "output_type": "stream",
     "text": [
      "bar:  26%|██▌       | 39/150 [04:14<24:04, 13.02s/it]"
     ]
    },
    {
     "name": "stdout",
     "output_type": "stream",
     "text": [
      "ERROR\n"
     ]
    },
    {
     "name": "stderr",
     "output_type": "stream",
     "text": [
      "bar:  30%|███       | 45/150 [05:09<24:03, 13.75s/it]"
     ]
    },
    {
     "name": "stdout",
     "output_type": "stream",
     "text": [
      "ERROR\n"
     ]
    },
    {
     "name": "stderr",
     "output_type": "stream",
     "text": [
      "bar: 100%|██████████| 150/150 [14:08<00:00,  5.65s/it]"
     ]
    },
    {
     "name": "stdout",
     "output_type": "stream",
     "text": [
      "CPU times: user 9.98 s, sys: 90.8 ms, total: 10.1 s\n",
      "Wall time: 14min 8s\n"
     ]
    },
    {
     "name": "stderr",
     "output_type": "stream",
     "text": [
      "\n"
     ]
    }
   ],
   "source": [
    "%%time\n",
    "\n",
    "# Prompt adapted from Extractive Summarization via ChatGPT for Faithful Summary Generation (Zhang et al)\n",
    "abstractive_prompt = \"\"\"You are an abstractive summarizer that follows the output pattern. Please write a summary for the following text in {char_budget} characters or less.\n",
    "\n",
    "Text:\n",
    "{text}\n",
    "\n",
    "Summary:\n",
    "\"\"\".format(char_budget=char_budget, text='{text}')\n",
    "\n",
    "cnn_summaries['gpt_a_summ'] = cnn_summaries.text.progress_apply(lambda x: gpt_summarize(x, abstractive_prompt))"
   ]
  },
  {
   "cell_type": "code",
   "execution_count": 13,
   "id": "15199542-4dbb-4fc3-8a87-42937d5e8bf9",
   "metadata": {
    "tags": []
   },
   "outputs": [
    {
     "name": "stdout",
     "output_type": "stream",
     "text": [
      "3\n"
     ]
    }
   ],
   "source": [
    "print(len(cnn_summaries[cnn_summaries['gpt_a_summ']=='No summary possible.']))\n",
    "cnn_summaries = cnn_summaries[cnn_summaries['gpt_a_summ']!='No summary possible.']"
   ]
  },
  {
   "cell_type": "code",
   "execution_count": 14,
   "id": "1c8764a9-8c2b-4e54-ac2a-9d64bd6e14f4",
   "metadata": {
    "tags": []
   },
   "outputs": [
    {
     "data": {
      "text/html": [
       "<div>\n",
       "<style scoped>\n",
       "    .dataframe tbody tr th:only-of-type {\n",
       "        vertical-align: middle;\n",
       "    }\n",
       "\n",
       "    .dataframe tbody tr th {\n",
       "        vertical-align: top;\n",
       "    }\n",
       "\n",
       "    .dataframe thead th {\n",
       "        text-align: right;\n",
       "    }\n",
       "</style>\n",
       "<table border=\"1\" class=\"dataframe\">\n",
       "  <thead>\n",
       "    <tr style=\"text-align: right;\">\n",
       "      <th></th>\n",
       "      <th>text</th>\n",
       "      <th>human_summary</th>\n",
       "      <th>id</th>\n",
       "      <th>occams_summ</th>\n",
       "      <th>gpt_a_summ</th>\n",
       "    </tr>\n",
       "  </thead>\n",
       "  <tbody>\n",
       "    <tr>\n",
       "      <th>86826</th>\n",
       "      <td>James Gandolfini, best known for his role as a...</td>\n",
       "      <td>Edie Falco, who played Tony Soprano's wife, is...</td>\n",
       "      <td>71997309bf0360f53411bd6af5d1fa95351bb117</td>\n",
       "      <td>James Gandolfini, best known for his role as a...</td>\n",
       "      <td>Actor James Gandolfini, best known for his rol...</td>\n",
       "    </tr>\n",
       "    <tr>\n",
       "      <th>110313</th>\n",
       "      <td>Geely pledges to retain group's 107 staff and ...</td>\n",
       "      <td>Coventry-based Manganese Bronze bought by Chin...</td>\n",
       "      <td>52e9acc58aaba7d5e3f32127ef458229bcc6f481</td>\n",
       "      <td>Geely pledges to retain group's 107 staff and ...</td>\n",
       "      <td>Chinese private car maker Geely has acquired C...</td>\n",
       "    </tr>\n",
       "    <tr>\n",
       "      <th>260717</th>\n",
       "      <td>Sachin Tendulkar has revealed that he missed t...</td>\n",
       "      <td>Sachin Tendulkar missed India's 2011 World Cup...</td>\n",
       "      <td>a1a1d975d616c427e23379a2f2d0ae5206e39f72</td>\n",
       "      <td>Sachin Tendulkar has revealed that he missed t...</td>\n",
       "      <td>Sachin Tendulkar, the retired Indian cricketer...</td>\n",
       "    </tr>\n",
       "    <tr>\n",
       "      <th>43256</th>\n",
       "      <td>(CNN) -- Neanderthals likely died off about 30...</td>\n",
       "      <td>Archaeologists uncover 50,000-year-old special...</td>\n",
       "      <td>74d7298a8b989a5a74a131c60711d5a05a423a09</td>\n",
       "      <td>(CNN) -- Neanderthals likely died off about 30...</td>\n",
       "      <td>Neanderthals may have influenced later humans ...</td>\n",
       "    </tr>\n",
       "    <tr>\n",
       "      <th>226988</th>\n",
       "      <td>From the Suffragettes and Marilyn Monroe to Ri...</td>\n",
       "      <td>The colour red is associated with warmth, posi...</td>\n",
       "      <td>f6f46082d0e1b8550ac33b3211692c0f01ea5212</td>\n",
       "      <td>From the Suffragettes and Marilyn Monroe to Ri...</td>\n",
       "      <td>Red lipstick has been used by women for decade...</td>\n",
       "    </tr>\n",
       "  </tbody>\n",
       "</table>\n",
       "</div>"
      ],
      "text/plain": [
       "                                                     text  \\\n",
       "86826   James Gandolfini, best known for his role as a...   \n",
       "110313  Geely pledges to retain group's 107 staff and ...   \n",
       "260717  Sachin Tendulkar has revealed that he missed t...   \n",
       "43256   (CNN) -- Neanderthals likely died off about 30...   \n",
       "226988  From the Suffragettes and Marilyn Monroe to Ri...   \n",
       "\n",
       "                                            human_summary  \\\n",
       "86826   Edie Falco, who played Tony Soprano's wife, is...   \n",
       "110313  Coventry-based Manganese Bronze bought by Chin...   \n",
       "260717  Sachin Tendulkar missed India's 2011 World Cup...   \n",
       "43256   Archaeologists uncover 50,000-year-old special...   \n",
       "226988  The colour red is associated with warmth, posi...   \n",
       "\n",
       "                                              id  \\\n",
       "86826   71997309bf0360f53411bd6af5d1fa95351bb117   \n",
       "110313  52e9acc58aaba7d5e3f32127ef458229bcc6f481   \n",
       "260717  a1a1d975d616c427e23379a2f2d0ae5206e39f72   \n",
       "43256   74d7298a8b989a5a74a131c60711d5a05a423a09   \n",
       "226988  f6f46082d0e1b8550ac33b3211692c0f01ea5212   \n",
       "\n",
       "                                              occams_summ  \\\n",
       "86826   James Gandolfini, best known for his role as a...   \n",
       "110313  Geely pledges to retain group's 107 staff and ...   \n",
       "260717  Sachin Tendulkar has revealed that he missed t...   \n",
       "43256   (CNN) -- Neanderthals likely died off about 30...   \n",
       "226988  From the Suffragettes and Marilyn Monroe to Ri...   \n",
       "\n",
       "                                               gpt_a_summ  \n",
       "86826   Actor James Gandolfini, best known for his rol...  \n",
       "110313  Chinese private car maker Geely has acquired C...  \n",
       "260717  Sachin Tendulkar, the retired Indian cricketer...  \n",
       "43256   Neanderthals may have influenced later humans ...  \n",
       "226988  Red lipstick has been used by women for decade...  "
      ]
     },
     "execution_count": 14,
     "metadata": {},
     "output_type": "execute_result"
    }
   ],
   "source": [
    "cnn_summaries.head()"
   ]
  },
  {
   "cell_type": "code",
   "execution_count": 15,
   "id": "e72c9380-6329-49bc-81f6-38fd408580ee",
   "metadata": {
    "tags": []
   },
   "outputs": [],
   "source": [
    "cnn_summaries.to_parquet('datasets/cnn_experiment.parquet')"
   ]
  },
  {
   "cell_type": "markdown",
   "id": "a1a2e9ef-49ba-438c-92a5-b8e09a20e799",
   "metadata": {
    "tags": []
   },
   "source": [
    "# Extractive Summarization Using GPT 3.5"
   ]
  },
  {
   "cell_type": "code",
   "execution_count": 19,
   "id": "2674326c-c65f-47ab-accf-4d2ed9dd1061",
   "metadata": {},
   "outputs": [
    {
     "name": "stderr",
     "output_type": "stream",
     "text": [
      "bar:  75%|███████▍  | 110/147 [14:11<08:54, 14.44s/it]"
     ]
    },
    {
     "name": "stdout",
     "output_type": "stream",
     "text": [
      "ERROR\n"
     ]
    },
    {
     "name": "stderr",
     "output_type": "stream",
     "text": [
      "bar:  78%|███████▊  | 115/147 [14:46<04:28,  8.38s/it]"
     ]
    },
    {
     "name": "stdout",
     "output_type": "stream",
     "text": [
      "ERROR\n"
     ]
    },
    {
     "name": "stderr",
     "output_type": "stream",
     "text": [
      "bar:  93%|█████████▎| 137/147 [18:01<02:18, 13.87s/it]"
     ]
    },
    {
     "name": "stdout",
     "output_type": "stream",
     "text": [
      "ERROR\n"
     ]
    },
    {
     "name": "stderr",
     "output_type": "stream",
     "text": [
      "bar: 100%|██████████| 147/147 [19:14<00:00,  7.86s/it]"
     ]
    },
    {
     "name": "stdout",
     "output_type": "stream",
     "text": [
      "CPU times: user 9.74 s, sys: 109 ms, total: 9.85 s\n",
      "Wall time: 19min 14s\n"
     ]
    },
    {
     "name": "stderr",
     "output_type": "stream",
     "text": [
      "\n"
     ]
    }
   ],
   "source": [
    "%%time\n",
    "\n",
    "# Prompt adapted from Extractive Summarization via ChatGPT for Faithful Summary Generation (Zhang et al)\n",
    "extractive_prompt = \"\"\"Please identify the {sentence_budget} most important sentences from the text, and present them in a Python list.\n",
    "\n",
    "Text:\n",
    "{text}\n",
    "\n",
    "Output:\n",
    "\"\"\".format(sentence_budget=sentence_budget, text='{text}')\n",
    "\n",
    "\n",
    "cnn_summaries['gpt_e_summ'] = cnn_summaries.text.progress_apply(lambda x: gpt_summarize(x, extractive_prompt))"
   ]
  },
  {
   "cell_type": "code",
   "execution_count": 20,
   "id": "4f2f27d6-b5b5-450d-8b89-2eb0c7be3421",
   "metadata": {
    "tags": []
   },
   "outputs": [
    {
     "name": "stdout",
     "output_type": "stream",
     "text": [
      "3\n"
     ]
    }
   ],
   "source": [
    "print(len(cnn_summaries[cnn_summaries['gpt_e_summ']=='No summary possible.']))\n",
    "cnn_summaries = cnn_summaries[cnn_summaries['gpt_e_summ']!='No summary possible.']"
   ]
  },
  {
   "cell_type": "code",
   "execution_count": 21,
   "id": "c6e0fd78-0d92-48d8-b71b-086a20d608d0",
   "metadata": {
    "tags": []
   },
   "outputs": [],
   "source": [
    "cnn_summaries_copy = cnn_summaries.copy()"
   ]
  },
  {
   "cell_type": "code",
   "execution_count": 23,
   "id": "61e884f6-e8e7-4a5b-824d-83ee5ac22e7b",
   "metadata": {
    "scrolled": true,
    "tags": []
   },
   "outputs": [
    {
     "name": "stderr",
     "output_type": "stream",
     "text": [
      "bar: 100%|██████████| 144/144 [00:00<00:00, 35708.87it/s]"
     ]
    },
    {
     "name": "stdout",
     "output_type": "stream",
     "text": [
      "ERROR\n",
      "[\"Queen Elizabeth and the royal family cost British taxpayers an average of 66 pence ($1.32) per person last year, Buckingham Palace announced Friday in its annual report of royal finances.\",\n",
      "\"The total cost of the queen and royal family was 40 million pounds ($80 million) in the past fiscal year, an increase of 2 percent from the year before, according to the Royal Public Finances report.\",\n",
      "\"The reduction in the amount of head of state expenditure in real terms reflects the continuous attention the royal household pays to obtaining the best value for money in all areas of expenditure,\" said Alan Reid, whose official title is 'keeper of the privy purse.'\",\n",
      "\"Reid warned that the money is not enough to deal with a backlog of maintenance work.\",\n",
      "\"The most expensive trip was the queen's six-day state visit to the United States, which cost a total of 414,042 pounds (about $828,000).\",\n",
      "\" 'This report is provided every year to show transparency in the royal accounts,' said CNN royal watcher Richard Quest.\"]\n",
      "ERROR\n",
      "['Pietersen has just published an autobiography which seeks to ‘blow the lid’ off cricket', \n",
      "'Pietersen's autobiography was written with the purpose of blowing the lid off cricket', \n",
      "'The former England international did that, but he has also damaged his already soiled reputation beyond repair', \n",
      "'Pietersen’s model for his book seems to be Alice In Wonderland, where words mean what Alice wants them to mean', \n",
      "'For what the book confirms is the self-willed fall from grace of a cricketer who had the world at his feet yet never learned to show a straighter bat to that world', \n",
      "'He should have been remembered for his magnificent strokeplay, and indeed his handful of superb innings will be recalled whenever people consider his cricket.']\n",
      "ERROR\n",
      "[\"Six weeks after he was released from Taliban captivity, Sgt. Bowe Bergdahl spent his first day of regular duty working at the headquarters of U.S. Army North in Texas, the army said Tuesday.\",\n",
      "\"The 28-year-old soldier spent five years in the hands of Taliban militants after he disappeared in Afghanistan in June 2009.\",\n",
      "\"On Monday, he began his job with a unit responsible for homeland defense, civil support operations and security cooperation programs involving countries such as Canada, Mexico and the Bahamas.\",\n",
      "\"He will eventually be given a position commensurate with his rank of sergeant.\",\n",
      "\"He's just another soldier in the U.S. Army,\" Manuszewski said.\",\n",
      "\"The news of Bergdahl's freedom initially was met with jubilation, but it quickly turned as many called for an investigation into his disappearance and captivity.\"]\n",
      "ERROR\n",
      "[\"The Station fire brought changes to Rhode Island law, requiring sprinklers at buildings that can house more than 150 people and limiting pyrotechnics.\",\n",
      "\"For Russo and Kane, the years have taught them that time -- lots of time -- can sometimes gradually heal the emotional wounds.\",\n",
      "\"Michael and Jeffrey Derderian, the two brothers who owned the club, pleaded no contest to 100 counts each of involuntary manslaughter.\",\n",
      "\"The loss of life and injuries sustained are almost too heartbreaking to comprehend,\" a statement from the organization said.\",\n",
      "\"The fire prompted many states to pass laws forbidding pyrotechnics in nightclubs, mandating sprinklers and the presence of at least one trained crowd manager.\",\n",
      "\"No concert is worth your life.\"]\n",
      "ERROR\n",
      "[\"North Korea has rescinded its invitation for a U.S. envoy to visit the secretive nation to discuss the fate of Kenneth Bae, a Korean-American man who is being held there, a State Department official said Sunday.\",\n",
      "\"Pyongyang sentenced him last year to 15 years of hard labor, accusing him of planning to bring down the government through religious activities.\",\n",
      "\"No reason was given for the trip cancellation.\",\n",
      "\"We again call on the DPRK to grant Bae special amnesty and immediate release as a humanitarian gesture so he may reunite with his family and seek medical care,\" Psaki said Sunday. \"We will continue to work actively to secure Mr. Bae's release.\",\n",
      "\"The large military drills anger the nuclear-armed North Korean regime, which says it views them as a prelude to an invasion.\",\n",
      "\"The dates of the drills overlap with planned reunions of families in North and South Korea who were separated by the Korean War in the 1950s.\"]\n",
      "ERROR\n",
      "['A Chinese hospital is being investigated for human organ trafficking after a patient claimed they stole one of her kidneys.',\n",
      "'Factory worker Wai Jianmin, 29, was admitted to Shenzhen Guangsheng Hospital, in China\\'s Guangdong province, for a routine operation to remove a blockage in her urinary tract on August 23.',\n",
      "'The surgeon told her that the kidney had begun to bleed and was removed to save her life.',\n",
      "‘I think they took my kidney and did something with it. They tried to hush me up by offering me money and compensation, but I want to know what went on,’ said Ms Jianmin, who has made a formal complaint to police and health officials.',\n",
      "'A hospital spokesman said: ‘The kidney was removed in agreement with expert opinion and is now in storage at the hospital.’',\n",
      "'Officials at the Shenzhen Health Inspection Bureau said: ‘We are investigating the allegations. There is no evidence of wrongdoing yet but we continue to interview people.’']\n",
      "ERROR\n",
      "[\"Britain's consumer watchdog Which? has joined up with Saga and pension experts to praise George Osborne's people power reforms, saying they will ‘transform the way people of all ages save for their future’.\",\n",
      "\"The endorsement is significant as it is rare for Which? to take sides in a political battle.\",\n",
      "\"The letter has been signed by Which? chief executive Peter Vicary-Smith, Adrian Grace the boss of Aegon, Andrew Goodsell of Saga and Dr Altmann.\",\n",
      "\"The experts say Mr Osborne’s decision that retirees should no longer have to buy an annuity have their ‘wholehearted support’ because they mean treating people ‘like grown-ups’.\",\n",
      "\"‘Ending the captive market for annuities will be good for competition, and spur the pensions industry to provide more products and better value,’ the experts insisted, adding: ‘It’s good to see the Government encouraging saving and treating people like grown-ups.’\",\n",
      "\"Last night George Osborne thanked the group for their unusual intervention, saying: ‘This impressive letter confirms that the pensions reforms in my Budget have struck a chord.\"]\n",
      "\n",
      "Note: The last sentence was split into two for better readability.\n",
      "ERROR\n",
      "[\"Pilot error was to blame in the April 2006 crash of an unmanned aircraft, despite the fact no pilot was on board, the National Transportation Safety Board said in its accident report issued Tuesday -- the NTSB's first-ever investigation into an incident involving a drone.\",\n",
      "\"The agency also issued 22 safety recommendations for unmanned aircraft.\",\n",
      "\"The unmanned aerial vehicles have been touted as a possible solution to several issues facing the United States, from drug trafficking to illegal border crossings.\",\n",
      "\"The probable cause of the accident was the failure of the pilot -- who was operating the aircraft remotely -- to follow checklist procedures when switching operational control from a console that had locked up, the agency said.\",\n",
      "\"This investigation has raised questions about the different standards for manned and unmanned aircraft and the safety implications of this discrepancy,\" Rosenker said in the statement.\",\n",
      "\"The pilot, the NTSB noted, was not proficient in emergency procedures.\"]\n",
      "ERROR\n",
      "['Bradford City stun Aston Villa with a 3-1 win in the first leg of their semifinal in the League Cup', 'Goals from Nehki Wells and Rory McArdle stunned the visitors before Andreas Weimann pulled a goal back for Villa but a late header from Carl McHugh restored City's two-goal cushion', 'Bradford are now on the verge of matching the achievement Rochdale, who were the last fourth division side to reach the League Cup final in 1962', 'Villa are owned by Randy Lerner, the American businessman who recently sold the Cleveland Browns NFL franchise', 'Their manager Phil Parkinson told Sky Sports: \"To beat Aston Villa 3-1 is outstanding achievement, we played so well.\"', '\"We want to go and put in a strong performance. If we do that we'll have a great chance of going to Wembley. This is a dream to be in the semifinals with the likes of Chelsea, Villa, Swansea and we've got take it. They'll have to really earn it if they get to the final.\"']\n"
     ]
    },
    {
     "name": "stderr",
     "output_type": "stream",
     "text": [
      "\n"
     ]
    },
    {
     "data": {
      "text/html": [
       "<div>\n",
       "<style scoped>\n",
       "    .dataframe tbody tr th:only-of-type {\n",
       "        vertical-align: middle;\n",
       "    }\n",
       "\n",
       "    .dataframe tbody tr th {\n",
       "        vertical-align: top;\n",
       "    }\n",
       "\n",
       "    .dataframe thead th {\n",
       "        text-align: right;\n",
       "    }\n",
       "</style>\n",
       "<table border=\"1\" class=\"dataframe\">\n",
       "  <thead>\n",
       "    <tr style=\"text-align: right;\">\n",
       "      <th></th>\n",
       "      <th>text</th>\n",
       "      <th>human_summary</th>\n",
       "      <th>id</th>\n",
       "      <th>occams_summ</th>\n",
       "      <th>gpt_a_summ</th>\n",
       "      <th>gpt_e_summ</th>\n",
       "    </tr>\n",
       "  </thead>\n",
       "  <tbody>\n",
       "    <tr>\n",
       "      <th>86826</th>\n",
       "      <td>James Gandolfini, best known for his role as a...</td>\n",
       "      <td>Edie Falco, who played Tony Soprano's wife, is...</td>\n",
       "      <td>71997309bf0360f53411bd6af5d1fa95351bb117</td>\n",
       "      <td>James Gandolfini, best known for his role as a...</td>\n",
       "      <td>Actor James Gandolfini, best known for his rol...</td>\n",
       "      <td>James Gandolfini, best known for his role as a...</td>\n",
       "    </tr>\n",
       "    <tr>\n",
       "      <th>110313</th>\n",
       "      <td>Geely pledges to retain group's 107 staff and ...</td>\n",
       "      <td>Coventry-based Manganese Bronze bought by Chin...</td>\n",
       "      <td>52e9acc58aaba7d5e3f32127ef458229bcc6f481</td>\n",
       "      <td>Geely pledges to retain group's 107 staff and ...</td>\n",
       "      <td>Chinese private car maker Geely has acquired C...</td>\n",
       "      <td>Geely pledged to retain the group's 107 staff ...</td>\n",
       "    </tr>\n",
       "    <tr>\n",
       "      <th>260717</th>\n",
       "      <td>Sachin Tendulkar has revealed that he missed t...</td>\n",
       "      <td>Sachin Tendulkar missed India's 2011 World Cup...</td>\n",
       "      <td>a1a1d975d616c427e23379a2f2d0ae5206e39f72</td>\n",
       "      <td>Sachin Tendulkar has revealed that he missed t...</td>\n",
       "      <td>Sachin Tendulkar, the retired Indian cricketer...</td>\n",
       "      <td>Sachin Tendulkar has revealed that he missed t...</td>\n",
       "    </tr>\n",
       "    <tr>\n",
       "      <th>43256</th>\n",
       "      <td>(CNN) -- Neanderthals likely died off about 30...</td>\n",
       "      <td>Archaeologists uncover 50,000-year-old special...</td>\n",
       "      <td>74d7298a8b989a5a74a131c60711d5a05a423a09</td>\n",
       "      <td>(CNN) -- Neanderthals likely died off about 30...</td>\n",
       "      <td>Neanderthals may have influenced later humans ...</td>\n",
       "      <td>Neanderthals were making specialized bone tool...</td>\n",
       "    </tr>\n",
       "    <tr>\n",
       "      <th>226988</th>\n",
       "      <td>From the Suffragettes and Marilyn Monroe to Ri...</td>\n",
       "      <td>The colour red is associated with warmth, posi...</td>\n",
       "      <td>f6f46082d0e1b8550ac33b3211692c0f01ea5212</td>\n",
       "      <td>From the Suffragettes and Marilyn Monroe to Ri...</td>\n",
       "      <td>Red lipstick has been used by women for decade...</td>\n",
       "      <td>From the Suffragettes and Marilyn Monroe to Ri...</td>\n",
       "    </tr>\n",
       "    <tr>\n",
       "      <th>...</th>\n",
       "      <td>...</td>\n",
       "      <td>...</td>\n",
       "      <td>...</td>\n",
       "      <td>...</td>\n",
       "      <td>...</td>\n",
       "      <td>...</td>\n",
       "    </tr>\n",
       "    <tr>\n",
       "      <th>169751</th>\n",
       "      <td>By . Chloe Lambert . Peter Cross experienced p...</td>\n",
       "      <td>Peter Cross, 61, spend time in hospital recove...</td>\n",
       "      <td>b84bc1465468e34857c8744c0fba7a331c714797</td>\n",
       "      <td>his surgery at University College London Hospi...</td>\n",
       "      <td>Up to 50,000 people in the UK suffer from post...</td>\n",
       "      <td>Every year up to 50,000 people in Britain suff...</td>\n",
       "    </tr>\n",
       "    <tr>\n",
       "      <th>83256</th>\n",
       "      <td>As the hours count down to $85 billion in gove...</td>\n",
       "      <td>Amtrak says no changes or cutbacks in schedule...</td>\n",
       "      <td>7ebfd63c63314ab632c37e29edbcc8fb00a90176</td>\n",
       "      <td>As the hours count down to $85 billion in gove...</td>\n",
       "      <td>Despite the impending government-wide spending...</td>\n",
       "      <td>Officials of the nation's only long-haul passe...</td>\n",
       "    </tr>\n",
       "    <tr>\n",
       "      <th>55507</th>\n",
       "      <td>Donetsk, Ukraine (CNN) -- The battle for contr...</td>\n",
       "      <td>Civilians caught in a crossfire between Ukrain...</td>\n",
       "      <td>5c2a93464009e928258d2588789c6ff8ced60fb2</td>\n",
       "      <td>Donetsk, Ukraine (CNN) -- The battle for contr...</td>\n",
       "      <td>The battle for control of the eastern Ukrainia...</td>\n",
       "      <td>The battle for control of the eastern Ukrainia...</td>\n",
       "    </tr>\n",
       "    <tr>\n",
       "      <th>98340</th>\n",
       "      <td>By . Daily Mail Reporter . UPDATED: . 10:59 ES...</td>\n",
       "      <td>U.S trials halted after twice as many patients...</td>\n",
       "      <td>bc86832fbef69988507351d5ef030bdbcb340b89</td>\n",
       "      <td>Artery-opening brain stents that are designed ...</td>\n",
       "      <td>Brain stents designed to prevent repeat stroke...</td>\n",
       "      <td>Artery-opening brain stents that are designed ...</td>\n",
       "    </tr>\n",
       "    <tr>\n",
       "      <th>82746</th>\n",
       "      <td>Last week's massacre at a Colorado movie theat...</td>\n",
       "      <td>President Obama, Mitt Romney call for fully en...</td>\n",
       "      <td>174fa4808e55bea4e1722ad5922df7b10abc43a5</td>\n",
       "      <td>Last week's massacre at a Colorado movie theat...</td>\n",
       "      <td>Both President Obama and Republican candidate ...</td>\n",
       "      <td>Obama supports reinstating a ban on manufactur...</td>\n",
       "    </tr>\n",
       "  </tbody>\n",
       "</table>\n",
       "<p>135 rows × 6 columns</p>\n",
       "</div>"
      ],
      "text/plain": [
       "                                                     text  \\\n",
       "86826   James Gandolfini, best known for his role as a...   \n",
       "110313  Geely pledges to retain group's 107 staff and ...   \n",
       "260717  Sachin Tendulkar has revealed that he missed t...   \n",
       "43256   (CNN) -- Neanderthals likely died off about 30...   \n",
       "226988  From the Suffragettes and Marilyn Monroe to Ri...   \n",
       "...                                                   ...   \n",
       "169751  By . Chloe Lambert . Peter Cross experienced p...   \n",
       "83256   As the hours count down to $85 billion in gove...   \n",
       "55507   Donetsk, Ukraine (CNN) -- The battle for contr...   \n",
       "98340   By . Daily Mail Reporter . UPDATED: . 10:59 ES...   \n",
       "82746   Last week's massacre at a Colorado movie theat...   \n",
       "\n",
       "                                            human_summary  \\\n",
       "86826   Edie Falco, who played Tony Soprano's wife, is...   \n",
       "110313  Coventry-based Manganese Bronze bought by Chin...   \n",
       "260717  Sachin Tendulkar missed India's 2011 World Cup...   \n",
       "43256   Archaeologists uncover 50,000-year-old special...   \n",
       "226988  The colour red is associated with warmth, posi...   \n",
       "...                                                   ...   \n",
       "169751  Peter Cross, 61, spend time in hospital recove...   \n",
       "83256   Amtrak says no changes or cutbacks in schedule...   \n",
       "55507   Civilians caught in a crossfire between Ukrain...   \n",
       "98340   U.S trials halted after twice as many patients...   \n",
       "82746   President Obama, Mitt Romney call for fully en...   \n",
       "\n",
       "                                              id  \\\n",
       "86826   71997309bf0360f53411bd6af5d1fa95351bb117   \n",
       "110313  52e9acc58aaba7d5e3f32127ef458229bcc6f481   \n",
       "260717  a1a1d975d616c427e23379a2f2d0ae5206e39f72   \n",
       "43256   74d7298a8b989a5a74a131c60711d5a05a423a09   \n",
       "226988  f6f46082d0e1b8550ac33b3211692c0f01ea5212   \n",
       "...                                          ...   \n",
       "169751  b84bc1465468e34857c8744c0fba7a331c714797   \n",
       "83256   7ebfd63c63314ab632c37e29edbcc8fb00a90176   \n",
       "55507   5c2a93464009e928258d2588789c6ff8ced60fb2   \n",
       "98340   bc86832fbef69988507351d5ef030bdbcb340b89   \n",
       "82746   174fa4808e55bea4e1722ad5922df7b10abc43a5   \n",
       "\n",
       "                                              occams_summ  \\\n",
       "86826   James Gandolfini, best known for his role as a...   \n",
       "110313  Geely pledges to retain group's 107 staff and ...   \n",
       "260717  Sachin Tendulkar has revealed that he missed t...   \n",
       "43256   (CNN) -- Neanderthals likely died off about 30...   \n",
       "226988  From the Suffragettes and Marilyn Monroe to Ri...   \n",
       "...                                                   ...   \n",
       "169751  his surgery at University College London Hospi...   \n",
       "83256   As the hours count down to $85 billion in gove...   \n",
       "55507   Donetsk, Ukraine (CNN) -- The battle for contr...   \n",
       "98340   Artery-opening brain stents that are designed ...   \n",
       "82746   Last week's massacre at a Colorado movie theat...   \n",
       "\n",
       "                                               gpt_a_summ  \\\n",
       "86826   Actor James Gandolfini, best known for his rol...   \n",
       "110313  Chinese private car maker Geely has acquired C...   \n",
       "260717  Sachin Tendulkar, the retired Indian cricketer...   \n",
       "43256   Neanderthals may have influenced later humans ...   \n",
       "226988  Red lipstick has been used by women for decade...   \n",
       "...                                                   ...   \n",
       "169751  Up to 50,000 people in the UK suffer from post...   \n",
       "83256   Despite the impending government-wide spending...   \n",
       "55507   The battle for control of the eastern Ukrainia...   \n",
       "98340   Brain stents designed to prevent repeat stroke...   \n",
       "82746   Both President Obama and Republican candidate ...   \n",
       "\n",
       "                                               gpt_e_summ  \n",
       "86826   James Gandolfini, best known for his role as a...  \n",
       "110313  Geely pledged to retain the group's 107 staff ...  \n",
       "260717  Sachin Tendulkar has revealed that he missed t...  \n",
       "43256   Neanderthals were making specialized bone tool...  \n",
       "226988  From the Suffragettes and Marilyn Monroe to Ri...  \n",
       "...                                                   ...  \n",
       "169751  Every year up to 50,000 people in Britain suff...  \n",
       "83256   Officials of the nation's only long-haul passe...  \n",
       "55507   The battle for control of the eastern Ukrainia...  \n",
       "98340   Artery-opening brain stents that are designed ...  \n",
       "82746   Obama supports reinstating a ban on manufactur...  \n",
       "\n",
       "[135 rows x 6 columns]"
      ]
     },
     "execution_count": 23,
     "metadata": {},
     "output_type": "execute_result"
    }
   ],
   "source": [
    "import ast\n",
    "def parse_list(x):\n",
    "    try:\n",
    "        new_str = \" \".join(ast.literal_eval(x))\n",
    "        return new_str\n",
    "    except:\n",
    "        print('ERROR')\n",
    "        print(x)\n",
    "        new_str = 'ERROR'\n",
    "        return new_str\n",
    "    finally:\n",
    "        return new_str\n",
    "    \n",
    "cnn_summaries['gpt_e_summ'] = cnn_summaries.gpt_e_summ.progress_apply(lambda x: parse_list(x))\n",
    "cnn_summaries[cnn_summaries['gpt_e_summ']!='ERROR']"
   ]
  },
  {
   "cell_type": "code",
   "execution_count": 25,
   "id": "a84cc85a-448a-4191-afef-d9d2816141a0",
   "metadata": {
    "tags": []
   },
   "outputs": [],
   "source": [
    "cnn_summaries = cnn_summaries[cnn_summaries['gpt_e_summ']!='ERROR']"
   ]
  },
  {
   "cell_type": "code",
   "execution_count": 27,
   "id": "2709dfb1-2b0c-40b5-b3ea-08d0bdc3f99d",
   "metadata": {},
   "outputs": [
    {
     "name": "stdout",
     "output_type": "stream",
     "text": [
      "135\n"
     ]
    },
    {
     "data": {
      "text/html": [
       "<div>\n",
       "<style scoped>\n",
       "    .dataframe tbody tr th:only-of-type {\n",
       "        vertical-align: middle;\n",
       "    }\n",
       "\n",
       "    .dataframe tbody tr th {\n",
       "        vertical-align: top;\n",
       "    }\n",
       "\n",
       "    .dataframe thead th {\n",
       "        text-align: right;\n",
       "    }\n",
       "</style>\n",
       "<table border=\"1\" class=\"dataframe\">\n",
       "  <thead>\n",
       "    <tr style=\"text-align: right;\">\n",
       "      <th></th>\n",
       "      <th>text</th>\n",
       "      <th>human_summary</th>\n",
       "      <th>id</th>\n",
       "      <th>occams_summ</th>\n",
       "      <th>gpt_a_summ</th>\n",
       "      <th>gpt_e_summ</th>\n",
       "    </tr>\n",
       "  </thead>\n",
       "  <tbody>\n",
       "    <tr>\n",
       "      <th>86826</th>\n",
       "      <td>James Gandolfini, best known for his role as a...</td>\n",
       "      <td>Edie Falco, who played Tony Soprano's wife, is...</td>\n",
       "      <td>71997309bf0360f53411bd6af5d1fa95351bb117</td>\n",
       "      <td>James Gandolfini, best known for his role as a...</td>\n",
       "      <td>Actor James Gandolfini, best known for his rol...</td>\n",
       "      <td>James Gandolfini, best known for his role as a...</td>\n",
       "    </tr>\n",
       "    <tr>\n",
       "      <th>110313</th>\n",
       "      <td>Geely pledges to retain group's 107 staff and ...</td>\n",
       "      <td>Coventry-based Manganese Bronze bought by Chin...</td>\n",
       "      <td>52e9acc58aaba7d5e3f32127ef458229bcc6f481</td>\n",
       "      <td>Geely pledges to retain group's 107 staff and ...</td>\n",
       "      <td>Chinese private car maker Geely has acquired C...</td>\n",
       "      <td>Geely pledged to retain the group's 107 staff ...</td>\n",
       "    </tr>\n",
       "    <tr>\n",
       "      <th>260717</th>\n",
       "      <td>Sachin Tendulkar has revealed that he missed t...</td>\n",
       "      <td>Sachin Tendulkar missed India's 2011 World Cup...</td>\n",
       "      <td>a1a1d975d616c427e23379a2f2d0ae5206e39f72</td>\n",
       "      <td>Sachin Tendulkar has revealed that he missed t...</td>\n",
       "      <td>Sachin Tendulkar, the retired Indian cricketer...</td>\n",
       "      <td>Sachin Tendulkar has revealed that he missed t...</td>\n",
       "    </tr>\n",
       "    <tr>\n",
       "      <th>43256</th>\n",
       "      <td>(CNN) -- Neanderthals likely died off about 30...</td>\n",
       "      <td>Archaeologists uncover 50,000-year-old special...</td>\n",
       "      <td>74d7298a8b989a5a74a131c60711d5a05a423a09</td>\n",
       "      <td>(CNN) -- Neanderthals likely died off about 30...</td>\n",
       "      <td>Neanderthals may have influenced later humans ...</td>\n",
       "      <td>Neanderthals were making specialized bone tool...</td>\n",
       "    </tr>\n",
       "    <tr>\n",
       "      <th>226988</th>\n",
       "      <td>From the Suffragettes and Marilyn Monroe to Ri...</td>\n",
       "      <td>The colour red is associated with warmth, posi...</td>\n",
       "      <td>f6f46082d0e1b8550ac33b3211692c0f01ea5212</td>\n",
       "      <td>From the Suffragettes and Marilyn Monroe to Ri...</td>\n",
       "      <td>Red lipstick has been used by women for decade...</td>\n",
       "      <td>From the Suffragettes and Marilyn Monroe to Ri...</td>\n",
       "    </tr>\n",
       "  </tbody>\n",
       "</table>\n",
       "</div>"
      ],
      "text/plain": [
       "                                                     text  \\\n",
       "86826   James Gandolfini, best known for his role as a...   \n",
       "110313  Geely pledges to retain group's 107 staff and ...   \n",
       "260717  Sachin Tendulkar has revealed that he missed t...   \n",
       "43256   (CNN) -- Neanderthals likely died off about 30...   \n",
       "226988  From the Suffragettes and Marilyn Monroe to Ri...   \n",
       "\n",
       "                                            human_summary  \\\n",
       "86826   Edie Falco, who played Tony Soprano's wife, is...   \n",
       "110313  Coventry-based Manganese Bronze bought by Chin...   \n",
       "260717  Sachin Tendulkar missed India's 2011 World Cup...   \n",
       "43256   Archaeologists uncover 50,000-year-old special...   \n",
       "226988  The colour red is associated with warmth, posi...   \n",
       "\n",
       "                                              id  \\\n",
       "86826   71997309bf0360f53411bd6af5d1fa95351bb117   \n",
       "110313  52e9acc58aaba7d5e3f32127ef458229bcc6f481   \n",
       "260717  a1a1d975d616c427e23379a2f2d0ae5206e39f72   \n",
       "43256   74d7298a8b989a5a74a131c60711d5a05a423a09   \n",
       "226988  f6f46082d0e1b8550ac33b3211692c0f01ea5212   \n",
       "\n",
       "                                              occams_summ  \\\n",
       "86826   James Gandolfini, best known for his role as a...   \n",
       "110313  Geely pledges to retain group's 107 staff and ...   \n",
       "260717  Sachin Tendulkar has revealed that he missed t...   \n",
       "43256   (CNN) -- Neanderthals likely died off about 30...   \n",
       "226988  From the Suffragettes and Marilyn Monroe to Ri...   \n",
       "\n",
       "                                               gpt_a_summ  \\\n",
       "86826   Actor James Gandolfini, best known for his rol...   \n",
       "110313  Chinese private car maker Geely has acquired C...   \n",
       "260717  Sachin Tendulkar, the retired Indian cricketer...   \n",
       "43256   Neanderthals may have influenced later humans ...   \n",
       "226988  Red lipstick has been used by women for decade...   \n",
       "\n",
       "                                               gpt_e_summ  \n",
       "86826   James Gandolfini, best known for his role as a...  \n",
       "110313  Geely pledged to retain the group's 107 staff ...  \n",
       "260717  Sachin Tendulkar has revealed that he missed t...  \n",
       "43256   Neanderthals were making specialized bone tool...  \n",
       "226988  From the Suffragettes and Marilyn Monroe to Ri...  "
      ]
     },
     "execution_count": 27,
     "metadata": {},
     "output_type": "execute_result"
    }
   ],
   "source": [
    "print(len(cnn_summaries))\n",
    "cnn_summaries.head()"
   ]
  },
  {
   "cell_type": "code",
   "execution_count": 28,
   "id": "12bf4e7e-84a2-46ff-908f-27bcf434929c",
   "metadata": {},
   "outputs": [],
   "source": [
    "cnn_summaries.to_parquet('datasets/cnn_experiment.parquet')"
   ]
  },
  {
   "cell_type": "code",
   "execution_count": 2,
   "id": "9263ded7-3211-4100-b5c6-3b0235ba3e48",
   "metadata": {
    "tags": []
   },
   "outputs": [],
   "source": [
    "import pandas as pd\n",
    "cnn_summaries = pd.read_parquet('datasets/cnn_experiment.parquet')"
   ]
  },
  {
   "cell_type": "markdown",
   "id": "fe26c19b-dfa3-4886-ae95-db2e14b537f6",
   "metadata": {},
   "source": [
    "## OCCAMS Extractive Summaries"
   ]
  },
  {
   "cell_type": "code",
   "execution_count": 6,
   "id": "84d68aee-abe9-4db1-a2f2-197f9c376565",
   "metadata": {},
   "outputs": [],
   "source": [
    "from occams.nlp import TermOrder\n",
    "from occams.nlp import process_document\n",
    "from occams.summarize import SummaryUnits, extract_summary\n",
    "UNITS = SummaryUnits.CHARS"
   ]
  },
  {
   "cell_type": "code",
   "execution_count": 12,
   "id": "dc16c576-70c3-41e3-a252-30d43d2d2ebd",
   "metadata": {},
   "outputs": [],
   "source": [
    "# avg_len = sum(cnn_summaries['gpt_e_summ'].str.len())/len(cnn_summaries)\n",
    "# char_budget = cnn_summaries.gpt_e_summ.str.len().max()\n",
    "char_budget = math.floor(cnn_summaries.gpt_e_summ.str.len().quantile(.75))\n",
    "\n",
    "from nltk.tokenize import sent_tokenize\n",
    "\n",
    "# Adapted from Jacob Baxter\n",
    "def occams_summarize(document):\n",
    "    return extract_summary([process_document(document, TermOrder.BIGRAMS)], budget=char_budget, units=UNITS).summary()\n",
    "    "
   ]
  },
  {
   "cell_type": "code",
   "execution_count": 13,
   "id": "3b19181d-1f47-48ee-acb5-6bb85fd257c5",
   "metadata": {},
   "outputs": [
    {
     "name": "stderr",
     "output_type": "stream",
     "text": [
      "bar: 100%|██████████| 129/129 [00:01<00:00, 72.40it/s]"
     ]
    },
    {
     "name": "stdout",
     "output_type": "stream",
     "text": [
      "CPU times: user 1.77 s, sys: 11.8 ms, total: 1.78 s\n",
      "Wall time: 1.78 s\n"
     ]
    },
    {
     "name": "stderr",
     "output_type": "stream",
     "text": [
      "\n"
     ]
    },
    {
     "data": {
      "text/html": [
       "<div>\n",
       "<style scoped>\n",
       "    .dataframe tbody tr th:only-of-type {\n",
       "        vertical-align: middle;\n",
       "    }\n",
       "\n",
       "    .dataframe tbody tr th {\n",
       "        vertical-align: top;\n",
       "    }\n",
       "\n",
       "    .dataframe thead th {\n",
       "        text-align: right;\n",
       "    }\n",
       "</style>\n",
       "<table border=\"1\" class=\"dataframe\">\n",
       "  <thead>\n",
       "    <tr style=\"text-align: right;\">\n",
       "      <th></th>\n",
       "      <th>text</th>\n",
       "      <th>human_summary</th>\n",
       "      <th>id</th>\n",
       "      <th>occams_summ</th>\n",
       "      <th>gpt_a_summ</th>\n",
       "      <th>gpt_e_summ</th>\n",
       "      <th>occams_gpt_summ</th>\n",
       "      <th>gpt_gpt_summ</th>\n",
       "    </tr>\n",
       "  </thead>\n",
       "  <tbody>\n",
       "    <tr>\n",
       "      <th>86826</th>\n",
       "      <td>James Gandolfini, best known for his role as a...</td>\n",
       "      <td>Edie Falco, who played Tony Soprano's wife, is...</td>\n",
       "      <td>71997309bf0360f53411bd6af5d1fa95351bb117</td>\n",
       "      <td>James Gandolfini, best known for his role as a...</td>\n",
       "      <td>Actor James Gandolfini, best known for his rol...</td>\n",
       "      <td>James Gandolfini, best known for his role as a...</td>\n",
       "      <td>James Gandolfini, famous for his role in \"The ...</td>\n",
       "      <td>James Gandolfini, best known for his role as T...</td>\n",
       "    </tr>\n",
       "    <tr>\n",
       "      <th>110313</th>\n",
       "      <td>Geely pledges to retain group's 107 staff and ...</td>\n",
       "      <td>Coventry-based Manganese Bronze bought by Chin...</td>\n",
       "      <td>52e9acc58aaba7d5e3f32127ef458229bcc6f481</td>\n",
       "      <td>Geely pledges to retain group's 107 staff and ...</td>\n",
       "      <td>Chinese private car maker Geely has acquired C...</td>\n",
       "      <td>Geely pledged to retain the group's 107 staff ...</td>\n",
       "      <td>Geely has promised to keep the London Taxi Com...</td>\n",
       "      <td>Chinese automaker Geely has acquired London Ta...</td>\n",
       "    </tr>\n",
       "    <tr>\n",
       "      <th>260717</th>\n",
       "      <td>Sachin Tendulkar has revealed that he missed t...</td>\n",
       "      <td>Sachin Tendulkar missed India's 2011 World Cup...</td>\n",
       "      <td>a1a1d975d616c427e23379a2f2d0ae5206e39f72</td>\n",
       "      <td>Sachin Tendulkar has revealed that he missed t...</td>\n",
       "      <td>Sachin Tendulkar, the retired Indian cricketer...</td>\n",
       "      <td>Sachin Tendulkar has revealed that he missed t...</td>\n",
       "      <td>Sachin Tendulkar missed India's victory in the...</td>\n",
       "      <td>Sachin Tendulkar, the retired Indian cricketer...</td>\n",
       "    </tr>\n",
       "    <tr>\n",
       "      <th>43256</th>\n",
       "      <td>(CNN) -- Neanderthals likely died off about 30...</td>\n",
       "      <td>Archaeologists uncover 50,000-year-old special...</td>\n",
       "      <td>74d7298a8b989a5a74a131c60711d5a05a423a09</td>\n",
       "      <td>(CNN) -- Neanderthals likely died off about 30...</td>\n",
       "      <td>Neanderthals may have influenced later humans ...</td>\n",
       "      <td>Neanderthals were making specialized bone tool...</td>\n",
       "      <td>A new study suggests that Neanderthals may hav...</td>\n",
       "      <td>Neanderthals had advanced behavioral complexit...</td>\n",
       "    </tr>\n",
       "    <tr>\n",
       "      <th>226988</th>\n",
       "      <td>From the Suffragettes and Marilyn Monroe to Ri...</td>\n",
       "      <td>The colour red is associated with warmth, posi...</td>\n",
       "      <td>f6f46082d0e1b8550ac33b3211692c0f01ea5212</td>\n",
       "      <td>From the Suffragettes and Marilyn Monroe to Ri...</td>\n",
       "      <td>Red lipstick has been used by women for decade...</td>\n",
       "      <td>From the Suffragettes and Marilyn Monroe to Ri...</td>\n",
       "      <td>Red lipstick has been used by women for decade...</td>\n",
       "      <td>Scientists at the University of Manchester fou...</td>\n",
       "    </tr>\n",
       "  </tbody>\n",
       "</table>\n",
       "</div>"
      ],
      "text/plain": [
       "                                                     text  \\\n",
       "86826   James Gandolfini, best known for his role as a...   \n",
       "110313  Geely pledges to retain group's 107 staff and ...   \n",
       "260717  Sachin Tendulkar has revealed that he missed t...   \n",
       "43256   (CNN) -- Neanderthals likely died off about 30...   \n",
       "226988  From the Suffragettes and Marilyn Monroe to Ri...   \n",
       "\n",
       "                                            human_summary  \\\n",
       "86826   Edie Falco, who played Tony Soprano's wife, is...   \n",
       "110313  Coventry-based Manganese Bronze bought by Chin...   \n",
       "260717  Sachin Tendulkar missed India's 2011 World Cup...   \n",
       "43256   Archaeologists uncover 50,000-year-old special...   \n",
       "226988  The colour red is associated with warmth, posi...   \n",
       "\n",
       "                                              id  \\\n",
       "86826   71997309bf0360f53411bd6af5d1fa95351bb117   \n",
       "110313  52e9acc58aaba7d5e3f32127ef458229bcc6f481   \n",
       "260717  a1a1d975d616c427e23379a2f2d0ae5206e39f72   \n",
       "43256   74d7298a8b989a5a74a131c60711d5a05a423a09   \n",
       "226988  f6f46082d0e1b8550ac33b3211692c0f01ea5212   \n",
       "\n",
       "                                              occams_summ  \\\n",
       "86826   James Gandolfini, best known for his role as a...   \n",
       "110313  Geely pledges to retain group's 107 staff and ...   \n",
       "260717  Sachin Tendulkar has revealed that he missed t...   \n",
       "43256   (CNN) -- Neanderthals likely died off about 30...   \n",
       "226988  From the Suffragettes and Marilyn Monroe to Ri...   \n",
       "\n",
       "                                               gpt_a_summ  \\\n",
       "86826   Actor James Gandolfini, best known for his rol...   \n",
       "110313  Chinese private car maker Geely has acquired C...   \n",
       "260717  Sachin Tendulkar, the retired Indian cricketer...   \n",
       "43256   Neanderthals may have influenced later humans ...   \n",
       "226988  Red lipstick has been used by women for decade...   \n",
       "\n",
       "                                               gpt_e_summ  \\\n",
       "86826   James Gandolfini, best known for his role as a...   \n",
       "110313  Geely pledged to retain the group's 107 staff ...   \n",
       "260717  Sachin Tendulkar has revealed that he missed t...   \n",
       "43256   Neanderthals were making specialized bone tool...   \n",
       "226988  From the Suffragettes and Marilyn Monroe to Ri...   \n",
       "\n",
       "                                          occams_gpt_summ  \\\n",
       "86826   James Gandolfini, famous for his role in \"The ...   \n",
       "110313  Geely has promised to keep the London Taxi Com...   \n",
       "260717  Sachin Tendulkar missed India's victory in the...   \n",
       "43256   A new study suggests that Neanderthals may hav...   \n",
       "226988  Red lipstick has been used by women for decade...   \n",
       "\n",
       "                                             gpt_gpt_summ  \n",
       "86826   James Gandolfini, best known for his role as T...  \n",
       "110313  Chinese automaker Geely has acquired London Ta...  \n",
       "260717  Sachin Tendulkar, the retired Indian cricketer...  \n",
       "43256   Neanderthals had advanced behavioral complexit...  \n",
       "226988  Scientists at the University of Manchester fou...  "
      ]
     },
     "execution_count": 13,
     "metadata": {},
     "output_type": "execute_result"
    }
   ],
   "source": [
    "%%time \n",
    "# cnn_summaries[\"occams_summ\"] = cnn_summaries.head(10).text.apply(occams_summarize)\n",
    "cnn_summaries[\"occams_summ\"] = cnn_summaries.text.progress_apply(occams_summarize)\n",
    "cnn_summaries.head()"
   ]
  },
  {
   "cell_type": "code",
   "execution_count": 16,
   "id": "258fe304-8366-408f-b389-5795e0cfd90b",
   "metadata": {
    "tags": []
   },
   "outputs": [],
   "source": [
    "cnn_summaries.to_parquet('datasets/cnn_experiment.parquet')"
   ]
  },
  {
   "cell_type": "code",
   "execution_count": 15,
   "id": "12a599f0-e067-4809-a337-3c43c1f5d691",
   "metadata": {
    "tags": []
   },
   "outputs": [
    {
     "data": {
      "text/plain": [
       "count     129.000000\n",
       "mean      982.565891\n",
       "std        34.280061\n",
       "min       646.000000\n",
       "25%       978.000000\n",
       "50%       988.000000\n",
       "75%      1000.000000\n",
       "max      1004.000000\n",
       "Name: occams_summ, dtype: float64"
      ]
     },
     "execution_count": 15,
     "metadata": {},
     "output_type": "execute_result"
    }
   ],
   "source": [
    "cnn_summaries.occams_summ.str.len().describe()\n"
   ]
  },
  {
   "cell_type": "markdown",
   "id": "90b47ecc-b2fe-4505-9c0d-fabe949624a3",
   "metadata": {
    "tags": []
   },
   "source": [
    "# Hybrid Summarization"
   ]
  },
  {
   "cell_type": "markdown",
   "id": "687364e2-514e-4137-b761-7c687c81b943",
   "metadata": {
    "tags": []
   },
   "source": [
    "## Extractive: OCCAMS Abstractive: GPT 3.5"
   ]
  },
  {
   "cell_type": "code",
   "execution_count": 20,
   "id": "f1117a1c-9505-4b95-933b-b026c9c9b787",
   "metadata": {
    "tags": []
   },
   "outputs": [
    {
     "name": "stderr",
     "output_type": "stream",
     "text": [
      "bar:  49%|████▉     | 63/129 [04:43<13:12, 12.00s/it]"
     ]
    },
    {
     "name": "stdout",
     "output_type": "stream",
     "text": [
      "ERROR\n"
     ]
    },
    {
     "name": "stderr",
     "output_type": "stream",
     "text": [
      "bar:  50%|████▉     | 64/129 [04:48<10:43,  9.90s/it]"
     ]
    },
    {
     "name": "stdout",
     "output_type": "stream",
     "text": [
      "ERROR\n"
     ]
    },
    {
     "name": "stderr",
     "output_type": "stream",
     "text": [
      "bar:  79%|███████▉  | 102/129 [07:55<05:28, 12.17s/it]"
     ]
    },
    {
     "name": "stdout",
     "output_type": "stream",
     "text": [
      "ERROR\n"
     ]
    },
    {
     "name": "stderr",
     "output_type": "stream",
     "text": [
      "bar: 100%|██████████| 129/129 [09:53<00:00,  4.60s/it]"
     ]
    },
    {
     "name": "stdout",
     "output_type": "stream",
     "text": [
      "CPU times: user 7.67 s, sys: 83.7 ms, total: 7.75 s\n",
      "Wall time: 9min 53s\n"
     ]
    },
    {
     "name": "stderr",
     "output_type": "stream",
     "text": [
      "\n"
     ]
    }
   ],
   "source": [
    "%%time\n",
    "\n",
    "# Note that we are using the SAME prompt for both OCCAMS and ChatGPT based extractive summaries\n",
    "hybrid_prompt = \"\"\"You are a  summarizer that follows the output pattern. Please summarize this text.\n",
    "\n",
    "Text:\n",
    "{text}\n",
    "\n",
    "Summary:\n",
    "\"\"\".format(text='{text}')\n",
    "\n",
    "cnn_summaries['occams_gpt_summ'] = cnn_summaries.occams_summ.progress_apply(lambda x: gpt_summarize(x, hybrid_prompt))"
   ]
  },
  {
   "cell_type": "code",
   "execution_count": 21,
   "id": "66031af6-481e-4af9-a844-d5431779cedc",
   "metadata": {
    "tags": []
   },
   "outputs": [
    {
     "name": "stdout",
     "output_type": "stream",
     "text": [
      "3\n"
     ]
    },
    {
     "data": {
      "text/html": [
       "<div>\n",
       "<style scoped>\n",
       "    .dataframe tbody tr th:only-of-type {\n",
       "        vertical-align: middle;\n",
       "    }\n",
       "\n",
       "    .dataframe tbody tr th {\n",
       "        vertical-align: top;\n",
       "    }\n",
       "\n",
       "    .dataframe thead th {\n",
       "        text-align: right;\n",
       "    }\n",
       "</style>\n",
       "<table border=\"1\" class=\"dataframe\">\n",
       "  <thead>\n",
       "    <tr style=\"text-align: right;\">\n",
       "      <th></th>\n",
       "      <th>text</th>\n",
       "      <th>human_summary</th>\n",
       "      <th>id</th>\n",
       "      <th>occams_summ</th>\n",
       "      <th>gpt_a_summ</th>\n",
       "      <th>gpt_e_summ</th>\n",
       "      <th>occams_gpt_summ</th>\n",
       "      <th>gpt_gpt_summ</th>\n",
       "    </tr>\n",
       "  </thead>\n",
       "  <tbody>\n",
       "    <tr>\n",
       "      <th>86826</th>\n",
       "      <td>James Gandolfini, best known for his role as a...</td>\n",
       "      <td>Edie Falco, who played Tony Soprano's wife, is...</td>\n",
       "      <td>71997309bf0360f53411bd6af5d1fa95351bb117</td>\n",
       "      <td>James Gandolfini, best known for his role as a...</td>\n",
       "      <td>Actor James Gandolfini, best known for his rol...</td>\n",
       "      <td>James Gandolfini, best known for his role as a...</td>\n",
       "      <td>James Gandolfini, best known for his role as T...</td>\n",
       "      <td>James Gandolfini, best known for his role as T...</td>\n",
       "    </tr>\n",
       "    <tr>\n",
       "      <th>110313</th>\n",
       "      <td>Geely pledges to retain group's 107 staff and ...</td>\n",
       "      <td>Coventry-based Manganese Bronze bought by Chin...</td>\n",
       "      <td>52e9acc58aaba7d5e3f32127ef458229bcc6f481</td>\n",
       "      <td>Geely pledges to retain group's 107 staff and ...</td>\n",
       "      <td>Chinese private car maker Geely has acquired C...</td>\n",
       "      <td>Geely pledged to retain the group's 107 staff ...</td>\n",
       "      <td>Chinese company Geely has saved the London Tax...</td>\n",
       "      <td>Chinese automaker Geely has acquired London Ta...</td>\n",
       "    </tr>\n",
       "    <tr>\n",
       "      <th>260717</th>\n",
       "      <td>Sachin Tendulkar has revealed that he missed t...</td>\n",
       "      <td>Sachin Tendulkar missed India's 2011 World Cup...</td>\n",
       "      <td>a1a1d975d616c427e23379a2f2d0ae5206e39f72</td>\n",
       "      <td>Sachin Tendulkar has revealed that he missed t...</td>\n",
       "      <td>Sachin Tendulkar, the retired Indian cricketer...</td>\n",
       "      <td>Sachin Tendulkar has revealed that he missed t...</td>\n",
       "      <td>Sachin Tendulkar, former Indian cricketer, adm...</td>\n",
       "      <td>Sachin Tendulkar, the retired Indian cricketer...</td>\n",
       "    </tr>\n",
       "    <tr>\n",
       "      <th>43256</th>\n",
       "      <td>(CNN) -- Neanderthals likely died off about 30...</td>\n",
       "      <td>Archaeologists uncover 50,000-year-old special...</td>\n",
       "      <td>74d7298a8b989a5a74a131c60711d5a05a423a09</td>\n",
       "      <td>(CNN) -- Neanderthals likely died off about 30...</td>\n",
       "      <td>Neanderthals may have influenced later humans ...</td>\n",
       "      <td>Neanderthals were making specialized bone tool...</td>\n",
       "      <td>A new study suggests that Neanderthals may hav...</td>\n",
       "      <td>Neanderthals had advanced behavioral complexit...</td>\n",
       "    </tr>\n",
       "    <tr>\n",
       "      <th>226988</th>\n",
       "      <td>From the Suffragettes and Marilyn Monroe to Ri...</td>\n",
       "      <td>The colour red is associated with warmth, posi...</td>\n",
       "      <td>f6f46082d0e1b8550ac33b3211692c0f01ea5212</td>\n",
       "      <td>From the Suffragettes and Marilyn Monroe to Ri...</td>\n",
       "      <td>Red lipstick has been used by women for decade...</td>\n",
       "      <td>From the Suffragettes and Marilyn Monroe to Ri...</td>\n",
       "      <td>Red lipstick has been used by women for decade...</td>\n",
       "      <td>Scientists at the University of Manchester fou...</td>\n",
       "    </tr>\n",
       "  </tbody>\n",
       "</table>\n",
       "</div>"
      ],
      "text/plain": [
       "                                                     text  \\\n",
       "86826   James Gandolfini, best known for his role as a...   \n",
       "110313  Geely pledges to retain group's 107 staff and ...   \n",
       "260717  Sachin Tendulkar has revealed that he missed t...   \n",
       "43256   (CNN) -- Neanderthals likely died off about 30...   \n",
       "226988  From the Suffragettes and Marilyn Monroe to Ri...   \n",
       "\n",
       "                                            human_summary  \\\n",
       "86826   Edie Falco, who played Tony Soprano's wife, is...   \n",
       "110313  Coventry-based Manganese Bronze bought by Chin...   \n",
       "260717  Sachin Tendulkar missed India's 2011 World Cup...   \n",
       "43256   Archaeologists uncover 50,000-year-old special...   \n",
       "226988  The colour red is associated with warmth, posi...   \n",
       "\n",
       "                                              id  \\\n",
       "86826   71997309bf0360f53411bd6af5d1fa95351bb117   \n",
       "110313  52e9acc58aaba7d5e3f32127ef458229bcc6f481   \n",
       "260717  a1a1d975d616c427e23379a2f2d0ae5206e39f72   \n",
       "43256   74d7298a8b989a5a74a131c60711d5a05a423a09   \n",
       "226988  f6f46082d0e1b8550ac33b3211692c0f01ea5212   \n",
       "\n",
       "                                              occams_summ  \\\n",
       "86826   James Gandolfini, best known for his role as a...   \n",
       "110313  Geely pledges to retain group's 107 staff and ...   \n",
       "260717  Sachin Tendulkar has revealed that he missed t...   \n",
       "43256   (CNN) -- Neanderthals likely died off about 30...   \n",
       "226988  From the Suffragettes and Marilyn Monroe to Ri...   \n",
       "\n",
       "                                               gpt_a_summ  \\\n",
       "86826   Actor James Gandolfini, best known for his rol...   \n",
       "110313  Chinese private car maker Geely has acquired C...   \n",
       "260717  Sachin Tendulkar, the retired Indian cricketer...   \n",
       "43256   Neanderthals may have influenced later humans ...   \n",
       "226988  Red lipstick has been used by women for decade...   \n",
       "\n",
       "                                               gpt_e_summ  \\\n",
       "86826   James Gandolfini, best known for his role as a...   \n",
       "110313  Geely pledged to retain the group's 107 staff ...   \n",
       "260717  Sachin Tendulkar has revealed that he missed t...   \n",
       "43256   Neanderthals were making specialized bone tool...   \n",
       "226988  From the Suffragettes and Marilyn Monroe to Ri...   \n",
       "\n",
       "                                          occams_gpt_summ  \\\n",
       "86826   James Gandolfini, best known for his role as T...   \n",
       "110313  Chinese company Geely has saved the London Tax...   \n",
       "260717  Sachin Tendulkar, former Indian cricketer, adm...   \n",
       "43256   A new study suggests that Neanderthals may hav...   \n",
       "226988  Red lipstick has been used by women for decade...   \n",
       "\n",
       "                                             gpt_gpt_summ  \n",
       "86826   James Gandolfini, best known for his role as T...  \n",
       "110313  Chinese automaker Geely has acquired London Ta...  \n",
       "260717  Sachin Tendulkar, the retired Indian cricketer...  \n",
       "43256   Neanderthals had advanced behavioral complexit...  \n",
       "226988  Scientists at the University of Manchester fou...  "
      ]
     },
     "execution_count": 21,
     "metadata": {},
     "output_type": "execute_result"
    }
   ],
   "source": [
    "print(len(cnn_summaries[cnn_summaries['occams_gpt_summ']=='No summary possible.']))\n",
    "cnn_summaries = cnn_summaries[cnn_summaries['occams_gpt_summ']!='No summary possible.']\n",
    "\n",
    "cnn_summaries.head()"
   ]
  },
  {
   "cell_type": "markdown",
   "id": "1c97780b-f336-4fe0-a10d-b4422c82a8cb",
   "metadata": {},
   "source": [
    "## Extractive: GPT 3.5 Abstractive: GPT 3.5"
   ]
  },
  {
   "cell_type": "code",
   "execution_count": 32,
   "id": "ac1a0b17-a45f-4844-bc6d-a41f66bd4c95",
   "metadata": {
    "tags": []
   },
   "outputs": [
    {
     "name": "stderr",
     "output_type": "stream",
     "text": [
      "bar:  18%|█▊        | 24/132 [01:55<20:42, 11.50s/it]"
     ]
    },
    {
     "name": "stdout",
     "output_type": "stream",
     "text": [
      "ERROR\n"
     ]
    },
    {
     "name": "stderr",
     "output_type": "stream",
     "text": [
      "bar:  48%|████▊     | 63/132 [04:51<12:57, 11.27s/it]"
     ]
    },
    {
     "name": "stdout",
     "output_type": "stream",
     "text": [
      "ERROR\n"
     ]
    },
    {
     "name": "stderr",
     "output_type": "stream",
     "text": [
      "bar:  48%|████▊     | 64/132 [04:55<10:27,  9.22s/it]"
     ]
    },
    {
     "name": "stdout",
     "output_type": "stream",
     "text": [
      "ERROR\n"
     ]
    },
    {
     "name": "stderr",
     "output_type": "stream",
     "text": [
      "bar: 100%|██████████| 132/132 [09:40<00:00,  4.40s/it]"
     ]
    },
    {
     "name": "stdout",
     "output_type": "stream",
     "text": [
      "CPU times: user 8.7 s, sys: 66.4 ms, total: 8.77 s\n",
      "Wall time: 9min 40s\n"
     ]
    },
    {
     "name": "stderr",
     "output_type": "stream",
     "text": [
      "\n"
     ]
    }
   ],
   "source": [
    "%%time\n",
    "\n",
    "# Note that we are using the SAME prompt for both OCCAMS and ChatGPT based extractive summaries\n",
    "hybrid_prompt = \"\"\"You are a  summarizer that follows the output pattern. Please summarize this text.\n",
    "\n",
    "Text:\n",
    "{text}\n",
    "\n",
    "Summary:\n",
    "\"\"\".format(sentence_budget=sentence_budget, text='{text}')\n",
    "\n",
    "cnn_summaries['gpt_gpt_summ'] = cnn_summaries.gpt_e_summ.progress_apply(lambda x: gpt_summarize(x, hybrid_prompt))"
   ]
  },
  {
   "cell_type": "code",
   "execution_count": 34,
   "id": "408cabeb-16de-47c8-94ec-2edebad375c2",
   "metadata": {
    "tags": []
   },
   "outputs": [
    {
     "name": "stdout",
     "output_type": "stream",
     "text": [
      "0\n"
     ]
    },
    {
     "data": {
      "text/html": [
       "<div>\n",
       "<style scoped>\n",
       "    .dataframe tbody tr th:only-of-type {\n",
       "        vertical-align: middle;\n",
       "    }\n",
       "\n",
       "    .dataframe tbody tr th {\n",
       "        vertical-align: top;\n",
       "    }\n",
       "\n",
       "    .dataframe thead th {\n",
       "        text-align: right;\n",
       "    }\n",
       "</style>\n",
       "<table border=\"1\" class=\"dataframe\">\n",
       "  <thead>\n",
       "    <tr style=\"text-align: right;\">\n",
       "      <th></th>\n",
       "      <th>text</th>\n",
       "      <th>human_summary</th>\n",
       "      <th>id</th>\n",
       "      <th>occams_summ</th>\n",
       "      <th>gpt_a_summ</th>\n",
       "      <th>gpt_e_summ</th>\n",
       "      <th>occams_gpt_summ</th>\n",
       "      <th>gpt_gpt_summ</th>\n",
       "    </tr>\n",
       "  </thead>\n",
       "  <tbody>\n",
       "    <tr>\n",
       "      <th>86826</th>\n",
       "      <td>James Gandolfini, best known for his role as a...</td>\n",
       "      <td>Edie Falco, who played Tony Soprano's wife, is...</td>\n",
       "      <td>71997309bf0360f53411bd6af5d1fa95351bb117</td>\n",
       "      <td>James Gandolfini, best known for his role as a...</td>\n",
       "      <td>Actor James Gandolfini, best known for his rol...</td>\n",
       "      <td>James Gandolfini, best known for his role as a...</td>\n",
       "      <td>James Gandolfini, famous for his role in \"The ...</td>\n",
       "      <td>James Gandolfini, best known for his role as T...</td>\n",
       "    </tr>\n",
       "    <tr>\n",
       "      <th>110313</th>\n",
       "      <td>Geely pledges to retain group's 107 staff and ...</td>\n",
       "      <td>Coventry-based Manganese Bronze bought by Chin...</td>\n",
       "      <td>52e9acc58aaba7d5e3f32127ef458229bcc6f481</td>\n",
       "      <td>Geely pledges to retain group's 107 staff and ...</td>\n",
       "      <td>Chinese private car maker Geely has acquired C...</td>\n",
       "      <td>Geely pledged to retain the group's 107 staff ...</td>\n",
       "      <td>Geely has promised to keep the London Taxi Com...</td>\n",
       "      <td>Chinese automaker Geely has acquired London Ta...</td>\n",
       "    </tr>\n",
       "    <tr>\n",
       "      <th>260717</th>\n",
       "      <td>Sachin Tendulkar has revealed that he missed t...</td>\n",
       "      <td>Sachin Tendulkar missed India's 2011 World Cup...</td>\n",
       "      <td>a1a1d975d616c427e23379a2f2d0ae5206e39f72</td>\n",
       "      <td>Sachin Tendulkar has revealed that he missed t...</td>\n",
       "      <td>Sachin Tendulkar, the retired Indian cricketer...</td>\n",
       "      <td>Sachin Tendulkar has revealed that he missed t...</td>\n",
       "      <td>Sachin Tendulkar missed India's victory in the...</td>\n",
       "      <td>Sachin Tendulkar, the retired Indian cricketer...</td>\n",
       "    </tr>\n",
       "    <tr>\n",
       "      <th>43256</th>\n",
       "      <td>(CNN) -- Neanderthals likely died off about 30...</td>\n",
       "      <td>Archaeologists uncover 50,000-year-old special...</td>\n",
       "      <td>74d7298a8b989a5a74a131c60711d5a05a423a09</td>\n",
       "      <td>(CNN) -- Neanderthals likely died off about 30...</td>\n",
       "      <td>Neanderthals may have influenced later humans ...</td>\n",
       "      <td>Neanderthals were making specialized bone tool...</td>\n",
       "      <td>A new study suggests that Neanderthals may hav...</td>\n",
       "      <td>Neanderthals had advanced behavioral complexit...</td>\n",
       "    </tr>\n",
       "    <tr>\n",
       "      <th>226988</th>\n",
       "      <td>From the Suffragettes and Marilyn Monroe to Ri...</td>\n",
       "      <td>The colour red is associated with warmth, posi...</td>\n",
       "      <td>f6f46082d0e1b8550ac33b3211692c0f01ea5212</td>\n",
       "      <td>From the Suffragettes and Marilyn Monroe to Ri...</td>\n",
       "      <td>Red lipstick has been used by women for decade...</td>\n",
       "      <td>From the Suffragettes and Marilyn Monroe to Ri...</td>\n",
       "      <td>Red lipstick has been used by women for decade...</td>\n",
       "      <td>Scientists at the University of Manchester fou...</td>\n",
       "    </tr>\n",
       "  </tbody>\n",
       "</table>\n",
       "</div>"
      ],
      "text/plain": [
       "                                                     text  \\\n",
       "86826   James Gandolfini, best known for his role as a...   \n",
       "110313  Geely pledges to retain group's 107 staff and ...   \n",
       "260717  Sachin Tendulkar has revealed that he missed t...   \n",
       "43256   (CNN) -- Neanderthals likely died off about 30...   \n",
       "226988  From the Suffragettes and Marilyn Monroe to Ri...   \n",
       "\n",
       "                                            human_summary  \\\n",
       "86826   Edie Falco, who played Tony Soprano's wife, is...   \n",
       "110313  Coventry-based Manganese Bronze bought by Chin...   \n",
       "260717  Sachin Tendulkar missed India's 2011 World Cup...   \n",
       "43256   Archaeologists uncover 50,000-year-old special...   \n",
       "226988  The colour red is associated with warmth, posi...   \n",
       "\n",
       "                                              id  \\\n",
       "86826   71997309bf0360f53411bd6af5d1fa95351bb117   \n",
       "110313  52e9acc58aaba7d5e3f32127ef458229bcc6f481   \n",
       "260717  a1a1d975d616c427e23379a2f2d0ae5206e39f72   \n",
       "43256   74d7298a8b989a5a74a131c60711d5a05a423a09   \n",
       "226988  f6f46082d0e1b8550ac33b3211692c0f01ea5212   \n",
       "\n",
       "                                              occams_summ  \\\n",
       "86826   James Gandolfini, best known for his role as a...   \n",
       "110313  Geely pledges to retain group's 107 staff and ...   \n",
       "260717  Sachin Tendulkar has revealed that he missed t...   \n",
       "43256   (CNN) -- Neanderthals likely died off about 30...   \n",
       "226988  From the Suffragettes and Marilyn Monroe to Ri...   \n",
       "\n",
       "                                               gpt_a_summ  \\\n",
       "86826   Actor James Gandolfini, best known for his rol...   \n",
       "110313  Chinese private car maker Geely has acquired C...   \n",
       "260717  Sachin Tendulkar, the retired Indian cricketer...   \n",
       "43256   Neanderthals may have influenced later humans ...   \n",
       "226988  Red lipstick has been used by women for decade...   \n",
       "\n",
       "                                               gpt_e_summ  \\\n",
       "86826   James Gandolfini, best known for his role as a...   \n",
       "110313  Geely pledged to retain the group's 107 staff ...   \n",
       "260717  Sachin Tendulkar has revealed that he missed t...   \n",
       "43256   Neanderthals were making specialized bone tool...   \n",
       "226988  From the Suffragettes and Marilyn Monroe to Ri...   \n",
       "\n",
       "                                          occams_gpt_summ  \\\n",
       "86826   James Gandolfini, famous for his role in \"The ...   \n",
       "110313  Geely has promised to keep the London Taxi Com...   \n",
       "260717  Sachin Tendulkar missed India's victory in the...   \n",
       "43256   A new study suggests that Neanderthals may hav...   \n",
       "226988  Red lipstick has been used by women for decade...   \n",
       "\n",
       "                                             gpt_gpt_summ  \n",
       "86826   James Gandolfini, best known for his role as T...  \n",
       "110313  Chinese automaker Geely has acquired London Ta...  \n",
       "260717  Sachin Tendulkar, the retired Indian cricketer...  \n",
       "43256   Neanderthals had advanced behavioral complexit...  \n",
       "226988  Scientists at the University of Manchester fou...  "
      ]
     },
     "execution_count": 34,
     "metadata": {},
     "output_type": "execute_result"
    }
   ],
   "source": [
    "print(len(cnn_summaries[cnn_summaries['gpt_gpt_summ']=='No summary possible.']))\n",
    "cnn_summaries = cnn_summaries[cnn_summaries['gpt_gpt_summ']!='No summary possible.']\n",
    "cnn_summaries.head()"
   ]
  },
  {
   "cell_type": "code",
   "execution_count": 35,
   "id": "31064a58-40a3-4d0b-97dd-c719c9741b3b",
   "metadata": {
    "tags": []
   },
   "outputs": [],
   "source": [
    "cnn_summaries.to_parquet('datasets/cnn_experiment.parquet')"
   ]
  },
  {
   "cell_type": "markdown",
   "id": "bce0b507-27d8-4c5a-9af8-edbb14091611",
   "metadata": {
    "tags": []
   },
   "source": [
    "# IS GPT REALLY EXTRACTIVE?"
   ]
  },
  {
   "cell_type": "code",
   "execution_count": 73,
   "id": "0d3ef167-da45-4945-b48a-ba14b922009e",
   "metadata": {
    "tags": []
   },
   "outputs": [
    {
     "name": "stderr",
     "output_type": "stream",
     "text": [
      "bar: 100%|██████████| 100/100 [13:51<00:00,  8.32s/it]"
     ]
    },
    {
     "name": "stdout",
     "output_type": "stream",
     "text": [
      "CPU times: user 5.9 s, sys: 85.1 ms, total: 5.99 s\n",
      "Wall time: 13min 51s\n"
     ]
    },
    {
     "name": "stderr",
     "output_type": "stream",
     "text": [
      "\n",
      "<timed exec>:14: SettingWithCopyWarning: \n",
      "A value is trying to be set on a copy of a slice from a DataFrame.\n",
      "Try using .loc[row_indexer,col_indexer] = value instead\n",
      "\n",
      "See the caveats in the documentation: https://pandas.pydata.org/pandas-docs/stable/user_guide/indexing.html#returning-a-view-versus-a-copy\n"
     ]
    }
   ],
   "source": [
    "%%time\n",
    "import json\n",
    "import ast\n",
    "experiment_df = cnn_summaries[['text']]\n",
    "\n",
    "extractive_prompt = \"\"\"Please identify the {sentence_budget} most important sentences from the text, and present them in a Python list.\n",
    "\n",
    "Text:\n",
    "{text}\n",
    "\n",
    "Output:\n",
    "\"\"\".format(sentence_budget=sentence_budget, text='{text}')\n",
    "\n",
    "\n",
    "experiment_df['experiment'] = experiment_df.text.progress_apply(lambda x: gpt_summarize(x, extractive_prompt))\n"
   ]
  },
  {
   "cell_type": "code",
   "execution_count": 74,
   "id": "14e3c2de-1b89-4120-9172-eebfd29f9937",
   "metadata": {
    "scrolled": true,
    "tags": []
   },
   "outputs": [
    {
     "name": "stderr",
     "output_type": "stream",
     "text": [
      "bar: 100%|██████████| 100/100 [00:00<00:00, 38940.71it/s]"
     ]
    },
    {
     "name": "stdout",
     "output_type": "stream",
     "text": [
      "ERROR\n",
      "[\"Fernando Alonso won't be saving Euskaltel Euskadi after all.\", \n",
      "\"But Alonso still wants a cycling team and might start one up from 'scratch.'\", \n",
      "\"If the Spanish outfit can't find another major sponsor soon, it won't be around for a 20th year.\", \n",
      "\"The negotiations between Euskaltel and the representatives of Fernando Alonso for the acquisition of the cycling team Euskaltel Euskadi on behalf of the Asturian driver, which began with an agreement in principle on August 31, have ended without an agreement,\" \n",
      "\"We've tried it until the end but it's just been impossible to have a cycling team in 2014,\" said Alonso. \n",
      "\"From tomorrow morning we are going to work on building, if need be from scratch, a team we can be proud of.\"]\n",
      "ERROR\n",
      "[\n",
      "\"Hurricane Barbara weakened to a tropical storm Wednesday after it crashed ashore along Mexico's southern Pacific coast.\", \n",
      "\"Barbara had sustained winds then of 75 mph, and was moving north-northeast at 9 mph.\", \n",
      "\"Winds weakened to 50 mph by Wednesday night.\", \n",
      "\"Barbara is expected to dump between 6-10 inches of rain, with up to 20 inches possible in some areas.\", \n",
      "\"These rains could cause life-threatening flash floods and mud slides,\" the hurricane center warned.\", \n",
      "\"The storm is the second of the eastern Pacific hurricane season, after Tropical Storm Alvin this month.\"\n",
      "]\n",
      "ERROR\n",
      "[\"A workman suffered horrific burns to his arm after he was electrocuted with a million watts of power when he broke through a power cable with a jackhammer.\",\n",
      "\"The company who owned the car park, Northgate Vehicle Sales, in Darlington, County Durham, failed to apply for plans showing the location of the electrical services, Darlington Magistrates Court heard.\",\n",
      "\"Northgate Vehicle Services pleaded guilty to breaching health and safety regulations by failing to inform the main contractor of the underground cables.\",\n",
      "\"After admitting liability following a Health and Safety Executive (HSE) investigation, the company was fined £12,000 and ordered to pay £6,123 costs.\",\n",
      "\"'My physical injuries have improved in the last two years, but they are still not 100 per cent.\",\n",
      "\"'I'm still having psychological treatment. I go to therapy sessions to go to help me with post-traumatic stress.']\n",
      "ERROR\n",
      "['Figures show customers are being charged at least three times the price their suppliers pay for gas .', \n",
      "'British Gas, which supplies around 40 per cent of homes, is under fire for its costs, which comes despite an ongoing investigation by the Competition and Markets Authority into the energy supply business .', \n",
      "'Energy companies should be passing on any savings from falling wholesale and network costs.', \n",
      "'The competition authority must leave no stone unturned in its investigation of the market and must establish the truth behind our energy prices.’', \n",
      "‘If you are one of the millions of people who have NEVER switched (i.e. stuck with your original supplier), then you will DEFINITELY save a big . chunk of cash, possibly as much as £300 a year.', \n",
      "'Remember, suppliers offer their cheapest rates via online tariffs so if you\\'re ready to switch, it will certainly pay to do so.']\n",
      "ERROR\n",
      "[\"We have a rich oral tradition and it's important that we document what is happening in history poetry-wise,\" she explains. \n",
      "\"The Badilisha project was originally conceived as an annual poetry festival overseen by the Africa Centre, a pan-African organization based in Cape Town in 2008. \n",
      "Following an overhaul of the site last year, Badilisha relaunched in September, making its immersive archive accessible to a broader international following through a 'mobile-first' site.\n",
      "\"To date, the project has collected almost 400 African poets from 31 countries in Africa and across the diaspora, in 14 different languages.\n",
      "\"It's a sentiment project manager Kaoma says many poets share about their inclusion in Badilisha.\n",
      "\"But Kaoma is quick to clarify Badilisha's position as an alternative literary publisher.\"]\n",
      "ERROR\n",
      "No summary possible.\n",
      "ERROR\n",
      "[\n",
      "\"Germany's Tommy Haas upset Roger Federer in straight sets to win the ATP tournament on the grass courts of Halle Sunday.\",\n",
      "\"It was Haas' second Halle title after winning in 2009 and his 13th on the ATP Tour.\",\n",
      "\"His victory will see him rise to 51st in the rankings and he is set to be a dangerous outsider at Wimbledon.\",\n",
      "\"If someone had said to me beforehand that I was going to beat Roger Federer, probably the best player of all time, I would have thought they were mad!\",\n",
      "\"The German took a close tiebreaker and a single break to lead 5-4 in the second set left him serving for the title.\",\n",
      "\"Tommy was the better player and he deserves this win,\" said the 30-year-old Swiss maestro.\"\n",
      "]\n",
      "ERROR\n",
      "['The 18th Congress of the 82-million-member Chinese Communist Party, expected to happen in mid-October, will be a landmark event -- it will usher in a new generation of leaders to rule China for the next 10 years.', 'Hu Jintao, the incumbent president and party general secretary, will step down and be replaced by Xi Jinping, the current vice president.', 'Many members of the 25-member Politburo and the 371-member Central Committee are also expected to be replaced.', 'Who will compose the post-Hu leadership? Speculation is rife.', 'Last week, Ling Jihua, head of the party's General Office, which runs the Leninist organization's day-to-day affairs and oversees security of the top leaders, was abruptly \"reassigned\" to the important but less powerful United Front department.', 'Others say Hu's camp, known as the Communist Youth League (CYL) faction, referring to the youth organization that Hu headed for years, will dominate the new leadership.']\n"
     ]
    },
    {
     "name": "stderr",
     "output_type": "stream",
     "text": [
      "\n",
      "/tmp/ipykernel_6006/850572387.py:16: SettingWithCopyWarning: \n",
      "A value is trying to be set on a copy of a slice from a DataFrame.\n",
      "Try using .loc[row_indexer,col_indexer] = value instead\n",
      "\n",
      "See the caveats in the documentation: https://pandas.pydata.org/pandas-docs/stable/user_guide/indexing.html#returning-a-view-versus-a-copy\n",
      "  experiment_df['paragraph'] = experiment_df.experiment.progress_apply(lambda x: parse_list(x))\n"
     ]
    },
    {
     "data": {
      "text/html": [
       "<div>\n",
       "<style scoped>\n",
       "    .dataframe tbody tr th:only-of-type {\n",
       "        vertical-align: middle;\n",
       "    }\n",
       "\n",
       "    .dataframe tbody tr th {\n",
       "        vertical-align: top;\n",
       "    }\n",
       "\n",
       "    .dataframe thead th {\n",
       "        text-align: right;\n",
       "    }\n",
       "</style>\n",
       "<table border=\"1\" class=\"dataframe\">\n",
       "  <thead>\n",
       "    <tr style=\"text-align: right;\">\n",
       "      <th></th>\n",
       "      <th>text</th>\n",
       "      <th>experiment</th>\n",
       "      <th>paragraph</th>\n",
       "    </tr>\n",
       "  </thead>\n",
       "  <tbody>\n",
       "    <tr>\n",
       "      <th>15159</th>\n",
       "      <td>(CNN) -- Seven-time world champion Michael Sch...</td>\n",
       "      <td>[\"Seven-time world champion Michael Schumacher...</td>\n",
       "      <td>Seven-time world champion Michael Schumacher h...</td>\n",
       "    </tr>\n",
       "    <tr>\n",
       "      <th>229936</th>\n",
       "      <td>Notoriety: Richardson, pictured in 2007, was t...</td>\n",
       "      <td>[\"Infamous London gang leader and rival to the...</td>\n",
       "      <td>Infamous London gang leader and rival to the K...</td>\n",
       "    </tr>\n",
       "    <tr>\n",
       "      <th>285097</th>\n",
       "      <td>A team of diggers has started removing 2,500 t...</td>\n",
       "      <td>[\\n\"A team of diggers has started removing 2,5...</td>\n",
       "      <td>A team of diggers has started removing 2,500 t...</td>\n",
       "    </tr>\n",
       "    <tr>\n",
       "      <th>61927</th>\n",
       "      <td>Rear Adm. Anne Schuchat, MD, is assistant surg...</td>\n",
       "      <td>[\"This week, the world has come together to fo...</td>\n",
       "      <td>This week, the world has come together to focu...</td>\n",
       "    </tr>\n",
       "    <tr>\n",
       "      <th>226443</th>\n",
       "      <td>The stepfather of a woman held by police for t...</td>\n",
       "      <td>['The law must now be changed to protect prope...</td>\n",
       "      <td>The law must now be changed to protect propert...</td>\n",
       "    </tr>\n",
       "    <tr>\n",
       "      <th>...</th>\n",
       "      <td>...</td>\n",
       "      <td>...</td>\n",
       "      <td>...</td>\n",
       "    </tr>\n",
       "    <tr>\n",
       "      <th>86343</th>\n",
       "      <td>Six months ago, the story began as a puzzling ...</td>\n",
       "      <td>[\\n\"Six months ago, the story began as a puzzl...</td>\n",
       "      <td>Six months ago, the story began as a puzzling ...</td>\n",
       "    </tr>\n",
       "    <tr>\n",
       "      <th>196070</th>\n",
       "      <td>Wayne Payne, 31, was travelling at 61mph when ...</td>\n",
       "      <td>[\\n\"Wayne Payne, 31, was travelling at 61mph w...</td>\n",
       "      <td>Wayne Payne, 31, was travelling at 61mph when ...</td>\n",
       "    </tr>\n",
       "    <tr>\n",
       "      <th>8224</th>\n",
       "      <td>(CNN) -- Winter travelers trek thousands of mi...</td>\n",
       "      <td>[\\n\"Scientists call the natural phenomenon aur...</td>\n",
       "      <td>Scientists call the natural phenomenon aurora ...</td>\n",
       "    </tr>\n",
       "    <tr>\n",
       "      <th>107185</th>\n",
       "      <td>By . Larisa Brown . PUBLISHED: . 08:01 EST, 17...</td>\n",
       "      <td>[\"'We used to have good fun when we were clean...</td>\n",
       "      <td>'We used to have good fun when we were cleanin...</td>\n",
       "    </tr>\n",
       "    <tr>\n",
       "      <th>67887</th>\n",
       "      <td>(CNN) -- When Jay Kwon Yang died from stomach ...</td>\n",
       "      <td>[\"When Jay Kwon Yang died from stomach cancer ...</td>\n",
       "      <td>When Jay Kwon Yang died from stomach cancer in...</td>\n",
       "    </tr>\n",
       "  </tbody>\n",
       "</table>\n",
       "<p>100 rows × 3 columns</p>\n",
       "</div>"
      ],
      "text/plain": [
       "                                                     text  \\\n",
       "15159   (CNN) -- Seven-time world champion Michael Sch...   \n",
       "229936  Notoriety: Richardson, pictured in 2007, was t...   \n",
       "285097  A team of diggers has started removing 2,500 t...   \n",
       "61927   Rear Adm. Anne Schuchat, MD, is assistant surg...   \n",
       "226443  The stepfather of a woman held by police for t...   \n",
       "...                                                   ...   \n",
       "86343   Six months ago, the story began as a puzzling ...   \n",
       "196070  Wayne Payne, 31, was travelling at 61mph when ...   \n",
       "8224    (CNN) -- Winter travelers trek thousands of mi...   \n",
       "107185  By . Larisa Brown . PUBLISHED: . 08:01 EST, 17...   \n",
       "67887   (CNN) -- When Jay Kwon Yang died from stomach ...   \n",
       "\n",
       "                                               experiment  \\\n",
       "15159   [\"Seven-time world champion Michael Schumacher...   \n",
       "229936  [\"Infamous London gang leader and rival to the...   \n",
       "285097  [\\n\"A team of diggers has started removing 2,5...   \n",
       "61927   [\"This week, the world has come together to fo...   \n",
       "226443  ['The law must now be changed to protect prope...   \n",
       "...                                                   ...   \n",
       "86343   [\\n\"Six months ago, the story began as a puzzl...   \n",
       "196070  [\\n\"Wayne Payne, 31, was travelling at 61mph w...   \n",
       "8224    [\\n\"Scientists call the natural phenomenon aur...   \n",
       "107185  [\"'We used to have good fun when we were clean...   \n",
       "67887   [\"When Jay Kwon Yang died from stomach cancer ...   \n",
       "\n",
       "                                                paragraph  \n",
       "15159   Seven-time world champion Michael Schumacher h...  \n",
       "229936  Infamous London gang leader and rival to the K...  \n",
       "285097  A team of diggers has started removing 2,500 t...  \n",
       "61927   This week, the world has come together to focu...  \n",
       "226443  The law must now be changed to protect propert...  \n",
       "...                                                   ...  \n",
       "86343   Six months ago, the story began as a puzzling ...  \n",
       "196070  Wayne Payne, 31, was travelling at 61mph when ...  \n",
       "8224    Scientists call the natural phenomenon aurora ...  \n",
       "107185  'We used to have good fun when we were cleanin...  \n",
       "67887   When Jay Kwon Yang died from stomach cancer in...  \n",
       "\n",
       "[100 rows x 3 columns]"
      ]
     },
     "execution_count": 74,
     "metadata": {},
     "output_type": "execute_result"
    }
   ],
   "source": [
    "# gpt_summarize(experiment_df.text.iloc[0], extractive_prompt)\n",
    "\" \".join(ast.literal_eval(gpt_summarize(experiment_df.text.iloc[0], extractive_prompt)))\n",
    "\n",
    "def parse_list(x):\n",
    "    try:\n",
    "        new_str = \" \".join(ast.literal_eval(x))\n",
    "        return new_str\n",
    "    except:\n",
    "        print('ERROR')\n",
    "        print(x)\n",
    "        new_str = 'ERROR'\n",
    "        return new_str\n",
    "    finally:\n",
    "        return new_str\n",
    "\n",
    "experiment_df['paragraph'] = experiment_df.experiment.progress_apply(lambda x: parse_list(x))\n",
    "experiment_df"
   ]
  },
  {
   "cell_type": "code",
   "execution_count": 76,
   "id": "320c9d9a-8bbf-4d65-9b3c-83d1951a56b0",
   "metadata": {
    "tags": []
   },
   "outputs": [
    {
     "name": "stderr",
     "output_type": "stream",
     "text": [
      "bar: 100%|██████████| 8/8 [00:56<00:00,  7.10s/it]\n",
      "/tmp/ipykernel_6006/1337259432.py:7: SettingWithCopyWarning: \n",
      "A value is trying to be set on a copy of a slice from a DataFrame.\n",
      "Try using .loc[row_indexer,col_indexer] = value instead\n",
      "\n",
      "See the caveats in the documentation: https://pandas.pydata.org/pandas-docs/stable/user_guide/indexing.html#returning-a-view-versus-a-copy\n",
      "  errored_df['rewrite'] = errored_df.experiment.progress_apply(lambda x: gpt_summarize(x, rewrite_prompt))\n",
      "bar: 100%|██████████| 8/8 [00:00<00:00, 10061.30it/s]"
     ]
    },
    {
     "name": "stdout",
     "output_type": "stream",
     "text": [
      "ERROR\n",
      "['Fernando Alonso won\\'t be saving Euskaltel Euskadi after all.', \n",
      "\"But Alonso still wants a cycling team and might start one up from 'scratch.'\", \n",
      "\"If the Spanish outfit can't find another major sponsor soon, it won't be around for a 20th year.\", \n",
      "\"The negotiations between Euskaltel and the representatives of Fernando Alonso for the acquisition of the cycling team Euskaltel Euskadi on behalf of the Asturian driver, which began with an agreement in principle on August 31, have ended without an agreement,\", \n",
      "\"We've tried it until the end but it's just been impossible to have a cycling team in 2014,\" said Alonso. \n",
      "\"From tomorrow morning we are going to work on building, if need be from scratch, a team we can be proud of.\"]\n"
     ]
    },
    {
     "name": "stderr",
     "output_type": "stream",
     "text": [
      "\n",
      "/tmp/ipykernel_6006/1337259432.py:8: SettingWithCopyWarning: \n",
      "A value is trying to be set on a copy of a slice from a DataFrame.\n",
      "Try using .loc[row_indexer,col_indexer] = value instead\n",
      "\n",
      "See the caveats in the documentation: https://pandas.pydata.org/pandas-docs/stable/user_guide/indexing.html#returning-a-view-versus-a-copy\n",
      "  errored_df['paragraph'] = errored_df.rewrite.progress_apply(lambda x: parse_list(x))\n"
     ]
    },
    {
     "data": {
      "text/html": [
       "<div>\n",
       "<style scoped>\n",
       "    .dataframe tbody tr th:only-of-type {\n",
       "        vertical-align: middle;\n",
       "    }\n",
       "\n",
       "    .dataframe tbody tr th {\n",
       "        vertical-align: top;\n",
       "    }\n",
       "\n",
       "    .dataframe thead th {\n",
       "        text-align: right;\n",
       "    }\n",
       "</style>\n",
       "<table border=\"1\" class=\"dataframe\">\n",
       "  <thead>\n",
       "    <tr style=\"text-align: right;\">\n",
       "      <th></th>\n",
       "      <th>text</th>\n",
       "      <th>experiment</th>\n",
       "      <th>paragraph</th>\n",
       "      <th>rewrite</th>\n",
       "    </tr>\n",
       "  </thead>\n",
       "  <tbody>\n",
       "    <tr>\n",
       "      <th>49261</th>\n",
       "      <td>(CNN) -- Fernando Alonso won't be saving Euska...</td>\n",
       "      <td>[\"Fernando Alonso won't be saving Euskaltel Eu...</td>\n",
       "      <td>ERROR</td>\n",
       "      <td>['Fernando Alonso won\\'t be saving Euskaltel E...</td>\n",
       "    </tr>\n",
       "    <tr>\n",
       "      <th>46775</th>\n",
       "      <td>(CNN) -- Hurricane Barbara weakened to a tropi...</td>\n",
       "      <td>[\\n\"Hurricane Barbara weakened to a tropical s...</td>\n",
       "      <td>Hurricane Barbara weakened to a tropical storm...</td>\n",
       "      <td>[\\n\"Hurricane Barbara weakened to a tropical s...</td>\n",
       "    </tr>\n",
       "    <tr>\n",
       "      <th>112141</th>\n",
       "      <td>By . Steve Nolan . PUBLISHED: . 07:33 EST, 7 F...</td>\n",
       "      <td>[\"A workman suffered horrific burns to his arm...</td>\n",
       "      <td>A workman suffered horrific burns to his arm a...</td>\n",
       "      <td>[\"A workman suffered horrific burns to his arm...</td>\n",
       "    </tr>\n",
       "    <tr>\n",
       "      <th>244889</th>\n",
       "      <td>The way millions of households are being rippe...</td>\n",
       "      <td>['Figures show customers are being charged at ...</td>\n",
       "      <td>Figures show customers are being charged at le...</td>\n",
       "      <td>[\"Figures show customers are being charged at ...</td>\n",
       "    </tr>\n",
       "    <tr>\n",
       "      <th>87813</th>\n",
       "      <td>(CNN)Linda Kaoma is on the hunt in East Africa...</td>\n",
       "      <td>[\"We have a rich oral tradition and it's impor...</td>\n",
       "      <td>We have a rich oral tradition and it's importa...</td>\n",
       "      <td>['We have a rich oral tradition and it\\'s impo...</td>\n",
       "    </tr>\n",
       "    <tr>\n",
       "      <th>41182</th>\n",
       "      <td>Atlanta (CNN) -- Bishop Eddie Long, head of on...</td>\n",
       "      <td>No summary possible.</td>\n",
       "      <td>No summary possible.</td>\n",
       "      <td>[\"No summary possible.\"]</td>\n",
       "    </tr>\n",
       "    <tr>\n",
       "      <th>29875</th>\n",
       "      <td>(CNN) -- Germany's Tommy Haas upset Roger Fede...</td>\n",
       "      <td>[\\n\"Germany's Tommy Haas upset Roger Federer i...</td>\n",
       "      <td>Germany's Tommy Haas upset Roger Federer in st...</td>\n",
       "      <td>[\\n\"Germany's Tommy Haas upset Roger Federer i...</td>\n",
       "    </tr>\n",
       "    <tr>\n",
       "      <th>36770</th>\n",
       "      <td>Beijing (CNN) -- Divining what is going in Chi...</td>\n",
       "      <td>['The 18th Congress of the 82-million-member C...</td>\n",
       "      <td>The 18th Congress of the 82-million-member Chi...</td>\n",
       "      <td>[\\n    \"The 18th Congress of the 82-million-me...</td>\n",
       "    </tr>\n",
       "  </tbody>\n",
       "</table>\n",
       "</div>"
      ],
      "text/plain": [
       "                                                     text  \\\n",
       "49261   (CNN) -- Fernando Alonso won't be saving Euska...   \n",
       "46775   (CNN) -- Hurricane Barbara weakened to a tropi...   \n",
       "112141  By . Steve Nolan . PUBLISHED: . 07:33 EST, 7 F...   \n",
       "244889  The way millions of households are being rippe...   \n",
       "87813   (CNN)Linda Kaoma is on the hunt in East Africa...   \n",
       "41182   Atlanta (CNN) -- Bishop Eddie Long, head of on...   \n",
       "29875   (CNN) -- Germany's Tommy Haas upset Roger Fede...   \n",
       "36770   Beijing (CNN) -- Divining what is going in Chi...   \n",
       "\n",
       "                                               experiment  \\\n",
       "49261   [\"Fernando Alonso won't be saving Euskaltel Eu...   \n",
       "46775   [\\n\"Hurricane Barbara weakened to a tropical s...   \n",
       "112141  [\"A workman suffered horrific burns to his arm...   \n",
       "244889  ['Figures show customers are being charged at ...   \n",
       "87813   [\"We have a rich oral tradition and it's impor...   \n",
       "41182                                No summary possible.   \n",
       "29875   [\\n\"Germany's Tommy Haas upset Roger Federer i...   \n",
       "36770   ['The 18th Congress of the 82-million-member C...   \n",
       "\n",
       "                                                paragraph  \\\n",
       "49261                                               ERROR   \n",
       "46775   Hurricane Barbara weakened to a tropical storm...   \n",
       "112141  A workman suffered horrific burns to his arm a...   \n",
       "244889  Figures show customers are being charged at le...   \n",
       "87813   We have a rich oral tradition and it's importa...   \n",
       "41182                                No summary possible.   \n",
       "29875   Germany's Tommy Haas upset Roger Federer in st...   \n",
       "36770   The 18th Congress of the 82-million-member Chi...   \n",
       "\n",
       "                                                  rewrite  \n",
       "49261   ['Fernando Alonso won\\'t be saving Euskaltel E...  \n",
       "46775   [\\n\"Hurricane Barbara weakened to a tropical s...  \n",
       "112141  [\"A workman suffered horrific burns to his arm...  \n",
       "244889  [\"Figures show customers are being charged at ...  \n",
       "87813   ['We have a rich oral tradition and it\\'s impo...  \n",
       "41182                            [\"No summary possible.\"]  \n",
       "29875   [\\n\"Germany's Tommy Haas upset Roger Federer i...  \n",
       "36770   [\\n    \"The 18th Congress of the 82-million-me...  "
      ]
     },
     "execution_count": 76,
     "metadata": {},
     "output_type": "execute_result"
    }
   ],
   "source": [
    "errored_df = experiment_df[experiment_df['paragraph']== 'ERROR']\n",
    "rewrite_prompt = \"\"\"Please rewrite the following to be a valid Python list of strings:\n",
    "\n",
    "{text}\n",
    "\n",
    "\"\"\".format(text='{text}')\n",
    "errored_df['rewrite'] = errored_df.experiment.progress_apply(lambda x: gpt_summarize(x, rewrite_prompt))\n",
    "errored_df['paragraph'] = errored_df.rewrite.progress_apply(lambda x: parse_list(x))\n",
    "errored_df"
   ]
  },
  {
   "cell_type": "code",
   "execution_count": null,
   "id": "d47a726b-7f58-46fd-b223-359f2becaac9",
   "metadata": {},
   "outputs": [],
   "source": [
    "['Fernando Alonso won\\'t be saving Euskaltel Euskadi after all.', \n",
    "\"But Alonso still wants a cycling team and might start one up from 'scratch.'\", \n",
    "\"If the Spanish outfit can't find another major sponsor soon, it won't be around for a 20th year.\", \n",
    "\"The negotiations between Euskaltel and the representatives of Fernando Alonso for the acquisition of the cycling team Euskaltel Euskadi on behalf of the Asturian driver, which began with an agreement in principle on August 31, have ended without an agreement,\", \n",
    "\"We've tried it until the end but it's just been impossible to have a cycling team in 2014,\" said Alonso. \n",
    "\"From tomorrow morning we are going to work on building, if need be from scratch, a team we can be proud of.\"]\n"
   ]
  },
  {
   "cell_type": "code",
   "execution_count": 68,
   "id": "c699926c-ca11-4003-b139-c0cfc293d591",
   "metadata": {
    "tags": []
   },
   "outputs": [],
   "source": [
    "experiment_df = experiment_df[experiment_df['paragraph']!= 'ERROR']"
   ]
  },
  {
   "cell_type": "code",
   "execution_count": 71,
   "id": "ee2c956d-a523-402c-a0bd-7f20dbda98fb",
   "metadata": {
    "tags": []
   },
   "outputs": [
    {
     "name": "stderr",
     "output_type": "stream",
     "text": [
      "/tmp/ipykernel_6006/916994109.py:3: SettingWithCopyWarning: \n",
      "A value is trying to be set on a copy of a slice from a DataFrame.\n",
      "Try using .loc[row_indexer,col_indexer] = value instead\n",
      "\n",
      "See the caveats in the documentation: https://pandas.pydata.org/pandas-docs/stable/user_guide/indexing.html#returning-a-view-versus-a-copy\n",
      "  experiment_df['tokenized_e'] = experiment_df['experiment'].apply(sent_tokenize)\n"
     ]
    },
    {
     "data": {
      "text/html": [
       "<div>\n",
       "<style scoped>\n",
       "    .dataframe tbody tr th:only-of-type {\n",
       "        vertical-align: middle;\n",
       "    }\n",
       "\n",
       "    .dataframe tbody tr th {\n",
       "        vertical-align: top;\n",
       "    }\n",
       "\n",
       "    .dataframe thead th {\n",
       "        text-align: right;\n",
       "    }\n",
       "</style>\n",
       "<table border=\"1\" class=\"dataframe\">\n",
       "  <thead>\n",
       "    <tr style=\"text-align: right;\">\n",
       "      <th></th>\n",
       "      <th>text</th>\n",
       "      <th>experiment</th>\n",
       "      <th>paragraph</th>\n",
       "      <th>tokenized_e</th>\n",
       "      <th>num_different</th>\n",
       "    </tr>\n",
       "  </thead>\n",
       "  <tbody>\n",
       "    <tr>\n",
       "      <th>15159</th>\n",
       "      <td>(CNN) -- Seven-time world champion Michael Sch...</td>\n",
       "      <td>[\"Seven-time world champion Michael Schumacher...</td>\n",
       "      <td>Seven-time world champion Michael Schumacher h...</td>\n",
       "      <td>[[\"Seven-time world champion Michael Schumache...</td>\n",
       "      <td>0.000000</td>\n",
       "    </tr>\n",
       "    <tr>\n",
       "      <th>229936</th>\n",
       "      <td>Notoriety: Richardson, pictured in 2007, was t...</td>\n",
       "      <td>['Infamous London gang leader and rival to the...</td>\n",
       "      <td>Infamous London gang leader and rival to the K...</td>\n",
       "      <td>[['Infamous London gang leader and rival to th...</td>\n",
       "      <td>0.000000</td>\n",
       "    </tr>\n",
       "    <tr>\n",
       "      <th>285097</th>\n",
       "      <td>A team of diggers has started removing 2,500 t...</td>\n",
       "      <td>[\\n\"A team of diggers has started removing 2,5...</td>\n",
       "      <td>A team of diggers has started removing 2,500 t...</td>\n",
       "      <td>[[\\n\"A team of diggers has started removing 2,...</td>\n",
       "      <td>0.166667</td>\n",
       "    </tr>\n",
       "    <tr>\n",
       "      <th>61927</th>\n",
       "      <td>Rear Adm. Anne Schuchat, MD, is assistant surg...</td>\n",
       "      <td>[\"This week, the world has come together to fo...</td>\n",
       "      <td>This week, the world has come together to focu...</td>\n",
       "      <td>[[\"This week, the world has come together to f...</td>\n",
       "      <td>0.000000</td>\n",
       "    </tr>\n",
       "    <tr>\n",
       "      <th>226443</th>\n",
       "      <td>The stepfather of a woman held by police for t...</td>\n",
       "      <td>['The law must now be changed to protect prope...</td>\n",
       "      <td>The law must now be changed to protect propert...</td>\n",
       "      <td>[['The law must now be changed to protect prop...</td>\n",
       "      <td>0.071429</td>\n",
       "    </tr>\n",
       "  </tbody>\n",
       "</table>\n",
       "</div>"
      ],
      "text/plain": [
       "                                                     text  \\\n",
       "15159   (CNN) -- Seven-time world champion Michael Sch...   \n",
       "229936  Notoriety: Richardson, pictured in 2007, was t...   \n",
       "285097  A team of diggers has started removing 2,500 t...   \n",
       "61927   Rear Adm. Anne Schuchat, MD, is assistant surg...   \n",
       "226443  The stepfather of a woman held by police for t...   \n",
       "\n",
       "                                               experiment  \\\n",
       "15159   [\"Seven-time world champion Michael Schumacher...   \n",
       "229936  ['Infamous London gang leader and rival to the...   \n",
       "285097  [\\n\"A team of diggers has started removing 2,5...   \n",
       "61927   [\"This week, the world has come together to fo...   \n",
       "226443  ['The law must now be changed to protect prope...   \n",
       "\n",
       "                                                paragraph  \\\n",
       "15159   Seven-time world champion Michael Schumacher h...   \n",
       "229936  Infamous London gang leader and rival to the K...   \n",
       "285097  A team of diggers has started removing 2,500 t...   \n",
       "61927   This week, the world has come together to focu...   \n",
       "226443  The law must now be changed to protect propert...   \n",
       "\n",
       "                                              tokenized_e  num_different  \n",
       "15159   [[\"Seven-time world champion Michael Schumache...       0.000000  \n",
       "229936  [['Infamous London gang leader and rival to th...       0.000000  \n",
       "285097  [[\\n\"A team of diggers has started removing 2,...       0.166667  \n",
       "61927   [[\"This week, the world has come together to f...       0.000000  \n",
       "226443  [['The law must now be changed to protect prop...       0.071429  "
      ]
     },
     "execution_count": 71,
     "metadata": {},
     "output_type": "execute_result"
    }
   ],
   "source": [
    "from nltk.tokenize import sent_tokenize\n",
    "\n",
    "experiment_df['tokenized_e'] = experiment_df['experiment'].apply(sent_tokenize)\n",
    "experiment_df.head()"
   ]
  },
  {
   "cell_type": "code",
   "execution_count": 72,
   "id": "a8d94b8a-a005-4100-a947-bb418d771db0",
   "metadata": {
    "tags": []
   },
   "outputs": [
    {
     "name": "stderr",
     "output_type": "stream",
     "text": [
      "/tmp/ipykernel_6006/2247963862.py:15: SettingWithCopyWarning: \n",
      "A value is trying to be set on a copy of a slice from a DataFrame.\n",
      "Try using .loc[row_indexer,col_indexer] = value instead\n",
      "\n",
      "See the caveats in the documentation: https://pandas.pydata.org/pandas-docs/stable/user_guide/indexing.html#returning-a-view-versus-a-copy\n",
      "  experiment_df['num_different'] = experiment_df.apply(sentences_contained, axis=1)\n"
     ]
    },
    {
     "data": {
      "text/plain": [
       "count    91.000000\n",
       "mean      0.687156\n",
       "std       0.286919\n",
       "min       0.000000\n",
       "25%       0.651515\n",
       "50%       0.833333\n",
       "75%       0.833333\n",
       "max       1.000000\n",
       "Name: num_different, dtype: float64"
      ]
     },
     "execution_count": 72,
     "metadata": {},
     "output_type": "execute_result"
    }
   ],
   "source": [
    "import string\n",
    "  \n",
    "\n",
    "def match_sent(sent1, sent2):\n",
    "    return sent1.translate(str.maketrans('', '', string.punctuation)) in sent2.translate(str.maketrans('', '', string.punctuation))\n",
    "\n",
    "def sentences_contained(row):\n",
    "    tokens = row['tokenized_e']\n",
    "    counter = 0\n",
    "    for token in tokens:\n",
    "        if not match_sent(token, row['text']) and len(token)>3:\n",
    "            counter = counter + 1\n",
    "    return counter / len(tokens)\n",
    "\n",
    "experiment_df['num_different'] = experiment_df.apply(sentences_contained, axis=1)\n",
    "experiment_df['num_different'].describe()"
   ]
  },
  {
   "cell_type": "code",
   "execution_count": null,
   "id": "88a8405d-08c0-4f13-8af9-cfa94378cb18",
   "metadata": {},
   "outputs": [],
   "source": []
  },
  {
   "cell_type": "code",
   "execution_count": 24,
   "id": "4e44f37a-209c-4adb-9fe3-e82d57788317",
   "metadata": {
    "tags": []
   },
   "outputs": [
    {
     "name": "stdout",
     "output_type": "stream",
     "text": [
      "True\n",
      "True\n",
      "True\n",
      "True\n",
      "True\n",
      "True\n"
     ]
    }
   ],
   "source": [
    "output_t = [\n",
    "\"Seven-time world champion Michael Schumacher has told CNN that the Red Bull team should have already tied up the Formula One drivers' title -- and can only blame themselves for not having done so.\",\n",
    "\"Fernando Alonso is in pole position to win his third crown, this time for Schumacher's former team Ferrari, at the 2010 season finale in Abu Dhabi this weekend.\",\n",
    "\"The Austrian outfit has already clinched the constructors' title, but Schumacher claims the drivers' battle should not have gone to the final race -- hinting at the widespread reports of tension between Vettel and Webber.\",\n",
    "\"I guess the main reason why the championship is still open is due to the fact that one particular team has made quite a few errors this year,\\\" he said.\",\n",
    "\"Schumacher's return to F1 may not have been quite as successful as he would have hoped, but the German believes his past success has helped his younger compatriots.\",\n",
    "\"Schumacher, who dominated motorsport's elite class with Ferrari before retiring in late 2006, said he deserved some credit for raising F1's popularity in his home country.\"\n",
    "]\n",
    "\n",
    "input_t = experiment_df.text.iloc[0]\n",
    "\n",
    "for output in output_t:\n",
    "    print(match_sent(output, input_t))"
   ]
  },
  {
   "cell_type": "code",
   "execution_count": 29,
   "id": "03303aba-9851-42c3-91fc-cfa7b0962d94",
   "metadata": {
    "tags": []
   },
   "outputs": [
    {
     "data": {
      "text/plain": [
       "'[\"Seven-time world champion Michael Schumacher has told CNN that the Red Bull team should have already tied up the Formula One drivers\\' title -- and can only blame themselves for not having done so.\",\\n \"The Spaniard has an eight-point lead from Mark Webber, with the Australian\\'s Red Bull teammate Sebastian Vettel another seven points off the pace.\",\\n \\'\"I guess the main reason why the championship is still open is due to the fact that one particular team has made quite a few errors this year,\" he said.\\',\\n \\'\"And if you think out of 18 races they took 15 pole positions and still only being second and third in the drivers\\\\\\' championship -- they want to win the championship, yes.\"\\',\\n \"Schumacher\\'s return to F1 may not have been quite as successful as he would have hoped, but the German believes his past success has helped his younger compatriots.\",\\n \\'\"Well the future is very clearly to make step by step the development that we really have initiated this year and take the fruits of it by starting [well] next year,\" Schumacher said.\\']'"
      ]
     },
     "execution_count": 29,
     "metadata": {},
     "output_type": "execute_result"
    }
   ],
   "source": [
    "samp = experiment_df.experiment.iloc[0]\n",
    "samp"
   ]
  },
  {
   "cell_type": "code",
   "execution_count": 35,
   "id": "b08f15cc-fe11-4ea1-98af-cffc5181fe64",
   "metadata": {
    "tags": []
   },
   "outputs": [
    {
     "data": {
      "text/plain": [
       "'Seven-time world champion Michael Schumacher has told CNN that the Red Bull team should have already tied up the Formula One drivers\\' title -- and can only blame themselves for not having done so. The Spaniard has an eight-point lead from Mark Webber, with the Australian\\'s Red Bull teammate Sebastian Vettel another seven points off the pace. \"I guess the main reason why the championship is still open is due to the fact that one particular team has made quite a few errors this year,\" he said. \"And if you think out of 18 races they took 15 pole positions and still only being second and third in the drivers\\' championship -- they want to win the championship, yes.\" Schumacher\\'s return to F1 may not have been quite as successful as he would have hoped, but the German believes his past success has helped his younger compatriots. \"Well the future is very clearly to make step by step the development that we really have initiated this year and take the fruits of it by starting [well] next year,\" Schumacher said.'"
      ]
     },
     "execution_count": 35,
     "metadata": {},
     "output_type": "execute_result"
    }
   ],
   "source": [
    "import ast\n",
    "samp[2:-2]\n",
    "\" \".join(ast.literal_eval(samp))"
   ]
  },
  {
   "cell_type": "code",
   "execution_count": null,
   "id": "71764737-4dc9-4e51-8f77-2ed2d48ee066",
   "metadata": {
    "tags": []
   },
   "outputs": [],
   "source": [
    "[\"Doctor Who\" executive producer Stephen Moffat announced that actress Jenna-Louise Coleman will play Matt Smith's new companion following the departure of Karen Gillan and Arthur Darvill later this year., \"Jenna is going to lead him on his merriest dance yet., Even by the Doctor's standards, this isn't your usual boy-meets-girl., The 25-year-old Coleman's credits include the British soap \"Emmerdale,\" \"Captain America,\" and the upcoming miniseries \"Titanic.\", Moffat revealed at a press conference that Gillan's Amy and Darvill's Rory would make their exit from the show in the fifth episode of the new season., \"It's not often the Doctor meets someone who can talk even faster than he does, but it's about to happen,\" Moffat said in a statement.]\n",
    "\n"
   ]
  },
  {
   "cell_type": "markdown",
   "id": "f5bb9fde-5101-473d-98c3-fd6750130a6b",
   "metadata": {
    "jp-MarkdownHeadingCollapsed": true,
    "tags": []
   },
   "source": [
    "# Evaluating with ROUGE"
   ]
  },
  {
   "cell_type": "code",
   "execution_count": 5,
   "id": "f6f423c6-c05c-4ce0-9cd7-7f57f34b120e",
   "metadata": {
    "tags": []
   },
   "outputs": [
    {
     "name": "stdout",
     "output_type": "stream",
     "text": [
      "occams\n",
      "[0.38748881 0.13210813 0.06763282 0.04228074]\n",
      "t5\n",
      "[0.22088476 0.07240466 0.04137584 0.02880853]\n",
      "gpt\n",
      "[0.4677695  0.18611936 0.09552272 0.05594096]\n"
     ]
    }
   ],
   "source": [
    "from occams.rouge_eval import rouge_n_r\n",
    "import numpy as np\n",
    "from occams.nlp import TermOrder\n",
    "from occams.nlp import process_document\n",
    "from occams.summarize import SummaryUnits, extract_summary\n",
    "UNITS = SummaryUnits.CHARS\n",
    "\n",
    "char_budget = 350\n",
    "def compute_rouge_scores(extracts, summaries, target_length, units=SummaryUnits.WORDS):\n",
    "    rouges = []\n",
    "    for occ_summary, model in zip(extracts, summaries):\n",
    "        rouge = rouge_n_r(\n",
    "            occ_summary, model, summary_length=target_length, units=units, max_n=4\n",
    "            # occ_summary, model, summary_length=target_length, units=units\n",
    "        )\n",
    "        rouges.append(rouge[1:])\n",
    "    rouges = np.array(rouges)\n",
    "    return rouges\n",
    "\n",
    "\n",
    "rouges = compute_rouge_scores(\n",
    "    cnn_summaries['occams_summ'], cnn_summaries[\"human_summary\"], char_budget, units=UNITS\n",
    ")\n",
    "\n",
    "print(\"occams\")\n",
    "print(np.mean(rouges, axis=0))\n",
    "\n",
    "rouges = compute_rouge_scores(\n",
    "    cnn_summaries['t5_hybrid_summ'], cnn_summaries[\"human_summary\"], char_budget, units=UNITS\n",
    ")\n",
    "\n",
    "print(\"t5\")\n",
    "print(np.mean(rouges, axis=0))\n",
    "\n",
    "rouges = compute_rouge_scores(\n",
    "    cnn_summaries['gpt_a_summ'], cnn_summaries[\"human_summary\"], char_budget, units=UNITS\n",
    ")\n",
    "\n",
    "print(\"gpt\")\n",
    "print(np.mean(rouges, axis=0))"
   ]
  },
  {
   "cell_type": "code",
   "execution_count": 11,
   "id": "9ee69e0f-c112-4801-bf4b-48b39df6e9ac",
   "metadata": {
    "scrolled": true,
    "tags": []
   },
   "outputs": [
    {
     "data": {
      "text/plain": [
       "2    0.095523\n",
       "dtype: float64"
      ]
     },
     "execution_count": 11,
     "metadata": {},
     "output_type": "execute_result"
    }
   ],
   "source": [
    "df=pd.DataFrame(rouges)\n",
    "df[df.columns[2:-1]].mean()"
   ]
  },
  {
   "cell_type": "code",
   "execution_count": 12,
   "id": "979f36bd-7eff-4a79-903d-b2dff96138c3",
   "metadata": {
    "scrolled": true,
    "tags": []
   },
   "outputs": [
    {
     "data": {
      "text/plain": [
       "array([[0.52777778, 0.05714286, 0.        , 0.        ],\n",
       "       [0.6       , 0.20408163, 0.08333333, 0.0212766 ],\n",
       "       [0.53125   , 0.23809524, 0.08064516, 0.03278689],\n",
       "       [0.38983051, 0.22413793, 0.15789474, 0.10714286],\n",
       "       [0.38235294, 0.09090909, 0.0625    , 0.03225806],\n",
       "       [0.46031746, 0.16129032, 0.06557377, 0.01666667],\n",
       "       [0.25454545, 0.07407407, 0.01886792, 0.        ],\n",
       "       [0.35714286, 0.14545455, 0.11111111, 0.09433962],\n",
       "       [0.3220339 , 0.10344828, 0.03508772, 0.        ],\n",
       "       [0.43103448, 0.15789474, 0.03571429, 0.        ],\n",
       "       [0.70454545, 0.48837209, 0.28571429, 0.12195122],\n",
       "       [0.42592593, 0.11320755, 0.01923077, 0.        ],\n",
       "       [0.45      , 0.16949153, 0.0862069 , 0.03508772],\n",
       "       [0.4375    , 0.21276596, 0.08695652, 0.04444444],\n",
       "       [0.24      , 0.02040816, 0.        , 0.        ],\n",
       "       [0.36585366, 0.075     , 0.02564103, 0.        ],\n",
       "       [0.28333333, 0.03389831, 0.        , 0.        ],\n",
       "       [0.27272727, 0.        , 0.        , 0.        ],\n",
       "       [0.29508197, 0.11666667, 0.08474576, 0.06896552],\n",
       "       [0.32432432, 0.05555556, 0.        , 0.        ],\n",
       "       [0.56862745, 0.22      , 0.06122449, 0.        ],\n",
       "       [0.4893617 , 0.23913043, 0.15555556, 0.11363636],\n",
       "       [0.46666667, 0.13636364, 0.06976744, 0.02380952],\n",
       "       [0.35      , 0.10169492, 0.05172414, 0.03508772],\n",
       "       [0.35087719, 0.05357143, 0.        , 0.        ],\n",
       "       [0.44      , 0.2244898 , 0.125     , 0.08510638],\n",
       "       [0.5       , 0.21568627, 0.1       , 0.06122449],\n",
       "       [0.68181818, 0.42857143, 0.3       , 0.15789474],\n",
       "       [0.56862745, 0.32      , 0.14285714, 0.02083333],\n",
       "       [0.40677966, 0.0862069 , 0.        , 0.        ],\n",
       "       [0.52173913, 0.13636364, 0.        , 0.        ],\n",
       "       [0.58823529, 0.34328358, 0.21212121, 0.16923077],\n",
       "       [0.8       , 0.64285714, 0.53846154, 0.5       ],\n",
       "       [0.42857143, 0.24390244, 0.15      , 0.1025641 ],\n",
       "       [0.51020408, 0.1875    , 0.08510638, 0.06521739],\n",
       "       [0.29411765, 0.1       , 0.06122449, 0.04166667],\n",
       "       [0.57627119, 0.24137931, 0.0877193 , 0.        ],\n",
       "       [0.2195122 , 0.025     , 0.        , 0.        ],\n",
       "       [0.78571429, 0.61538462, 0.5       , 0.45454545],\n",
       "       [0.5       , 0.07272727, 0.        , 0.        ],\n",
       "       [0.51111111, 0.15909091, 0.06976744, 0.02380952],\n",
       "       [0.47727273, 0.30232558, 0.23809524, 0.2195122 ],\n",
       "       [0.21052632, 0.        , 0.        , 0.        ],\n",
       "       [0.58064516, 0.13333333, 0.03448276, 0.        ],\n",
       "       [0.4       , 0.18518519, 0.11320755, 0.07692308],\n",
       "       [0.51923077, 0.2745098 , 0.14      , 0.04081633],\n",
       "       [0.38888889, 0.11428571, 0.02941176, 0.        ],\n",
       "       [0.56756757, 0.19444444, 0.08571429, 0.02941176],\n",
       "       [0.41666667, 0.16949153, 0.0862069 , 0.01754386],\n",
       "       [0.38461538, 0.08      , 0.        , 0.        ],\n",
       "       [0.5       , 0.27272727, 0.2037037 , 0.13207547],\n",
       "       [0.59090909, 0.23809524, 0.1       , 0.        ],\n",
       "       [0.43859649, 0.125     , 0.03636364, 0.        ],\n",
       "       [0.3       , 0.11864407, 0.05172414, 0.01754386],\n",
       "       [0.45901639, 0.2       , 0.10169492, 0.03448276],\n",
       "       [0.67567568, 0.27777778, 0.05714286, 0.02941176],\n",
       "       [0.46808511, 0.19565217, 0.06666667, 0.02272727],\n",
       "       [0.36956522, 0.08888889, 0.06818182, 0.04651163],\n",
       "       [0.39534884, 0.19047619, 0.12195122, 0.075     ],\n",
       "       [0.8974359 , 0.73684211, 0.56756757, 0.41666667],\n",
       "       [0.6969697 , 0.1875    , 0.06451613, 0.        ],\n",
       "       [0.43181818, 0.18604651, 0.0952381 , 0.04878049],\n",
       "       [0.38297872, 0.06521739, 0.        , 0.        ],\n",
       "       [0.40816327, 0.08333333, 0.04255319, 0.        ],\n",
       "       [0.61764706, 0.27272727, 0.125     , 0.03225806],\n",
       "       [0.65116279, 0.30952381, 0.17073171, 0.1       ],\n",
       "       [0.34615385, 0.05882353, 0.        , 0.        ],\n",
       "       [0.43283582, 0.16666667, 0.04615385, 0.03125   ],\n",
       "       [0.36363636, 0.12962963, 0.05660377, 0.01923077],\n",
       "       [0.81818182, 0.65625   , 0.5483871 , 0.46666667],\n",
       "       [0.38297872, 0.10869565, 0.04444444, 0.        ],\n",
       "       [0.76      , 0.33333333, 0.17391304, 0.09090909],\n",
       "       [0.48780488, 0.2       , 0.1025641 , 0.07894737],\n",
       "       [0.22580645, 0.        , 0.        , 0.        ],\n",
       "       [0.5       , 0.22222222, 0.11363636, 0.06976744],\n",
       "       [0.57446809, 0.08695652, 0.02222222, 0.        ],\n",
       "       [0.48979592, 0.16666667, 0.10638298, 0.06521739],\n",
       "       [0.48275862, 0.15789474, 0.03571429, 0.01818182],\n",
       "       [0.55172414, 0.28070175, 0.16071429, 0.09090909],\n",
       "       [0.68965517, 0.28571429, 0.14814815, 0.03846154],\n",
       "       [0.38461538, 0.15789474, 0.08108108, 0.05555556],\n",
       "       [0.55102041, 0.25      , 0.12765957, 0.08695652],\n",
       "       [0.71111111, 0.5       , 0.37209302, 0.30952381],\n",
       "       [0.16216216, 0.02777778, 0.        , 0.        ],\n",
       "       [0.48837209, 0.19047619, 0.04878049, 0.        ],\n",
       "       [0.35294118, 0.0625    , 0.        , 0.        ],\n",
       "       [0.4893617 , 0.17391304, 0.02222222, 0.        ],\n",
       "       [0.44642857, 0.14545455, 0.05555556, 0.01886792],\n",
       "       [0.38297872, 0.13043478, 0.04444444, 0.02272727],\n",
       "       [0.40625   , 0.12698413, 0.03225806, 0.        ],\n",
       "       [0.56818182, 0.25581395, 0.16666667, 0.09756098],\n",
       "       [0.33333333, 0.06818182, 0.02325581, 0.        ],\n",
       "       [0.5       , 0.15789474, 0.        , 0.        ],\n",
       "       [0.46666667, 0.11363636, 0.02325581, 0.        ],\n",
       "       [0.45762712, 0.17241379, 0.10526316, 0.05357143],\n",
       "       [0.5       , 0.12727273, 0.03703704, 0.01886792],\n",
       "       [0.46428571, 0.18181818, 0.11111111, 0.0754717 ],\n",
       "       [0.46938776, 0.08333333, 0.        , 0.        ],\n",
       "       [0.38235294, 0.21212121, 0.125     , 0.06451613],\n",
       "       [0.31147541, 0.08333333, 0.06779661, 0.05172414]])"
      ]
     },
     "execution_count": 12,
     "metadata": {},
     "output_type": "execute_result"
    }
   ],
   "source": [
    "rouges"
   ]
  },
  {
   "cell_type": "code",
   "execution_count": 8,
   "id": "54fa815c-abb5-4e9a-92b1-f93ba741b1c0",
   "metadata": {
    "tags": []
   },
   "outputs": [
    {
     "name": "stdout",
     "output_type": "stream",
     "text": [
      "['rouge1', 'rouge2', 'rougeL', 'rougeLsum']\n",
      "[0.6666666666666666, 0.0]\n"
     ]
    }
   ],
   "source": [
    "import evaluate\n",
    "rouge = evaluate.load('rouge')\n",
    "\n",
    "rouge = evaluate.load('rouge')\n",
    "predictions = [\"hello goodbye\", \"ankh morpork\"]\n",
    "references = [\"goodbye\", \"general kenobi\"]\n",
    "results = rouge.compute(predictions=predictions,\n",
    "                             references=references,\n",
    "                             use_aggregator=False)\n",
    "print(list(results.keys()))\n",
    "print(results[\"rouge1\"])\n"
   ]
  },
  {
   "cell_type": "code",
   "execution_count": 10,
   "id": "0cdd6ab5-4b63-4b37-a6f3-5c533cc6112d",
   "metadata": {},
   "outputs": [
    {
     "data": {
      "text/plain": [
       "[{'rouge-1': {'f': 0.4786324739396596,\n",
       "   'p': 0.6363636363636364,\n",
       "   'r': 0.3835616438356164},\n",
       "  'rouge-2': {'f': 0.2608695605353498,\n",
       "   'p': 0.3488372093023256,\n",
       "   'r': 0.20833333333333334},\n",
       "  'rouge-l': {'f': 0.44705881864636676,\n",
       "   'p': 0.5277777777777778,\n",
       "   'r': 0.3877551020408163}}]"
      ]
     },
     "execution_count": 10,
     "metadata": {},
     "output_type": "execute_result"
    }
   ],
   "source": [
    "from rouge import Rouge \n",
    "hypothesis = \"the #### transcript is a written version of each day 's cnn student news program use this transcript to he    lp students with reading comprehension and vocabulary use the weekly newsquiz to test your knowledge of storie s you     saw on cnn student news\"\n",
    "reference = \"this page includes the show transcript use the transcript to help students with reading comprehension and     vocabulary at the bottom of the page , comment for a chance to be mentioned on cnn student news . you must be a teac    her or a student age # # or older to request a mention on the cnn student news roll call . the weekly newsquiz tests     students ' knowledge of even ts in the news\"\n",
    "rouge = Rouge()\n",
    "scores = rouge.get_scores(hypothesis, reference)\n",
    "scores"
   ]
  },
  {
   "cell_type": "code",
   "execution_count": 12,
   "id": "9bdb9789-3257-46e1-93df-b90633827631",
   "metadata": {},
   "outputs": [
    {
     "name": "stdout",
     "output_type": "stream",
     "text": [
      "Evaluation with Avg\n"
     ]
    },
    {
     "ename": "TypeError",
     "evalue": "Rouge.__init__() got an unexpected keyword argument 'length_limit'",
     "output_type": "error",
     "traceback": [
      "\u001b[0;31m---------------------------------------------------------------------------\u001b[0m",
      "\u001b[0;31mTypeError\u001b[0m                                 Traceback (most recent call last)",
      "Cell \u001b[0;32mIn[12], line 13\u001b[0m\n\u001b[1;32m     10\u001b[0m apply_avg \u001b[38;5;241m=\u001b[39m aggregator \u001b[38;5;241m==\u001b[39m \u001b[38;5;124m'\u001b[39m\u001b[38;5;124mAvg\u001b[39m\u001b[38;5;124m'\u001b[39m\n\u001b[1;32m     11\u001b[0m apply_best \u001b[38;5;241m=\u001b[39m aggregator \u001b[38;5;241m==\u001b[39m \u001b[38;5;124m'\u001b[39m\u001b[38;5;124mBest\u001b[39m\u001b[38;5;124m'\u001b[39m\n\u001b[0;32m---> 13\u001b[0m evaluator \u001b[38;5;241m=\u001b[39m \u001b[43mrouge\u001b[49m\u001b[38;5;241;43m.\u001b[39;49m\u001b[43mRouge\u001b[49m\u001b[43m(\u001b[49m\u001b[43mmetrics\u001b[49m\u001b[38;5;241;43m=\u001b[39;49m\u001b[43m[\u001b[49m\u001b[38;5;124;43m'\u001b[39;49m\u001b[38;5;124;43mrouge-n\u001b[39;49m\u001b[38;5;124;43m'\u001b[39;49m\u001b[43m,\u001b[49m\u001b[43m \u001b[49m\u001b[38;5;124;43m'\u001b[39;49m\u001b[38;5;124;43mrouge-l\u001b[39;49m\u001b[38;5;124;43m'\u001b[39;49m\u001b[43m,\u001b[49m\u001b[43m \u001b[49m\u001b[38;5;124;43m'\u001b[39;49m\u001b[38;5;124;43mrouge-w\u001b[39;49m\u001b[38;5;124;43m'\u001b[39;49m\u001b[43m]\u001b[49m\u001b[43m,\u001b[49m\n\u001b[1;32m     14\u001b[0m \u001b[43m                       \u001b[49m\u001b[38;5;66;43;03m# max_n=4,\u001b[39;49;00m\n\u001b[1;32m     15\u001b[0m \u001b[43m                       \u001b[49m\u001b[38;5;66;43;03m# limit_length=True,\u001b[39;49;00m\n\u001b[1;32m     16\u001b[0m \u001b[43m                       \u001b[49m\u001b[43mlength_limit\u001b[49m\u001b[38;5;241;43m=\u001b[39;49m\u001b[38;5;241;43m100\u001b[39;49m\u001b[43m,\u001b[49m\n\u001b[1;32m     17\u001b[0m \u001b[43m                       \u001b[49m\u001b[43mlength_limit_type\u001b[49m\u001b[38;5;241;43m=\u001b[39;49m\u001b[38;5;124;43m'\u001b[39;49m\u001b[38;5;124;43mwords\u001b[39;49m\u001b[38;5;124;43m'\u001b[39;49m\u001b[43m,\u001b[49m\n\u001b[1;32m     18\u001b[0m \u001b[43m                       \u001b[49m\u001b[43mapply_avg\u001b[49m\u001b[38;5;241;43m=\u001b[39;49m\u001b[43mapply_avg\u001b[49m\u001b[43m,\u001b[49m\n\u001b[1;32m     19\u001b[0m \u001b[43m                       \u001b[49m\u001b[43mapply_best\u001b[49m\u001b[38;5;241;43m=\u001b[39;49m\u001b[43mapply_best\u001b[49m\u001b[43m,\u001b[49m\n\u001b[1;32m     20\u001b[0m \u001b[43m                       \u001b[49m\u001b[43malpha\u001b[49m\u001b[38;5;241;43m=\u001b[39;49m\u001b[38;5;241;43m0.5\u001b[39;49m\u001b[43m,\u001b[49m\u001b[43m \u001b[49m\u001b[38;5;66;43;03m# Default F1_score\u001b[39;49;00m\n\u001b[1;32m     21\u001b[0m \u001b[43m                       \u001b[49m\u001b[43mweight_factor\u001b[49m\u001b[38;5;241;43m=\u001b[39;49m\u001b[38;5;241;43m1.2\u001b[39;49m\u001b[43m,\u001b[49m\n\u001b[1;32m     22\u001b[0m \u001b[43m                       \u001b[49m\u001b[43mstemming\u001b[49m\u001b[38;5;241;43m=\u001b[39;49m\u001b[38;5;28;43;01mTrue\u001b[39;49;00m\u001b[43m)\u001b[49m\n\u001b[1;32m     25\u001b[0m hypothesis_1 \u001b[38;5;241m=\u001b[39m \u001b[38;5;124m\"\u001b[39m\u001b[38;5;124mKing Norodom Sihanouk has declined requests to chair a summit of Cambodia \u001b[39m\u001b[38;5;124m'\u001b[39m\u001b[38;5;124ms top political leaders , saying the meeting would not bring any progress in deadlocked negotiations to form a government .\u001b[39m\u001b[38;5;130;01m\\n\u001b[39;00m\u001b[38;5;124mGovernment and opposition parties have asked King Norodom Sihanouk to host a summit meeting after a series of post-election negotiations between the two opposition groups and Hun Sen \u001b[39m\u001b[38;5;124m'\u001b[39m\u001b[38;5;124ms party to form a new government failed .\u001b[39m\u001b[38;5;130;01m\\n\u001b[39;00m\u001b[38;5;124mHun Sen \u001b[39m\u001b[38;5;124m'\u001b[39m\u001b[38;5;124ms ruling party narrowly won a majority in elections in July , but the opposition _ claiming widespread intimidation and fraud _ has denied Hun Sen the two-thirds vote in parliament required to approve the next government .\u001b[39m\u001b[38;5;130;01m\\n\u001b[39;00m\u001b[38;5;124m\"\u001b[39m\n\u001b[1;32m     26\u001b[0m references_1 \u001b[38;5;241m=\u001b[39m [\u001b[38;5;124m\"\u001b[39m\u001b[38;5;124mProspects were dim for resolution of the political crisis in Cambodia in October 1998.\u001b[39m\u001b[38;5;130;01m\\n\u001b[39;00m\u001b[38;5;124mPrime Minister Hun Sen insisted that talks take place in Cambodia while opposition leaders Ranariddh and Sam Rainsy, fearing arrest at home, wanted them abroad.\u001b[39m\u001b[38;5;130;01m\\n\u001b[39;00m\u001b[38;5;124mKing Sihanouk declined to chair talks in either place.\u001b[39m\u001b[38;5;130;01m\\n\u001b[39;00m\u001b[38;5;124mA U.S. House resolution criticized Hun Sen\u001b[39m\u001b[38;5;124m'\u001b[39m\u001b[38;5;124ms regime while the opposition tried to cut off his access to loans.\u001b[39m\u001b[38;5;130;01m\\n\u001b[39;00m\u001b[38;5;124mBut in November the King announced a coalition government with Hun Sen heading the executive and Ranariddh leading the parliament.\u001b[39m\u001b[38;5;130;01m\\n\u001b[39;00m\u001b[38;5;124mLeft out, Sam Rainsy sought the King\u001b[39m\u001b[38;5;124m'\u001b[39m\u001b[38;5;124ms assurance of Hun Sen\u001b[39m\u001b[38;5;124m'\u001b[39m\u001b[38;5;124ms promise of safety and freedom for all politicians.\u001b[39m\u001b[38;5;124m\"\u001b[39m,\n\u001b[1;32m     27\u001b[0m                 \u001b[38;5;124m\"\u001b[39m\u001b[38;5;124mCambodian prime minister Hun Sen rejects demands of 2 opposition parties for talks in Beijing after failing to win a 2/3 majority in recent elections.\u001b[39m\u001b[38;5;130;01m\\n\u001b[39;00m\u001b[38;5;124mSihanouk refuses to host talks in Beijing.\u001b[39m\u001b[38;5;130;01m\\n\u001b[39;00m\u001b[38;5;124mOpposition parties ask the Asian Development Bank to stop loans to Hun Sen\u001b[39m\u001b[38;5;124m'\u001b[39m\u001b[38;5;124ms government.\u001b[39m\u001b[38;5;130;01m\\n\u001b[39;00m\u001b[38;5;124mCCP defends Hun Sen to the US Senate.\u001b[39m\u001b[38;5;130;01m\\n\u001b[39;00m\u001b[38;5;124mFUNCINPEC refuses to share the presidency.\u001b[39m\u001b[38;5;130;01m\\n\u001b[39;00m\u001b[38;5;124mHun Sen and Ranariddh eventually form a coalition at summit convened by Sihanouk.\u001b[39m\u001b[38;5;130;01m\\n\u001b[39;00m\u001b[38;5;124mHun Sen remains prime minister, Ranariddh is president of the national assembly, and a new senate will be formed.\u001b[39m\u001b[38;5;130;01m\\n\u001b[39;00m\u001b[38;5;124mOpposition leader Rainsy left out.\u001b[39m\u001b[38;5;130;01m\\n\u001b[39;00m\u001b[38;5;124mHe seeks strong assurance of safety should he return to Cambodia.\u001b[39m\u001b[38;5;130;01m\\n\u001b[39;00m\u001b[38;5;124m\"\u001b[39m,\n\u001b[1;32m     28\u001b[0m                 ]\n",
      "\u001b[0;31mTypeError\u001b[0m: Rouge.__init__() got an unexpected keyword argument 'length_limit'"
     ]
    }
   ],
   "source": [
    "import rouge\n",
    "\n",
    "\n",
    "def prepare_results(p, r, f):\n",
    "    return '\\t{}:\\t{}: {:5.2f}\\t{}: {:5.2f}\\t{}: {:5.2f}'.format(metric, 'P', 100.0 * p, 'R', 100.0 * r, 'F1', 100.0 * f)\n",
    "\n",
    "\n",
    "for aggregator in ['Avg', 'Best', 'Individual']:\n",
    "    print('Evaluation with {}'.format(aggregator))\n",
    "    apply_avg = aggregator == 'Avg'\n",
    "    apply_best = aggregator == 'Best'\n",
    "\n",
    "    evaluator = rouge.Rouge(metrics=['rouge-n', 'rouge-l', 'rouge-w'],\n",
    "                           # max_n=4,\n",
    "                           # limit_length=True,\n",
    "                           length_limit=100,\n",
    "                           length_limit_type='words',\n",
    "                           apply_avg=apply_avg,\n",
    "                           apply_best=apply_best,\n",
    "                           alpha=0.5, # Default F1_score\n",
    "                           weight_factor=1.2,\n",
    "                           stemming=True)\n",
    "\n",
    "\n",
    "    hypothesis_1 = \"King Norodom Sihanouk has declined requests to chair a summit of Cambodia 's top political leaders , saying the meeting would not bring any progress in deadlocked negotiations to form a government .\\nGovernment and opposition parties have asked King Norodom Sihanouk to host a summit meeting after a series of post-election negotiations between the two opposition groups and Hun Sen 's party to form a new government failed .\\nHun Sen 's ruling party narrowly won a majority in elections in July , but the opposition _ claiming widespread intimidation and fraud _ has denied Hun Sen the two-thirds vote in parliament required to approve the next government .\\n\"\n",
    "    references_1 = [\"Prospects were dim for resolution of the political crisis in Cambodia in October 1998.\\nPrime Minister Hun Sen insisted that talks take place in Cambodia while opposition leaders Ranariddh and Sam Rainsy, fearing arrest at home, wanted them abroad.\\nKing Sihanouk declined to chair talks in either place.\\nA U.S. House resolution criticized Hun Sen's regime while the opposition tried to cut off his access to loans.\\nBut in November the King announced a coalition government with Hun Sen heading the executive and Ranariddh leading the parliament.\\nLeft out, Sam Rainsy sought the King's assurance of Hun Sen's promise of safety and freedom for all politicians.\",\n",
    "                    \"Cambodian prime minister Hun Sen rejects demands of 2 opposition parties for talks in Beijing after failing to win a 2/3 majority in recent elections.\\nSihanouk refuses to host talks in Beijing.\\nOpposition parties ask the Asian Development Bank to stop loans to Hun Sen's government.\\nCCP defends Hun Sen to the US Senate.\\nFUNCINPEC refuses to share the presidency.\\nHun Sen and Ranariddh eventually form a coalition at summit convened by Sihanouk.\\nHun Sen remains prime minister, Ranariddh is president of the national assembly, and a new senate will be formed.\\nOpposition leader Rainsy left out.\\nHe seeks strong assurance of safety should he return to Cambodia.\\n\",\n",
    "                    ]\n",
    "\n",
    "    hypothesis_2 = \"China 's government said Thursday that two prominent dissidents arrested this week are suspected of endangering national security _ the clearest sign yet Chinese leaders plan to quash a would-be opposition party .\\nOne leader of a suppressed new political party will be tried on Dec. 17 on a charge of colluding with foreign enemies of China '' to incite the subversion of state power , '' according to court documents given to his wife on Monday .\\nWith attorneys locked up , harassed or plain scared , two prominent dissidents will defend themselves against charges of subversion Thursday in China 's highest-profile dissident trials in two years .\\n\"\n",
    "    references_2 = \"Hurricane Mitch, category 5 hurricane, brought widespread death and destruction to Central American.\\nEspecially hard hit was Honduras where an estimated 6,076 people lost their lives.\\nThe hurricane, which lingered off the coast of Honduras for 3 days before moving off, flooded large areas, destroying crops and property.\\nThe U.S. and European Union were joined by Pope John Paul II in a call for money and workers to help the stricken area.\\nPresident Clinton sent Tipper Gore, wife of Vice President Gore to the area to deliver much needed supplies to the area, demonstrating U.S. commitment to the recovery of the region.\\n\"\n",
    "\n",
    "    all_hypothesis = [hypothesis_1, hypothesis_2]\n",
    "    all_references = [references_1, references_2]\n",
    "\n",
    "    scores = evaluator.get_scores(all_hypothesis, all_references)\n",
    "\n",
    "    for metric, results in sorted(scores.items(), key=lambda x: x[0]):\n",
    "        if not apply_avg and not apply_best: # value is a type of list as we evaluate each summary vs each reference\n",
    "            for hypothesis_id, results_per_ref in enumerate(results):\n",
    "                nb_references = len(results_per_ref['p'])\n",
    "                for reference_id in range(nb_references):\n",
    "                    print('\\tHypothesis #{} & Reference #{}: '.format(hypothesis_id, reference_id))\n",
    "                    print('\\t' + prepare_results(results_per_ref['p'][reference_id], results_per_ref['r'][reference_id], results_per_ref['f'][reference_id]))\n",
    "            print()\n",
    "        else:\n",
    "            print(prepare_results(results['p'], results['r'], results['f']))\n",
    "    print()"
   ]
  },
  {
   "cell_type": "code",
   "execution_count": null,
   "id": "f5631390-b92c-4859-9ac9-b023968d7648",
   "metadata": {},
   "outputs": [],
   "source": []
  }
 ],
 "metadata": {
  "kernelspec": {
   "display_name": "occams_venv",
   "language": "python",
   "name": "occams_venv"
  },
  "language_info": {
   "codemirror_mode": {
    "name": "ipython",
    "version": 3
   },
   "file_extension": ".py",
   "mimetype": "text/x-python",
   "name": "python",
   "nbconvert_exporter": "python",
   "pygments_lexer": "ipython3",
   "version": "3.11.3"
  }
 },
 "nbformat": 4,
 "nbformat_minor": 5
}
