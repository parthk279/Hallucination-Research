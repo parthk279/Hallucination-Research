{
 "cells": [
  {
   "cell_type": "markdown",
   "id": "371366b0-15b4-4e98-b0b7-858e14991fc8",
   "metadata": {},
   "source": [
    "# Evaluating with ROUGE, SMART, SummaC and BERT"
   ]
  },
  {
   "cell_type": "markdown",
   "id": "ff765832-6b68-4508-9aa6-e88c2acddbce",
   "metadata": {},
   "source": [
    "## ROUGE"
   ]
  },
  {
   "cell_type": "code",
   "execution_count": 4,
   "id": "2ca4842d-f219-4c97-b54b-fba0c1b6979d",
   "metadata": {
    "tags": []
   },
   "outputs": [],
   "source": [
    "import pandas as pd\n",
    "import numpy as np\n",
    "cnn_summaries = pd.read_parquet('datasets/cnn_experiment.parquet')"
   ]
  },
  {
   "cell_type": "code",
   "execution_count": 9,
   "id": "6acd121d-2edd-4e48-a20a-cdde0799b096",
   "metadata": {
    "tags": []
   },
   "outputs": [],
   "source": [
    "from occams.summarize import SummaryUnits\n",
    "UNITS = SummaryUnits.CHARS\n",
    "\n",
    "def get_target_length(summaries, UNITS=UNITS, length_quantile=0.5):\n",
    "    num_units = [UNITS.len(summary) for summary in summaries]\n",
    "    target_length = int(np.quantile(num_units, length_quantile))\n",
    "    return num_units, target_length\n",
    "\n",
    "num_units, target_length = get_target_length(cnn_summaries[\"highlights\"])\n"
   ]
  },
  {
   "cell_type": "code",
   "execution_count": 10,
   "id": "26f4d861-a768-4b55-84d9-e1e82ee754e7",
   "metadata": {
    "tags": []
   },
   "outputs": [],
   "source": [
    "from occams.rouge_eval import rouge_n_r\n",
    "import numpy as np\n",
    "from occams.summarize import SummaryUnits\n",
    "UNITS = SummaryUnits.CHARS\n",
    "\n",
    "def compute_rouge_scores(extracts, summaries, target_length, units=SummaryUnits.WORDS):\n",
    "    rouges = []\n",
    "    for this_summary, model in zip(extracts, summaries):\n",
    "        rouge = rouge_n_r(\n",
    "            this_summary, model, summary_length=target_length, units=units, max_n=4\n",
    "        )\n",
    "        rouges.append(rouge[1:])\n",
    "    rouges = np.array(rouges)\n",
    "    return rouges\n",
    "\n",
    "\n",
    "rouges = np.mean(compute_rouge_scores(\n",
    "    cnn_summaries['occams_summ_f'], cnn_summaries[\"highlights\"], target_length, units=UNITS\n",
    "), axis=0)"
   ]
  },
  {
   "cell_type": "code",
   "execution_count": 11,
   "id": "aa8a1d54-ebc5-4a1c-9a5f-c5ea7f33a94d",
   "metadata": {
    "tags": []
   },
   "outputs": [
    {
     "data": {
      "text/plain": [
       "array([0.33349086, 0.1109468 , 0.05340301, 0.03196522])"
      ]
     },
     "execution_count": 11,
     "metadata": {},
     "output_type": "execute_result"
    }
   ],
   "source": [
    "rouges"
   ]
  },
  {
   "cell_type": "code",
   "execution_count": 12,
   "id": "de5afdad-7ec8-4d73-b183-f273240bf6f7",
   "metadata": {
    "tags": []
   },
   "outputs": [
    {
     "name": "stdout",
     "output_type": "stream",
     "text": [
      "occams_summ_f rouge: [0.33349086 0.1109468  0.05340301 0.03196522]\n"
     ]
    }
   ],
   "source": [
    "print(f\"occams_summ_f rouge: {rouges}\")"
   ]
  },
  {
   "cell_type": "code",
   "execution_count": 13,
   "id": "7fc3020c-369b-4408-8bf3-ce1af86dd4b0",
   "metadata": {
    "tags": []
   },
   "outputs": [
    {
     "name": "stdout",
     "output_type": "stream",
     "text": [
      "occams_summ_f rouge: [0.33349086 0.1109468  0.05340301 0.03196522]\n",
      "occams_gpt_summ rouge: [0.26889998 0.0666852  0.02038136 0.00596117]\n",
      "gpt_gpt_summ rouge: [0.28060483 0.07934564 0.02603879 0.00936921]\n"
     ]
    }
   ],
   "source": [
    "summary_cols = ['occams_summ_f', \"occams_gpt_summ\", \"gpt_gpt_summ\"]\n",
    "for col in summary_cols:\n",
    "    rouges = np.mean(compute_rouge_scores(\n",
    "    cnn_summaries[col], cnn_summaries[\"highlights\"], target_length, units=UNITS\n",
    "), axis=0)\n",
    "    print(f\"{col} rouge: {rouges}\")"
   ]
  },
  {
   "cell_type": "markdown",
   "id": "b9621684-6271-4f0a-a6bb-6759b5f2d2d9",
   "metadata": {},
   "source": [
    "## SMART"
   ]
  },
  {
   "cell_type": "code",
   "execution_count": 1,
   "id": "9078ebc2-8ff4-4b68-839f-e64b753f30db",
   "metadata": {
    "tags": []
   },
   "outputs": [],
   "source": [
    "## SWITCH KERNELS! rouge_score is not installed, they use a different method than occams does for rouge.\n",
    "from smart_eval import matching_functions as mf\n",
    "from smart_eval import summeval_utils as utils\n",
    "from smart_eval import scorer"
   ]
  },
  {
   "cell_type": "code",
   "execution_count": 11,
   "id": "e2ce1890-eb97-4e32-b4b2-0dbf30c342c4",
   "metadata": {
    "tags": []
   },
   "outputs": [],
   "source": [
    "summary_cols = ['occams_summ_f', \"occams_gpt_summ\", \"gpt_gpt_summ\"]\n",
    "\n",
    "matcher = mf.chrf_matcher\n",
    "smart_scorer = scorer.SmartScorer(matching_fn=matcher)\n",
    "\n",
    "from collections import OrderedDict\n",
    " \n",
    "\n",
    "def smart_score(row, metric):\n",
    "    all_smart_scores = []\n",
    "    for col in summary_cols:\n",
    "        scores = smart_scorer.smart_score(row['highlights'], row[col])\n",
    "        for score in scores.keys():\n",
    "            scores[score] = scores[score][metric]\n",
    "        scores['summary_type'] = col\n",
    "        all_smart_scores.append(scores)\n",
    "    return all_smart_scores\n",
    "\n",
    "smart_scores_df = cnn_summaries.copy()\n",
    "smart_scores_df['smart_scores'] = cnn_summaries.apply(lambda x: smart_score(x, 'recall'), axis=1)"
   ]
  },
  {
   "cell_type": "code",
   "execution_count": 12,
   "id": "9425d3f2-7122-4f52-a962-796630063b89",
   "metadata": {
    "tags": []
   },
   "outputs": [
    {
     "data": {
      "text/html": [
       "<div>\n",
       "<style scoped>\n",
       "    .dataframe tbody tr th:only-of-type {\n",
       "        vertical-align: middle;\n",
       "    }\n",
       "\n",
       "    .dataframe tbody tr th {\n",
       "        vertical-align: top;\n",
       "    }\n",
       "\n",
       "    .dataframe thead th {\n",
       "        text-align: right;\n",
       "    }\n",
       "</style>\n",
       "<table border=\"1\" class=\"dataframe\">\n",
       "  <thead>\n",
       "    <tr style=\"text-align: right;\">\n",
       "      <th></th>\n",
       "      <th>smart1</th>\n",
       "      <th>smart2</th>\n",
       "      <th>smartL</th>\n",
       "    </tr>\n",
       "    <tr>\n",
       "      <th>summary_type</th>\n",
       "      <th></th>\n",
       "      <th></th>\n",
       "      <th></th>\n",
       "    </tr>\n",
       "  </thead>\n",
       "  <tbody>\n",
       "    <tr>\n",
       "      <th>gpt_gpt_summ</th>\n",
       "      <td>28.030778</td>\n",
       "      <td>19.258911</td>\n",
       "      <td>27.453943</td>\n",
       "    </tr>\n",
       "    <tr>\n",
       "      <th>occams_gpt_summ</th>\n",
       "      <td>27.281604</td>\n",
       "      <td>18.637877</td>\n",
       "      <td>26.877511</td>\n",
       "    </tr>\n",
       "    <tr>\n",
       "      <th>occams_summ_f</th>\n",
       "      <td>28.408948</td>\n",
       "      <td>18.837552</td>\n",
       "      <td>27.875472</td>\n",
       "    </tr>\n",
       "  </tbody>\n",
       "</table>\n",
       "</div>"
      ],
      "text/plain": [
       "                    smart1     smart2     smartL\n",
       "summary_type                                    \n",
       "gpt_gpt_summ     28.030778  19.258911  27.453943\n",
       "occams_gpt_summ  27.281604  18.637877  26.877511\n",
       "occams_summ_f    28.408948  18.837552  27.875472"
      ]
     },
     "execution_count": 12,
     "metadata": {},
     "output_type": "execute_result"
    }
   ],
   "source": [
    "smart_score_df = smart_scores_df[['id', 'smart_scores']].explode('smart_scores')\n",
    "smart_score_df = pd.concat([smart_score_df.drop(['smart_scores'], axis=1), smart_score_df['smart_scores'].apply(pd.Series)], axis=1)\n",
    "smart_score_df.groupby(by=['summary_type'])[['smart1', 'smart2', 'smartL']].mean()"
   ]
  },
  {
   "cell_type": "markdown",
   "id": "bf851551-1ce0-463f-aebe-2755db1e8205",
   "metadata": {},
   "source": [
    "## SummaC"
   ]
  },
  {
   "cell_type": "code",
   "execution_count": 7,
   "id": "6c313408-909d-40d4-a72e-b4afa5580812",
   "metadata": {
    "tags": []
   },
   "outputs": [
    {
     "name": "stdout",
     "output_type": "stream",
     "text": [
      "<All keys matched successfully>\n"
     ]
    }
   ],
   "source": [
    "# CHANGE KERNEL! Python 3.8\n",
    "\n",
    "from summac.model_summac import SummaCZS, SummaCConv\n",
    "\n",
    "model_zs = SummaCZS(granularity=\"sentence\", model_name=\"vitc\", device=\"cuda\", max_doc_sents=500) # If you have a GPU: switch to: device=\"cuda\"\n",
    "model_zs_nocon = SummaCZS(granularity=\"sentence\", model_name=\"vitc\", device=\"cuda\", max_doc_sents=500, use_con=False) # If you have a GPU: switch to: device=\"cuda\"\n",
    "\n",
    "model_conv = SummaCConv(models=[\"vitc\"], bins='percentile', granularity=\"sentence\", nli_labels=\"e\", device=\"cuda\", start_file=\"default\", agg=\"mean\", max_doc_sents=500)"
   ]
  },
  {
   "cell_type": "code",
   "execution_count": 12,
   "id": "fab0df0c-5fc8-4d5b-be16-630f795ed090",
   "metadata": {},
   "outputs": [],
   "source": [
    "summary_cols = ['occams_summ_f', \"occams_gpt_summ\", \"gpt_gpt_summ\"]\n",
    "\n",
    "\n",
    "def summac_score(row):\n",
    "    all_summac_scores = []\n",
    "    with open('untitled.txt', 'a') as f:\n",
    "        f.write('hi')\n",
    "    for col in summary_cols:\n",
    "        scores = {}\n",
    "        scores['SummaCZS'] = model_zs.score([row['article']], [row[col]])['scores'][0]\n",
    "        scores['SummaCZS_no_con'] =model_zs_nocon.score([row['article']], [row[col]])['scores'][0]\n",
    "        scores['SummaConv'] = model_conv.score([row['article']], [row[col]])['scores'][0]\n",
    "        scores['summary_type'] = col\n",
    "        all_summac_scores.append(scores)\n",
    "    return all_summac_scores\n",
    "\n",
    "summac_scores_df = cnn_summaries.copy()\n",
    "summac_scores_df['summac_scores'] = cnn_summaries.apply(summac_score, axis=1)"
   ]
  },
  {
   "cell_type": "code",
   "execution_count": 13,
   "id": "35f004c7-1a47-420c-80f2-58d945381166",
   "metadata": {},
   "outputs": [
    {
     "data": {
      "text/html": [
       "<div>\n",
       "<style scoped>\n",
       "    .dataframe tbody tr th:only-of-type {\n",
       "        vertical-align: middle;\n",
       "    }\n",
       "\n",
       "    .dataframe tbody tr th {\n",
       "        vertical-align: top;\n",
       "    }\n",
       "\n",
       "    .dataframe thead th {\n",
       "        text-align: right;\n",
       "    }\n",
       "</style>\n",
       "<table border=\"1\" class=\"dataframe\">\n",
       "  <thead>\n",
       "    <tr style=\"text-align: right;\">\n",
       "      <th>summary_type</th>\n",
       "      <th>gpt_gpt_summ</th>\n",
       "      <th>occams_gpt_summ</th>\n",
       "      <th>occams_summ_f</th>\n",
       "    </tr>\n",
       "  </thead>\n",
       "  <tbody>\n",
       "    <tr>\n",
       "      <th>SummaCZS</th>\n",
       "      <td>-0.102510</td>\n",
       "      <td>-0.086492</td>\n",
       "      <td>0.448445</td>\n",
       "    </tr>\n",
       "    <tr>\n",
       "      <th>SummaCZS_no_con</th>\n",
       "      <td>0.504205</td>\n",
       "      <td>0.490599</td>\n",
       "      <td>0.993038</td>\n",
       "    </tr>\n",
       "    <tr>\n",
       "      <th>SummaConv</th>\n",
       "      <td>0.450414</td>\n",
       "      <td>0.455483</td>\n",
       "      <td>0.913763</td>\n",
       "    </tr>\n",
       "  </tbody>\n",
       "</table>\n",
       "</div>"
      ],
      "text/plain": [
       "summary_type     gpt_gpt_summ  occams_gpt_summ  occams_summ_f\n",
       "SummaCZS            -0.102510        -0.086492       0.448445\n",
       "SummaCZS_no_con      0.504205         0.490599       0.993038\n",
       "SummaConv            0.450414         0.455483       0.913763"
      ]
     },
     "execution_count": 13,
     "metadata": {},
     "output_type": "execute_result"
    }
   ],
   "source": [
    "summac_score_df = summac_scores_df[['id', 'summac_scores']].explode('summac_scores')\n",
    "summac_score_df = pd.concat([summac_score_df.drop(['summac_scores'], axis=1), summac_score_df['summac_scores'].apply(pd.Series)], axis=1)\n",
    "summac_score_df.groupby(by=['summary_type'])[['SummaCZS', 'SummaCZS_no_con', 'SummaConv']].mean().T"
   ]
  },
  {
   "cell_type": "code",
   "execution_count": 11,
   "id": "cbe8fd5c-11f2-4a2b-a5ce-3b282dc7dca2",
   "metadata": {
    "tags": []
   },
   "outputs": [
    {
     "data": {
      "text/plain": [
       "247"
      ]
     },
     "execution_count": 11,
     "metadata": {},
     "output_type": "execute_result"
    }
   ],
   "source": [
    "len(cnn_summaries)"
   ]
  },
  {
   "cell_type": "markdown",
   "id": "16dac26e-777c-45ad-8c2e-85246990cbd1",
   "metadata": {},
   "source": [
    "# BERT Score"
   ]
  },
  {
   "cell_type": "code",
   "execution_count": 1,
   "id": "087a04ec-2613-4b2c-a328-35c060ba7b30",
   "metadata": {
    "scrolled": true,
    "tags": []
   },
   "outputs": [
    {
     "name": "stdout",
     "output_type": "stream",
     "text": [
      "Requirement already satisfied: bert_score in /home/vaburban/miniconda3/envs/recommender/lib/python3.8/site-packages (0.3.13)\n",
      "Requirement already satisfied: requests in /home/vaburban/miniconda3/envs/recommender/lib/python3.8/site-packages (from bert_score) (2.30.0)\n",
      "Requirement already satisfied: tqdm>=4.31.1 in /home/vaburban/miniconda3/envs/recommender/lib/python3.8/site-packages (from bert_score) (4.49.0)\n",
      "Requirement already satisfied: numpy in /home/vaburban/miniconda3/envs/recommender/lib/python3.8/site-packages (from bert_score) (1.23.5)\n",
      "Requirement already satisfied: matplotlib in /home/vaburban/miniconda3/envs/recommender/lib/python3.8/site-packages (from bert_score) (3.7.1)\n",
      "Requirement already satisfied: transformers>=3.0.0 in /home/vaburban/miniconda3/envs/recommender/lib/python3.8/site-packages (from bert_score) (4.30.2)\n",
      "Requirement already satisfied: torch>=1.0.0 in /home/vaburban/miniconda3/envs/recommender/lib/python3.8/site-packages (from bert_score) (2.0.1)\n",
      "Requirement already satisfied: packaging>=20.9 in /home/vaburban/miniconda3/envs/recommender/lib/python3.8/site-packages (from bert_score) (23.1)\n",
      "Requirement already satisfied: pandas>=1.0.1 in /home/vaburban/miniconda3/envs/recommender/lib/python3.8/site-packages (from bert_score) (1.5.3)\n",
      "Requirement already satisfied: pytz>=2020.1 in /home/vaburban/miniconda3/envs/recommender/lib/python3.8/site-packages (from pandas>=1.0.1->bert_score) (2023.3)\n",
      "Requirement already satisfied: python-dateutil>=2.8.1 in /home/vaburban/miniconda3/envs/recommender/lib/python3.8/site-packages (from pandas>=1.0.1->bert_score) (2.8.2)\n",
      "Requirement already satisfied: jinja2 in /home/vaburban/miniconda3/envs/recommender/lib/python3.8/site-packages (from torch>=1.0.0->bert_score) (3.0.3)\n",
      "Requirement already satisfied: nvidia-cusolver-cu11==11.4.0.1 in /home/vaburban/miniconda3/envs/recommender/lib/python3.8/site-packages (from torch>=1.0.0->bert_score) (11.4.0.1)\n",
      "Requirement already satisfied: nvidia-curand-cu11==10.2.10.91 in /home/vaburban/miniconda3/envs/recommender/lib/python3.8/site-packages (from torch>=1.0.0->bert_score) (10.2.10.91)\n",
      "Requirement already satisfied: nvidia-cudnn-cu11==8.5.0.96 in /home/vaburban/miniconda3/envs/recommender/lib/python3.8/site-packages (from torch>=1.0.0->bert_score) (8.5.0.96)\n",
      "Requirement already satisfied: nvidia-cusparse-cu11==11.7.4.91 in /home/vaburban/miniconda3/envs/recommender/lib/python3.8/site-packages (from torch>=1.0.0->bert_score) (11.7.4.91)\n",
      "Requirement already satisfied: nvidia-cuda-cupti-cu11==11.7.101 in /home/vaburban/miniconda3/envs/recommender/lib/python3.8/site-packages (from torch>=1.0.0->bert_score) (11.7.101)\n",
      "Requirement already satisfied: nvidia-nvtx-cu11==11.7.91 in /home/vaburban/miniconda3/envs/recommender/lib/python3.8/site-packages (from torch>=1.0.0->bert_score) (11.7.91)\n",
      "Requirement already satisfied: typing-extensions in /home/vaburban/miniconda3/envs/recommender/lib/python3.8/site-packages (from torch>=1.0.0->bert_score) (4.5.0)\n",
      "Requirement already satisfied: nvidia-nccl-cu11==2.14.3 in /home/vaburban/miniconda3/envs/recommender/lib/python3.8/site-packages (from torch>=1.0.0->bert_score) (2.14.3)\n",
      "Requirement already satisfied: triton==2.0.0 in /home/vaburban/miniconda3/envs/recommender/lib/python3.8/site-packages (from torch>=1.0.0->bert_score) (2.0.0)\n",
      "Requirement already satisfied: networkx in /home/vaburban/miniconda3/envs/recommender/lib/python3.8/site-packages (from torch>=1.0.0->bert_score) (3.1)\n",
      "Requirement already satisfied: nvidia-cuda-runtime-cu11==11.7.99 in /home/vaburban/miniconda3/envs/recommender/lib/python3.8/site-packages (from torch>=1.0.0->bert_score) (11.7.99)\n",
      "Requirement already satisfied: nvidia-cublas-cu11==11.10.3.66 in /home/vaburban/miniconda3/envs/recommender/lib/python3.8/site-packages (from torch>=1.0.0->bert_score) (11.10.3.66)\n",
      "Requirement already satisfied: nvidia-cuda-nvrtc-cu11==11.7.99 in /home/vaburban/miniconda3/envs/recommender/lib/python3.8/site-packages (from torch>=1.0.0->bert_score) (11.7.99)\n",
      "Requirement already satisfied: filelock in /home/vaburban/miniconda3/envs/recommender/lib/python3.8/site-packages (from torch>=1.0.0->bert_score) (3.12.0)\n",
      "Requirement already satisfied: nvidia-cufft-cu11==10.9.0.58 in /home/vaburban/miniconda3/envs/recommender/lib/python3.8/site-packages (from torch>=1.0.0->bert_score) (10.9.0.58)\n",
      "Requirement already satisfied: sympy in /home/vaburban/miniconda3/envs/recommender/lib/python3.8/site-packages (from torch>=1.0.0->bert_score) (1.12)\n",
      "Requirement already satisfied: setuptools in /home/vaburban/miniconda3/envs/recommender/lib/python3.8/site-packages (from nvidia-cublas-cu11==11.10.3.66->torch>=1.0.0->bert_score) (66.0.0)\n",
      "Requirement already satisfied: wheel in /home/vaburban/miniconda3/envs/recommender/lib/python3.8/site-packages (from nvidia-cublas-cu11==11.10.3.66->torch>=1.0.0->bert_score) (0.38.4)\n",
      "Requirement already satisfied: lit in /home/vaburban/miniconda3/envs/recommender/lib/python3.8/site-packages (from triton==2.0.0->torch>=1.0.0->bert_score) (16.0.6)\n",
      "Requirement already satisfied: cmake in /home/vaburban/miniconda3/envs/recommender/lib/python3.8/site-packages (from triton==2.0.0->torch>=1.0.0->bert_score) (3.26.4)\n",
      "Requirement already satisfied: safetensors>=0.3.1 in /home/vaburban/miniconda3/envs/recommender/lib/python3.8/site-packages (from transformers>=3.0.0->bert_score) (0.3.1)\n",
      "Requirement already satisfied: huggingface-hub<1.0,>=0.14.1 in /home/vaburban/miniconda3/envs/recommender/lib/python3.8/site-packages (from transformers>=3.0.0->bert_score) (0.16.4)\n",
      "Requirement already satisfied: regex!=2019.12.17 in /home/vaburban/miniconda3/envs/recommender/lib/python3.8/site-packages (from transformers>=3.0.0->bert_score) (2023.5.5)\n",
      "Requirement already satisfied: pyyaml>=5.1 in /home/vaburban/miniconda3/envs/recommender/lib/python3.8/site-packages (from transformers>=3.0.0->bert_score) (5.4.1)\n",
      "Requirement already satisfied: tokenizers!=0.11.3,<0.14,>=0.11.1 in /home/vaburban/miniconda3/envs/recommender/lib/python3.8/site-packages (from transformers>=3.0.0->bert_score) (0.13.3)\n",
      "Requirement already satisfied: pyparsing>=2.3.1 in /home/vaburban/miniconda3/envs/recommender/lib/python3.8/site-packages (from matplotlib->bert_score) (3.0.9)\n",
      "Requirement already satisfied: cycler>=0.10 in /home/vaburban/miniconda3/envs/recommender/lib/python3.8/site-packages (from matplotlib->bert_score) (0.11.0)\n",
      "Requirement already satisfied: contourpy>=1.0.1 in /home/vaburban/miniconda3/envs/recommender/lib/python3.8/site-packages (from matplotlib->bert_score) (1.0.7)\n",
      "Requirement already satisfied: fonttools>=4.22.0 in /home/vaburban/miniconda3/envs/recommender/lib/python3.8/site-packages (from matplotlib->bert_score) (4.39.4)\n",
      "Requirement already satisfied: importlib-resources>=3.2.0 in /home/vaburban/miniconda3/envs/recommender/lib/python3.8/site-packages (from matplotlib->bert_score) (5.12.0)\n",
      "Requirement already satisfied: pillow>=6.2.0 in /home/vaburban/miniconda3/envs/recommender/lib/python3.8/site-packages (from matplotlib->bert_score) (9.5.0)\n",
      "Requirement already satisfied: kiwisolver>=1.0.1 in /home/vaburban/miniconda3/envs/recommender/lib/python3.8/site-packages (from matplotlib->bert_score) (1.4.4)\n",
      "Requirement already satisfied: idna<4,>=2.5 in /home/vaburban/miniconda3/envs/recommender/lib/python3.8/site-packages (from requests->bert_score) (3.4)\n",
      "Requirement already satisfied: urllib3<3,>=1.21.1 in /home/vaburban/miniconda3/envs/recommender/lib/python3.8/site-packages (from requests->bert_score) (1.26.15)\n",
      "Requirement already satisfied: certifi>=2017.4.17 in /home/vaburban/miniconda3/envs/recommender/lib/python3.8/site-packages (from requests->bert_score) (2023.5.7)\n",
      "Requirement already satisfied: charset-normalizer<4,>=2 in /home/vaburban/miniconda3/envs/recommender/lib/python3.8/site-packages (from requests->bert_score) (3.1.0)\n",
      "Requirement already satisfied: fsspec in /home/vaburban/miniconda3/envs/recommender/lib/python3.8/site-packages (from huggingface-hub<1.0,>=0.14.1->transformers>=3.0.0->bert_score) (2023.5.0)\n",
      "Requirement already satisfied: zipp>=3.1.0 in /home/vaburban/miniconda3/envs/recommender/lib/python3.8/site-packages (from importlib-resources>=3.2.0->matplotlib->bert_score) (3.15.0)\n",
      "Requirement already satisfied: six>=1.5 in /home/vaburban/miniconda3/envs/recommender/lib/python3.8/site-packages (from python-dateutil>=2.8.1->pandas>=1.0.1->bert_score) (1.16.0)\n",
      "Requirement already satisfied: MarkupSafe>=2.0 in /home/vaburban/miniconda3/envs/recommender/lib/python3.8/site-packages (from jinja2->torch>=1.0.0->bert_score) (2.1.2)\n",
      "Requirement already satisfied: mpmath>=0.19 in /home/vaburban/miniconda3/envs/recommender/lib/python3.8/site-packages (from sympy->torch>=1.0.0->bert_score) (1.3.0)\n"
     ]
    }
   ],
   "source": [
    "import sys\n",
    "!{sys.executable} -m pip install bert_score"
   ]
  },
  {
   "cell_type": "code",
   "execution_count": 2,
   "id": "27472ba4-96bf-4873-9f3f-98d1e4fb8e02",
   "metadata": {
    "tags": []
   },
   "outputs": [
    {
     "data": {
      "text/html": [
       "<div>\n",
       "<style scoped>\n",
       "    .dataframe tbody tr th:only-of-type {\n",
       "        vertical-align: middle;\n",
       "    }\n",
       "\n",
       "    .dataframe tbody tr th {\n",
       "        vertical-align: top;\n",
       "    }\n",
       "\n",
       "    .dataframe thead th {\n",
       "        text-align: right;\n",
       "    }\n",
       "</style>\n",
       "<table border=\"1\" class=\"dataframe\">\n",
       "  <thead>\n",
       "    <tr style=\"text-align: right;\">\n",
       "      <th></th>\n",
       "      <th>article</th>\n",
       "      <th>highlights</th>\n",
       "      <th>id</th>\n",
       "      <th>gpt_e_summ</th>\n",
       "      <th>occams_summ_f</th>\n",
       "      <th>occams_summ_h</th>\n",
       "      <th>occams_gpt_summ_full</th>\n",
       "      <th>gpt_gpt_summ_full</th>\n",
       "      <th>occams_gpt_summ</th>\n",
       "      <th>gpt_gpt_summ</th>\n",
       "      <th>gpt_a_summ_full</th>\n",
       "      <th>gpt_a_summ</th>\n",
       "    </tr>\n",
       "  </thead>\n",
       "  <tbody>\n",
       "    <tr>\n",
       "      <th>1881</th>\n",
       "      <td>NEW YORK (CNN) -- Nonnie Dotson, a nurse in th...</td>\n",
       "      <td>Nonnie Dotson was visiting brother in suburb o...</td>\n",
       "      <td>9880666126c7836dbe99b0b42becfee3dcab88cf</td>\n",
       "      <td>Nonnie Dotson, a nurse in the U.S. Air Force, ...</td>\n",
       "      <td>NEW YORK (CNN) -- Nonnie Dotson, a nurse in th...</td>\n",
       "      <td>NEW YORK (CNN) -- Nonnie Dotson, a nurse in th...</td>\n",
       "      <td>Nonnie Dotson, a nurse in the U.S. Air Force, ...</td>\n",
       "      <td>Nonnie Dotson, a nurse in the U.S. Air Force, ...</td>\n",
       "      <td>Nurse Nonnie Dotson disappeared amid a child s...</td>\n",
       "      <td>Nurse Nonnie Dotson disappeared during a child...</td>\n",
       "      <td>{\\n  \"timestamp\": \"2023-06-30T09:15:00\",\\n  \"t...</td>\n",
       "      <td>The Battle of Zentaria Strait accelerated Oper...</td>\n",
       "    </tr>\n",
       "    <tr>\n",
       "      <th>1332</th>\n",
       "      <td>(CNN) -- With a week to go before Election Day...</td>\n",
       "      <td>Obama leads by 8 points in most recent CNN nat...</td>\n",
       "      <td>c24025591e20b5d21062d1a1ec8fbf4686b963b7</td>\n",
       "      <td>The most recent national CNN poll of polls sho...</td>\n",
       "      <td>In Florida, a CNN/USA Today/Gallup poll conduc...</td>\n",
       "      <td>(CNN) -- With a week to go before Election Day...</td>\n",
       "      <td>Recent national polls show Democratic presiden...</td>\n",
       "      <td>The most recent national CNN poll of polls sho...</td>\n",
       "      <td>Recent national polls show Obama leading McCai...</td>\n",
       "      <td>The most recent national CNN poll of polls sho...</td>\n",
       "      <td>Recent national polls show Democratic presiden...</td>\n",
       "      <td>Recent polls show Obama leading McCain, but hi...</td>\n",
       "    </tr>\n",
       "    <tr>\n",
       "      <th>444</th>\n",
       "      <td>BAGHDAD, Iraq (CNN)  -- Four U.S. soldiers die...</td>\n",
       "      <td>NEW: As Iraq war enters sixth year, American d...</td>\n",
       "      <td>d80e6a3be826df05df00a87f49cc426fd597f085</td>\n",
       "      <td>Four U.S. soldiers died in a roadside bombing ...</td>\n",
       "      <td>BAGHDAD, Iraq (CNN) -- Four U.S. soldiers died...</td>\n",
       "      <td>BAGHDAD, Iraq (CNN) -- Four U.S. soldiers died...</td>\n",
       "      <td>Four U.S. soldiers were killed in a roadside b...</td>\n",
       "      <td>Four U.S. soldiers were killed in a roadside b...</td>\n",
       "      <td>4 US soldiers and 8 Pentagon contractors were ...</td>\n",
       "      <td>Four U.S. soldiers died, reaching 4,000 Americ...</td>\n",
       "      <td>Four U.S. soldiers were killed in a roadside b...</td>\n",
       "      <td>4 US soldiers die in Iraq bombing, marking 4,0...</td>\n",
       "    </tr>\n",
       "    <tr>\n",
       "      <th>86</th>\n",
       "      <td>ALGIERS, Algeria (CNN) -- Rescuers are sifting...</td>\n",
       "      <td>Two bombs explode in Algerian capital near gov...</td>\n",
       "      <td>4cf51ce9372dff8ff7f44f098eab1c1d7569af7a</td>\n",
       "      <td>Rescuers are sifting through the rubble of the...</td>\n",
       "      <td>ALGIERS, Algeria (CNN) -- Rescuers are sifting...</td>\n",
       "      <td>ALGIERS, Algeria (CNN) -- Rescuers are sifting...</td>\n",
       "      <td>A powerful bomb destroyed the United Nations h...</td>\n",
       "      <td>A bomb attack has caused significant damage to...</td>\n",
       "      <td>A powerful bomb by al Qaeda destroyed the UN h...</td>\n",
       "      <td>Bomb attack on UN headquarters in Algiers, kil...</td>\n",
       "      <td>A powerful bomb ripped off the facade of the U...</td>\n",
       "      <td>Al Qaeda-linked group destroys U.N. HQ in Algi...</td>\n",
       "    </tr>\n",
       "    <tr>\n",
       "      <th>958</th>\n",
       "      <td>(CNN) -- The crib in Ellen Darcy's Boston home...</td>\n",
       "      <td>Guatemala and Vietnam say corruption, baby-ste...</td>\n",
       "      <td>7551503e7e57bd519913b0df90ca1e80d5305b05</td>\n",
       "      <td>Guatemala has announced it will conduct a case...</td>\n",
       "      <td>(CNN) -- The crib in Ellen Darcy's Boston home...</td>\n",
       "      <td>(CNN) -- The crib in Ellen Darcy's Boston home...</td>\n",
       "      <td>Guatemala is conducting a review of all pendin...</td>\n",
       "      <td>Guatemala is conducting a review of all pendin...</td>\n",
       "      <td>Guatemala reviews pending foreign adoptions, m...</td>\n",
       "      <td>Guatemala is conducting a review of all pendin...</td>\n",
       "      <td>The countries of Guatemala and Vietnam have re...</td>\n",
       "      <td>Guatemala and Vietnam suspend international ad...</td>\n",
       "    </tr>\n",
       "  </tbody>\n",
       "</table>\n",
       "</div>"
      ],
      "text/plain": [
       "                                                article   \n",
       "1881  NEW YORK (CNN) -- Nonnie Dotson, a nurse in th...  \\\n",
       "1332  (CNN) -- With a week to go before Election Day...   \n",
       "444   BAGHDAD, Iraq (CNN)  -- Four U.S. soldiers die...   \n",
       "86    ALGIERS, Algeria (CNN) -- Rescuers are sifting...   \n",
       "958   (CNN) -- The crib in Ellen Darcy's Boston home...   \n",
       "\n",
       "                                             highlights   \n",
       "1881  Nonnie Dotson was visiting brother in suburb o...  \\\n",
       "1332  Obama leads by 8 points in most recent CNN nat...   \n",
       "444   NEW: As Iraq war enters sixth year, American d...   \n",
       "86    Two bombs explode in Algerian capital near gov...   \n",
       "958   Guatemala and Vietnam say corruption, baby-ste...   \n",
       "\n",
       "                                            id   \n",
       "1881  9880666126c7836dbe99b0b42becfee3dcab88cf  \\\n",
       "1332  c24025591e20b5d21062d1a1ec8fbf4686b963b7   \n",
       "444   d80e6a3be826df05df00a87f49cc426fd597f085   \n",
       "86    4cf51ce9372dff8ff7f44f098eab1c1d7569af7a   \n",
       "958   7551503e7e57bd519913b0df90ca1e80d5305b05   \n",
       "\n",
       "                                             gpt_e_summ   \n",
       "1881  Nonnie Dotson, a nurse in the U.S. Air Force, ...  \\\n",
       "1332  The most recent national CNN poll of polls sho...   \n",
       "444   Four U.S. soldiers died in a roadside bombing ...   \n",
       "86    Rescuers are sifting through the rubble of the...   \n",
       "958   Guatemala has announced it will conduct a case...   \n",
       "\n",
       "                                          occams_summ_f   \n",
       "1881  NEW YORK (CNN) -- Nonnie Dotson, a nurse in th...  \\\n",
       "1332  In Florida, a CNN/USA Today/Gallup poll conduc...   \n",
       "444   BAGHDAD, Iraq (CNN) -- Four U.S. soldiers died...   \n",
       "86    ALGIERS, Algeria (CNN) -- Rescuers are sifting...   \n",
       "958   (CNN) -- The crib in Ellen Darcy's Boston home...   \n",
       "\n",
       "                                          occams_summ_h   \n",
       "1881  NEW YORK (CNN) -- Nonnie Dotson, a nurse in th...  \\\n",
       "1332  (CNN) -- With a week to go before Election Day...   \n",
       "444   BAGHDAD, Iraq (CNN) -- Four U.S. soldiers died...   \n",
       "86    ALGIERS, Algeria (CNN) -- Rescuers are sifting...   \n",
       "958   (CNN) -- The crib in Ellen Darcy's Boston home...   \n",
       "\n",
       "                                   occams_gpt_summ_full   \n",
       "1881  Nonnie Dotson, a nurse in the U.S. Air Force, ...  \\\n",
       "1332  Recent national polls show Democratic presiden...   \n",
       "444   Four U.S. soldiers were killed in a roadside b...   \n",
       "86    A powerful bomb destroyed the United Nations h...   \n",
       "958   Guatemala is conducting a review of all pendin...   \n",
       "\n",
       "                                      gpt_gpt_summ_full   \n",
       "1881  Nonnie Dotson, a nurse in the U.S. Air Force, ...  \\\n",
       "1332  The most recent national CNN poll of polls sho...   \n",
       "444   Four U.S. soldiers were killed in a roadside b...   \n",
       "86    A bomb attack has caused significant damage to...   \n",
       "958   Guatemala is conducting a review of all pendin...   \n",
       "\n",
       "                                        occams_gpt_summ   \n",
       "1881  Nurse Nonnie Dotson disappeared amid a child s...  \\\n",
       "1332  Recent national polls show Obama leading McCai...   \n",
       "444   4 US soldiers and 8 Pentagon contractors were ...   \n",
       "86    A powerful bomb by al Qaeda destroyed the UN h...   \n",
       "958   Guatemala reviews pending foreign adoptions, m...   \n",
       "\n",
       "                                           gpt_gpt_summ   \n",
       "1881  Nurse Nonnie Dotson disappeared during a child...  \\\n",
       "1332  The most recent national CNN poll of polls sho...   \n",
       "444   Four U.S. soldiers died, reaching 4,000 Americ...   \n",
       "86    Bomb attack on UN headquarters in Algiers, kil...   \n",
       "958   Guatemala is conducting a review of all pendin...   \n",
       "\n",
       "                                        gpt_a_summ_full   \n",
       "1881  {\\n  \"timestamp\": \"2023-06-30T09:15:00\",\\n  \"t...  \\\n",
       "1332  Recent national polls show Democratic presiden...   \n",
       "444   Four U.S. soldiers were killed in a roadside b...   \n",
       "86    A powerful bomb ripped off the facade of the U...   \n",
       "958   The countries of Guatemala and Vietnam have re...   \n",
       "\n",
       "                                             gpt_a_summ  \n",
       "1881  The Battle of Zentaria Strait accelerated Oper...  \n",
       "1332  Recent polls show Obama leading McCain, but hi...  \n",
       "444   4 US soldiers die in Iraq bombing, marking 4,0...  \n",
       "86    Al Qaeda-linked group destroys U.N. HQ in Algi...  \n",
       "958   Guatemala and Vietnam suspend international ad...  "
      ]
     },
     "execution_count": 2,
     "metadata": {},
     "output_type": "execute_result"
    }
   ],
   "source": [
    "import pandas as pd\n",
    "\n",
    "cnn_summaries = pd.read_parquet('datasets/cnn_experiment.parquet')\n",
    "cnn_summaries.head()"
   ]
  },
  {
   "cell_type": "code",
   "execution_count": 3,
   "id": "bfb29233-485f-4f52-8010-f0cf999883e5",
   "metadata": {},
   "outputs": [
    {
     "name": "stderr",
     "output_type": "stream",
     "text": [
      "2023-07-11 15:15:38.131765: I tensorflow/core/platform/cpu_feature_guard.cc:182] This TensorFlow binary is optimized to use available CPU instructions in performance-critical operations.\n",
      "To enable the following instructions: AVX2 FMA, in other operations, rebuild TensorFlow with the appropriate compiler flags.\n",
      "2023-07-11 15:15:39.903121: W tensorflow/compiler/tf2tensorrt/utils/py_utils.cc:38] TF-TRT Warning: Could not find TensorRT\n",
      "2023-07-11 15:15:42.564899: I tensorflow/compiler/xla/stream_executor/cuda/cuda_gpu_executor.cc:996] successful NUMA node read from SysFS had negative value (-1), but there must be at least one NUMA node, so returning NUMA node zero. See more at https://github.com/torvalds/linux/blob/v6.0/Documentation/ABI/testing/sysfs-bus-pci#L344-L355\n",
      "2023-07-11 15:15:42.572017: I tensorflow/compiler/xla/stream_executor/cuda/cuda_gpu_executor.cc:996] successful NUMA node read from SysFS had negative value (-1), but there must be at least one NUMA node, so returning NUMA node zero. See more at https://github.com/torvalds/linux/blob/v6.0/Documentation/ABI/testing/sysfs-bus-pci#L344-L355\n",
      "2023-07-11 15:15:42.578235: I tensorflow/compiler/xla/stream_executor/cuda/cuda_gpu_executor.cc:996] successful NUMA node read from SysFS had negative value (-1), but there must be at least one NUMA node, so returning NUMA node zero. See more at https://github.com/torvalds/linux/blob/v6.0/Documentation/ABI/testing/sysfs-bus-pci#L344-L355\n"
     ]
    },
    {
     "name": "stdout",
     "output_type": "stream",
     "text": [
      "cuda\n"
     ]
    }
   ],
   "source": [
    "import torch\n",
    "import spacy\n",
    "from selfcheckgpt.modeling_selfcheck import SelfCheckBERTScore\n",
    "torch.manual_seed(28)\n",
    "device = torch.device(\"cuda\" if torch.cuda.is_available() else \"cpu\")\n",
    "print(device)"
   ]
  },
  {
   "cell_type": "code",
   "execution_count": 4,
   "id": "2782e886-c57c-4008-94fd-722303cc2142",
   "metadata": {
    "tags": []
   },
   "outputs": [],
   "source": [
    "passage = \"\"\"\n",
    "Michael Alan Weiner (born March 31, 1942), better known by his professional name Michael Savage, is an American radio host, author, activist, nutritionist, and conservative political commentator. He is the host of The Savage Nation, a nationally syndicated talk show that aired on Talk Radio Network across the United States until 2012, and in 2009 was the second most listened-to radio talk show in the country with an audience of over 20 million listeners on 400 stations across the United States. Since October 23, 2012, Michael Savage has been syndicated by Cumulus Media Networks. He holds master's degrees from the University of Hawaii in medical botany and medical anthropology, and a Ph.D. from the University of California, Berkeley in nutritional ethnomedicine. As Michael Weiner, he has written books on nutrition, herbal medicine, and homeopathy.\n",
    "\"\"\".replace(\"\\n\", \" \").strip()\n",
    "passage_edited = \"\"\"\n",
    "Michael Alan Weiner (born January 13, 1995), better known by his professional name Joshua King, is an Austrain footballer, and businessman. He is the host of The Savage Nation, a nationally syndicated talk show that aired on Talk Radio Network across the United States until 2012, and in 2009 was the second most listened-to radio talk show in the country with an audience of over 20 million listeners on 400 stations across the United States. Since October 23, 2002, Michael King has been syndicated by Virgin Media Networks. He holds master's degrees from the University of Hawaii in medical botany and medical anthropology, and a Ph.D. from the University of California, San Diego in nutritional ethnomedicine. As Michael Weiner, he has written books on nutrition, herbal medicine, and homeopathy.\n",
    "\"\"\".replace(\"\\n\", \" \").strip()\n",
    "\n",
    "sample1 = \"\"\"\n",
    "Michael Alan Weiner (born March 31, 1942), better known by his professional name Michael Savage, is an American radio host, author, and political commentator. He is the host of The Savage Nation, a nationally syndicated talk show broadcast on Talk Radio Network across the United States, and on Comet in Canada. He holds master's degrees from the University of Hawaii in medical botany and medical anthropology, and a Ph.D. from the University of California, Berkeley in epidemiology and nutrition sciences. Savage has summarized his political philosophy in three words: borders, language, and culture. He has characterized his views as conservative nationalism, while critics have characterized them as fascism. He is a fierce critic of liberalism, and the War on Drugs. He believes that political correctness has \"ruined the United States\" and that the American government has spent too much money on social programs throughout its history.\n",
    "\"\"\".replace(\"\\n\", \" \").strip()\n",
    "\n",
    "sample2 = \"\"\"\n",
    "Michael A. Savage (born Michael Alan Weiner; March 31, 1942) is an American radio host, author, activist, nutritionist, and conservative political commentator. He is the host of The Savage Nation, a nationally syndicated talk show that aired on Talk Radio Network across the United States until 2012. The Savage Nation has a combined audience of over 20 million listeners on 400 stations across the United States and is one of the top-rated shows in the country. He is also the host of The Michael Savage Show, a daily podcast and webcast heard around the world. He has been called \"the godfather of Trumpmania\".\n",
    "Savage has written more than 25 books and is an outspoken supporter of traditional American values and break-down of the culture of political correctness. He advocates an \"America first\" foreign policy and rigorous opposition to illegal immigration. For his social and political views, Savage has been described as a conservative and a right-wing populist. He has campaigned for numerous political causes, including opposition to same-sex marriage and the legalization of marijuana.\n",
    "\"\"\".replace(\"\\n\", \" \").strip()\n",
    "\n",
    "sample3 = \"\"\"\n",
    "Michael Alan Weiner (born March 31, 1942),[2] better known by his professional name Michael Savage, is an American radio host, author, activist, nutritionist, and conservative political commentator. He is the host of The Savage Nation, a nationally syndicated talk show that aired on Talk Radio Network across the United States until 2012, and in 2009 was the second most listened-to radio talk show in the country with an audience of over 20 million listeners on 400 stations across the United States. Since October 23, 2012, Michael Savage has been syndicated by Cumulus Media Networks. He holds master's degrees from the University of Hawaii in medical botany and medical anthropology, and a Ph.D. from the University of California, Berkeley in nutritional ethnomedicine. As Michael Weiner, he has written books on nutrition, herbal medicine, and homeopathy.\n",
    "Savage has summarized his political philosophy in three words: borders, language, and culture. He believes that the United States should end foreign aid, impose much stricter immigration laws, deport illegal immigrants, and put an end to birthright citizenship. Savage has characterized his views as conservative nationalism, free\n",
    "\"\"\".replace(\"\\n\", \" \").strip()"
   ]
  },
  {
   "cell_type": "code",
   "execution_count": 5,
   "id": "6bb1d1e6-30e1-4394-ba24-b235135d0b89",
   "metadata": {
    "tags": []
   },
   "outputs": [
    {
     "name": "stdout",
     "output_type": "stream",
     "text": [
      "SelfCheck-BERTScore initialized\n"
     ]
    }
   ],
   "source": [
    "selfcheck_bertscore = SelfCheckBERTScore()\n",
    "\n",
    "nlp = spacy.load(\"en_core_web_sm\")\n",
    "sentences = [sent for sent in nlp(passage).sents] # List[spacy.tokens.span.Span]\n",
    "sentences = [sent.text.strip() for sent in sentences if len(sent) > 3]"
   ]
  },
  {
   "cell_type": "code",
   "execution_count": 7,
   "id": "ab146dc4-5fa9-4343-aa46-52763da1637f",
   "metadata": {
    "tags": []
   },
   "outputs": [
    {
     "data": {
      "application/vnd.jupyter.widget-view+json": {
       "model_id": "55b3df7dc9cf4805846f20f079068774",
       "version_major": 2,
       "version_minor": 0
      },
      "text/plain": [
       "Downloading (…)lve/main/config.json:   0%|          | 0.00/482 [00:00<?, ?B/s]"
      ]
     },
     "metadata": {},
     "output_type": "display_data"
    },
    {
     "data": {
      "application/vnd.jupyter.widget-view+json": {
       "model_id": "102f3b782ae1417e8fcaf120a169e62b",
       "version_major": 2,
       "version_minor": 0
      },
      "text/plain": [
       "Downloading (…)olve/main/vocab.json:   0%|          | 0.00/899k [00:00<?, ?B/s]"
      ]
     },
     "metadata": {},
     "output_type": "display_data"
    },
    {
     "data": {
      "application/vnd.jupyter.widget-view+json": {
       "model_id": "0a8fadb7cfa345559d9e0982d0df4bc3",
       "version_major": 2,
       "version_minor": 0
      },
      "text/plain": [
       "Downloading (…)olve/main/merges.txt:   0%|          | 0.00/456k [00:00<?, ?B/s]"
      ]
     },
     "metadata": {},
     "output_type": "display_data"
    },
    {
     "data": {
      "application/vnd.jupyter.widget-view+json": {
       "model_id": "d212b310b9134bf4b462fc3f10f06436",
       "version_major": 2,
       "version_minor": 0
      },
      "text/plain": [
       "Downloading pytorch_model.bin:   0%|          | 0.00/1.43G [00:00<?, ?B/s]"
      ]
     },
     "metadata": {},
     "output_type": "display_data"
    }
   ],
   "source": [
    "sent_scores_bertscore = selfcheck_bertscore.predict(\n",
    "    sentences,\n",
    "    [sample1, sample2, sample3],\n",
    ")"
   ]
  },
  {
   "cell_type": "code",
   "execution_count": 8,
   "id": "5eaa263e-5d45-4886-a9d3-2971115d34cc",
   "metadata": {
    "tags": []
   },
   "outputs": [
    {
     "data": {
      "text/plain": [
       "array([0.0252773 , 0.0385858 , 0.09815407, 0.05635832, 0.08287221])"
      ]
     },
     "execution_count": 8,
     "metadata": {},
     "output_type": "execute_result"
    }
   ],
   "source": [
    "sent_scores_bertscore"
   ]
  },
  {
   "cell_type": "code",
   "execution_count": null,
   "id": "069507d9-fe8a-4e3e-b81a-d056c381993a",
   "metadata": {},
   "outputs": [],
   "source": []
  }
 ],
 "metadata": {
  "kernelspec": {
   "display_name": "Python 3.8 Recommenders",
   "language": "python",
   "name": "recommenders"
  },
  "language_info": {
   "codemirror_mode": {
    "name": "ipython",
    "version": 3
   },
   "file_extension": ".py",
   "mimetype": "text/x-python",
   "name": "python",
   "nbconvert_exporter": "python",
   "pygments_lexer": "ipython3",
   "version": "3.8.16"
  }
 },
 "nbformat": 4,
 "nbformat_minor": 5
}
