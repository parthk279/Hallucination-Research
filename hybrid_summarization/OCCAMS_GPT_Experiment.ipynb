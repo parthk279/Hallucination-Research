{
 "cells": [
  {
   "cell_type": "markdown",
   "id": "4d03e384-03b8-455e-8e21-1b8ddadb6047",
   "metadata": {},
   "source": [
    "# Experiment to compare OCCAMS and GPT on extractive and hybrid summarization on the CNN/DM dataset\n",
    "\n",
    "## Design:\n",
    "\n",
    "- Length will be determined by the human summaries. We will only look at documents that have summaries within 10% of the median. This will help us to have consistent lengths.\n",
    "- Of these selected documents, we will find the average number of sentences in the document. Then we will use this as our 'sentence_budget' for GPT. It will select the most important sentences to form a summary.\n",
    "- OCCAMS will then be used on the documents, given a character_budget of the 75% of the GPT extractive summaries. This summary will be used for the hybrid summary.\n",
    "- GPT will abstractively summarize both of these, with a character budget of the target length. We will iterate to ensure that the summaries to not exceed this budget.\n",
    "\n",
    "For now, I'm only going to aim for 250 documents, with 50 of those being assurance against errors from the API"
   ]
  },
  {
   "cell_type": "markdown",
   "id": "afb10948-896b-4454-a979-028dda466a37",
   "metadata": {},
   "source": [
    "# Load and Filter Data"
   ]
  },
  {
   "cell_type": "code",
   "execution_count": 1,
   "id": "395e14a8-3fda-494f-8aa4-aeb846b25133",
   "metadata": {
    "tags": []
   },
   "outputs": [
    {
     "name": "stderr",
     "output_type": "stream",
     "text": [
      "/home/vaburban/efs/home/vaburban/occams_venv/lib/python3.11/site-packages/tqdm/auto.py:21: TqdmWarning: IProgress not found. Please update jupyter and ipywidgets. See https://ipywidgets.readthedocs.io/en/stable/user_install.html\n",
      "  from .autonotebook import tqdm as notebook_tqdm\n"
     ]
    }
   ],
   "source": [
    "from datasets import load_dataset\n",
    "import math\n",
    "import ast\n",
    "import re\n",
    "from nltk import sent_tokenize\n",
    "import pandas as pd\n",
    "import json\n",
    "from tqdm import tqdm\n",
    "\n",
    "tqdm.pandas(desc='bar')"
   ]
  },
  {
   "cell_type": "code",
   "execution_count": 2,
   "id": "a84c84b3-0d06-411d-9bbe-f69ea6968808",
   "metadata": {
    "tags": []
   },
   "outputs": [
    {
     "name": "stderr",
     "output_type": "stream",
     "text": [
      "Found cached dataset cnn_dailymail (/home/vaburban/.cache/huggingface/datasets/cnn_dailymail/3.0.0/3.0.0/1b3c71476f6d152c31c1730e83ccb08bcf23e348233f4fcc11e182248e6bf7de)\n",
      "100%|██████████| 2/2 [00:00<00:00, 330.59it/s]"
     ]
    },
    {
     "name": "stdout",
     "output_type": "stream",
     "text": [
      "Loaded cnn_dailymail.   len(train)=272757    len(test)=14356\n"
     ]
    },
    {
     "name": "stderr",
     "output_type": "stream",
     "text": [
      "\n"
     ]
    }
   ],
   "source": [
    "# Adapted from supervised_occams_example_bootscads.ipynb by NeilM\n",
    "\n",
    "DATASET = (\"cnn_dailymail\", \"3.0.0\")\n",
    "SPLITS = [\n",
    "    \"train[0%:95%]\",\n",
    "    \"train[95%:100%]\",\n",
    "]  # take last 5% of train as validation data\n",
    "train, test = load_dataset(*DATASET, split=SPLITS)\n",
    "print(f\"Loaded {DATASET[0]}.   len(train)={len(train)}    len(test)={len(test)}\")"
   ]
  },
  {
   "cell_type": "code",
   "execution_count": 2,
   "id": "6bde863d-68e3-4e42-abdb-f3314e7d1140",
   "metadata": {
    "tags": []
   },
   "outputs": [],
   "source": [
    "import numpy as np\n",
    "from occams.summarize import SummaryUnits\n",
    "\n",
    "# We decide to measure our documents in characers (as opposed to words)\n",
    "UNITS = SummaryUnits.CHARS\n",
    "\n",
    "\n",
    "def filter_data(\n",
    "    data,\n",
    "    min_sum_len,\n",
    "    max_sum_len,\n",
    "    min_doc_len,\n",
    "    doc_key=\"article\",\n",
    "    sum_key=\"highlights\",\n",
    "    UNITS=UNITS,\n",
    "):\n",
    "    # cnn data has 'articles' and 'highlights' instead of 'document' and 'summary'\n",
    "    data = data.filter(\n",
    "        lambda ex: (min_sum_len <= UNITS.len(ex[sum_key]) <= max_sum_len)\n",
    "        and (UNITS.len(ex[doc_key]) > min_doc_len)\n",
    "    )\n",
    "    return data\n",
    "\n",
    "\n",
    "def get_target_length(summaries, UNITS=UNITS, length_quantile=0.5):\n",
    "    num_units = [UNITS.len(summary) for summary in summaries]\n",
    "    target_length = int(np.quantile(num_units, length_quantile))\n",
    "    return num_units, target_length\n",
    "\n",
    "\n",
    "def truncate_data(data, max_length):\n",
    "    if len(data) > max_length:\n",
    "        data = data.select(range(max_length))\n",
    "    return data"
   ]
  },
  {
   "cell_type": "code",
   "execution_count": 4,
   "id": "038144ab-6f15-43ae-b1d1-e75e61784056",
   "metadata": {
    "tags": []
   },
   "outputs": [
    {
     "name": "stderr",
     "output_type": "stream",
     "text": [
      "Loading cached processed dataset at /home/vaburban/.cache/huggingface/datasets/cnn_dailymail/3.0.0/3.0.0/1b3c71476f6d152c31c1730e83ccb08bcf23e348233f4fcc11e182248e6bf7de/cache-0e575c24af0409e8.arrow\n",
      "Loading cached processed dataset at /home/vaburban/.cache/huggingface/datasets/cnn_dailymail/3.0.0/3.0.0/1b3c71476f6d152c31c1730e83ccb08bcf23e348233f4fcc11e182248e6bf7de/cache-40951ba7536e0989.arrow\n"
     ]
    },
    {
     "name": "stdout",
     "output_type": "stream",
     "text": [
      "The target length is 279 in chars.\n",
      "Now, we have 2000 documents and summaries in our training data\n",
      "Now, we have 1000 documents and summaries in our testing data\n"
     ]
    }
   ],
   "source": [
    "# Filter the training data\n",
    "train = filter_data(train, min_sum_len=100, max_sum_len=2500, min_doc_len=100)\n",
    "\n",
    "# Use filtered training data to get the target length for our computed summaries\n",
    "num_units, target_length = get_target_length(train[\"highlights\"])\n",
    "\n",
    "# Filter the testing data\n",
    "test = filter_data(\n",
    "    test,\n",
    "    min_sum_len=int(0.9 * target_length),\n",
    "    max_sum_len=int(target_length),\n",
    "    min_doc_len=100,\n",
    ")\n",
    "\n",
    "# truncate data (to speed up computations)\n",
    "train = truncate_data(train, max_length=2000)\n",
    "test = truncate_data(test, max_length=1000)\n",
    "\n",
    "print(f\"The target length is {target_length} in {UNITS.name.lower()}.\")\n",
    "print(f\"Now, we have {len(train)} documents and summaries in our training data\")\n",
    "print(f\"Now, we have {len(test)} documents and summaries in our testing data\")"
   ]
  },
  {
   "cell_type": "code",
   "execution_count": 7,
   "id": "c6fd81c2-7683-4450-b8d4-11ff35540cef",
   "metadata": {
    "tags": []
   },
   "outputs": [],
   "source": [
    "# Entire Dataframe\n",
    "# cnn_summaries = pd.DataFrame(cnn_dataset).rename(columns={\"article\": \"text\", \"highlights\": \"human_summary\"})\n",
    "\n",
    "# SAMPLING A SUBSET FOR EXPERIMENT\n",
    "cnn_summaries = pd.DataFrame(train).sample(250)\n",
    "\n",
    "sentence_budget = math.ceil(cnn_summaries['highlights'].apply(sent_tokenize).str.len().median())"
   ]
  },
  {
   "cell_type": "markdown",
   "id": "0f20e2c4-430a-447b-8f52-f4b59a5779ce",
   "metadata": {
    "tags": []
   },
   "source": [
    "# Generating GPT Summaries"
   ]
  },
  {
   "cell_type": "code",
   "execution_count": 8,
   "id": "074b01ca-a9e1-4fa9-bd40-7f7730dfbc23",
   "metadata": {
    "tags": []
   },
   "outputs": [
    {
     "name": "stdout",
     "output_type": "stream",
     "text": [
      "Target summary length in sentences is 4\n"
     ]
    }
   ],
   "source": [
    "print(f\"Target summary length in sentences is {sentence_budget}\")"
   ]
  },
  {
   "cell_type": "code",
   "execution_count": 4,
   "id": "8f7389d6-b477-4aa5-80d1-43b96680552a",
   "metadata": {
    "tags": []
   },
   "outputs": [],
   "source": [
    "# code credit Jacob Baxter\n",
    "import requests\n",
    "with open('../artifacts/gpt_key.txt') as f:\n",
    "    key_file = f.readlines()\n",
    "KEY = key_file[0]\n",
    "def gpt_summarize(text, prompt):\n",
    "    url = \"https://apiproxy.ncsu-las.net/APIGateway/openai/v1/chat/completions\"\n",
    "\n",
    "    headers = {\n",
    "        \"Content-Type\": \"application/json\",\n",
    "        \"LAS-API-Token\": KEY\n",
    "    }\n",
    "\n",
    "    data = {\n",
    "      \"model\": \"gpt-3.5-turbo\",\n",
    "      \"messages\": [{\"role\": \"user\", \"content\": prompt.format(text=text)}],\n",
    "      \"temperature\": 0.7\n",
    "    }\n",
    "\n",
    "    response = requests.post(url, headers=headers, data=json.dumps(data))\n",
    "    try:\n",
    "        summ = response.json()[\"choices\"][0][\"message\"][\"content\"]\n",
    "    except:\n",
    "        print(\"ERROR\")\n",
    "        summ = \"No summary possible.\"\n",
    "    return summ"
   ]
  },
  {
   "cell_type": "code",
   "execution_count": 10,
   "id": "52956d7d-2890-47ee-be6c-b46f60baf6b6",
   "metadata": {
    "tags": []
   },
   "outputs": [
    {
     "name": "stderr",
     "output_type": "stream",
     "text": [
      "bar:  12%|█▏        | 31/250 [02:48<19:21,  5.30s/it]"
     ]
    },
    {
     "name": "stdout",
     "output_type": "stream",
     "text": [
      "ERROR\n"
     ]
    },
    {
     "name": "stderr",
     "output_type": "stream",
     "text": [
      "bar:  33%|███▎      | 82/250 [07:48<37:56, 13.55s/it]"
     ]
    },
    {
     "name": "stdout",
     "output_type": "stream",
     "text": [
      "ERROR\n"
     ]
    },
    {
     "name": "stderr",
     "output_type": "stream",
     "text": [
      "bar:  36%|███▌      | 89/250 [08:47<36:07, 13.46s/it]"
     ]
    },
    {
     "name": "stdout",
     "output_type": "stream",
     "text": [
      "ERROR\n"
     ]
    },
    {
     "name": "stderr",
     "output_type": "stream",
     "text": [
      "bar:  38%|███▊      | 95/250 [09:42<35:20, 13.68s/it]"
     ]
    },
    {
     "name": "stdout",
     "output_type": "stream",
     "text": [
      "ERROR\n"
     ]
    },
    {
     "name": "stderr",
     "output_type": "stream",
     "text": [
      "bar:  38%|███▊      | 96/250 [09:50<30:12, 11.77s/it]"
     ]
    },
    {
     "name": "stdout",
     "output_type": "stream",
     "text": [
      "ERROR\n"
     ]
    },
    {
     "name": "stderr",
     "output_type": "stream",
     "text": [
      "bar:  40%|███▉      | 99/250 [10:06<19:12,  7.63s/it]"
     ]
    },
    {
     "name": "stdout",
     "output_type": "stream",
     "text": [
      "ERROR\n"
     ]
    },
    {
     "name": "stderr",
     "output_type": "stream",
     "text": [
      "bar:  52%|█████▏    | 129/250 [12:42<10:19,  5.12s/it]"
     ]
    },
    {
     "name": "stdout",
     "output_type": "stream",
     "text": [
      "ERROR\n"
     ]
    },
    {
     "name": "stderr",
     "output_type": "stream",
     "text": [
      "bar: 100%|██████████| 250/250 [23:44<00:00,  5.70s/it]"
     ]
    },
    {
     "name": "stdout",
     "output_type": "stream",
     "text": [
      "CPU times: user 15 s, sys: 176 ms, total: 15.1 s\n",
      "Wall time: 23min 44s\n"
     ]
    },
    {
     "name": "stderr",
     "output_type": "stream",
     "text": [
      "\n"
     ]
    }
   ],
   "source": [
    "%%time\n",
    "\n",
    "extractive_prompt = \"\"\"Please identify the {sentence_budget} most important sentences from the text, and present them in a Python list.\n",
    "\n",
    "Text:\n",
    "{text}\n",
    "\n",
    "Output:\n",
    "\"\"\".format(sentence_budget=sentence_budget, text='{text}')\n",
    "\n",
    "\n",
    "cnn_summaries['gpt_e_summ'] = cnn_summaries.article.progress_apply(lambda x: gpt_summarize(x, extractive_prompt))"
   ]
  },
  {
   "cell_type": "code",
   "execution_count": 18,
   "id": "f705800f-47b3-4918-a9f0-bbac90ab8ba0",
   "metadata": {
    "tags": []
   },
   "outputs": [
    {
     "name": "stdout",
     "output_type": "stream",
     "text": [
      "7\n"
     ]
    },
    {
     "name": "stderr",
     "output_type": "stream",
     "text": [
      "bar: 100%|██████████| 250/250 [00:36<00:00,  6.86it/s]"
     ]
    },
    {
     "name": "stdout",
     "output_type": "stream",
     "text": [
      "0\n"
     ]
    },
    {
     "name": "stderr",
     "output_type": "stream",
     "text": [
      "\n"
     ]
    }
   ],
   "source": [
    "def retry_e_gpt(row):\n",
    "    x = row['gpt_e_summ']\n",
    "\n",
    "    if x=='No summary possible.':\n",
    "        return gpt_summarize(row['article'], extractive_prompt)\n",
    "    else:\n",
    "        return x\n",
    "\n",
    "print(len(cnn_summaries[cnn_summaries['gpt_e_summ']=='No summary possible.']))\n",
    "cnn_summaries['gpt_e_summ'] = cnn_summaries.progress_apply(lambda x: retry_e_gpt(x), axis=1)\n",
    "print(len(cnn_summaries[cnn_summaries['gpt_e_summ']=='No summary possible.']))"
   ]
  },
  {
   "cell_type": "code",
   "execution_count": 20,
   "id": "c4c4b422-fead-453c-a3d5-be446e4e74fb",
   "metadata": {
    "scrolled": true,
    "tags": []
   },
   "outputs": [
    {
     "name": "stderr",
     "output_type": "stream",
     "text": [
      "bar: 100%|██████████| 250/250 [00:00<00:00, 41457.16it/s]"
     ]
    },
    {
     "name": "stdout",
     "output_type": "stream",
     "text": [
      "ERROR\n",
      "ERROR\n",
      "ERROR\n",
      "ERROR\n",
      "ERROR\n",
      "ERROR\n",
      "ERROR\n",
      "ERROR\n",
      "ERROR\n",
      "ERROR\n",
      "ERROR\n",
      "ERROR\n",
      "ERROR\n",
      "ERROR\n",
      "ERROR\n",
      "ERROR\n",
      "ERROR\n",
      "ERROR\n",
      "ERROR\n",
      "ERROR\n",
      "ERROR\n",
      "ERROR\n",
      "ERROR\n",
      "ERROR\n",
      "ERROR\n",
      "ERROR\n",
      "ERROR\n",
      "ERROR\n",
      "ERROR\n",
      "ERROR\n",
      "ERROR\n",
      "ERROR\n",
      "ERROR\n",
      "ERROR\n",
      "ERROR\n",
      "ERROR\n",
      "ERROR\n",
      "ERROR\n",
      "ERROR\n",
      "ERROR\n",
      "ERROR\n",
      "ERROR\n",
      "ERROR\n",
      "ERROR\n",
      "ERROR\n",
      "ERROR\n"
     ]
    },
    {
     "name": "stderr",
     "output_type": "stream",
     "text": [
      "\n"
     ]
    },
    {
     "data": {
      "text/plain": [
       "46"
      ]
     },
     "execution_count": 20,
     "metadata": {},
     "output_type": "execute_result"
    }
   ],
   "source": [
    "import ast\n",
    "def parse_list(x):\n",
    "    try:\n",
    "        new_str = \" \".join(ast.literal_eval(x))\n",
    "        return new_str\n",
    "    except:\n",
    "        print('ERROR')\n",
    "        # print(x)\n",
    "        new_str = 'ERROR'\n",
    "        return new_str\n",
    "    finally:\n",
    "        return new_str\n",
    "    \n",
    "cnn_summaries['gpt_e_summ'] = cnn_summaries.gpt_e_summ.progress_apply(lambda x: parse_list(x))\n",
    "len(cnn_summaries[cnn_summaries['gpt_e_summ']=='ERROR'])"
   ]
  },
  {
   "cell_type": "code",
   "execution_count": 30,
   "id": "2ead3845-daa6-4766-a417-24d3a6cb1b1e",
   "metadata": {
    "tags": []
   },
   "outputs": [
    {
     "ename": "SyntaxError",
     "evalue": "closing parenthesis ']' does not match opening parenthesis '(' (3158815999.py, line 14)",
     "output_type": "error",
     "traceback": [
      "\u001b[0;36m  Cell \u001b[0;32mIn[30], line 14\u001b[0;36m\u001b[0m\n\u001b[0;31m    len(cnn_summaries[(cnn_summaries['gpt_e_summ']=='ERROR')& (cnn_summaries['gpt_e_summ']!=''])\u001b[0m\n\u001b[0m                                                                                              ^\u001b[0m\n\u001b[0;31mSyntaxError\u001b[0m\u001b[0;31m:\u001b[0m closing parenthesis ']' does not match opening parenthesis '('\n"
     ]
    }
   ],
   "source": [
    "# Retrying the summaries that generated faulty Python lists\n",
    "# We can rerun this cell as many times as we want to get the most summaries possible\n",
    "\n",
    "def retry_extractive(row):\n",
    "    x = row['gpt_e_summ']\n",
    "    if x == 'ERROR' or x == \"\":\n",
    "        return parse_list(gpt_summarize(row['article'], extractive_prompt))\n",
    "    else:\n",
    "        return x\n",
    "\n",
    "    \n",
    "print(len(cnn_summaries[cnn_summaries['gpt_e_summ']=='ERROR']))\n",
    "cnn_summaries['gpt_e_summ'] = cnn_summaries.progress_apply(lambda x: retry_extractive(x), axis=1)"
   ]
  },
  {
   "cell_type": "code",
   "execution_count": 33,
   "id": "d6bb23da-69e5-4545-b88b-7b60884e12c0",
   "metadata": {
    "tags": []
   },
   "outputs": [
    {
     "data": {
      "text/plain": [
       "247"
      ]
     },
     "execution_count": 33,
     "metadata": {},
     "output_type": "execute_result"
    }
   ],
   "source": [
    "cnn_summaries = cnn_summaries[(cnn_summaries['gpt_e_summ']!='ERROR') & (cnn_summaries['gpt_e_summ']!='') ]\n",
    "len(cnn_summaries)"
   ]
  },
  {
   "cell_type": "code",
   "execution_count": 34,
   "id": "d11bf735-e968-40c2-a8b6-ae68ef47e2e0",
   "metadata": {
    "tags": []
   },
   "outputs": [],
   "source": [
    "cnn_summaries.to_parquet('datasets/cnn_experiment.parquet')"
   ]
  },
  {
   "cell_type": "markdown",
   "id": "6b4f826b-6f9e-4dd3-b717-6d64338705ba",
   "metadata": {
    "tags": []
   },
   "source": [
    "# Generating OCCAMS Summaries"
   ]
  },
  {
   "cell_type": "markdown",
   "id": "f2e3370f-5df8-4dfd-8996-cf483dbdef9b",
   "metadata": {
    "tags": []
   },
   "source": [
    "## Final Extractive Summary\n",
    "OCCAMS summary not meant for hybrid methods, target length is target_length"
   ]
  },
  {
   "cell_type": "code",
   "execution_count": 35,
   "id": "26b0a100-0a41-4edd-b997-4203366d3fc4",
   "metadata": {},
   "outputs": [],
   "source": [
    "from occams.nlp import TermOrder\n",
    "from occams.nlp import process_document\n",
    "from occams.summarize import SummaryUnits, extract_summary\n",
    "UNITS = SummaryUnits.CHARS"
   ]
  },
  {
   "cell_type": "code",
   "execution_count": 36,
   "id": "40c220c2-5ada-49ed-82f8-7600bf6cae32",
   "metadata": {
    "tags": []
   },
   "outputs": [],
   "source": [
    "# avg_len = sum(cnn_summaries['gpt_e_summ'].str.len())/len(cnn_summaries)\n",
    "char_budget = target_length\n",
    "# char_budget = math.floor(cnn_summaries.gpt_e_summ.str.len().quantile(.75))\n",
    "\n",
    "from nltk.tokenize import sent_tokenize\n",
    "\n",
    "# Adapted from Jacob Baxter\n",
    "def occams_summarize(document):\n",
    "    return extract_summary([process_document(document, TermOrder.BIGRAMS)], budget=char_budget, units=UNITS).summary()\n",
    "    "
   ]
  },
  {
   "cell_type": "code",
   "execution_count": 37,
   "id": "1cbe80bf-233d-4788-b631-2a079012d6ae",
   "metadata": {
    "tags": []
   },
   "outputs": [
    {
     "name": "stderr",
     "output_type": "stream",
     "text": [
      "bar: 100%|██████████| 247/247 [00:02<00:00, 84.74it/s]"
     ]
    },
    {
     "name": "stdout",
     "output_type": "stream",
     "text": [
      "CPU times: user 2.92 s, sys: 4 ms, total: 2.92 s\n",
      "Wall time: 2.92 s\n"
     ]
    },
    {
     "name": "stderr",
     "output_type": "stream",
     "text": [
      "\n"
     ]
    },
    {
     "data": {
      "text/html": [
       "<div>\n",
       "<style scoped>\n",
       "    .dataframe tbody tr th:only-of-type {\n",
       "        vertical-align: middle;\n",
       "    }\n",
       "\n",
       "    .dataframe tbody tr th {\n",
       "        vertical-align: top;\n",
       "    }\n",
       "\n",
       "    .dataframe thead th {\n",
       "        text-align: right;\n",
       "    }\n",
       "</style>\n",
       "<table border=\"1\" class=\"dataframe\">\n",
       "  <thead>\n",
       "    <tr style=\"text-align: right;\">\n",
       "      <th></th>\n",
       "      <th>article</th>\n",
       "      <th>highlights</th>\n",
       "      <th>id</th>\n",
       "      <th>gpt_e_summ</th>\n",
       "      <th>occams_summ_f</th>\n",
       "    </tr>\n",
       "  </thead>\n",
       "  <tbody>\n",
       "    <tr>\n",
       "      <th>1881</th>\n",
       "      <td>NEW YORK (CNN) -- Nonnie Dotson, a nurse in th...</td>\n",
       "      <td>Nonnie Dotson was visiting brother in suburb o...</td>\n",
       "      <td>9880666126c7836dbe99b0b42becfee3dcab88cf</td>\n",
       "      <td>Nonnie Dotson, a nurse in the U.S. Air Force, ...</td>\n",
       "      <td>NEW YORK (CNN) -- Nonnie Dotson, a nurse in th...</td>\n",
       "    </tr>\n",
       "    <tr>\n",
       "      <th>1332</th>\n",
       "      <td>(CNN) -- With a week to go before Election Day...</td>\n",
       "      <td>Obama leads by 8 points in most recent CNN nat...</td>\n",
       "      <td>c24025591e20b5d21062d1a1ec8fbf4686b963b7</td>\n",
       "      <td>The most recent national CNN poll of polls sho...</td>\n",
       "      <td>In Florida, a CNN/USA Today/Gallup poll conduc...</td>\n",
       "    </tr>\n",
       "    <tr>\n",
       "      <th>444</th>\n",
       "      <td>BAGHDAD, Iraq (CNN)  -- Four U.S. soldiers die...</td>\n",
       "      <td>NEW: As Iraq war enters sixth year, American d...</td>\n",
       "      <td>d80e6a3be826df05df00a87f49cc426fd597f085</td>\n",
       "      <td>Four U.S. soldiers died in a roadside bombing ...</td>\n",
       "      <td>BAGHDAD, Iraq (CNN) -- Four U.S. soldiers died...</td>\n",
       "    </tr>\n",
       "    <tr>\n",
       "      <th>86</th>\n",
       "      <td>ALGIERS, Algeria (CNN) -- Rescuers are sifting...</td>\n",
       "      <td>Two bombs explode in Algerian capital near gov...</td>\n",
       "      <td>4cf51ce9372dff8ff7f44f098eab1c1d7569af7a</td>\n",
       "      <td>Rescuers are sifting through the rubble of the...</td>\n",
       "      <td>ALGIERS, Algeria (CNN) -- Rescuers are sifting...</td>\n",
       "    </tr>\n",
       "    <tr>\n",
       "      <th>958</th>\n",
       "      <td>(CNN) -- The crib in Ellen Darcy's Boston home...</td>\n",
       "      <td>Guatemala and Vietnam say corruption, baby-ste...</td>\n",
       "      <td>7551503e7e57bd519913b0df90ca1e80d5305b05</td>\n",
       "      <td>Guatemala has announced it will conduct a case...</td>\n",
       "      <td>(CNN) -- The crib in Ellen Darcy's Boston home...</td>\n",
       "    </tr>\n",
       "  </tbody>\n",
       "</table>\n",
       "</div>"
      ],
      "text/plain": [
       "                                                article  \\\n",
       "1881  NEW YORK (CNN) -- Nonnie Dotson, a nurse in th...   \n",
       "1332  (CNN) -- With a week to go before Election Day...   \n",
       "444   BAGHDAD, Iraq (CNN)  -- Four U.S. soldiers die...   \n",
       "86    ALGIERS, Algeria (CNN) -- Rescuers are sifting...   \n",
       "958   (CNN) -- The crib in Ellen Darcy's Boston home...   \n",
       "\n",
       "                                             highlights  \\\n",
       "1881  Nonnie Dotson was visiting brother in suburb o...   \n",
       "1332  Obama leads by 8 points in most recent CNN nat...   \n",
       "444   NEW: As Iraq war enters sixth year, American d...   \n",
       "86    Two bombs explode in Algerian capital near gov...   \n",
       "958   Guatemala and Vietnam say corruption, baby-ste...   \n",
       "\n",
       "                                            id  \\\n",
       "1881  9880666126c7836dbe99b0b42becfee3dcab88cf   \n",
       "1332  c24025591e20b5d21062d1a1ec8fbf4686b963b7   \n",
       "444   d80e6a3be826df05df00a87f49cc426fd597f085   \n",
       "86    4cf51ce9372dff8ff7f44f098eab1c1d7569af7a   \n",
       "958   7551503e7e57bd519913b0df90ca1e80d5305b05   \n",
       "\n",
       "                                             gpt_e_summ  \\\n",
       "1881  Nonnie Dotson, a nurse in the U.S. Air Force, ...   \n",
       "1332  The most recent national CNN poll of polls sho...   \n",
       "444   Four U.S. soldiers died in a roadside bombing ...   \n",
       "86    Rescuers are sifting through the rubble of the...   \n",
       "958   Guatemala has announced it will conduct a case...   \n",
       "\n",
       "                                          occams_summ_f  \n",
       "1881  NEW YORK (CNN) -- Nonnie Dotson, a nurse in th...  \n",
       "1332  In Florida, a CNN/USA Today/Gallup poll conduc...  \n",
       "444   BAGHDAD, Iraq (CNN) -- Four U.S. soldiers died...  \n",
       "86    ALGIERS, Algeria (CNN) -- Rescuers are sifting...  \n",
       "958   (CNN) -- The crib in Ellen Darcy's Boston home...  "
      ]
     },
     "execution_count": 37,
     "metadata": {},
     "output_type": "execute_result"
    }
   ],
   "source": [
    "%%time \n",
    "cnn_summaries[\"occams_summ_f\"] = cnn_summaries.article.progress_apply(occams_summarize)\n",
    "cnn_summaries.head()"
   ]
  },
  {
   "cell_type": "markdown",
   "id": "b0f18f87-87e4-42ba-a950-8b0b7480a122",
   "metadata": {},
   "source": [
    "## Extractive Summary for Hybrid Summarization"
   ]
  },
  {
   "cell_type": "code",
   "execution_count": 38,
   "id": "597bb30c-456d-4e77-8e63-a9a9987fee9f",
   "metadata": {
    "tags": []
   },
   "outputs": [],
   "source": [
    "char_budget = math.floor(cnn_summaries.gpt_e_summ.str.len().quantile(.75))"
   ]
  },
  {
   "cell_type": "code",
   "execution_count": 39,
   "id": "2c981d34-74e1-4363-b694-8824c0945959",
   "metadata": {
    "tags": []
   },
   "outputs": [
    {
     "data": {
      "text/plain": [
       "695"
      ]
     },
     "execution_count": 39,
     "metadata": {},
     "output_type": "execute_result"
    }
   ],
   "source": [
    "char_budget"
   ]
  },
  {
   "cell_type": "code",
   "execution_count": 40,
   "id": "cc148593-8080-4141-938f-50dbfcbe5d42",
   "metadata": {
    "tags": []
   },
   "outputs": [
    {
     "name": "stderr",
     "output_type": "stream",
     "text": [
      "bar: 100%|██████████| 247/247 [00:02<00:00, 86.79it/s]"
     ]
    },
    {
     "name": "stdout",
     "output_type": "stream",
     "text": [
      "CPU times: user 2.85 s, sys: 0 ns, total: 2.85 s\n",
      "Wall time: 2.85 s\n"
     ]
    },
    {
     "name": "stderr",
     "output_type": "stream",
     "text": [
      "\n"
     ]
    },
    {
     "data": {
      "text/html": [
       "<div>\n",
       "<style scoped>\n",
       "    .dataframe tbody tr th:only-of-type {\n",
       "        vertical-align: middle;\n",
       "    }\n",
       "\n",
       "    .dataframe tbody tr th {\n",
       "        vertical-align: top;\n",
       "    }\n",
       "\n",
       "    .dataframe thead th {\n",
       "        text-align: right;\n",
       "    }\n",
       "</style>\n",
       "<table border=\"1\" class=\"dataframe\">\n",
       "  <thead>\n",
       "    <tr style=\"text-align: right;\">\n",
       "      <th></th>\n",
       "      <th>article</th>\n",
       "      <th>highlights</th>\n",
       "      <th>id</th>\n",
       "      <th>gpt_e_summ</th>\n",
       "      <th>occams_summ_f</th>\n",
       "      <th>occams_summ_h</th>\n",
       "    </tr>\n",
       "  </thead>\n",
       "  <tbody>\n",
       "    <tr>\n",
       "      <th>1881</th>\n",
       "      <td>NEW YORK (CNN) -- Nonnie Dotson, a nurse in th...</td>\n",
       "      <td>Nonnie Dotson was visiting brother in suburb o...</td>\n",
       "      <td>9880666126c7836dbe99b0b42becfee3dcab88cf</td>\n",
       "      <td>Nonnie Dotson, a nurse in the U.S. Air Force, ...</td>\n",
       "      <td>NEW YORK (CNN) -- Nonnie Dotson, a nurse in th...</td>\n",
       "      <td>NEW YORK (CNN) -- Nonnie Dotson, a nurse in th...</td>\n",
       "    </tr>\n",
       "    <tr>\n",
       "      <th>1332</th>\n",
       "      <td>(CNN) -- With a week to go before Election Day...</td>\n",
       "      <td>Obama leads by 8 points in most recent CNN nat...</td>\n",
       "      <td>c24025591e20b5d21062d1a1ec8fbf4686b963b7</td>\n",
       "      <td>The most recent national CNN poll of polls sho...</td>\n",
       "      <td>In Florida, a CNN/USA Today/Gallup poll conduc...</td>\n",
       "      <td>(CNN) -- With a week to go before Election Day...</td>\n",
       "    </tr>\n",
       "    <tr>\n",
       "      <th>444</th>\n",
       "      <td>BAGHDAD, Iraq (CNN)  -- Four U.S. soldiers die...</td>\n",
       "      <td>NEW: As Iraq war enters sixth year, American d...</td>\n",
       "      <td>d80e6a3be826df05df00a87f49cc426fd597f085</td>\n",
       "      <td>Four U.S. soldiers died in a roadside bombing ...</td>\n",
       "      <td>BAGHDAD, Iraq (CNN) -- Four U.S. soldiers died...</td>\n",
       "      <td>BAGHDAD, Iraq (CNN) -- Four U.S. soldiers died...</td>\n",
       "    </tr>\n",
       "    <tr>\n",
       "      <th>86</th>\n",
       "      <td>ALGIERS, Algeria (CNN) -- Rescuers are sifting...</td>\n",
       "      <td>Two bombs explode in Algerian capital near gov...</td>\n",
       "      <td>4cf51ce9372dff8ff7f44f098eab1c1d7569af7a</td>\n",
       "      <td>Rescuers are sifting through the rubble of the...</td>\n",
       "      <td>ALGIERS, Algeria (CNN) -- Rescuers are sifting...</td>\n",
       "      <td>ALGIERS, Algeria (CNN) -- Rescuers are sifting...</td>\n",
       "    </tr>\n",
       "    <tr>\n",
       "      <th>958</th>\n",
       "      <td>(CNN) -- The crib in Ellen Darcy's Boston home...</td>\n",
       "      <td>Guatemala and Vietnam say corruption, baby-ste...</td>\n",
       "      <td>7551503e7e57bd519913b0df90ca1e80d5305b05</td>\n",
       "      <td>Guatemala has announced it will conduct a case...</td>\n",
       "      <td>(CNN) -- The crib in Ellen Darcy's Boston home...</td>\n",
       "      <td>(CNN) -- The crib in Ellen Darcy's Boston home...</td>\n",
       "    </tr>\n",
       "  </tbody>\n",
       "</table>\n",
       "</div>"
      ],
      "text/plain": [
       "                                                article  \\\n",
       "1881  NEW YORK (CNN) -- Nonnie Dotson, a nurse in th...   \n",
       "1332  (CNN) -- With a week to go before Election Day...   \n",
       "444   BAGHDAD, Iraq (CNN)  -- Four U.S. soldiers die...   \n",
       "86    ALGIERS, Algeria (CNN) -- Rescuers are sifting...   \n",
       "958   (CNN) -- The crib in Ellen Darcy's Boston home...   \n",
       "\n",
       "                                             highlights  \\\n",
       "1881  Nonnie Dotson was visiting brother in suburb o...   \n",
       "1332  Obama leads by 8 points in most recent CNN nat...   \n",
       "444   NEW: As Iraq war enters sixth year, American d...   \n",
       "86    Two bombs explode in Algerian capital near gov...   \n",
       "958   Guatemala and Vietnam say corruption, baby-ste...   \n",
       "\n",
       "                                            id  \\\n",
       "1881  9880666126c7836dbe99b0b42becfee3dcab88cf   \n",
       "1332  c24025591e20b5d21062d1a1ec8fbf4686b963b7   \n",
       "444   d80e6a3be826df05df00a87f49cc426fd597f085   \n",
       "86    4cf51ce9372dff8ff7f44f098eab1c1d7569af7a   \n",
       "958   7551503e7e57bd519913b0df90ca1e80d5305b05   \n",
       "\n",
       "                                             gpt_e_summ  \\\n",
       "1881  Nonnie Dotson, a nurse in the U.S. Air Force, ...   \n",
       "1332  The most recent national CNN poll of polls sho...   \n",
       "444   Four U.S. soldiers died in a roadside bombing ...   \n",
       "86    Rescuers are sifting through the rubble of the...   \n",
       "958   Guatemala has announced it will conduct a case...   \n",
       "\n",
       "                                          occams_summ_f  \\\n",
       "1881  NEW YORK (CNN) -- Nonnie Dotson, a nurse in th...   \n",
       "1332  In Florida, a CNN/USA Today/Gallup poll conduc...   \n",
       "444   BAGHDAD, Iraq (CNN) -- Four U.S. soldiers died...   \n",
       "86    ALGIERS, Algeria (CNN) -- Rescuers are sifting...   \n",
       "958   (CNN) -- The crib in Ellen Darcy's Boston home...   \n",
       "\n",
       "                                          occams_summ_h  \n",
       "1881  NEW YORK (CNN) -- Nonnie Dotson, a nurse in th...  \n",
       "1332  (CNN) -- With a week to go before Election Day...  \n",
       "444   BAGHDAD, Iraq (CNN) -- Four U.S. soldiers died...  \n",
       "86    ALGIERS, Algeria (CNN) -- Rescuers are sifting...  \n",
       "958   (CNN) -- The crib in Ellen Darcy's Boston home...  "
      ]
     },
     "execution_count": 40,
     "metadata": {},
     "output_type": "execute_result"
    }
   ],
   "source": [
    "%%time \n",
    "cnn_summaries[\"occams_summ_h\"] = cnn_summaries.article.progress_apply(occams_summarize)\n",
    "cnn_summaries.head()"
   ]
  },
  {
   "cell_type": "code",
   "execution_count": 41,
   "id": "833a4af0-04c9-4205-8e50-fea9469eb85d",
   "metadata": {
    "tags": []
   },
   "outputs": [],
   "source": [
    "cnn_summaries.to_parquet('datasets/cnn_experiment.parquet')"
   ]
  },
  {
   "cell_type": "code",
   "execution_count": 3,
   "id": "fb32e9bc-02cf-4ab3-846b-d4d517a1f84b",
   "metadata": {
    "tags": []
   },
   "outputs": [],
   "source": [
    "cnn_summaries = pd.read_parquet('datasets/cnn_experiment.parquet')"
   ]
  },
  {
   "cell_type": "markdown",
   "id": "19c090f3-ad19-46aa-9599-b9209716253f",
   "metadata": {},
   "source": [
    "# Hybrid Summarization\n",
    "\n",
    "To ensure that the length of these summaries is appropriate, we will need to iterate on the length and force GPT to not give us character counts. For the sake of experimentation, I will keep the full length summary too."
   ]
  },
  {
   "cell_type": "markdown",
   "id": "25360399-8dd1-44f1-aecd-0b3e83748fbe",
   "metadata": {},
   "source": [
    "## Hybrid Summary: OCCAMS"
   ]
  },
  {
   "cell_type": "code",
   "execution_count": 6,
   "id": "dfbbd530-08ed-4d3a-a93f-07ee20f446fd",
   "metadata": {
    "tags": []
   },
   "outputs": [
    {
     "name": "stderr",
     "output_type": "stream",
     "text": [
      "bar:   6%|▋         | 16/247 [01:23<46:06, 11.98s/it]"
     ]
    },
    {
     "name": "stdout",
     "output_type": "stream",
     "text": [
      "ERROR\n"
     ]
    },
    {
     "name": "stderr",
     "output_type": "stream",
     "text": [
      "bar:  32%|███▏      | 78/247 [05:08<32:51, 11.66s/it]"
     ]
    },
    {
     "name": "stdout",
     "output_type": "stream",
     "text": [
      "ERROR\n"
     ]
    },
    {
     "name": "stderr",
     "output_type": "stream",
     "text": [
      "bar:  60%|█████▉    | 148/247 [09:31<19:15, 11.67s/it]"
     ]
    },
    {
     "name": "stdout",
     "output_type": "stream",
     "text": [
      "ERROR\n"
     ]
    },
    {
     "name": "stderr",
     "output_type": "stream",
     "text": [
      "bar:  74%|███████▎  | 182/247 [11:55<12:22, 11.43s/it]"
     ]
    },
    {
     "name": "stdout",
     "output_type": "stream",
     "text": [
      "ERROR\n"
     ]
    },
    {
     "name": "stderr",
     "output_type": "stream",
     "text": [
      "bar:  84%|████████▍ | 208/247 [13:52<07:27, 11.47s/it]"
     ]
    },
    {
     "name": "stdout",
     "output_type": "stream",
     "text": [
      "ERROR\n"
     ]
    },
    {
     "name": "stderr",
     "output_type": "stream",
     "text": [
      "bar:  85%|████████▌ | 210/247 [14:02<05:04,  8.24s/it]"
     ]
    },
    {
     "name": "stdout",
     "output_type": "stream",
     "text": [
      "ERROR\n"
     ]
    },
    {
     "name": "stderr",
     "output_type": "stream",
     "text": [
      "bar: 100%|██████████| 247/247 [16:20<00:00,  3.97s/it]"
     ]
    },
    {
     "name": "stdout",
     "output_type": "stream",
     "text": [
      "CPU times: user 15.6 s, sys: 198 ms, total: 15.8 s\n",
      "Wall time: 16min 20s\n"
     ]
    },
    {
     "name": "stderr",
     "output_type": "stream",
     "text": [
      "\n"
     ]
    }
   ],
   "source": [
    "%%time\n",
    "\n",
    "# Note that we are using the SAME prompt for both OCCAMS and ChatGPT based extractive summaries\n",
    "hybrid_prompt = \"\"\"You are a  summarizer that follows the output pattern. Please summarize this text.\n",
    "\n",
    "Text:\n",
    "{text}\n",
    "\n",
    "Summary:\n",
    "\"\"\".format(text='{text}')\n",
    "\n",
    "cnn_summaries['occams_gpt_summ'] = cnn_summaries.occams_summ_h.progress_apply(lambda x: gpt_summarize(x, hybrid_prompt))"
   ]
  },
  {
   "cell_type": "code",
   "execution_count": 8,
   "id": "88812cac-7f33-4ab5-b2e4-3d32adb99280",
   "metadata": {},
   "outputs": [
    {
     "name": "stdout",
     "output_type": "stream",
     "text": [
      "241\n"
     ]
    },
    {
     "name": "stderr",
     "output_type": "stream",
     "text": [
      "bar: 100%|██████████| 247/247 [00:20<00:00, 12.17it/s]"
     ]
    },
    {
     "name": "stdout",
     "output_type": "stream",
     "text": [
      "247\n"
     ]
    },
    {
     "name": "stderr",
     "output_type": "stream",
     "text": [
      "\n"
     ]
    }
   ],
   "source": [
    "# Too many errors, retrying\n",
    "# Run this cell as many times as needed to get the desired number of good summaries\n",
    "def retry_occams_gpt(row):\n",
    "    x = row['occams_gpt_summ']\n",
    "\n",
    "    if x=='No summary possible.':\n",
    "        return gpt_summarize(row['occams_summ_h'], hybrid_prompt)\n",
    "    else:\n",
    "        return x\n",
    "\n",
    "print(len(cnn_summaries[cnn_summaries['occams_gpt_summ']!='No summary possible.']))\n",
    "                             \n",
    "cnn_summaries['occams_gpt_summ'] = cnn_summaries.progress_apply(lambda x: retry_occams_gpt(x), axis=1)\n",
    "print(len(cnn_summaries[cnn_summaries['occams_gpt_summ']!='No summary possible.']))"
   ]
  },
  {
   "cell_type": "code",
   "execution_count": 9,
   "id": "3c249de3-9eed-484b-bdf9-d35a1404d928",
   "metadata": {},
   "outputs": [
    {
     "data": {
      "text/plain": [
       "247"
      ]
     },
     "execution_count": 9,
     "metadata": {},
     "output_type": "execute_result"
    }
   ],
   "source": [
    "cnn_summaries = cnn_summaries[cnn_summaries['occams_gpt_summ']!='No summary possible.']\n",
    "len(cnn_summaries)"
   ]
  },
  {
   "cell_type": "markdown",
   "id": "68392970-033c-4514-837f-373bc04b2762",
   "metadata": {},
   "source": [
    "## Hybrid Summary: GPT_E"
   ]
  },
  {
   "cell_type": "code",
   "execution_count": 19,
   "id": "d990120e-1c35-4dde-8275-fa859dfaf098",
   "metadata": {
    "tags": []
   },
   "outputs": [
    {
     "name": "stderr",
     "output_type": "stream",
     "text": [
      "bar:   5%|▍         | 12/247 [01:05<46:25, 11.85s/it]"
     ]
    },
    {
     "name": "stdout",
     "output_type": "stream",
     "text": [
      "ERROR\n"
     ]
    },
    {
     "name": "stderr",
     "output_type": "stream",
     "text": [
      "bar:   6%|▌         | 15/247 [01:47<59:05, 15.28s/it]"
     ]
    },
    {
     "name": "stdout",
     "output_type": "stream",
     "text": [
      "ERROR\n"
     ]
    },
    {
     "name": "stderr",
     "output_type": "stream",
     "text": [
      "bar:  26%|██▋       | 65/247 [04:27<09:45,  3.22s/it]"
     ]
    },
    {
     "name": "stdout",
     "output_type": "stream",
     "text": [
      "ERROR\n"
     ]
    },
    {
     "name": "stderr",
     "output_type": "stream",
     "text": [
      "bar:  39%|███▉      | 97/247 [06:40<28:07, 11.25s/it]"
     ]
    },
    {
     "name": "stdout",
     "output_type": "stream",
     "text": [
      "ERROR\n"
     ]
    },
    {
     "name": "stderr",
     "output_type": "stream",
     "text": [
      "bar:  72%|███████▏  | 179/247 [11:41<13:01, 11.49s/it]"
     ]
    },
    {
     "name": "stdout",
     "output_type": "stream",
     "text": [
      "ERROR\n"
     ]
    },
    {
     "name": "stderr",
     "output_type": "stream",
     "text": [
      "bar:  78%|███████▊  | 193/247 [12:53<10:44, 11.93s/it]"
     ]
    },
    {
     "name": "stdout",
     "output_type": "stream",
     "text": [
      "ERROR\n"
     ]
    },
    {
     "name": "stderr",
     "output_type": "stream",
     "text": [
      "bar:  87%|████████▋ | 214/247 [14:32<06:09, 11.19s/it]"
     ]
    },
    {
     "name": "stdout",
     "output_type": "stream",
     "text": [
      "ERROR\n"
     ]
    },
    {
     "name": "stderr",
     "output_type": "stream",
     "text": [
      "bar:  91%|█████████ | 225/247 [15:36<04:15, 11.63s/it]"
     ]
    },
    {
     "name": "stdout",
     "output_type": "stream",
     "text": [
      "ERROR\n"
     ]
    },
    {
     "name": "stderr",
     "output_type": "stream",
     "text": [
      "bar:  94%|█████████▎| 231/247 [16:17<03:07, 11.72s/it]"
     ]
    },
    {
     "name": "stdout",
     "output_type": "stream",
     "text": [
      "ERROR\n"
     ]
    },
    {
     "name": "stderr",
     "output_type": "stream",
     "text": [
      "bar:  95%|█████████▍| 234/247 [16:27<01:19,  6.12s/it]"
     ]
    },
    {
     "name": "stdout",
     "output_type": "stream",
     "text": [
      "ERROR\n"
     ]
    },
    {
     "name": "stderr",
     "output_type": "stream",
     "text": [
      "bar:  99%|█████████▉| 245/247 [17:31<00:23, 11.61s/it]"
     ]
    },
    {
     "name": "stdout",
     "output_type": "stream",
     "text": [
      "ERROR\n"
     ]
    },
    {
     "name": "stderr",
     "output_type": "stream",
     "text": [
      "bar: 100%|██████████| 247/247 [17:42<00:00,  4.30s/it]"
     ]
    },
    {
     "name": "stdout",
     "output_type": "stream",
     "text": [
      "236\n",
      "CPU times: user 14.9 s, sys: 168 ms, total: 15 s\n",
      "Wall time: 17min 42s\n"
     ]
    },
    {
     "name": "stderr",
     "output_type": "stream",
     "text": [
      "\n"
     ]
    }
   ],
   "source": [
    "%%time\n",
    "cnn_summaries['gpt_gpt_summ'] = cnn_summaries.gpt_e_summ.progress_apply(lambda x: gpt_summarize(x, hybrid_prompt))\n",
    "print(len(cnn_summaries[cnn_summaries['gpt_gpt_summ']!='No summary possible.']))"
   ]
  },
  {
   "cell_type": "code",
   "execution_count": 20,
   "id": "aec176c1-9843-47bc-8515-9dcba70a98fe",
   "metadata": {},
   "outputs": [
    {
     "name": "stdout",
     "output_type": "stream",
     "text": [
      "236\n"
     ]
    },
    {
     "name": "stderr",
     "output_type": "stream",
     "text": [
      "bar: 100%|██████████| 247/247 [00:33<00:00,  7.37it/s]"
     ]
    },
    {
     "name": "stdout",
     "output_type": "stream",
     "text": [
      "247\n"
     ]
    },
    {
     "name": "stderr",
     "output_type": "stream",
     "text": [
      "\n"
     ]
    }
   ],
   "source": [
    "# Too many errors, retrying\n",
    "# Run this cell as many times as needed to get the desired number of good summaries\n",
    "def retry_gpt(row):\n",
    "    x = row['gpt_gpt_summ']\n",
    "\n",
    "    if x=='No summary possible.':\n",
    "        return gpt_summarize(row['gpt_e_summ'], hybrid_prompt)\n",
    "    else:\n",
    "        return x\n",
    "    \n",
    "print(len(cnn_summaries[cnn_summaries['gpt_gpt_summ']!='No summary possible.']))\n",
    "cnn_summaries['gpt_gpt_summ'] = cnn_summaries.progress_apply(lambda x: retry_gpt(x), axis=1)\n",
    "print(len(cnn_summaries[cnn_summaries['gpt_gpt_summ']!='No summary possible.']))"
   ]
  },
  {
   "cell_type": "code",
   "execution_count": 21,
   "id": "374ad318-d1b8-45ec-a367-bdbcffda78b1",
   "metadata": {
    "tags": []
   },
   "outputs": [
    {
     "data": {
      "text/plain": [
       "247"
      ]
     },
     "execution_count": 21,
     "metadata": {},
     "output_type": "execute_result"
    }
   ],
   "source": [
    "cnn_summaries = cnn_summaries[cnn_summaries['gpt_gpt_summ']!='No summary possible.']\n",
    "len(cnn_summaries)"
   ]
  },
  {
   "cell_type": "code",
   "execution_count": 29,
   "id": "9c36d286-cd61-41e3-b13d-d1705daad974",
   "metadata": {
    "tags": []
   },
   "outputs": [],
   "source": [
    "cnn_summaries.head()"
   ]
  },
  {
   "cell_type": "code",
   "execution_count": 38,
   "id": "29490752-6544-4a5e-8b11-e489458ecc55",
   "metadata": {
    "tags": []
   },
   "outputs": [],
   "source": [
    "cnn_summaries.to_parquet('datasets/cnn_experiment.parquet')"
   ]
  },
  {
   "cell_type": "markdown",
   "id": "1ebbf5e8-fe6e-4299-ad82-dc7aa688db63",
   "metadata": {},
   "source": [
    "## Controlling Length of Hybrid Summaries"
   ]
  },
  {
   "cell_type": "code",
   "execution_count": 39,
   "id": "1352b1b1-f29a-4bea-ad2c-8b382489ed23",
   "metadata": {
    "tags": []
   },
   "outputs": [
    {
     "name": "stdout",
     "output_type": "stream",
     "text": [
      "count    247.000000\n",
      "mean     375.995951\n",
      "std       91.514871\n",
      "min      114.000000\n",
      "25%      318.000000\n",
      "50%      366.000000\n",
      "75%      434.500000\n",
      "max      638.000000\n",
      "Name: occams_gpt_summ_full, dtype: float64\n",
      "count    247.000000\n",
      "mean     367.821862\n",
      "std      109.896998\n",
      "min      160.000000\n",
      "25%      295.000000\n",
      "50%      358.000000\n",
      "75%      432.000000\n",
      "max      783.000000\n",
      "Name: gpt_gpt_summ_full, dtype: float64\n"
     ]
    }
   ],
   "source": [
    "# Renaming the hybrid summaries since we want to get shorter summaries. Avoiding confusion\n",
    "\n",
    "cnn_summaries = cnn_summaries.rename(columns={\"gpt_gpt_summ\": \"gpt_gpt_summ_full\", \"occams_gpt_summ\": \"occams_gpt_summ_full\"})\n",
    "\n",
    "print(cnn_summaries['occams_gpt_summ_full'].str.len().describe())\n",
    "print(cnn_summaries['gpt_gpt_summ_full'].str.len().describe())"
   ]
  },
  {
   "cell_type": "code",
   "execution_count": 47,
   "id": "6bd4e773-819d-4573-9eea-f0cc2a77affc",
   "metadata": {
    "tags": []
   },
   "outputs": [
    {
     "name": "stderr",
     "output_type": "stream",
     "text": [
      "bar:  40%|███▉      | 98/247 [04:38<11:27,  4.62s/it]"
     ]
    },
    {
     "name": "stdout",
     "output_type": "stream",
     "text": [
      "ERROR\n",
      "ERROR\n"
     ]
    },
    {
     "name": "stderr",
     "output_type": "stream",
     "text": [
      "bar:  42%|████▏     | 104/247 [05:27<12:19,  5.17s/it]"
     ]
    },
    {
     "name": "stdout",
     "output_type": "stream",
     "text": [
      "ERROR\n"
     ]
    },
    {
     "name": "stderr",
     "output_type": "stream",
     "text": [
      "bar:  60%|█████▉    | 147/247 [08:50<07:32,  4.52s/it]"
     ]
    },
    {
     "name": "stdout",
     "output_type": "stream",
     "text": [
      "ERROR\n"
     ]
    },
    {
     "name": "stderr",
     "output_type": "stream",
     "text": [
      "bar: 100%|██████████| 247/247 [14:20<00:00,  3.49s/it]"
     ]
    },
    {
     "name": "stdout",
     "output_type": "stream",
     "text": [
      "247\n"
     ]
    },
    {
     "name": "stderr",
     "output_type": "stream",
     "text": [
      "\n"
     ]
    }
   ],
   "source": [
    "compress_prompt = \"\"\"Make this summary less than {target_length} characters, following the output format:\n",
    "\n",
    "Text:\n",
    "{text}\n",
    "\n",
    "Summary:\n",
    "\"\"\".format(text='{text}', target_length=target_length)\n",
    "\n",
    "def compress_summary(x):\n",
    "    while len(x) > target_length:\n",
    "        new_x = gpt_summarize(x, compress_prompt)\n",
    "        if new_x != 'No summary possible.':\n",
    "            x = re.sub(r\"\\s\\(\\d+ characters\\)|Characters\\)\", \"\", new_x)\n",
    "    return x\n",
    "\n",
    "cnn_summaries['occams_gpt_summ'] = cnn_summaries.occams_gpt_summ_full.progress_apply(lambda x: compress_summary(x))\n",
    "print(len(cnn_summaries[cnn_summaries['occams_gpt_summ']!='No summary possible.']))"
   ]
  },
  {
   "cell_type": "code",
   "execution_count": 50,
   "id": "af78df84-f550-4fce-b593-bac179299f38",
   "metadata": {},
   "outputs": [
    {
     "data": {
      "text/html": [
       "<div>\n",
       "<style scoped>\n",
       "    .dataframe tbody tr th:only-of-type {\n",
       "        vertical-align: middle;\n",
       "    }\n",
       "\n",
       "    .dataframe tbody tr th {\n",
       "        vertical-align: top;\n",
       "    }\n",
       "\n",
       "    .dataframe thead th {\n",
       "        text-align: right;\n",
       "    }\n",
       "</style>\n",
       "<table border=\"1\" class=\"dataframe\">\n",
       "  <thead>\n",
       "    <tr style=\"text-align: right;\">\n",
       "      <th></th>\n",
       "      <th>article</th>\n",
       "      <th>highlights</th>\n",
       "      <th>id</th>\n",
       "      <th>gpt_e_summ</th>\n",
       "      <th>occams_summ_f</th>\n",
       "      <th>occams_summ_h</th>\n",
       "      <th>occams_gpt_summ_full</th>\n",
       "      <th>gpt_gpt_summ_full</th>\n",
       "      <th>occams_gpt_summ</th>\n",
       "    </tr>\n",
       "  </thead>\n",
       "  <tbody>\n",
       "    <tr>\n",
       "      <th>1881</th>\n",
       "      <td>NEW YORK (CNN) -- Nonnie Dotson, a nurse in th...</td>\n",
       "      <td>Nonnie Dotson was visiting brother in suburb o...</td>\n",
       "      <td>9880666126c7836dbe99b0b42becfee3dcab88cf</td>\n",
       "      <td>Nonnie Dotson, a nurse in the U.S. Air Force, ...</td>\n",
       "      <td>NEW YORK (CNN) -- Nonnie Dotson, a nurse in th...</td>\n",
       "      <td>NEW YORK (CNN) -- Nonnie Dotson, a nurse in th...</td>\n",
       "      <td>Nonnie Dotson, a nurse in the U.S. Air Force, ...</td>\n",
       "      <td>Nonnie Dotson, a nurse in the U.S. Air Force, ...</td>\n",
       "      <td>Nurse Nonnie Dotson disappeared amid a child s...</td>\n",
       "    </tr>\n",
       "    <tr>\n",
       "      <th>1332</th>\n",
       "      <td>(CNN) -- With a week to go before Election Day...</td>\n",
       "      <td>Obama leads by 8 points in most recent CNN nat...</td>\n",
       "      <td>c24025591e20b5d21062d1a1ec8fbf4686b963b7</td>\n",
       "      <td>The most recent national CNN poll of polls sho...</td>\n",
       "      <td>In Florida, a CNN/USA Today/Gallup poll conduc...</td>\n",
       "      <td>(CNN) -- With a week to go before Election Day...</td>\n",
       "      <td>Recent national polls show Democratic presiden...</td>\n",
       "      <td>The most recent national CNN poll of polls sho...</td>\n",
       "      <td>Recent national polls show Obama leading McCai...</td>\n",
       "    </tr>\n",
       "    <tr>\n",
       "      <th>444</th>\n",
       "      <td>BAGHDAD, Iraq (CNN)  -- Four U.S. soldiers die...</td>\n",
       "      <td>NEW: As Iraq war enters sixth year, American d...</td>\n",
       "      <td>d80e6a3be826df05df00a87f49cc426fd597f085</td>\n",
       "      <td>Four U.S. soldiers died in a roadside bombing ...</td>\n",
       "      <td>BAGHDAD, Iraq (CNN) -- Four U.S. soldiers died...</td>\n",
       "      <td>BAGHDAD, Iraq (CNN) -- Four U.S. soldiers died...</td>\n",
       "      <td>Four U.S. soldiers were killed in a roadside b...</td>\n",
       "      <td>Four U.S. soldiers were killed in a roadside b...</td>\n",
       "      <td>4 US soldiers and 8 Pentagon contractors were ...</td>\n",
       "    </tr>\n",
       "    <tr>\n",
       "      <th>86</th>\n",
       "      <td>ALGIERS, Algeria (CNN) -- Rescuers are sifting...</td>\n",
       "      <td>Two bombs explode in Algerian capital near gov...</td>\n",
       "      <td>4cf51ce9372dff8ff7f44f098eab1c1d7569af7a</td>\n",
       "      <td>Rescuers are sifting through the rubble of the...</td>\n",
       "      <td>ALGIERS, Algeria (CNN) -- Rescuers are sifting...</td>\n",
       "      <td>ALGIERS, Algeria (CNN) -- Rescuers are sifting...</td>\n",
       "      <td>A powerful bomb destroyed the United Nations h...</td>\n",
       "      <td>A bomb attack has caused significant damage to...</td>\n",
       "      <td>A powerful bomb by al Qaeda destroyed the UN h...</td>\n",
       "    </tr>\n",
       "    <tr>\n",
       "      <th>958</th>\n",
       "      <td>(CNN) -- The crib in Ellen Darcy's Boston home...</td>\n",
       "      <td>Guatemala and Vietnam say corruption, baby-ste...</td>\n",
       "      <td>7551503e7e57bd519913b0df90ca1e80d5305b05</td>\n",
       "      <td>Guatemala has announced it will conduct a case...</td>\n",
       "      <td>(CNN) -- The crib in Ellen Darcy's Boston home...</td>\n",
       "      <td>(CNN) -- The crib in Ellen Darcy's Boston home...</td>\n",
       "      <td>Guatemala is conducting a review of all pendin...</td>\n",
       "      <td>Guatemala is conducting a review of all pendin...</td>\n",
       "      <td>Guatemala reviews pending foreign adoptions, m...</td>\n",
       "    </tr>\n",
       "  </tbody>\n",
       "</table>\n",
       "</div>"
      ],
      "text/plain": [
       "                                                article  \\\n",
       "1881  NEW YORK (CNN) -- Nonnie Dotson, a nurse in th...   \n",
       "1332  (CNN) -- With a week to go before Election Day...   \n",
       "444   BAGHDAD, Iraq (CNN)  -- Four U.S. soldiers die...   \n",
       "86    ALGIERS, Algeria (CNN) -- Rescuers are sifting...   \n",
       "958   (CNN) -- The crib in Ellen Darcy's Boston home...   \n",
       "\n",
       "                                             highlights  \\\n",
       "1881  Nonnie Dotson was visiting brother in suburb o...   \n",
       "1332  Obama leads by 8 points in most recent CNN nat...   \n",
       "444   NEW: As Iraq war enters sixth year, American d...   \n",
       "86    Two bombs explode in Algerian capital near gov...   \n",
       "958   Guatemala and Vietnam say corruption, baby-ste...   \n",
       "\n",
       "                                            id  \\\n",
       "1881  9880666126c7836dbe99b0b42becfee3dcab88cf   \n",
       "1332  c24025591e20b5d21062d1a1ec8fbf4686b963b7   \n",
       "444   d80e6a3be826df05df00a87f49cc426fd597f085   \n",
       "86    4cf51ce9372dff8ff7f44f098eab1c1d7569af7a   \n",
       "958   7551503e7e57bd519913b0df90ca1e80d5305b05   \n",
       "\n",
       "                                             gpt_e_summ  \\\n",
       "1881  Nonnie Dotson, a nurse in the U.S. Air Force, ...   \n",
       "1332  The most recent national CNN poll of polls sho...   \n",
       "444   Four U.S. soldiers died in a roadside bombing ...   \n",
       "86    Rescuers are sifting through the rubble of the...   \n",
       "958   Guatemala has announced it will conduct a case...   \n",
       "\n",
       "                                          occams_summ_f  \\\n",
       "1881  NEW YORK (CNN) -- Nonnie Dotson, a nurse in th...   \n",
       "1332  In Florida, a CNN/USA Today/Gallup poll conduc...   \n",
       "444   BAGHDAD, Iraq (CNN) -- Four U.S. soldiers died...   \n",
       "86    ALGIERS, Algeria (CNN) -- Rescuers are sifting...   \n",
       "958   (CNN) -- The crib in Ellen Darcy's Boston home...   \n",
       "\n",
       "                                          occams_summ_h  \\\n",
       "1881  NEW YORK (CNN) -- Nonnie Dotson, a nurse in th...   \n",
       "1332  (CNN) -- With a week to go before Election Day...   \n",
       "444   BAGHDAD, Iraq (CNN) -- Four U.S. soldiers died...   \n",
       "86    ALGIERS, Algeria (CNN) -- Rescuers are sifting...   \n",
       "958   (CNN) -- The crib in Ellen Darcy's Boston home...   \n",
       "\n",
       "                                   occams_gpt_summ_full  \\\n",
       "1881  Nonnie Dotson, a nurse in the U.S. Air Force, ...   \n",
       "1332  Recent national polls show Democratic presiden...   \n",
       "444   Four U.S. soldiers were killed in a roadside b...   \n",
       "86    A powerful bomb destroyed the United Nations h...   \n",
       "958   Guatemala is conducting a review of all pendin...   \n",
       "\n",
       "                                      gpt_gpt_summ_full  \\\n",
       "1881  Nonnie Dotson, a nurse in the U.S. Air Force, ...   \n",
       "1332  The most recent national CNN poll of polls sho...   \n",
       "444   Four U.S. soldiers were killed in a roadside b...   \n",
       "86    A bomb attack has caused significant damage to...   \n",
       "958   Guatemala is conducting a review of all pendin...   \n",
       "\n",
       "                                        occams_gpt_summ  \n",
       "1881  Nurse Nonnie Dotson disappeared amid a child s...  \n",
       "1332  Recent national polls show Obama leading McCai...  \n",
       "444   4 US soldiers and 8 Pentagon contractors were ...  \n",
       "86    A powerful bomb by al Qaeda destroyed the UN h...  \n",
       "958   Guatemala reviews pending foreign adoptions, m...  "
      ]
     },
     "execution_count": 50,
     "metadata": {},
     "output_type": "execute_result"
    }
   ],
   "source": [
    "cnn_summaries = cnn_summaries[cnn_summaries['occams_gpt_summ']!='No summary possible.']\n",
    "cnn_summaries.head()"
   ]
  },
  {
   "cell_type": "code",
   "execution_count": 51,
   "id": "ee79bc4b-9474-416a-8875-ada98b1a67ce",
   "metadata": {
    "tags": []
   },
   "outputs": [
    {
     "name": "stderr",
     "output_type": "stream",
     "text": [
      "bar:  11%|█▏        | 28/247 [01:45<14:07,  3.87s/it]"
     ]
    },
    {
     "name": "stdout",
     "output_type": "stream",
     "text": [
      "ERROR\n"
     ]
    },
    {
     "name": "stderr",
     "output_type": "stream",
     "text": [
      "bar:  33%|███▎      | 81/247 [04:28<09:52,  3.57s/it]"
     ]
    },
    {
     "name": "stdout",
     "output_type": "stream",
     "text": [
      "ERROR\n"
     ]
    },
    {
     "name": "stderr",
     "output_type": "stream",
     "text": [
      "bar:  36%|███▋      | 90/247 [05:34<11:37,  4.44s/it]"
     ]
    },
    {
     "name": "stdout",
     "output_type": "stream",
     "text": [
      "ERROR\n",
      "ERROR\n"
     ]
    },
    {
     "name": "stderr",
     "output_type": "stream",
     "text": [
      "bar:  40%|████      | 99/247 [06:43<13:47,  5.59s/it]"
     ]
    },
    {
     "name": "stdout",
     "output_type": "stream",
     "text": [
      "ERROR\n"
     ]
    },
    {
     "name": "stderr",
     "output_type": "stream",
     "text": [
      "bar:  40%|████      | 100/247 [06:48<13:40,  5.58s/it]"
     ]
    },
    {
     "name": "stdout",
     "output_type": "stream",
     "text": [
      "ERROR\n"
     ]
    },
    {
     "name": "stderr",
     "output_type": "stream",
     "text": [
      "bar:  62%|██████▏   | 152/247 [10:01<04:03,  2.57s/it]"
     ]
    },
    {
     "name": "stdout",
     "output_type": "stream",
     "text": [
      "ERROR\n"
     ]
    },
    {
     "name": "stderr",
     "output_type": "stream",
     "text": [
      "bar:  76%|███████▌  | 187/247 [11:59<01:39,  1.65s/it]"
     ]
    },
    {
     "name": "stdout",
     "output_type": "stream",
     "text": [
      "ERROR\n"
     ]
    },
    {
     "name": "stderr",
     "output_type": "stream",
     "text": [
      "bar:  78%|███████▊  | 193/247 [12:15<02:36,  2.90s/it]"
     ]
    },
    {
     "name": "stdout",
     "output_type": "stream",
     "text": [
      "ERROR\n"
     ]
    },
    {
     "name": "stderr",
     "output_type": "stream",
     "text": [
      "bar:  80%|███████▉  | 197/247 [13:01<05:48,  6.97s/it]"
     ]
    },
    {
     "name": "stdout",
     "output_type": "stream",
     "text": [
      "ERROR\n"
     ]
    },
    {
     "name": "stderr",
     "output_type": "stream",
     "text": [
      "bar: 100%|██████████| 247/247 [15:11<00:00,  3.69s/it]"
     ]
    },
    {
     "name": "stdout",
     "output_type": "stream",
     "text": [
      "247\n"
     ]
    },
    {
     "name": "stderr",
     "output_type": "stream",
     "text": [
      "\n"
     ]
    }
   ],
   "source": [
    "cnn_summaries['gpt_gpt_summ'] = cnn_summaries.gpt_gpt_summ_full.progress_apply(lambda x: compress_summary(x))\n",
    "print(len(cnn_summaries[cnn_summaries['gpt_gpt_summ']!='No summary possible.']))"
   ]
  },
  {
   "cell_type": "code",
   "execution_count": 52,
   "id": "5829c45a-c776-4e9a-82ea-c9b6bc641eeb",
   "metadata": {
    "tags": []
   },
   "outputs": [],
   "source": [
    "cnn_summaries = cnn_summaries[cnn_summaries['gpt_gpt_summ']!='No summary possible.']"
   ]
  },
  {
   "cell_type": "code",
   "execution_count": 54,
   "id": "b32b30bb-5d8c-4e4b-a902-fef7f0458a1d",
   "metadata": {
    "tags": []
   },
   "outputs": [
    {
     "name": "stdout",
     "output_type": "stream",
     "text": [
      "count    247.000000\n",
      "mean     208.291498\n",
      "std       32.692893\n",
      "min      114.000000\n",
      "25%      188.000000\n",
      "50%      212.000000\n",
      "75%      233.000000\n",
      "max      257.000000\n",
      "Name: occams_gpt_summ, dtype: float64\n",
      "count    247.000000\n",
      "mean     209.153846\n",
      "std       32.955634\n",
      "min       97.000000\n",
      "25%      187.000000\n",
      "50%      214.000000\n",
      "75%      238.000000\n",
      "max      257.000000\n",
      "Name: gpt_gpt_summ, dtype: float64\n"
     ]
    }
   ],
   "source": [
    "print(cnn_summaries['occams_gpt_summ'].str.len().describe())\n",
    "print(cnn_summaries['gpt_gpt_summ'].str.len().describe())"
   ]
  },
  {
   "cell_type": "code",
   "execution_count": 55,
   "id": "d460dcd8-640e-4d24-b756-6236893cb6a5",
   "metadata": {},
   "outputs": [],
   "source": [
    "cnn_summaries.to_parquet('datasets/cnn_experiment.parquet')"
   ]
  },
  {
   "cell_type": "markdown",
   "id": "04ea55bb-2383-4f6f-8130-3f39c7d4d998",
   "metadata": {},
   "source": [
    "# BONUS: Pure Abstractive"
   ]
  },
  {
   "cell_type": "code",
   "execution_count": 7,
   "id": "c16d5ee0-49e4-4434-9c86-29c4725bdc0c",
   "metadata": {
    "tags": []
   },
   "outputs": [
    {
     "name": "stderr",
     "output_type": "stream",
     "text": [
      "bar:   1%|          | 2/247 [00:31<1:03:19, 15.51s/it]"
     ]
    },
    {
     "name": "stdout",
     "output_type": "stream",
     "text": [
      "ERROR\n"
     ]
    },
    {
     "name": "stderr",
     "output_type": "stream",
     "text": [
      "bar:  17%|█▋        | 43/247 [04:14<41:04, 12.08s/it] "
     ]
    },
    {
     "name": "stdout",
     "output_type": "stream",
     "text": [
      "ERROR\n"
     ]
    },
    {
     "name": "stderr",
     "output_type": "stream",
     "text": [
      "bar:  23%|██▎       | 58/247 [05:18<14:04,  4.47s/it]"
     ]
    },
    {
     "name": "stdout",
     "output_type": "stream",
     "text": [
      "ERROR\n"
     ]
    },
    {
     "name": "stderr",
     "output_type": "stream",
     "text": [
      "bar: 100%|██████████| 247/247 [19:54<00:00,  4.84s/it]"
     ]
    },
    {
     "name": "stdout",
     "output_type": "stream",
     "text": [
      "244\n",
      "CPU times: user 16.3 s, sys: 189 ms, total: 16.5 s\n",
      "Wall time: 19min 54s\n"
     ]
    },
    {
     "name": "stderr",
     "output_type": "stream",
     "text": [
      "\n"
     ]
    }
   ],
   "source": [
    "%%time\n",
    "num_units, target_length = get_target_length(cnn_summaries[\"highlights\"])\n",
    "\n",
    "# Prompt adapted from Extractive Summarization via ChatGPT for Faithful Summary Generation (Zhang et al)\n",
    "abstractive_prompt = \"\"\"You are an abstractive summarizer that follows the output pattern. Please write a summary for the following text in {char_budget} characters or less.\n",
    "\n",
    "Text:\n",
    "{text}\n",
    "\n",
    "Summary:\n",
    "\"\"\".format(char_budget=target_length, text='{text}')\n",
    "\n",
    "cnn_summaries['gpt_a_summ'] = cnn_summaries.article.progress_apply(lambda x: gpt_summarize(x, abstractive_prompt))\n",
    "print(len(cnn_summaries[cnn_summaries['gpt_a_summ']!='No summary possible.']))\n"
   ]
  },
  {
   "cell_type": "code",
   "execution_count": 9,
   "id": "0b7c6e81-e5a0-4b25-8d1a-37b0b39a4adc",
   "metadata": {
    "tags": []
   },
   "outputs": [
    {
     "name": "stdout",
     "output_type": "stream",
     "text": [
      "244\n"
     ]
    },
    {
     "name": "stderr",
     "output_type": "stream",
     "text": [
      "bar: 100%|██████████| 247/247 [00:08<00:00, 28.80it/s]"
     ]
    },
    {
     "name": "stdout",
     "output_type": "stream",
     "text": [
      "247\n"
     ]
    },
    {
     "name": "stderr",
     "output_type": "stream",
     "text": [
      "\n"
     ]
    }
   ],
   "source": [
    "def retry_gpt(row):\n",
    "    x = row['gpt_a_summ']\n",
    "\n",
    "    if x=='No summary possible.':\n",
    "        return gpt_summarize(row['article'], abstractive_prompt)\n",
    "    else:\n",
    "        return x\n",
    "    \n",
    "print(len(cnn_summaries[cnn_summaries['gpt_a_summ']!='No summary possible.']))\n",
    "cnn_summaries['gpt_a_summ'] = cnn_summaries.progress_apply(lambda x: retry_gpt(x), axis=1)\n",
    "print(len(cnn_summaries[cnn_summaries['gpt_a_summ']!='No summary possible.']))"
   ]
  },
  {
   "cell_type": "code",
   "execution_count": 18,
   "id": "1add8027-39b4-4d99-a9e8-ec431308b034",
   "metadata": {
    "tags": []
   },
   "outputs": [],
   "source": [
    "cnn_summaries = cnn_summaries.rename(columns={\"gpt_a_summ\": \"gpt_a_summ_full\"})"
   ]
  },
  {
   "cell_type": "code",
   "execution_count": 22,
   "id": "14dea4c0-4d25-4865-9a79-85d4b569f8b2",
   "metadata": {
    "tags": []
   },
   "outputs": [
    {
     "name": "stderr",
     "output_type": "stream",
     "text": [
      "bar:   9%|▊         | 21/247 [01:59<16:07,  4.28s/it]"
     ]
    },
    {
     "name": "stdout",
     "output_type": "stream",
     "text": [
      "ERROR\n"
     ]
    },
    {
     "name": "stderr",
     "output_type": "stream",
     "text": [
      "bar:  39%|███▉      | 96/247 [07:32<10:43,  4.26s/it]"
     ]
    },
    {
     "name": "stdout",
     "output_type": "stream",
     "text": [
      "ERROR\n"
     ]
    },
    {
     "name": "stderr",
     "output_type": "stream",
     "text": [
      "bar:  48%|████▊     | 119/247 [09:33<07:49,  3.67s/it]"
     ]
    },
    {
     "name": "stdout",
     "output_type": "stream",
     "text": [
      "ERROR\n"
     ]
    },
    {
     "name": "stderr",
     "output_type": "stream",
     "text": [
      "bar:  54%|█████▍    | 134/247 [10:32<05:09,  2.74s/it]"
     ]
    },
    {
     "name": "stdout",
     "output_type": "stream",
     "text": [
      "ERROR\n"
     ]
    },
    {
     "name": "stderr",
     "output_type": "stream",
     "text": [
      "bar:  55%|█████▌    | 136/247 [11:12<18:49, 10.17s/it]"
     ]
    },
    {
     "name": "stdout",
     "output_type": "stream",
     "text": [
      "ERROR\n",
      "ERROR\n"
     ]
    },
    {
     "name": "stderr",
     "output_type": "stream",
     "text": [
      "bar:  60%|█████▉    | 148/247 [12:19<05:08,  3.12s/it]"
     ]
    },
    {
     "name": "stdout",
     "output_type": "stream",
     "text": [
      "ERROR\n"
     ]
    },
    {
     "name": "stderr",
     "output_type": "stream",
     "text": [
      "bar:  69%|██████▉   | 170/247 [14:09<06:42,  5.23s/it]"
     ]
    },
    {
     "name": "stdout",
     "output_type": "stream",
     "text": [
      "ERROR\n"
     ]
    },
    {
     "name": "stderr",
     "output_type": "stream",
     "text": [
      "bar:  83%|████████▎ | 206/247 [17:35<02:33,  3.75s/it]"
     ]
    },
    {
     "name": "stdout",
     "output_type": "stream",
     "text": [
      "ERROR\n"
     ]
    },
    {
     "name": "stderr",
     "output_type": "stream",
     "text": [
      "bar: 100%|██████████| 247/247 [20:54<00:00,  5.08s/it]"
     ]
    },
    {
     "name": "stdout",
     "output_type": "stream",
     "text": [
      "247\n"
     ]
    },
    {
     "name": "stderr",
     "output_type": "stream",
     "text": [
      "\n"
     ]
    }
   ],
   "source": [
    "\n",
    "compress_prompt = \"\"\"Make this summary less than {target_length} characters, following the output format:\n",
    "\n",
    "Text:\n",
    "{text}\n",
    "\n",
    "Summary:\n",
    "\"\"\".format(text='{text}', target_length=target_length)\n",
    "\n",
    "def compress_summary(x):\n",
    "    while len(x) > target_length:\n",
    "        new_x = gpt_summarize(x, compress_prompt)\n",
    "        if new_x != 'No summary possible.':\n",
    "            x = re.sub(r\"\\s\\(\\d+ characters\\)|Characters\\)\", \"\", new_x)\n",
    "    return x\n",
    "\n",
    "cnn_summaries['gpt_a_summ'] = cnn_summaries.gpt_a_summ_full.progress_apply(lambda x: compress_summary(x))\n",
    "print(len(cnn_summaries[cnn_summaries['gpt_a_summ']!='No summary possible.']))"
   ]
  },
  {
   "cell_type": "code",
   "execution_count": 23,
   "id": "120d7a48-2a35-424f-92f8-01045c95c209",
   "metadata": {
    "tags": []
   },
   "outputs": [],
   "source": [
    "cnn_summaries.to_parquet('datasets/cnn_experiment.parquet')"
   ]
  },
  {
   "cell_type": "code",
   "execution_count": 24,
   "id": "9f78f671-5a92-4d61-9754-00c5d643d2e7",
   "metadata": {
    "tags": []
   },
   "outputs": [
    {
     "name": "stdout",
     "output_type": "stream",
     "text": [
      "count    247.000000\n",
      "mean     213.453441\n",
      "std       30.756532\n",
      "min      109.000000\n",
      "25%      193.000000\n",
      "50%      217.000000\n",
      "75%      240.000000\n",
      "max      257.000000\n",
      "Name: gpt_a_summ, dtype: float64\n"
     ]
    }
   ],
   "source": [
    "print(cnn_summaries['gpt_a_summ'].str.len().describe())"
   ]
  },
  {
   "cell_type": "code",
   "execution_count": null,
   "id": "bcae99e9-a4b2-4fa4-bdb7-cb2c4f9db6ec",
   "metadata": {},
   "outputs": [],
   "source": []
  }
 ],
 "metadata": {
  "kernelspec": {
   "display_name": "occams_venv",
   "language": "python",
   "name": "occams_venv"
  },
  "language_info": {
   "codemirror_mode": {
    "name": "ipython",
    "version": 3
   },
   "file_extension": ".py",
   "mimetype": "text/x-python",
   "name": "python",
   "nbconvert_exporter": "python",
   "pygments_lexer": "ipython3",
   "version": "3.11.3"
  }
 },
 "nbformat": 4,
 "nbformat_minor": 5
}
